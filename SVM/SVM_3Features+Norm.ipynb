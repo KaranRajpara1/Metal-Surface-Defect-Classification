{
  "nbformat": 4,
  "nbformat_minor": 0,
  "metadata": {
    "colab": {
      "name": "Project_34.ipynb",
      "provenance": []
    },
    "kernelspec": {
      "name": "python3",
      "display_name": "Python 3"
    },
    "language_info": {
      "name": "python"
    }
  },
  "cells": [
    {
      "cell_type": "markdown",
      "source": [
        "SVM\n",
        "Features: Energy, Dots, Edges (with normalization)"
      ],
      "metadata": {
        "id": "3tJ4IfDvBKlU"
      }
    },
    {
      "cell_type": "code",
      "execution_count": null,
      "metadata": {
        "id": "_PrM2bhlBHMM"
      },
      "outputs": [],
      "source": [
        "from google.colab import drive"
      ]
    },
    {
      "cell_type": "code",
      "source": [
        "drive.mount('/content/drive')"
      ],
      "metadata": {
        "colab": {
          "base_uri": "https://localhost:8080/"
        },
        "id": "gsnI1u_vBaCL",
        "outputId": "63b9b796-d9c0-41cc-fc0b-8787af229872"
      },
      "execution_count": null,
      "outputs": [
        {
          "output_type": "stream",
          "name": "stdout",
          "text": [
            "Mounted at /content/drive\n"
          ]
        }
      ]
    },
    {
      "cell_type": "code",
      "source": [
        "cd /content/drive/\"MyDrive/Machine Learning/Edge&Line_Detection\""
      ],
      "metadata": {
        "colab": {
          "base_uri": "https://localhost:8080/"
        },
        "id": "T14ZLghuBa8W",
        "outputId": "9d1ccd39-3ec7-421e-f185-d763828df960"
      },
      "execution_count": null,
      "outputs": [
        {
          "output_type": "stream",
          "name": "stdout",
          "text": [
            "/content/drive/MyDrive/Machine Learning/Edge&Line_Detection\n"
          ]
        }
      ]
    },
    {
      "cell_type": "code",
      "source": [
        "import numpy as np\n",
        "import matplotlib.pyplot as plt\n",
        "import pandas as pd\n",
        "from sklearn.model_selection import train_test_split\n",
        "import glob\n",
        "import cv2\n",
        "from sklearn.ensemble import RandomForestClassifier\n",
        "from sklearn import metrics\n",
        "from sklearn import svm\n",
        "from sklearn.metrics import classification_report, confusion_matrix\n",
        "import itertools"
      ],
      "metadata": {
        "id": "Q3O0u-w1CWrf"
      },
      "execution_count": null,
      "outputs": []
    },
    {
      "cell_type": "code",
      "source": [
        "X_train = list()\n",
        "X_test = list()\n",
        "y_train = list()\n",
        "y_test = list()"
      ],
      "metadata": {
        "id": "qku_lqBfBbyv"
      },
      "execution_count": null,
      "outputs": []
    },
    {
      "cell_type": "code",
      "source": [
        "# 0 = crazing \n",
        "# 1 = inclusion\n",
        "# 2 = patches\n",
        "# 3 = pitted_surface\n",
        "# 4 = rolled in scale\n",
        "# 5 = scratches"
      ],
      "metadata": {
        "id": "4vln4LnMBoQh"
      },
      "execution_count": null,
      "outputs": []
    },
    {
      "cell_type": "code",
      "source": [
        "dataset = pd.read_csv('train_features_extracted.csv')"
      ],
      "metadata": {
        "id": "nqcem4AjBpDm"
      },
      "execution_count": null,
      "outputs": []
    },
    {
      "cell_type": "code",
      "source": [
        "dataset"
      ],
      "metadata": {
        "colab": {
          "base_uri": "https://localhost:8080/",
          "height": 423
        },
        "id": "m2z7zHfvCSRg",
        "outputId": "3fec386d-37ef-40ca-fdfd-900bc02f89fb"
      },
      "execution_count": null,
      "outputs": [
        {
          "output_type": "execute_result",
          "data": {
            "text/plain": [
              "          Class      Energy  Dots  Lines  contours  Edges  Corners\n",
              "0       crazing  153.854106   339      2         2  12857        2\n",
              "1       crazing   98.900338   288      2         2   8345        2\n",
              "2       crazing  122.753619   327      2         2  10913        2\n",
              "3       crazing  110.394338   379      2         2   9927        2\n",
              "4       crazing  135.667513   266      2         2  11858        2\n",
              "...         ...         ...   ...    ...       ...    ...      ...\n",
              "1435  scratches    9.140425    61      2         2     70        2\n",
              "1436  scratches   14.365756     0      2         2    808        2\n",
              "1437  scratches    9.262863     3      2         2    721        2\n",
              "1438  scratches   17.461644     0      2         2    975        2\n",
              "1439  scratches   10.881181     6      2         2    602        2\n",
              "\n",
              "[1440 rows x 7 columns]"
            ],
            "text/html": [
              "\n",
              "  <div id=\"df-a9b9956a-1f6f-4713-bc75-f1a10c6c61f7\">\n",
              "    <div class=\"colab-df-container\">\n",
              "      <div>\n",
              "<style scoped>\n",
              "    .dataframe tbody tr th:only-of-type {\n",
              "        vertical-align: middle;\n",
              "    }\n",
              "\n",
              "    .dataframe tbody tr th {\n",
              "        vertical-align: top;\n",
              "    }\n",
              "\n",
              "    .dataframe thead th {\n",
              "        text-align: right;\n",
              "    }\n",
              "</style>\n",
              "<table border=\"1\" class=\"dataframe\">\n",
              "  <thead>\n",
              "    <tr style=\"text-align: right;\">\n",
              "      <th></th>\n",
              "      <th>Class</th>\n",
              "      <th>Energy</th>\n",
              "      <th>Dots</th>\n",
              "      <th>Lines</th>\n",
              "      <th>contours</th>\n",
              "      <th>Edges</th>\n",
              "      <th>Corners</th>\n",
              "    </tr>\n",
              "  </thead>\n",
              "  <tbody>\n",
              "    <tr>\n",
              "      <th>0</th>\n",
              "      <td>crazing</td>\n",
              "      <td>153.854106</td>\n",
              "      <td>339</td>\n",
              "      <td>2</td>\n",
              "      <td>2</td>\n",
              "      <td>12857</td>\n",
              "      <td>2</td>\n",
              "    </tr>\n",
              "    <tr>\n",
              "      <th>1</th>\n",
              "      <td>crazing</td>\n",
              "      <td>98.900338</td>\n",
              "      <td>288</td>\n",
              "      <td>2</td>\n",
              "      <td>2</td>\n",
              "      <td>8345</td>\n",
              "      <td>2</td>\n",
              "    </tr>\n",
              "    <tr>\n",
              "      <th>2</th>\n",
              "      <td>crazing</td>\n",
              "      <td>122.753619</td>\n",
              "      <td>327</td>\n",
              "      <td>2</td>\n",
              "      <td>2</td>\n",
              "      <td>10913</td>\n",
              "      <td>2</td>\n",
              "    </tr>\n",
              "    <tr>\n",
              "      <th>3</th>\n",
              "      <td>crazing</td>\n",
              "      <td>110.394338</td>\n",
              "      <td>379</td>\n",
              "      <td>2</td>\n",
              "      <td>2</td>\n",
              "      <td>9927</td>\n",
              "      <td>2</td>\n",
              "    </tr>\n",
              "    <tr>\n",
              "      <th>4</th>\n",
              "      <td>crazing</td>\n",
              "      <td>135.667513</td>\n",
              "      <td>266</td>\n",
              "      <td>2</td>\n",
              "      <td>2</td>\n",
              "      <td>11858</td>\n",
              "      <td>2</td>\n",
              "    </tr>\n",
              "    <tr>\n",
              "      <th>...</th>\n",
              "      <td>...</td>\n",
              "      <td>...</td>\n",
              "      <td>...</td>\n",
              "      <td>...</td>\n",
              "      <td>...</td>\n",
              "      <td>...</td>\n",
              "      <td>...</td>\n",
              "    </tr>\n",
              "    <tr>\n",
              "      <th>1435</th>\n",
              "      <td>scratches</td>\n",
              "      <td>9.140425</td>\n",
              "      <td>61</td>\n",
              "      <td>2</td>\n",
              "      <td>2</td>\n",
              "      <td>70</td>\n",
              "      <td>2</td>\n",
              "    </tr>\n",
              "    <tr>\n",
              "      <th>1436</th>\n",
              "      <td>scratches</td>\n",
              "      <td>14.365756</td>\n",
              "      <td>0</td>\n",
              "      <td>2</td>\n",
              "      <td>2</td>\n",
              "      <td>808</td>\n",
              "      <td>2</td>\n",
              "    </tr>\n",
              "    <tr>\n",
              "      <th>1437</th>\n",
              "      <td>scratches</td>\n",
              "      <td>9.262863</td>\n",
              "      <td>3</td>\n",
              "      <td>2</td>\n",
              "      <td>2</td>\n",
              "      <td>721</td>\n",
              "      <td>2</td>\n",
              "    </tr>\n",
              "    <tr>\n",
              "      <th>1438</th>\n",
              "      <td>scratches</td>\n",
              "      <td>17.461644</td>\n",
              "      <td>0</td>\n",
              "      <td>2</td>\n",
              "      <td>2</td>\n",
              "      <td>975</td>\n",
              "      <td>2</td>\n",
              "    </tr>\n",
              "    <tr>\n",
              "      <th>1439</th>\n",
              "      <td>scratches</td>\n",
              "      <td>10.881181</td>\n",
              "      <td>6</td>\n",
              "      <td>2</td>\n",
              "      <td>2</td>\n",
              "      <td>602</td>\n",
              "      <td>2</td>\n",
              "    </tr>\n",
              "  </tbody>\n",
              "</table>\n",
              "<p>1440 rows × 7 columns</p>\n",
              "</div>\n",
              "      <button class=\"colab-df-convert\" onclick=\"convertToInteractive('df-a9b9956a-1f6f-4713-bc75-f1a10c6c61f7')\"\n",
              "              title=\"Convert this dataframe to an interactive table.\"\n",
              "              style=\"display:none;\">\n",
              "        \n",
              "  <svg xmlns=\"http://www.w3.org/2000/svg\" height=\"24px\"viewBox=\"0 0 24 24\"\n",
              "       width=\"24px\">\n",
              "    <path d=\"M0 0h24v24H0V0z\" fill=\"none\"/>\n",
              "    <path d=\"M18.56 5.44l.94 2.06.94-2.06 2.06-.94-2.06-.94-.94-2.06-.94 2.06-2.06.94zm-11 1L8.5 8.5l.94-2.06 2.06-.94-2.06-.94L8.5 2.5l-.94 2.06-2.06.94zm10 10l.94 2.06.94-2.06 2.06-.94-2.06-.94-.94-2.06-.94 2.06-2.06.94z\"/><path d=\"M17.41 7.96l-1.37-1.37c-.4-.4-.92-.59-1.43-.59-.52 0-1.04.2-1.43.59L10.3 9.45l-7.72 7.72c-.78.78-.78 2.05 0 2.83L4 21.41c.39.39.9.59 1.41.59.51 0 1.02-.2 1.41-.59l7.78-7.78 2.81-2.81c.8-.78.8-2.07 0-2.86zM5.41 20L4 18.59l7.72-7.72 1.47 1.35L5.41 20z\"/>\n",
              "  </svg>\n",
              "      </button>\n",
              "      \n",
              "  <style>\n",
              "    .colab-df-container {\n",
              "      display:flex;\n",
              "      flex-wrap:wrap;\n",
              "      gap: 12px;\n",
              "    }\n",
              "\n",
              "    .colab-df-convert {\n",
              "      background-color: #E8F0FE;\n",
              "      border: none;\n",
              "      border-radius: 50%;\n",
              "      cursor: pointer;\n",
              "      display: none;\n",
              "      fill: #1967D2;\n",
              "      height: 32px;\n",
              "      padding: 0 0 0 0;\n",
              "      width: 32px;\n",
              "    }\n",
              "\n",
              "    .colab-df-convert:hover {\n",
              "      background-color: #E2EBFA;\n",
              "      box-shadow: 0px 1px 2px rgba(60, 64, 67, 0.3), 0px 1px 3px 1px rgba(60, 64, 67, 0.15);\n",
              "      fill: #174EA6;\n",
              "    }\n",
              "\n",
              "    [theme=dark] .colab-df-convert {\n",
              "      background-color: #3B4455;\n",
              "      fill: #D2E3FC;\n",
              "    }\n",
              "\n",
              "    [theme=dark] .colab-df-convert:hover {\n",
              "      background-color: #434B5C;\n",
              "      box-shadow: 0px 1px 3px 1px rgba(0, 0, 0, 0.15);\n",
              "      filter: drop-shadow(0px 1px 2px rgba(0, 0, 0, 0.3));\n",
              "      fill: #FFFFFF;\n",
              "    }\n",
              "  </style>\n",
              "\n",
              "      <script>\n",
              "        const buttonEl =\n",
              "          document.querySelector('#df-a9b9956a-1f6f-4713-bc75-f1a10c6c61f7 button.colab-df-convert');\n",
              "        buttonEl.style.display =\n",
              "          google.colab.kernel.accessAllowed ? 'block' : 'none';\n",
              "\n",
              "        async function convertToInteractive(key) {\n",
              "          const element = document.querySelector('#df-a9b9956a-1f6f-4713-bc75-f1a10c6c61f7');\n",
              "          const dataTable =\n",
              "            await google.colab.kernel.invokeFunction('convertToInteractive',\n",
              "                                                     [key], {});\n",
              "          if (!dataTable) return;\n",
              "\n",
              "          const docLinkHtml = 'Like what you see? Visit the ' +\n",
              "            '<a target=\"_blank\" href=https://colab.research.google.com/notebooks/data_table.ipynb>data table notebook</a>'\n",
              "            + ' to learn more about interactive tables.';\n",
              "          element.innerHTML = '';\n",
              "          dataTable['output_type'] = 'display_data';\n",
              "          await google.colab.output.renderOutput(dataTable, element);\n",
              "          const docLink = document.createElement('div');\n",
              "          docLink.innerHTML = docLinkHtml;\n",
              "          element.appendChild(docLink);\n",
              "        }\n",
              "      </script>\n",
              "    </div>\n",
              "  </div>\n",
              "  "
            ]
          },
          "metadata": {},
          "execution_count": 8
        }
      ]
    },
    {
      "cell_type": "code",
      "source": [
        "x = dataset.iloc[:, [1,2,5]].values"
      ],
      "metadata": {
        "id": "pVlc59wxCZM3"
      },
      "execution_count": null,
      "outputs": []
    },
    {
      "cell_type": "code",
      "source": [
        "x"
      ],
      "metadata": {
        "colab": {
          "base_uri": "https://localhost:8080/"
        },
        "id": "fzTfOGZuCnsa",
        "outputId": "f5289330-58d8-42a7-cbaf-9e38657b17ae"
      },
      "execution_count": null,
      "outputs": [
        {
          "output_type": "execute_result",
          "data": {
            "text/plain": [
              "array([[1.53854106e+02, 3.39000000e+02, 1.28570000e+04],\n",
              "       [9.89003375e+01, 2.88000000e+02, 8.34500000e+03],\n",
              "       [1.22753619e+02, 3.27000000e+02, 1.09130000e+04],\n",
              "       ...,\n",
              "       [9.26286250e+00, 3.00000000e+00, 7.21000000e+02],\n",
              "       [1.74616438e+01, 0.00000000e+00, 9.75000000e+02],\n",
              "       [1.08811813e+01, 6.00000000e+00, 6.02000000e+02]])"
            ]
          },
          "metadata": {},
          "execution_count": 10
        }
      ]
    },
    {
      "cell_type": "code",
      "source": [
        "x[0]"
      ],
      "metadata": {
        "colab": {
          "base_uri": "https://localhost:8080/"
        },
        "id": "-VHnTHeuCn60",
        "outputId": "8194672d-2add-45ae-9b81-490c05ce51bd"
      },
      "execution_count": null,
      "outputs": [
        {
          "output_type": "execute_result",
          "data": {
            "text/plain": [
              "array([  153.85410625,   339.        , 12857.        ])"
            ]
          },
          "metadata": {},
          "execution_count": 11
        }
      ]
    },
    {
      "cell_type": "code",
      "source": [
        "X_train = x "
      ],
      "metadata": {
        "id": "YeY_8NMDC7Jg"
      },
      "execution_count": null,
      "outputs": []
    },
    {
      "cell_type": "code",
      "source": [
        "print(len(X_train))"
      ],
      "metadata": {
        "colab": {
          "base_uri": "https://localhost:8080/"
        },
        "id": "c8YDQFubDD1x",
        "outputId": "00617d72-a870-42c1-e1e0-1ffc743f461a"
      },
      "execution_count": null,
      "outputs": [
        {
          "output_type": "stream",
          "name": "stdout",
          "text": [
            "1440\n"
          ]
        }
      ]
    },
    {
      "cell_type": "code",
      "source": [
        "for j in range(0,6):\n",
        "    for i in range(0,240):\n",
        "        y_train.append(j)"
      ],
      "metadata": {
        "id": "8UL1BwHVDJKp"
      },
      "execution_count": null,
      "outputs": []
    },
    {
      "cell_type": "code",
      "source": [
        "print(y_train)\n",
        "print(len(y_train))"
      ],
      "metadata": {
        "colab": {
          "base_uri": "https://localhost:8080/"
        },
        "id": "16BNCFruDe9b",
        "outputId": "be63ba74-6616-45b3-959b-97bc5c9d6b3c"
      },
      "execution_count": null,
      "outputs": [
        {
          "output_type": "stream",
          "name": "stdout",
          "text": [
            "[0, 0, 0, 0, 0, 0, 0, 0, 0, 0, 0, 0, 0, 0, 0, 0, 0, 0, 0, 0, 0, 0, 0, 0, 0, 0, 0, 0, 0, 0, 0, 0, 0, 0, 0, 0, 0, 0, 0, 0, 0, 0, 0, 0, 0, 0, 0, 0, 0, 0, 0, 0, 0, 0, 0, 0, 0, 0, 0, 0, 0, 0, 0, 0, 0, 0, 0, 0, 0, 0, 0, 0, 0, 0, 0, 0, 0, 0, 0, 0, 0, 0, 0, 0, 0, 0, 0, 0, 0, 0, 0, 0, 0, 0, 0, 0, 0, 0, 0, 0, 0, 0, 0, 0, 0, 0, 0, 0, 0, 0, 0, 0, 0, 0, 0, 0, 0, 0, 0, 0, 0, 0, 0, 0, 0, 0, 0, 0, 0, 0, 0, 0, 0, 0, 0, 0, 0, 0, 0, 0, 0, 0, 0, 0, 0, 0, 0, 0, 0, 0, 0, 0, 0, 0, 0, 0, 0, 0, 0, 0, 0, 0, 0, 0, 0, 0, 0, 0, 0, 0, 0, 0, 0, 0, 0, 0, 0, 0, 0, 0, 0, 0, 0, 0, 0, 0, 0, 0, 0, 0, 0, 0, 0, 0, 0, 0, 0, 0, 0, 0, 0, 0, 0, 0, 0, 0, 0, 0, 0, 0, 0, 0, 0, 0, 0, 0, 0, 0, 0, 0, 0, 0, 0, 0, 0, 0, 0, 0, 0, 0, 0, 0, 0, 0, 0, 0, 0, 0, 0, 0, 1, 1, 1, 1, 1, 1, 1, 1, 1, 1, 1, 1, 1, 1, 1, 1, 1, 1, 1, 1, 1, 1, 1, 1, 1, 1, 1, 1, 1, 1, 1, 1, 1, 1, 1, 1, 1, 1, 1, 1, 1, 1, 1, 1, 1, 1, 1, 1, 1, 1, 1, 1, 1, 1, 1, 1, 1, 1, 1, 1, 1, 1, 1, 1, 1, 1, 1, 1, 1, 1, 1, 1, 1, 1, 1, 1, 1, 1, 1, 1, 1, 1, 1, 1, 1, 1, 1, 1, 1, 1, 1, 1, 1, 1, 1, 1, 1, 1, 1, 1, 1, 1, 1, 1, 1, 1, 1, 1, 1, 1, 1, 1, 1, 1, 1, 1, 1, 1, 1, 1, 1, 1, 1, 1, 1, 1, 1, 1, 1, 1, 1, 1, 1, 1, 1, 1, 1, 1, 1, 1, 1, 1, 1, 1, 1, 1, 1, 1, 1, 1, 1, 1, 1, 1, 1, 1, 1, 1, 1, 1, 1, 1, 1, 1, 1, 1, 1, 1, 1, 1, 1, 1, 1, 1, 1, 1, 1, 1, 1, 1, 1, 1, 1, 1, 1, 1, 1, 1, 1, 1, 1, 1, 1, 1, 1, 1, 1, 1, 1, 1, 1, 1, 1, 1, 1, 1, 1, 1, 1, 1, 1, 1, 1, 1, 1, 1, 1, 1, 1, 1, 1, 1, 1, 1, 1, 1, 1, 1, 1, 1, 1, 1, 1, 1, 1, 1, 1, 1, 1, 1, 2, 2, 2, 2, 2, 2, 2, 2, 2, 2, 2, 2, 2, 2, 2, 2, 2, 2, 2, 2, 2, 2, 2, 2, 2, 2, 2, 2, 2, 2, 2, 2, 2, 2, 2, 2, 2, 2, 2, 2, 2, 2, 2, 2, 2, 2, 2, 2, 2, 2, 2, 2, 2, 2, 2, 2, 2, 2, 2, 2, 2, 2, 2, 2, 2, 2, 2, 2, 2, 2, 2, 2, 2, 2, 2, 2, 2, 2, 2, 2, 2, 2, 2, 2, 2, 2, 2, 2, 2, 2, 2, 2, 2, 2, 2, 2, 2, 2, 2, 2, 2, 2, 2, 2, 2, 2, 2, 2, 2, 2, 2, 2, 2, 2, 2, 2, 2, 2, 2, 2, 2, 2, 2, 2, 2, 2, 2, 2, 2, 2, 2, 2, 2, 2, 2, 2, 2, 2, 2, 2, 2, 2, 2, 2, 2, 2, 2, 2, 2, 2, 2, 2, 2, 2, 2, 2, 2, 2, 2, 2, 2, 2, 2, 2, 2, 2, 2, 2, 2, 2, 2, 2, 2, 2, 2, 2, 2, 2, 2, 2, 2, 2, 2, 2, 2, 2, 2, 2, 2, 2, 2, 2, 2, 2, 2, 2, 2, 2, 2, 2, 2, 2, 2, 2, 2, 2, 2, 2, 2, 2, 2, 2, 2, 2, 2, 2, 2, 2, 2, 2, 2, 2, 2, 2, 2, 2, 2, 2, 2, 2, 2, 2, 2, 2, 2, 2, 2, 2, 2, 2, 3, 3, 3, 3, 3, 3, 3, 3, 3, 3, 3, 3, 3, 3, 3, 3, 3, 3, 3, 3, 3, 3, 3, 3, 3, 3, 3, 3, 3, 3, 3, 3, 3, 3, 3, 3, 3, 3, 3, 3, 3, 3, 3, 3, 3, 3, 3, 3, 3, 3, 3, 3, 3, 3, 3, 3, 3, 3, 3, 3, 3, 3, 3, 3, 3, 3, 3, 3, 3, 3, 3, 3, 3, 3, 3, 3, 3, 3, 3, 3, 3, 3, 3, 3, 3, 3, 3, 3, 3, 3, 3, 3, 3, 3, 3, 3, 3, 3, 3, 3, 3, 3, 3, 3, 3, 3, 3, 3, 3, 3, 3, 3, 3, 3, 3, 3, 3, 3, 3, 3, 3, 3, 3, 3, 3, 3, 3, 3, 3, 3, 3, 3, 3, 3, 3, 3, 3, 3, 3, 3, 3, 3, 3, 3, 3, 3, 3, 3, 3, 3, 3, 3, 3, 3, 3, 3, 3, 3, 3, 3, 3, 3, 3, 3, 3, 3, 3, 3, 3, 3, 3, 3, 3, 3, 3, 3, 3, 3, 3, 3, 3, 3, 3, 3, 3, 3, 3, 3, 3, 3, 3, 3, 3, 3, 3, 3, 3, 3, 3, 3, 3, 3, 3, 3, 3, 3, 3, 3, 3, 3, 3, 3, 3, 3, 3, 3, 3, 3, 3, 3, 3, 3, 3, 3, 3, 3, 3, 3, 3, 3, 3, 3, 3, 3, 3, 3, 3, 3, 3, 3, 4, 4, 4, 4, 4, 4, 4, 4, 4, 4, 4, 4, 4, 4, 4, 4, 4, 4, 4, 4, 4, 4, 4, 4, 4, 4, 4, 4, 4, 4, 4, 4, 4, 4, 4, 4, 4, 4, 4, 4, 4, 4, 4, 4, 4, 4, 4, 4, 4, 4, 4, 4, 4, 4, 4, 4, 4, 4, 4, 4, 4, 4, 4, 4, 4, 4, 4, 4, 4, 4, 4, 4, 4, 4, 4, 4, 4, 4, 4, 4, 4, 4, 4, 4, 4, 4, 4, 4, 4, 4, 4, 4, 4, 4, 4, 4, 4, 4, 4, 4, 4, 4, 4, 4, 4, 4, 4, 4, 4, 4, 4, 4, 4, 4, 4, 4, 4, 4, 4, 4, 4, 4, 4, 4, 4, 4, 4, 4, 4, 4, 4, 4, 4, 4, 4, 4, 4, 4, 4, 4, 4, 4, 4, 4, 4, 4, 4, 4, 4, 4, 4, 4, 4, 4, 4, 4, 4, 4, 4, 4, 4, 4, 4, 4, 4, 4, 4, 4, 4, 4, 4, 4, 4, 4, 4, 4, 4, 4, 4, 4, 4, 4, 4, 4, 4, 4, 4, 4, 4, 4, 4, 4, 4, 4, 4, 4, 4, 4, 4, 4, 4, 4, 4, 4, 4, 4, 4, 4, 4, 4, 4, 4, 4, 4, 4, 4, 4, 4, 4, 4, 4, 4, 4, 4, 4, 4, 4, 4, 4, 4, 4, 4, 4, 4, 4, 4, 4, 4, 4, 4, 5, 5, 5, 5, 5, 5, 5, 5, 5, 5, 5, 5, 5, 5, 5, 5, 5, 5, 5, 5, 5, 5, 5, 5, 5, 5, 5, 5, 5, 5, 5, 5, 5, 5, 5, 5, 5, 5, 5, 5, 5, 5, 5, 5, 5, 5, 5, 5, 5, 5, 5, 5, 5, 5, 5, 5, 5, 5, 5, 5, 5, 5, 5, 5, 5, 5, 5, 5, 5, 5, 5, 5, 5, 5, 5, 5, 5, 5, 5, 5, 5, 5, 5, 5, 5, 5, 5, 5, 5, 5, 5, 5, 5, 5, 5, 5, 5, 5, 5, 5, 5, 5, 5, 5, 5, 5, 5, 5, 5, 5, 5, 5, 5, 5, 5, 5, 5, 5, 5, 5, 5, 5, 5, 5, 5, 5, 5, 5, 5, 5, 5, 5, 5, 5, 5, 5, 5, 5, 5, 5, 5, 5, 5, 5, 5, 5, 5, 5, 5, 5, 5, 5, 5, 5, 5, 5, 5, 5, 5, 5, 5, 5, 5, 5, 5, 5, 5, 5, 5, 5, 5, 5, 5, 5, 5, 5, 5, 5, 5, 5, 5, 5, 5, 5, 5, 5, 5, 5, 5, 5, 5, 5, 5, 5, 5, 5, 5, 5, 5, 5, 5, 5, 5, 5, 5, 5, 5, 5, 5, 5, 5, 5, 5, 5, 5, 5, 5, 5, 5, 5, 5, 5, 5, 5, 5, 5, 5, 5, 5, 5, 5, 5, 5, 5, 5, 5, 5, 5, 5, 5]\n",
            "1440\n"
          ]
        }
      ]
    },
    {
      "cell_type": "code",
      "source": [
        ""
      ],
      "metadata": {
        "id": "ZdGrdcM0Dpan"
      },
      "execution_count": null,
      "outputs": []
    },
    {
      "cell_type": "code",
      "source": [
        "dataset2 = pd.read_csv('test_features_extracted.csv')"
      ],
      "metadata": {
        "id": "T3ckg7FTDhBu"
      },
      "execution_count": null,
      "outputs": []
    },
    {
      "cell_type": "code",
      "source": [
        "x = dataset2.iloc[:, [1,2,5]].values"
      ],
      "metadata": {
        "id": "l-KyW9MhDuJC"
      },
      "execution_count": null,
      "outputs": []
    },
    {
      "cell_type": "code",
      "source": [
        "print(x)"
      ],
      "metadata": {
        "colab": {
          "base_uri": "https://localhost:8080/"
        },
        "id": "0SaYTz1kDv7n",
        "outputId": "f9116a81-7f6a-439e-9530-58bba8805956"
      },
      "execution_count": null,
      "outputs": [
        {
          "output_type": "stream",
          "name": "stdout",
          "text": [
            "[[1.46419744e+02 3.14000000e+02 1.21900000e+04]\n",
            " [1.35537719e+02 2.28000000e+02 1.15250000e+04]\n",
            " [1.52394050e+02 2.91000000e+02 1.23890000e+04]\n",
            " ...\n",
            " [2.44281188e+01 1.40000000e+01 1.00100000e+03]\n",
            " [3.19947250e+01 3.00000000e+00 9.37000000e+02]\n",
            " [2.13497813e+01 7.00000000e+00 7.43000000e+02]]\n"
          ]
        }
      ]
    },
    {
      "cell_type": "code",
      "source": [
        "print(len(x))"
      ],
      "metadata": {
        "colab": {
          "base_uri": "https://localhost:8080/"
        },
        "id": "hEtKybMbDxHt",
        "outputId": "599f0f3c-5ca5-4fd1-d475-ffe3b109adde"
      },
      "execution_count": null,
      "outputs": [
        {
          "output_type": "stream",
          "name": "stdout",
          "text": [
            "360\n"
          ]
        }
      ]
    },
    {
      "cell_type": "code",
      "source": [
        "X_test = x"
      ],
      "metadata": {
        "id": "-9QHH96RDyml"
      },
      "execution_count": null,
      "outputs": []
    },
    {
      "cell_type": "code",
      "source": [
        "for j in range(0,6):\n",
        "    for i in range(0,60):\n",
        "        y_test.append(j)"
      ],
      "metadata": {
        "id": "aRLN-Gb_ELU0"
      },
      "execution_count": null,
      "outputs": []
    },
    {
      "cell_type": "code",
      "source": [
        "print(len(y_test))"
      ],
      "metadata": {
        "colab": {
          "base_uri": "https://localhost:8080/"
        },
        "id": "TvI2ig_2EQma",
        "outputId": "ec18c1f3-34fb-497e-9c7f-c186fc3b2de3"
      },
      "execution_count": null,
      "outputs": [
        {
          "output_type": "stream",
          "name": "stdout",
          "text": [
            "360\n"
          ]
        }
      ]
    },
    {
      "cell_type": "code",
      "source": [
        "X_train=np.array(X_train)\n",
        "y_train=np.array(y_train)\n",
        "X_test=np.array(X_test)\n",
        "y_test=np.array(y_test)"
      ],
      "metadata": {
        "id": "NJNEwAmfETlD"
      },
      "execution_count": null,
      "outputs": []
    },
    {
      "cell_type": "code",
      "source": [
        "print ('Train set:', X_train.shape,  y_train.shape)\n",
        "print ('Test set:', X_test.shape,  y_test.shape)"
      ],
      "metadata": {
        "colab": {
          "base_uri": "https://localhost:8080/"
        },
        "id": "AvmzbrZXEXEY",
        "outputId": "cc4f175d-4db0-47c1-c2c8-e2f0f99047b5"
      },
      "execution_count": null,
      "outputs": [
        {
          "output_type": "stream",
          "name": "stdout",
          "text": [
            "Train set: (1440, 3) (1440,)\n",
            "Test set: (360, 3) (360,)\n"
          ]
        }
      ]
    },
    {
      "cell_type": "code",
      "source": [
        "nsamples, nx = X_train.shape\n",
        "X_train = X_train.reshape((nsamples,nx))"
      ],
      "metadata": {
        "id": "nAzNYeEuEX5w"
      },
      "execution_count": null,
      "outputs": []
    },
    {
      "cell_type": "code",
      "source": [
        "print(X_train.shape)"
      ],
      "metadata": {
        "colab": {
          "base_uri": "https://localhost:8080/"
        },
        "id": "nT0QvIU3EvTm",
        "outputId": "2cbb5208-6164-4fc7-e00a-aaeead57bc8c"
      },
      "execution_count": null,
      "outputs": [
        {
          "output_type": "stream",
          "name": "stdout",
          "text": [
            "(1440, 3)\n"
          ]
        }
      ]
    },
    {
      "cell_type": "code",
      "source": [
        "nsamples, nx = X_test.shape\n",
        "X_test = X_test.reshape((nsamples,nx))"
      ],
      "metadata": {
        "id": "2Ot-FXUpFCd5"
      },
      "execution_count": null,
      "outputs": []
    },
    {
      "cell_type": "code",
      "source": [
        "print(X_test.shape)"
      ],
      "metadata": {
        "colab": {
          "base_uri": "https://localhost:8080/"
        },
        "id": "bnuOKL1wFG0d",
        "outputId": "8b07848a-bb13-4ce3-8a8d-33ee51992ecb"
      },
      "execution_count": null,
      "outputs": [
        {
          "output_type": "stream",
          "name": "stdout",
          "text": [
            "(360, 3)\n"
          ]
        }
      ]
    },
    {
      "cell_type": "code",
      "source": [
        "arr = X_train\n",
        "rows, columns = arr.shape\n",
        "standardizedArray = np.zeros(shape=(rows, 3)) #columns\n",
        "tempArray = np.zeros(rows)\n",
        "for column in range(3): #columns\n",
        "        \n",
        "        mean = np.mean(arr[:,column])\n",
        "        std = np.std(arr[:,column])\n",
        "        tempArray = np.empty(0)\n",
        "        \n",
        "        for element in arr[:,column]:\n",
        "            \n",
        "            tempArray = np.append(tempArray, ((element - mean) / std))\n",
        " \n",
        "        standardizedArray[:,column] = tempArray"
      ],
      "metadata": {
        "id": "YYy6nYQGKAUh"
      },
      "execution_count": null,
      "outputs": []
    },
    {
      "cell_type": "code",
      "source": [
        "print(standardizedArray)\n",
        "X_train = standardizedArray"
      ],
      "metadata": {
        "colab": {
          "base_uri": "https://localhost:8080/"
        },
        "id": "zG-0_i90KGJB",
        "outputId": "30a7b2c4-9a45-4c2d-bd5b-5bdb92f0de5c"
      },
      "execution_count": null,
      "outputs": [
        {
          "output_type": "stream",
          "name": "stdout",
          "text": [
            "[[ 2.17800245  1.71262504  2.30281321]\n",
            " [ 1.04010416  1.26781254  1.22207583]\n",
            " [ 1.53402129  1.60796327  1.83717636]\n",
            " ...\n",
            " [-0.81597107 -1.21790438 -0.60406374]\n",
            " [-0.64620329 -1.24406982 -0.54322436]\n",
            " [-0.78246141 -1.19173894 -0.63256723]]\n"
          ]
        }
      ]
    },
    {
      "cell_type": "code",
      "source": [
        "arr = X_test\n",
        "rows, columns = arr.shape\n",
        "standardizedArray = np.zeros(shape=(rows, 3)) #columns\n",
        "tempArray = np.zeros(rows)\n",
        "for column in range(3): #columns\n",
        "        \n",
        "        mean = np.mean(arr[:,column])\n",
        "        std = np.std(arr[:,column])\n",
        "        tempArray = np.empty(0)\n",
        "        \n",
        "        for element in arr[:,column]:\n",
        "            \n",
        "            tempArray = np.append(tempArray, ((element - mean) / std))\n",
        " \n",
        "        standardizedArray[:,column] = tempArray"
      ],
      "metadata": {
        "id": "VwqZd19wKG7E"
      },
      "execution_count": null,
      "outputs": []
    },
    {
      "cell_type": "code",
      "source": [
        "print(standardizedArray)\n",
        "X_test = standardizedArray"
      ],
      "metadata": {
        "colab": {
          "base_uri": "https://localhost:8080/"
        },
        "id": "K-lJqwQ3KJES",
        "outputId": "2261ea73-65a5-4bf1-a432-1f29a8c169b7"
      },
      "execution_count": null,
      "outputs": [
        {
          "output_type": "stream",
          "name": "stdout",
          "text": [
            "[[ 1.62298117  1.36674541  1.76615457]\n",
            " [ 1.4304977   0.66661573  1.62592049]\n",
            " [ 1.72865592  1.17950142  1.80811936]\n",
            " ...\n",
            " [-0.53483157 -1.07556744 -0.59336298]\n",
            " [-0.40099189 -1.16511892 -0.60685919]\n",
            " [-0.58928183 -1.13255474 -0.64776959]]\n"
          ]
        }
      ]
    },
    {
      "cell_type": "code",
      "source": [
        "print(X_train)\n",
        "print(X_test)\n",
        "print(y_train)\n",
        "print(y_test)"
      ],
      "metadata": {
        "colab": {
          "base_uri": "https://localhost:8080/"
        },
        "id": "ZEgS6LVbQd20",
        "outputId": "54a7e8a2-744e-4519-a874-d3254f4ea093"
      },
      "execution_count": null,
      "outputs": [
        {
          "output_type": "stream",
          "name": "stdout",
          "text": [
            "[[ 2.17800245  1.71262504  2.30281321]\n",
            " [ 1.04010416  1.26781254  1.22207583]\n",
            " [ 1.53402129  1.60796327  1.83717636]\n",
            " ...\n",
            " [-0.81597107 -1.21790438 -0.60406374]\n",
            " [-0.64620329 -1.24406982 -0.54322436]\n",
            " [-0.78246141 -1.19173894 -0.63256723]]\n",
            "[[ 1.62298117  1.36674541  1.76615457]\n",
            " [ 1.4304977   0.66661573  1.62592049]\n",
            " [ 1.72865592  1.17950142  1.80811936]\n",
            " ...\n",
            " [-0.53483157 -1.07556744 -0.59336298]\n",
            " [-0.40099189 -1.16511892 -0.60685919]\n",
            " [-0.58928183 -1.13255474 -0.64776959]]\n",
            "[0 0 0 ... 5 5 5]\n",
            "[0 0 0 0 0 0 0 0 0 0 0 0 0 0 0 0 0 0 0 0 0 0 0 0 0 0 0 0 0 0 0 0 0 0 0 0 0\n",
            " 0 0 0 0 0 0 0 0 0 0 0 0 0 0 0 0 0 0 0 0 0 0 0 1 1 1 1 1 1 1 1 1 1 1 1 1 1\n",
            " 1 1 1 1 1 1 1 1 1 1 1 1 1 1 1 1 1 1 1 1 1 1 1 1 1 1 1 1 1 1 1 1 1 1 1 1 1\n",
            " 1 1 1 1 1 1 1 1 1 2 2 2 2 2 2 2 2 2 2 2 2 2 2 2 2 2 2 2 2 2 2 2 2 2 2 2 2\n",
            " 2 2 2 2 2 2 2 2 2 2 2 2 2 2 2 2 2 2 2 2 2 2 2 2 2 2 2 2 2 2 2 2 3 3 3 3 3\n",
            " 3 3 3 3 3 3 3 3 3 3 3 3 3 3 3 3 3 3 3 3 3 3 3 3 3 3 3 3 3 3 3 3 3 3 3 3 3\n",
            " 3 3 3 3 3 3 3 3 3 3 3 3 3 3 3 3 3 3 4 4 4 4 4 4 4 4 4 4 4 4 4 4 4 4 4 4 4\n",
            " 4 4 4 4 4 4 4 4 4 4 4 4 4 4 4 4 4 4 4 4 4 4 4 4 4 4 4 4 4 4 4 4 4 4 4 4 4\n",
            " 4 4 4 4 5 5 5 5 5 5 5 5 5 5 5 5 5 5 5 5 5 5 5 5 5 5 5 5 5 5 5 5 5 5 5 5 5\n",
            " 5 5 5 5 5 5 5 5 5 5 5 5 5 5 5 5 5 5 5 5 5 5 5 5 5 5 5]\n"
          ]
        }
      ]
    },
    {
      "cell_type": "code",
      "source": [
        "import time"
      ],
      "metadata": {
        "id": "acFv3FxfMe0U"
      },
      "execution_count": null,
      "outputs": []
    },
    {
      "cell_type": "code",
      "source": [
        "train_begin = time.time()\n",
        "clf = svm.SVC(kernel='linear')\n",
        "clf.fit(X_train, y_train)\n",
        "train_end = time.time()\n",
        "train_time = train_end - train_begin\n",
        "\n",
        "\n",
        "time.sleep(5)\n",
        "test_begin = time.time() \n",
        "yhat = clf.predict(X_test)\n",
        "test_end = time.time()\n",
        "test_time = test_end - test_begin\n",
        "\n",
        "print(yhat)\n",
        "\n",
        "print(metrics.accuracy_score(y_test, yhat))\n",
        "print(confusion_matrix(y_test, yhat))\n",
        "print(classification_report(y_test, yhat))"
      ],
      "metadata": {
        "id": "6Fh7g4tyFIcd",
        "colab": {
          "base_uri": "https://localhost:8080/"
        },
        "outputId": "5093bf34-f319-43fa-f260-86f6b8541c37"
      },
      "execution_count": null,
      "outputs": [
        {
          "output_type": "stream",
          "name": "stdout",
          "text": [
            "[0 0 0 0 0 0 0 0 0 2 0 0 4 0 0 0 0 0 0 2 0 0 0 0 0 0 0 0 0 2 0 0 0 0 0 0 0\n",
            " 0 0 0 0 0 0 0 0 0 0 0 0 0 0 0 0 0 0 0 0 0 0 0 1 1 3 1 1 1 1 1 1 1 1 1 1 1\n",
            " 3 1 1 1 1 1 1 1 1 1 1 1 1 1 1 1 1 1 1 1 1 1 1 1 1 1 1 1 1 1 1 1 1 1 1 1 1\n",
            " 1 1 1 1 1 1 1 1 1 2 0 2 2 2 2 2 2 2 3 2 2 2 2 2 2 4 2 2 3 2 2 2 4 2 2 2 2\n",
            " 2 2 2 2 2 2 2 2 0 2 2 2 2 2 2 2 2 2 2 2 2 2 0 3 2 2 2 2 2 2 2 0 3 3 1 5 3\n",
            " 3 3 5 1 3 3 1 3 3 3 3 3 5 3 1 3 5 3 3 3 1 3 1 3 2 5 5 3 5 3 5 3 3 3 5 3 3\n",
            " 3 3 3 3 3 3 3 3 3 3 1 5 3 3 1 3 1 3 4 4 4 4 4 4 4 4 4 4 4 4 4 4 4 4 4 4 4\n",
            " 4 4 4 4 4 4 4 4 4 4 4 4 4 4 4 4 4 4 4 4 4 4 4 4 4 4 4 4 4 4 4 4 4 4 4 4 4\n",
            " 4 4 4 4 5 5 5 3 5 5 5 5 5 3 3 1 5 5 5 5 5 1 5 5 5 5 5 5 5 5 5 1 5 5 1 5 5\n",
            " 3 5 5 5 5 5 5 5 1 3 5 5 5 3 5 5 5 5 5 5 5 5 5 1 5 5 5]\n",
            "0.8694444444444445\n",
            "[[56  0  3  0  1  0]\n",
            " [ 0 58  0  2  0  0]\n",
            " [ 4  0 51  3  2  0]\n",
            " [ 0  9  1 40  0 10]\n",
            " [ 0  0  0  0 60  0]\n",
            " [ 0  6  0  6  0 48]]\n",
            "              precision    recall  f1-score   support\n",
            "\n",
            "           0       0.93      0.93      0.93        60\n",
            "           1       0.79      0.97      0.87        60\n",
            "           2       0.93      0.85      0.89        60\n",
            "           3       0.78      0.67      0.72        60\n",
            "           4       0.95      1.00      0.98        60\n",
            "           5       0.83      0.80      0.81        60\n",
            "\n",
            "    accuracy                           0.87       360\n",
            "   macro avg       0.87      0.87      0.87       360\n",
            "weighted avg       0.87      0.87      0.87       360\n",
            "\n"
          ]
        }
      ]
    },
    {
      "cell_type": "code",
      "source": [
        "print(train_time)\n",
        "print(test_time/len(X_test))"
      ],
      "metadata": {
        "colab": {
          "base_uri": "https://localhost:8080/"
        },
        "id": "2UPPuLcWMpoE",
        "outputId": "7c4312fa-3926-40cd-d2d2-2b0e38bfedf4"
      },
      "execution_count": null,
      "outputs": [
        {
          "output_type": "stream",
          "name": "stdout",
          "text": [
            "0.0211637020111084\n",
            "1.4446841345893011e-05\n"
          ]
        }
      ]
    },
    {
      "cell_type": "code",
      "source": [
        "matrix = confusion_matrix(y_test, yhat)\n",
        "matrix.diagonal()/matrix.sum(axis=1)\n"
      ],
      "metadata": {
        "colab": {
          "base_uri": "https://localhost:8080/"
        },
        "id": "ikH_pBluM2Gh",
        "outputId": "ea3937b3-33d8-4c25-d67d-117ec346457c"
      },
      "execution_count": null,
      "outputs": [
        {
          "output_type": "execute_result",
          "data": {
            "text/plain": [
              "array([0.93333333, 0.96666667, 0.85      , 0.66666667, 1.        ,\n",
              "       0.8       ])"
            ]
          },
          "metadata": {},
          "execution_count": 48
        }
      ]
    },
    {
      "cell_type": "code",
      "source": [
        "from sklearn.multiclass import OneVsRestClassifier\n",
        "from sklearn.linear_model import LogisticRegression\n",
        "from sklearn.model_selection import train_test_split\n",
        "from sklearn.metrics import roc_curve\n",
        "from sklearn.metrics import roc_auc_score\n",
        "\n",
        "pred_prob = clf.fit(X_train, y_train).decision_function(X_test)\n",
        "# roc curve for classes\n",
        "fpr = {}\n",
        "tpr = {}\n",
        "thresh ={}\n",
        "\n",
        "n_class = 6\n",
        "\n",
        "for i in range(n_class):    \n",
        "    fpr[i], tpr[i], thresh[i] = roc_curve(y_test, pred_prob[:,i], pos_label=i)\n",
        "\n",
        "\n",
        "# plotting    \n",
        "plt.plot(fpr[0], tpr[0], linestyle='--',color='orange', label='Class 0 vs Rest')\n",
        "plt.plot(fpr[1], tpr[1], linestyle='--',color='green', label='Class 1 vs Rest')\n",
        "plt.plot(fpr[2], tpr[2], linestyle='--',color='blue', label='Class 2 vs Rest')\n",
        "plt.plot(fpr[3], tpr[3], linestyle='--',color='red', label='Class 3 vs Rest')\n",
        "plt.plot(fpr[4], tpr[4], linestyle='--',color='black', label='Class 4 vs Rest')\n",
        "plt.plot(fpr[5], tpr[5], linestyle='--',color='yellow', label='Class 5 vs Rest')\n",
        "plt.title('Multiclass ROC curve')\n",
        "plt.xlabel('False Positive Rate')\n",
        "plt.ylabel('True Positive rate')\n",
        "plt.legend(loc='best')\n",
        "plt.savefig('Multiclass ROC',dpi=300);  "
      ],
      "metadata": {
        "colab": {
          "base_uri": "https://localhost:8080/",
          "height": 295
        },
        "id": "evHRAM4PMu_L",
        "outputId": "56ff3572-3607-4956-ef4b-3beea0639e93"
      },
      "execution_count": null,
      "outputs": [
        {
          "output_type": "display_data",
          "data": {
            "text/plain": [
              "<Figure size 432x288 with 1 Axes>"
            ],
            "image/png": "[encoded data removed]"
          },
          "metadata": {
            "needs_background": "light"
          }
        }
      ]
    },
    {
      "cell_type": "code",
      "source": [
        "clf = svm.SVC(kernel='rbf', gamma=\"scale\")\n",
        "clf.fit(X_train, y_train) \n",
        "yhat = clf.predict(X_test)\n",
        "print(yhat)\n",
        "\n",
        "print(metrics.accuracy_score(y_test, yhat))\n",
        "print(confusion_matrix(y_test, yhat))\n",
        "print(classification_report(y_test, yhat))"
      ],
      "metadata": {
        "id": "k5fDObHUFJ4v",
        "colab": {
          "base_uri": "https://localhost:8080/"
        },
        "outputId": "e8b55a33-210c-483c-ddd7-e9ab9dad2ee9"
      },
      "execution_count": null,
      "outputs": [
        {
          "output_type": "stream",
          "name": "stdout",
          "text": [
            "[0 0 0 0 0 0 0 0 0 2 0 0 4 0 0 0 0 0 0 0 0 2 0 0 0 0 2 0 0 2 0 0 0 0 0 0 2\n",
            " 0 0 2 0 0 0 0 0 0 0 0 0 0 0 0 0 0 0 0 0 0 0 0 1 1 3 1 1 1 1 1 1 1 1 1 1 1\n",
            " 1 1 3 1 1 1 1 1 1 1 1 1 1 1 1 1 1 1 1 1 1 1 1 1 1 1 1 1 1 1 1 1 3 1 1 1 1\n",
            " 1 1 1 1 1 1 1 1 1 2 0 2 2 2 2 2 2 2 3 2 2 2 2 2 2 4 2 2 3 2 2 2 4 2 2 2 2\n",
            " 2 2 2 2 2 2 2 2 0 2 2 2 2 0 2 2 2 2 2 2 2 2 0 3 2 2 2 2 3 2 3 0 3 3 1 5 3\n",
            " 3 3 5 1 3 3 3 3 3 3 3 3 5 3 1 3 5 3 3 3 1 3 1 3 2 3 3 2 3 3 3 3 3 3 5 3 3\n",
            " 3 3 3 3 3 3 3 4 3 1 1 5 3 3 3 3 1 3 4 4 4 4 4 4 4 4 4 4 4 4 4 4 4 4 4 4 4\n",
            " 4 4 4 4 4 4 4 4 4 4 4 4 4 4 4 4 4 4 4 4 4 4 4 4 4 4 4 4 4 4 4 4 4 4 4 4 4\n",
            " 4 4 4 4 5 5 5 3 5 5 5 5 5 3 3 1 5 5 5 5 5 1 5 5 5 5 5 5 5 5 5 1 5 1 3 5 5\n",
            " 3 5 5 5 5 5 5 5 1 3 5 5 5 3 5 5 5 5 5 5 5 5 5 1 5 5 5]\n",
            "0.8555555555555555\n",
            "[[53  0  6  0  1  0]\n",
            " [ 0 57  0  3  0  0]\n",
            " [ 5  0 48  5  2  0]\n",
            " [ 0  8  2 43  1  6]\n",
            " [ 0  0  0  0 60  0]\n",
            " [ 0  6  0  7  0 47]]\n",
            "              precision    recall  f1-score   support\n",
            "\n",
            "           0       0.91      0.88      0.90        60\n",
            "           1       0.80      0.95      0.87        60\n",
            "           2       0.86      0.80      0.83        60\n",
            "           3       0.74      0.72      0.73        60\n",
            "           4       0.94      1.00      0.97        60\n",
            "           5       0.89      0.78      0.83        60\n",
            "\n",
            "    accuracy                           0.86       360\n",
            "   macro avg       0.86      0.86      0.85       360\n",
            "weighted avg       0.86      0.86      0.85       360\n",
            "\n"
          ]
        }
      ]
    },
    {
      "cell_type": "code",
      "source": [
        "clf = svm.SVC(kernel='rbf', gamma=\"auto\")\n",
        "clf.fit(X_train, y_train) \n",
        "yhat = clf.predict(X_test)\n",
        "print(yhat)\n",
        "\n",
        "print(metrics.accuracy_score(y_test, yhat))\n",
        "print(confusion_matrix(y_test, yhat))\n",
        "print(classification_report(y_test, yhat))"
      ],
      "metadata": {
        "id": "Z2HqJDTbFZYI",
        "colab": {
          "base_uri": "https://localhost:8080/"
        },
        "outputId": "a9745220-ba2f-498d-d091-00b70e744170"
      },
      "execution_count": null,
      "outputs": [
        {
          "output_type": "stream",
          "name": "stdout",
          "text": [
            "[0 0 0 0 0 0 0 0 0 2 0 0 4 0 0 0 0 0 0 0 0 2 0 0 0 0 2 0 0 2 0 0 0 0 0 0 2\n",
            " 0 0 2 0 0 0 0 0 0 0 0 0 0 0 0 0 0 0 0 0 0 0 0 1 1 3 1 1 1 1 1 1 1 1 1 1 1\n",
            " 1 1 3 1 1 1 1 1 1 1 1 1 1 1 1 1 1 1 1 1 1 1 1 1 1 1 1 1 1 1 1 1 3 1 1 1 1\n",
            " 1 1 1 1 1 1 1 1 1 2 0 2 2 2 2 2 2 2 3 2 2 2 2 2 2 4 2 2 3 2 2 2 4 2 2 2 2\n",
            " 2 2 2 2 2 2 2 2 0 2 2 2 2 0 2 2 2 2 2 2 2 2 0 3 2 2 2 2 3 2 3 0 3 3 1 5 3\n",
            " 3 3 5 1 3 3 3 3 3 3 3 3 5 3 1 3 5 3 3 3 1 3 1 3 2 3 3 2 3 3 3 3 3 3 5 3 3\n",
            " 3 3 3 3 3 3 3 4 3 1 1 5 3 3 3 3 1 3 4 4 4 4 4 4 4 4 4 4 4 4 4 4 4 4 4 4 4\n",
            " 4 4 4 4 4 4 4 4 4 4 4 4 4 4 4 4 4 4 4 4 4 4 4 4 4 4 4 4 4 4 4 4 4 4 4 4 4\n",
            " 4 4 4 4 5 5 5 3 5 5 5 5 5 3 3 1 5 5 5 5 5 1 5 5 5 5 5 5 5 5 5 1 5 1 3 5 5\n",
            " 3 5 5 5 5 5 5 5 1 3 5 5 5 3 5 5 5 5 5 5 5 5 5 1 5 5 5]\n",
            "0.8555555555555555\n",
            "[[53  0  6  0  1  0]\n",
            " [ 0 57  0  3  0  0]\n",
            " [ 5  0 48  5  2  0]\n",
            " [ 0  8  2 43  1  6]\n",
            " [ 0  0  0  0 60  0]\n",
            " [ 0  6  0  7  0 47]]\n",
            "              precision    recall  f1-score   support\n",
            "\n",
            "           0       0.91      0.88      0.90        60\n",
            "           1       0.80      0.95      0.87        60\n",
            "           2       0.86      0.80      0.83        60\n",
            "           3       0.74      0.72      0.73        60\n",
            "           4       0.94      1.00      0.97        60\n",
            "           5       0.89      0.78      0.83        60\n",
            "\n",
            "    accuracy                           0.86       360\n",
            "   macro avg       0.86      0.86      0.85       360\n",
            "weighted avg       0.86      0.86      0.85       360\n",
            "\n"
          ]
        }
      ]
    },
    {
      "cell_type": "code",
      "source": [
        "poly_svc = svm.SVC(kernel='poly', degree=5).fit(X_train, y_train)\n",
        "yhat = poly_svc.predict(X_test)\n",
        "print(yhat)\n",
        "print(metrics.accuracy_score(y_test, yhat))\n",
        "print(confusion_matrix(y_test, yhat))\n",
        "print(classification_report(y_test, yhat))"
      ],
      "metadata": {
        "colab": {
          "base_uri": "https://localhost:8080/"
        },
        "id": "JlHou2JhFa0i",
        "outputId": "702c35b5-3209-498d-c1a1-4f018a6437d5"
      },
      "execution_count": null,
      "outputs": [
        {
          "output_type": "stream",
          "name": "stdout",
          "text": [
            "[0 0 0 0 0 0 0 0 0 2 0 2 3 0 0 0 0 2 2 3 0 2 0 0 0 0 2 0 0 3 0 0 0 0 0 0 2\n",
            " 0 0 2 0 0 0 0 0 0 0 0 0 0 0 0 0 0 0 3 0 0 3 0 1 1 1 1 1 1 1 3 1 1 3 1 1 1\n",
            " 1 1 1 1 1 1 1 1 1 1 1 1 1 1 1 1 5 1 1 1 1 3 1 1 1 1 1 1 1 1 1 1 1 1 3 1 1\n",
            " 1 1 1 1 1 1 1 1 1 2 2 2 3 2 2 2 2 2 3 2 3 2 3 2 2 3 2 2 3 3 2 2 3 2 3 2 2\n",
            " 2 2 2 2 3 2 2 3 3 2 3 3 2 3 3 2 2 2 2 2 3 2 3 3 2 2 2 2 3 3 3 3 3 3 1 3 3\n",
            " 3 3 3 3 3 3 3 0 3 3 3 3 5 3 3 3 3 3 3 3 1 3 1 3 3 3 3 3 3 3 3 3 3 3 3 3 3\n",
            " 3 3 3 3 3 3 3 3 3 1 1 3 3 3 3 3 1 3 4 4 4 4 4 4 4 4 4 4 3 4 4 4 4 4 4 4 4\n",
            " 4 4 4 4 4 4 4 4 4 4 4 4 4 4 4 4 4 4 4 4 4 4 4 4 4 4 4 4 4 4 4 4 4 4 4 4 4\n",
            " 4 4 4 4 5 5 5 3 5 5 5 5 3 3 3 1 5 3 5 5 5 1 5 5 3 5 5 5 5 5 5 1 3 3 1 3 3\n",
            " 3 5 5 3 5 5 5 5 1 3 5 5 5 3 3 5 5 5 5 5 3 5 5 1 5 5 5]\n",
            "0.8\n",
            "[[47  0  8  5  0  0]\n",
            " [ 0 55  0  4  0  1]\n",
            " [ 0  0 37 23  0  0]\n",
            " [ 1  6  0 52  0  1]\n",
            " [ 0  0  0  1 59  0]\n",
            " [ 0  6  0 16  0 38]]\n",
            "              precision    recall  f1-score   support\n",
            "\n",
            "           0       0.98      0.78      0.87        60\n",
            "           1       0.82      0.92      0.87        60\n",
            "           2       0.82      0.62      0.70        60\n",
            "           3       0.51      0.87      0.65        60\n",
            "           4       1.00      0.98      0.99        60\n",
            "           5       0.95      0.63      0.76        60\n",
            "\n",
            "    accuracy                           0.80       360\n",
            "   macro avg       0.85      0.80      0.81       360\n",
            "weighted avg       0.85      0.80      0.81       360\n",
            "\n"
          ]
        }
      ]
    },
    {
      "cell_type": "code",
      "source": [
        "for i in range(1,8) :\n",
        "    poly_svc = svm.SVC(kernel='poly', degree=i).fit(X_train, y_train)\n",
        "    yhat = poly_svc.predict(X_test)\n",
        "    print(yhat)\n",
        "    print('Degree = ',i, metrics.accuracy_score(y_test, yhat))\n",
        "    # print(confusion_matrix(y_test, yhat))\n",
        "    # print(classification_report(y_test, yhat))"
      ],
      "metadata": {
        "colab": {
          "base_uri": "https://localhost:8080/"
        },
        "id": "qEofvChLFcZF",
        "outputId": "7ca1a41a-1df0-4f00-fdd0-d1e3b08c8ad3"
      },
      "execution_count": null,
      "outputs": [
        {
          "output_type": "stream",
          "name": "stdout",
          "text": [
            "[0 0 0 0 0 0 0 0 0 2 0 0 4 0 0 0 0 0 0 2 0 0 0 0 0 0 0 0 0 2 0 0 0 0 0 0 2\n",
            " 0 0 2 0 0 0 0 0 0 0 0 0 0 0 0 0 0 0 0 0 0 2 0 1 1 1 1 1 1 1 1 1 1 1 1 1 1\n",
            " 1 1 1 1 1 1 1 1 1 1 1 1 1 1 1 1 5 1 1 1 1 5 1 1 1 1 1 1 1 1 1 1 1 1 1 5 1\n",
            " 1 1 1 1 1 5 1 1 1 2 0 2 2 2 2 2 2 2 3 2 2 2 2 2 2 4 2 2 3 2 2 2 4 2 3 2 2\n",
            " 2 2 2 2 2 2 2 2 0 2 2 2 2 2 2 2 2 2 2 2 2 2 0 3 2 2 2 2 3 2 3 0 3 3 1 5 3\n",
            " 3 3 5 5 3 3 1 3 1 3 3 3 5 3 1 3 5 3 3 3 1 3 1 3 2 1 5 3 5 3 5 3 3 3 5 3 3\n",
            " 3 3 5 3 3 3 3 4 3 1 1 5 3 3 1 3 1 3 4 4 4 4 4 4 4 4 4 4 4 4 4 4 4 4 4 4 4\n",
            " 4 4 4 4 4 4 4 4 4 4 4 4 4 4 4 4 4 4 4 4 4 4 4 4 4 4 4 4 4 4 4 4 4 4 4 4 4\n",
            " 4 4 4 4 5 5 5 1 5 5 5 5 5 3 1 1 5 5 5 5 5 1 5 5 5 5 5 5 5 5 5 1 5 5 1 5 5\n",
            " 3 5 5 5 5 5 5 5 1 1 5 5 5 3 5 5 5 5 5 5 5 5 5 1 5 5 5]\n",
            "Degree =  1 0.8361111111111111\n",
            "[0 0 0 0 0 1 0 0 0 2 0 0 4 0 0 0 0 1 2 3 0 2 0 0 0 0 2 0 0 3 0 0 0 0 0 0 2\n",
            " 0 0 2 0 0 0 0 0 0 0 0 0 0 0 0 0 0 0 3 0 0 3 0 1 1 3 1 1 1 1 1 1 1 1 1 1 1\n",
            " 1 1 1 1 1 1 1 1 1 1 1 1 1 1 1 1 1 1 1 1 1 1 1 1 1 1 1 1 1 1 1 1 1 1 1 1 1\n",
            " 1 1 1 1 1 1 1 1 1 2 1 2 3 2 2 2 2 2 3 2 3 2 3 2 2 3 2 2 3 3 2 2 3 2 3 2 2\n",
            " 2 2 2 2 2 2 2 3 3 2 3 2 2 3 3 2 2 2 2 2 1 2 3 3 2 2 2 2 3 3 3 3 3 3 1 5 3\n",
            " 3 4 5 1 3 3 3 5 3 3 3 3 5 3 1 3 3 3 3 3 1 3 1 3 4 3 3 3 3 3 3 3 3 3 5 3 3\n",
            " 3 3 3 3 3 3 3 3 3 1 1 5 3 3 3 3 1 3 4 4 4 4 4 4 4 4 4 4 4 4 4 4 4 4 4 4 4\n",
            " 4 4 4 4 4 4 4 4 4 4 4 4 4 4 4 4 4 4 4 4 4 4 4 4 4 4 4 4 4 4 4 4 4 4 4 4 4\n",
            " 4 4 4 4 5 5 5 3 5 5 5 5 5 3 3 1 5 5 5 5 5 1 5 5 3 5 5 5 5 5 5 1 5 1 1 5 5\n",
            " 3 5 5 5 5 5 5 5 1 3 5 5 5 3 5 5 5 5 5 5 5 5 5 1 5 5 5]\n",
            "Degree =  2 0.8166666666666667\n",
            "[0 0 0 0 0 0 0 0 0 2 0 2 3 0 0 0 0 0 2 3 0 2 0 0 0 0 2 0 0 3 0 0 0 0 0 0 2\n",
            " 0 0 2 0 0 0 0 0 0 0 0 0 0 0 0 0 0 0 3 0 0 3 0 1 1 1 1 1 1 1 1 1 1 1 1 1 1\n",
            " 1 1 1 1 1 1 1 1 1 1 1 1 1 1 1 1 1 1 1 1 1 1 1 1 1 1 1 1 1 1 1 1 1 1 3 1 1\n",
            " 1 1 1 1 1 1 1 1 1 2 2 2 3 2 2 2 2 2 3 2 3 2 3 2 2 3 2 2 3 3 2 2 3 2 3 2 2\n",
            " 2 2 2 2 3 2 2 3 0 2 3 2 2 3 3 2 2 2 2 2 2 2 3 3 2 2 2 2 3 3 3 3 3 3 1 5 3\n",
            " 3 3 3 1 3 3 3 0 3 3 3 3 5 3 1 3 2 3 3 3 1 3 1 3 3 3 3 3 3 3 3 3 3 3 5 3 3\n",
            " 3 3 3 3 3 3 3 3 3 1 1 3 3 3 3 3 1 3 4 4 4 4 4 4 4 4 4 4 4 4 4 4 4 4 4 4 4\n",
            " 4 4 4 4 4 4 4 4 4 4 4 4 4 4 4 4 4 4 4 4 4 4 4 4 4 4 4 4 4 4 4 4 4 4 4 4 4\n",
            " 4 4 4 4 5 5 5 3 5 5 5 5 5 3 3 1 5 3 5 5 5 1 5 5 3 5 5 5 5 5 5 1 5 3 3 5 3\n",
            " 3 5 5 5 5 5 5 5 1 3 5 5 5 3 3 5 5 5 5 5 5 5 5 1 5 5 5]\n",
            "Degree =  3 0.8222222222222222\n",
            "[0 0 0 0 0 1 0 0 0 2 0 2 3 0 0 0 0 0 2 3 0 2 0 0 0 0 2 0 0 3 0 0 0 0 0 0 2\n",
            " 0 0 2 0 0 0 0 0 0 0 0 0 0 0 0 0 0 0 3 0 0 3 0 1 1 3 1 3 1 1 3 1 1 3 1 1 1\n",
            " 1 1 3 1 1 1 1 1 1 1 1 1 1 1 1 1 1 1 1 1 3 1 1 1 1 1 1 1 1 1 1 1 1 1 3 1 1\n",
            " 1 1 1 1 1 1 3 1 1 2 1 2 3 2 2 2 2 2 3 2 3 2 3 2 2 3 2 2 3 3 2 2 3 2 3 2 2\n",
            " 2 2 2 2 3 2 2 3 3 2 3 2 2 3 3 2 2 2 2 2 1 2 3 3 2 2 2 2 3 3 3 3 3 3 3 3 3\n",
            " 3 3 3 3 3 3 3 5 3 3 3 3 5 3 3 3 3 3 3 3 1 3 1 3 3 3 3 3 3 3 3 3 3 3 3 3 3\n",
            " 3 3 3 3 3 3 3 3 3 1 1 3 3 3 3 3 1 3 4 4 4 4 4 4 4 4 4 4 4 4 4 4 4 4 4 4 4\n",
            " 4 4 4 4 4 4 4 4 4 4 4 4 4 4 4 4 4 4 4 4 4 4 4 4 4 4 4 4 4 4 4 4 4 4 4 4 4\n",
            " 4 4 4 4 5 5 5 3 5 5 5 5 5 3 3 1 5 3 5 5 5 1 5 5 3 5 5 5 5 5 5 1 5 3 3 5 3\n",
            " 3 5 5 3 5 5 5 5 1 3 5 5 5 3 3 5 5 5 5 5 3 5 5 1 5 5 5]\n",
            "Degree =  4 0.8055555555555556\n",
            "[0 0 0 0 0 0 0 0 0 2 0 2 3 0 0 0 0 2 2 3 0 2 0 0 0 0 2 0 0 3 0 0 0 0 0 0 2\n",
            " 0 0 2 0 0 0 0 0 0 0 0 0 0 0 0 0 0 0 3 0 0 3 0 1 1 1 1 1 1 1 3 1 1 3 1 1 1\n",
            " 1 1 1 1 1 1 1 1 1 1 1 1 1 1 1 1 5 1 1 1 1 3 1 1 1 1 1 1 1 1 1 1 1 1 3 1 1\n",
            " 1 1 1 1 1 1 1 1 1 2 2 2 3 2 2 2 2 2 3 2 3 2 3 2 2 3 2 2 3 3 2 2 3 2 3 2 2\n",
            " 2 2 2 2 3 2 2 3 3 2 3 3 2 3 3 2 2 2 2 2 3 2 3 3 2 2 2 2 3 3 3 3 3 3 1 3 3\n",
            " 3 3 3 3 3 3 3 0 3 3 3 3 5 3 3 3 3 3 3 3 1 3 1 3 3 3 3 3 3 3 3 3 3 3 3 3 3\n",
            " 3 3 3 3 3 3 3 3 3 1 1 3 3 3 3 3 1 3 4 4 4 4 4 4 4 4 4 4 3 4 4 4 4 4 4 4 4\n",
            " 4 4 4 4 4 4 4 4 4 4 4 4 4 4 4 4 4 4 4 4 4 4 4 4 4 4 4 4 4 4 4 4 4 4 4 4 4\n",
            " 4 4 4 4 5 5 5 3 5 5 5 5 3 3 3 1 5 3 5 5 5 1 5 5 3 5 5 5 5 5 5 1 3 3 1 3 3\n",
            " 3 5 5 3 5 5 5 5 1 3 5 5 5 3 3 5 5 5 5 5 3 5 5 1 5 5 5]\n",
            "Degree =  5 0.8\n",
            "[0 0 0 0 0 1 0 0 0 2 0 2 3 0 0 0 0 2 1 3 0 2 0 0 0 0 2 0 0 3 0 0 0 0 0 0 2\n",
            " 0 0 2 0 0 0 0 0 0 0 0 0 0 0 0 0 0 0 3 0 0 3 0 1 1 1 1 1 1 1 3 1 1 3 1 1 1\n",
            " 1 1 1 1 1 1 1 1 1 1 1 1 1 1 1 1 5 1 1 1 3 3 1 1 1 1 1 1 1 1 1 1 1 1 3 3 1\n",
            " 1 1 1 1 1 5 3 1 1 2 1 2 3 2 2 2 2 2 3 2 3 2 3 2 2 3 2 2 3 3 2 2 3 2 3 2 2\n",
            " 2 2 1 2 3 2 3 3 3 2 3 3 2 3 3 2 2 2 2 2 3 2 3 3 2 2 2 2 3 3 3 3 3 3 3 3 3\n",
            " 3 3 3 3 3 3 3 5 3 3 3 3 3 3 3 3 3 3 3 3 1 3 1 3 3 3 3 3 3 3 3 3 3 3 3 3 3\n",
            " 3 3 3 3 3 3 3 3 3 3 1 3 3 3 3 3 1 3 4 4 4 4 4 4 4 4 4 4 3 4 4 4 4 4 4 4 4\n",
            " 4 4 4 4 4 4 4 4 4 4 4 4 4 4 4 4 4 4 4 4 4 4 4 4 4 4 4 4 4 4 4 4 4 4 4 4 4\n",
            " 4 4 3 4 5 5 5 3 5 5 5 5 3 3 3 1 5 3 5 3 5 1 5 5 3 5 5 5 5 5 5 1 3 3 3 3 3\n",
            " 3 5 5 3 5 5 5 5 1 3 5 5 5 3 3 5 5 5 5 5 3 5 5 1 5 5 5]\n",
            "Degree =  6 0.7805555555555556\n",
            "[0 0 0 0 0 3 0 0 0 2 0 2 3 0 0 2 0 0 2 3 0 2 0 0 0 0 2 0 0 3 0 0 0 0 0 0 2\n",
            " 0 0 2 0 0 0 0 0 0 0 0 0 0 0 0 0 0 0 3 0 0 3 0 1 1 1 3 1 1 1 1 1 1 1 1 1 1\n",
            " 1 1 1 1 1 1 1 1 1 1 1 1 1 1 1 1 5 1 1 1 1 3 1 1 1 1 1 1 1 1 1 1 1 1 1 1 1\n",
            " 1 1 1 1 1 5 1 1 1 2 2 2 3 2 2 2 2 2 3 2 3 2 3 2 2 3 2 2 3 3 2 2 3 2 3 2 2\n",
            " 2 2 3 2 3 2 3 3 3 2 3 3 2 3 3 2 2 2 2 2 3 2 3 3 2 2 2 2 3 3 3 3 3 3 1 3 3\n",
            " 3 3 3 1 3 3 3 3 3 3 3 3 3 3 1 3 3 3 3 3 1 3 1 3 3 3 3 3 3 3 3 3 3 3 3 3 3\n",
            " 3 3 3 3 3 3 3 3 3 3 1 3 3 3 1 3 1 3 4 4 4 4 4 4 4 4 4 4 3 3 4 4 4 4 4 4 4\n",
            " 4 4 4 4 4 4 4 4 4 4 4 4 4 4 4 4 4 4 4 4 4 4 4 4 4 4 4 4 4 4 4 4 4 4 4 4 4\n",
            " 4 4 3 4 5 5 5 3 5 5 5 5 3 3 3 1 5 3 5 3 5 1 5 5 3 5 5 5 5 3 3 1 3 1 1 3 3\n",
            " 3 5 5 3 5 5 5 5 1 3 5 5 5 3 3 5 5 5 5 5 3 5 5 3 3 5 5]\n",
            "Degree =  7 0.7777777777777778\n"
          ]
        }
      ]
    },
    {
      "cell_type": "code",
      "source": [
        "poly_svc = svm.SVC(kernel='poly', degree=1).fit(X_train, y_train)\n",
        "yhat = poly_svc.predict(X_test)\n",
        "print(yhat)\n",
        "print(metrics.accuracy_score(y_test, yhat))\n",
        "print(confusion_matrix(y_test, yhat))\n",
        "print(classification_report(y_test, yhat))"
      ],
      "metadata": {
        "id": "CccveQb6FdYx",
        "colab": {
          "base_uri": "https://localhost:8080/"
        },
        "outputId": "7c37db77-1ee0-46b9-b0f9-7130b997475c"
      },
      "execution_count": null,
      "outputs": [
        {
          "output_type": "stream",
          "name": "stdout",
          "text": [
            "[0 0 0 0 0 0 0 0 0 2 0 0 4 0 0 0 0 0 0 2 0 0 0 0 0 0 0 0 0 2 0 0 0 0 0 0 2\n",
            " 0 0 2 0 0 0 0 0 0 0 0 0 0 0 0 0 0 0 0 0 0 2 0 1 1 1 1 1 1 1 1 1 1 1 1 1 1\n",
            " 1 1 1 1 1 1 1 1 1 1 1 1 1 1 1 1 5 1 1 1 1 5 1 1 1 1 1 1 1 1 1 1 1 1 1 5 1\n",
            " 1 1 1 1 1 5 1 1 1 2 0 2 2 2 2 2 2 2 3 2 2 2 2 2 2 4 2 2 3 2 2 2 4 2 3 2 2\n",
            " 2 2 2 2 2 2 2 2 0 2 2 2 2 2 2 2 2 2 2 2 2 2 0 3 2 2 2 2 3 2 3 0 3 3 1 5 3\n",
            " 3 3 5 5 3 3 1 3 1 3 3 3 5 3 1 3 5 3 3 3 1 3 1 3 2 1 5 3 5 3 5 3 3 3 5 3 3\n",
            " 3 3 5 3 3 3 3 4 3 1 1 5 3 3 1 3 1 3 4 4 4 4 4 4 4 4 4 4 4 4 4 4 4 4 4 4 4\n",
            " 4 4 4 4 4 4 4 4 4 4 4 4 4 4 4 4 4 4 4 4 4 4 4 4 4 4 4 4 4 4 4 4 4 4 4 4 4\n",
            " 4 4 4 4 5 5 5 1 5 5 5 5 5 3 1 1 5 5 5 5 5 1 5 5 5 5 5 5 5 5 5 1 5 5 1 5 5\n",
            " 3 5 5 5 5 5 5 5 1 1 5 5 5 3 5 5 5 5 5 5 5 5 5 1 5 5 5]\n",
            "0.8361111111111111\n",
            "[[53  0  6  0  1  0]\n",
            " [ 0 56  0  0  0  4]\n",
            " [ 4  0 48  6  2  0]\n",
            " [ 0 11  1 36  1 11]\n",
            " [ 0  0  0  0 60  0]\n",
            " [ 0  9  0  3  0 48]]\n",
            "              precision    recall  f1-score   support\n",
            "\n",
            "           0       0.93      0.88      0.91        60\n",
            "           1       0.74      0.93      0.82        60\n",
            "           2       0.87      0.80      0.83        60\n",
            "           3       0.80      0.60      0.69        60\n",
            "           4       0.94      1.00      0.97        60\n",
            "           5       0.76      0.80      0.78        60\n",
            "\n",
            "    accuracy                           0.84       360\n",
            "   macro avg       0.84      0.84      0.83       360\n",
            "weighted avg       0.84      0.84      0.83       360\n",
            "\n"
          ]
        }
      ]
    },
    {
      "cell_type": "code",
      "source": [
        ""
      ],
      "metadata": {
        "id": "hf6TcbLOLY4m"
      },
      "execution_count": null,
      "outputs": []
    }
  ]
}