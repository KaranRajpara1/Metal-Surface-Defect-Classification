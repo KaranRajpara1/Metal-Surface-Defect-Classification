{
  "nbformat": 4,
  "nbformat_minor": 0,
  "metadata": {
    "colab": {
      "name": "Project_14.ipynb",
      "provenance": []
    },
    "kernelspec": {
      "name": "python3",
      "display_name": "Python 3"
    },
    "language_info": {
      "name": "python"
    }
  },
  "cells": [
    {
      "cell_type": "markdown",
      "source": [
        "SVM\n",
        "Features: Energy, Dots, Edges"
      ],
      "metadata": {
        "id": "3tJ4IfDvBKlU"
      }
    },
    {
      "cell_type": "code",
      "execution_count": null,
      "metadata": {
        "id": "_PrM2bhlBHMM"
      },
      "outputs": [],
      "source": [
        "from google.colab import drive"
      ]
    },
    {
      "cell_type": "code",
      "source": [
        "drive.mount('/content/drive')"
      ],
      "metadata": {
        "colab": {
          "base_uri": "https://localhost:8080/",
          "height": 310
        },
        "id": "gsnI1u_vBaCL",
        "outputId": "71ce2ec7-37de-4a90-f5b2-01366449102e"
      },
      "execution_count": null,
      "outputs": [
        {
          "output_type": "error",
          "ename": "MessageError",
          "evalue": "ignored",
          "traceback": [
            "\u001b[0;31m---------------------------------------------------------------------------\u001b[0m",
            "\u001b[0;31mMessageError\u001b[0m                              Traceback (most recent call last)",
            "\u001b[0;32m<ipython-input-3-3b8a479202a4>\u001b[0m in \u001b[0;36m<module>\u001b[0;34m()\u001b[0m\n\u001b[0;32m----> 1\u001b[0;31m \u001b[0mdrive\u001b[0m\u001b[0;34m.\u001b[0m\u001b[0mmount\u001b[0m\u001b[0;34m(\u001b[0m\u001b[0;34m'/content/drive'\u001b[0m\u001b[0;34m)\u001b[0m\u001b[0;34m\u001b[0m\u001b[0;34m\u001b[0m\u001b[0m\n\u001b[0m",
            "\u001b[0;32m/usr/local/lib/python3.7/dist-packages/google/colab/drive.py\u001b[0m in \u001b[0;36mmount\u001b[0;34m(mountpoint, force_remount, timeout_ms)\u001b[0m\n\u001b[1;32m    107\u001b[0m       \u001b[0mforce_remount\u001b[0m\u001b[0;34m=\u001b[0m\u001b[0mforce_remount\u001b[0m\u001b[0;34m,\u001b[0m\u001b[0;34m\u001b[0m\u001b[0;34m\u001b[0m\u001b[0m\n\u001b[1;32m    108\u001b[0m       \u001b[0mtimeout_ms\u001b[0m\u001b[0;34m=\u001b[0m\u001b[0mtimeout_ms\u001b[0m\u001b[0;34m,\u001b[0m\u001b[0;34m\u001b[0m\u001b[0;34m\u001b[0m\u001b[0m\n\u001b[0;32m--> 109\u001b[0;31m       ephemeral=True)\n\u001b[0m\u001b[1;32m    110\u001b[0m \u001b[0;34m\u001b[0m\u001b[0m\n\u001b[1;32m    111\u001b[0m \u001b[0;34m\u001b[0m\u001b[0m\n",
            "\u001b[0;32m/usr/local/lib/python3.7/dist-packages/google/colab/drive.py\u001b[0m in \u001b[0;36m_mount\u001b[0;34m(mountpoint, force_remount, timeout_ms, ephemeral)\u001b[0m\n\u001b[1;32m    126\u001b[0m   \u001b[0;32mif\u001b[0m \u001b[0mephemeral\u001b[0m\u001b[0;34m:\u001b[0m\u001b[0;34m\u001b[0m\u001b[0;34m\u001b[0m\u001b[0m\n\u001b[1;32m    127\u001b[0m     _message.blocking_request(\n\u001b[0;32m--> 128\u001b[0;31m         'request_auth', request={'authType': 'dfs_ephemeral'}, timeout_sec=None)\n\u001b[0m\u001b[1;32m    129\u001b[0m \u001b[0;34m\u001b[0m\u001b[0m\n\u001b[1;32m    130\u001b[0m   \u001b[0mmountpoint\u001b[0m \u001b[0;34m=\u001b[0m \u001b[0m_os\u001b[0m\u001b[0;34m.\u001b[0m\u001b[0mpath\u001b[0m\u001b[0;34m.\u001b[0m\u001b[0mexpanduser\u001b[0m\u001b[0;34m(\u001b[0m\u001b[0mmountpoint\u001b[0m\u001b[0;34m)\u001b[0m\u001b[0;34m\u001b[0m\u001b[0;34m\u001b[0m\u001b[0m\n",
            "\u001b[0;32m/usr/local/lib/python3.7/dist-packages/google/colab/_message.py\u001b[0m in \u001b[0;36mblocking_request\u001b[0;34m(request_type, request, timeout_sec, parent)\u001b[0m\n\u001b[1;32m    173\u001b[0m   request_id = send_request(\n\u001b[1;32m    174\u001b[0m       request_type, request, parent=parent, expect_reply=True)\n\u001b[0;32m--> 175\u001b[0;31m   \u001b[0;32mreturn\u001b[0m \u001b[0mread_reply_from_input\u001b[0m\u001b[0;34m(\u001b[0m\u001b[0mrequest_id\u001b[0m\u001b[0;34m,\u001b[0m \u001b[0mtimeout_sec\u001b[0m\u001b[0;34m)\u001b[0m\u001b[0;34m\u001b[0m\u001b[0;34m\u001b[0m\u001b[0m\n\u001b[0m",
            "\u001b[0;32m/usr/local/lib/python3.7/dist-packages/google/colab/_message.py\u001b[0m in \u001b[0;36mread_reply_from_input\u001b[0;34m(message_id, timeout_sec)\u001b[0m\n\u001b[1;32m    104\u001b[0m         reply.get('colab_msg_id') == message_id):\n\u001b[1;32m    105\u001b[0m       \u001b[0;32mif\u001b[0m \u001b[0;34m'error'\u001b[0m \u001b[0;32min\u001b[0m \u001b[0mreply\u001b[0m\u001b[0;34m:\u001b[0m\u001b[0;34m\u001b[0m\u001b[0;34m\u001b[0m\u001b[0m\n\u001b[0;32m--> 106\u001b[0;31m         \u001b[0;32mraise\u001b[0m \u001b[0mMessageError\u001b[0m\u001b[0;34m(\u001b[0m\u001b[0mreply\u001b[0m\u001b[0;34m[\u001b[0m\u001b[0;34m'error'\u001b[0m\u001b[0;34m]\u001b[0m\u001b[0;34m)\u001b[0m\u001b[0;34m\u001b[0m\u001b[0;34m\u001b[0m\u001b[0m\n\u001b[0m\u001b[1;32m    107\u001b[0m       \u001b[0;32mreturn\u001b[0m \u001b[0mreply\u001b[0m\u001b[0;34m.\u001b[0m\u001b[0mget\u001b[0m\u001b[0;34m(\u001b[0m\u001b[0;34m'data'\u001b[0m\u001b[0;34m,\u001b[0m \u001b[0;32mNone\u001b[0m\u001b[0;34m)\u001b[0m\u001b[0;34m\u001b[0m\u001b[0;34m\u001b[0m\u001b[0m\n\u001b[1;32m    108\u001b[0m \u001b[0;34m\u001b[0m\u001b[0m\n",
            "\u001b[0;31mMessageError\u001b[0m: Error: credential propagation was unsuccessful"
          ]
        }
      ]
    },
    {
      "cell_type": "code",
      "source": [
        "cd /content/drive/\"MyDrive/Machine Learning/Edge&Line_Detection\""
      ],
      "metadata": {
        "id": "T14ZLghuBa8W"
      },
      "execution_count": null,
      "outputs": []
    },
    {
      "cell_type": "code",
      "source": [
        "import numpy as np\n",
        "import matplotlib.pyplot as plt\n",
        "import pandas as pd\n",
        "from sklearn.model_selection import train_test_split\n",
        "import glob\n",
        "import cv2\n",
        "from sklearn.ensemble import RandomForestClassifier\n",
        "from sklearn import metrics\n",
        "from sklearn import svm\n",
        "from sklearn.metrics import classification_report, confusion_matrix\n",
        "import itertools"
      ],
      "metadata": {
        "id": "Q3O0u-w1CWrf"
      },
      "execution_count": null,
      "outputs": []
    },
    {
      "cell_type": "code",
      "source": [
        "X_train = list()\n",
        "X_test = list()\n",
        "y_train = list()\n",
        "y_test = list()"
      ],
      "metadata": {
        "id": "qku_lqBfBbyv"
      },
      "execution_count": null,
      "outputs": []
    },
    {
      "cell_type": "code",
      "source": [
        "# 0 = crazing \n",
        "# 1 = inclusion\n",
        "# 2 = patches\n",
        "# 3 = pitted_surface\n",
        "# 4 = rolled in scale\n",
        "# 5 = scratches"
      ],
      "metadata": {
        "id": "4vln4LnMBoQh"
      },
      "execution_count": null,
      "outputs": []
    },
    {
      "cell_type": "code",
      "source": [
        "dataset = pd.read_csv('train_features_extracted.csv')"
      ],
      "metadata": {
        "id": "nqcem4AjBpDm"
      },
      "execution_count": null,
      "outputs": []
    },
    {
      "cell_type": "code",
      "source": [
        "dataset"
      ],
      "metadata": {
        "colab": {
          "base_uri": "https://localhost:8080/",
          "height": 423
        },
        "id": "m2z7zHfvCSRg",
        "outputId": "c5dda885-d89c-42f9-db6f-ee4c6cd43204"
      },
      "execution_count": null,
      "outputs": [
        {
          "output_type": "execute_result",
          "data": {
            "text/plain": [
              "          Class      Energy  Dots  Lines  contours  Edges  Corners\n",
              "0       crazing  153.854106   339      2         2  12857        2\n",
              "1       crazing   98.900338   288      2         2   8345        2\n",
              "2       crazing  122.753619   327      2         2  10913        2\n",
              "3       crazing  110.394338   379      2         2   9927        2\n",
              "4       crazing  135.667513   266      2         2  11858        2\n",
              "...         ...         ...   ...    ...       ...    ...      ...\n",
              "1435  scratches    9.140425    61      2         2     70        2\n",
              "1436  scratches   14.365756     0      2         2    808        2\n",
              "1437  scratches    9.262863     3      2         2    721        2\n",
              "1438  scratches   17.461644     0      2         2    975        2\n",
              "1439  scratches   10.881181     6      2         2    602        2\n",
              "\n",
              "[1440 rows x 7 columns]"
            ],
            "text/html": [
              "\n",
              "  <div id=\"df-2f56a14a-f48c-4a71-9c9f-cb8ef4cdb91e\">\n",
              "    <div class=\"colab-df-container\">\n",
              "      <div>\n",
              "<style scoped>\n",
              "    .dataframe tbody tr th:only-of-type {\n",
              "        vertical-align: middle;\n",
              "    }\n",
              "\n",
              "    .dataframe tbody tr th {\n",
              "        vertical-align: top;\n",
              "    }\n",
              "\n",
              "    .dataframe thead th {\n",
              "        text-align: right;\n",
              "    }\n",
              "</style>\n",
              "<table border=\"1\" class=\"dataframe\">\n",
              "  <thead>\n",
              "    <tr style=\"text-align: right;\">\n",
              "      <th></th>\n",
              "      <th>Class</th>\n",
              "      <th>Energy</th>\n",
              "      <th>Dots</th>\n",
              "      <th>Lines</th>\n",
              "      <th>contours</th>\n",
              "      <th>Edges</th>\n",
              "      <th>Corners</th>\n",
              "    </tr>\n",
              "  </thead>\n",
              "  <tbody>\n",
              "    <tr>\n",
              "      <th>0</th>\n",
              "      <td>crazing</td>\n",
              "      <td>153.854106</td>\n",
              "      <td>339</td>\n",
              "      <td>2</td>\n",
              "      <td>2</td>\n",
              "      <td>12857</td>\n",
              "      <td>2</td>\n",
              "    </tr>\n",
              "    <tr>\n",
              "      <th>1</th>\n",
              "      <td>crazing</td>\n",
              "      <td>98.900338</td>\n",
              "      <td>288</td>\n",
              "      <td>2</td>\n",
              "      <td>2</td>\n",
              "      <td>8345</td>\n",
              "      <td>2</td>\n",
              "    </tr>\n",
              "    <tr>\n",
              "      <th>2</th>\n",
              "      <td>crazing</td>\n",
              "      <td>122.753619</td>\n",
              "      <td>327</td>\n",
              "      <td>2</td>\n",
              "      <td>2</td>\n",
              "      <td>10913</td>\n",
              "      <td>2</td>\n",
              "    </tr>\n",
              "    <tr>\n",
              "      <th>3</th>\n",
              "      <td>crazing</td>\n",
              "      <td>110.394338</td>\n",
              "      <td>379</td>\n",
              "      <td>2</td>\n",
              "      <td>2</td>\n",
              "      <td>9927</td>\n",
              "      <td>2</td>\n",
              "    </tr>\n",
              "    <tr>\n",
              "      <th>4</th>\n",
              "      <td>crazing</td>\n",
              "      <td>135.667513</td>\n",
              "      <td>266</td>\n",
              "      <td>2</td>\n",
              "      <td>2</td>\n",
              "      <td>11858</td>\n",
              "      <td>2</td>\n",
              "    </tr>\n",
              "    <tr>\n",
              "      <th>...</th>\n",
              "      <td>...</td>\n",
              "      <td>...</td>\n",
              "      <td>...</td>\n",
              "      <td>...</td>\n",
              "      <td>...</td>\n",
              "      <td>...</td>\n",
              "      <td>...</td>\n",
              "    </tr>\n",
              "    <tr>\n",
              "      <th>1435</th>\n",
              "      <td>scratches</td>\n",
              "      <td>9.140425</td>\n",
              "      <td>61</td>\n",
              "      <td>2</td>\n",
              "      <td>2</td>\n",
              "      <td>70</td>\n",
              "      <td>2</td>\n",
              "    </tr>\n",
              "    <tr>\n",
              "      <th>1436</th>\n",
              "      <td>scratches</td>\n",
              "      <td>14.365756</td>\n",
              "      <td>0</td>\n",
              "      <td>2</td>\n",
              "      <td>2</td>\n",
              "      <td>808</td>\n",
              "      <td>2</td>\n",
              "    </tr>\n",
              "    <tr>\n",
              "      <th>1437</th>\n",
              "      <td>scratches</td>\n",
              "      <td>9.262863</td>\n",
              "      <td>3</td>\n",
              "      <td>2</td>\n",
              "      <td>2</td>\n",
              "      <td>721</td>\n",
              "      <td>2</td>\n",
              "    </tr>\n",
              "    <tr>\n",
              "      <th>1438</th>\n",
              "      <td>scratches</td>\n",
              "      <td>17.461644</td>\n",
              "      <td>0</td>\n",
              "      <td>2</td>\n",
              "      <td>2</td>\n",
              "      <td>975</td>\n",
              "      <td>2</td>\n",
              "    </tr>\n",
              "    <tr>\n",
              "      <th>1439</th>\n",
              "      <td>scratches</td>\n",
              "      <td>10.881181</td>\n",
              "      <td>6</td>\n",
              "      <td>2</td>\n",
              "      <td>2</td>\n",
              "      <td>602</td>\n",
              "      <td>2</td>\n",
              "    </tr>\n",
              "  </tbody>\n",
              "</table>\n",
              "<p>1440 rows × 7 columns</p>\n",
              "</div>\n",
              "      <button class=\"colab-df-convert\" onclick=\"convertToInteractive('df-2f56a14a-f48c-4a71-9c9f-cb8ef4cdb91e')\"\n",
              "              title=\"Convert this dataframe to an interactive table.\"\n",
              "              style=\"display:none;\">\n",
              "        \n",
              "  <svg xmlns=\"http://www.w3.org/2000/svg\" height=\"24px\"viewBox=\"0 0 24 24\"\n",
              "       width=\"24px\">\n",
              "    <path d=\"M0 0h24v24H0V0z\" fill=\"none\"/>\n",
              "    <path d=\"M18.56 5.44l.94 2.06.94-2.06 2.06-.94-2.06-.94-.94-2.06-.94 2.06-2.06.94zm-11 1L8.5 8.5l.94-2.06 2.06-.94-2.06-.94L8.5 2.5l-.94 2.06-2.06.94zm10 10l.94 2.06.94-2.06 2.06-.94-2.06-.94-.94-2.06-.94 2.06-2.06.94z\"/><path d=\"M17.41 7.96l-1.37-1.37c-.4-.4-.92-.59-1.43-.59-.52 0-1.04.2-1.43.59L10.3 9.45l-7.72 7.72c-.78.78-.78 2.05 0 2.83L4 21.41c.39.39.9.59 1.41.59.51 0 1.02-.2 1.41-.59l7.78-7.78 2.81-2.81c.8-.78.8-2.07 0-2.86zM5.41 20L4 18.59l7.72-7.72 1.47 1.35L5.41 20z\"/>\n",
              "  </svg>\n",
              "      </button>\n",
              "      \n",
              "  <style>\n",
              "    .colab-df-container {\n",
              "      display:flex;\n",
              "      flex-wrap:wrap;\n",
              "      gap: 12px;\n",
              "    }\n",
              "\n",
              "    .colab-df-convert {\n",
              "      background-color: #E8F0FE;\n",
              "      border: none;\n",
              "      border-radius: 50%;\n",
              "      cursor: pointer;\n",
              "      display: none;\n",
              "      fill: #1967D2;\n",
              "      height: 32px;\n",
              "      padding: 0 0 0 0;\n",
              "      width: 32px;\n",
              "    }\n",
              "\n",
              "    .colab-df-convert:hover {\n",
              "      background-color: #E2EBFA;\n",
              "      box-shadow: 0px 1px 2px rgba(60, 64, 67, 0.3), 0px 1px 3px 1px rgba(60, 64, 67, 0.15);\n",
              "      fill: #174EA6;\n",
              "    }\n",
              "\n",
              "    [theme=dark] .colab-df-convert {\n",
              "      background-color: #3B4455;\n",
              "      fill: #D2E3FC;\n",
              "    }\n",
              "\n",
              "    [theme=dark] .colab-df-convert:hover {\n",
              "      background-color: #434B5C;\n",
              "      box-shadow: 0px 1px 3px 1px rgba(0, 0, 0, 0.15);\n",
              "      filter: drop-shadow(0px 1px 2px rgba(0, 0, 0, 0.3));\n",
              "      fill: #FFFFFF;\n",
              "    }\n",
              "  </style>\n",
              "\n",
              "      <script>\n",
              "        const buttonEl =\n",
              "          document.querySelector('#df-2f56a14a-f48c-4a71-9c9f-cb8ef4cdb91e button.colab-df-convert');\n",
              "        buttonEl.style.display =\n",
              "          google.colab.kernel.accessAllowed ? 'block' : 'none';\n",
              "\n",
              "        async function convertToInteractive(key) {\n",
              "          const element = document.querySelector('#df-2f56a14a-f48c-4a71-9c9f-cb8ef4cdb91e');\n",
              "          const dataTable =\n",
              "            await google.colab.kernel.invokeFunction('convertToInteractive',\n",
              "                                                     [key], {});\n",
              "          if (!dataTable) return;\n",
              "\n",
              "          const docLinkHtml = 'Like what you see? Visit the ' +\n",
              "            '<a target=\"_blank\" href=https://colab.research.google.com/notebooks/data_table.ipynb>data table notebook</a>'\n",
              "            + ' to learn more about interactive tables.';\n",
              "          element.innerHTML = '';\n",
              "          dataTable['output_type'] = 'display_data';\n",
              "          await google.colab.output.renderOutput(dataTable, element);\n",
              "          const docLink = document.createElement('div');\n",
              "          docLink.innerHTML = docLinkHtml;\n",
              "          element.appendChild(docLink);\n",
              "        }\n",
              "      </script>\n",
              "    </div>\n",
              "  </div>\n",
              "  "
            ]
          },
          "metadata": {},
          "execution_count": 8
        }
      ]
    },
    {
      "cell_type": "code",
      "source": [
        "x = dataset.iloc[:, [1,2,5]].values"
      ],
      "metadata": {
        "id": "pVlc59wxCZM3"
      },
      "execution_count": null,
      "outputs": []
    },
    {
      "cell_type": "code",
      "source": [
        "x"
      ],
      "metadata": {
        "colab": {
          "base_uri": "https://localhost:8080/"
        },
        "id": "fzTfOGZuCnsa",
        "outputId": "a949c91d-f740-4a26-c2ef-6ea907cf5e2c"
      },
      "execution_count": null,
      "outputs": [
        {
          "output_type": "execute_result",
          "data": {
            "text/plain": [
              "array([[1.53854106e+02, 3.39000000e+02, 1.28570000e+04],\n",
              "       [9.89003375e+01, 2.88000000e+02, 8.34500000e+03],\n",
              "       [1.22753619e+02, 3.27000000e+02, 1.09130000e+04],\n",
              "       ...,\n",
              "       [9.26286250e+00, 3.00000000e+00, 7.21000000e+02],\n",
              "       [1.74616438e+01, 0.00000000e+00, 9.75000000e+02],\n",
              "       [1.08811813e+01, 6.00000000e+00, 6.02000000e+02]])"
            ]
          },
          "metadata": {},
          "execution_count": 10
        }
      ]
    },
    {
      "cell_type": "code",
      "source": [
        "x[0]"
      ],
      "metadata": {
        "colab": {
          "base_uri": "https://localhost:8080/"
        },
        "id": "-VHnTHeuCn60",
        "outputId": "0c1782cd-1ceb-4498-94eb-37752035c829"
      },
      "execution_count": null,
      "outputs": [
        {
          "output_type": "execute_result",
          "data": {
            "text/plain": [
              "array([  153.85410625,   339.        , 12857.        ])"
            ]
          },
          "metadata": {},
          "execution_count": 11
        }
      ]
    },
    {
      "cell_type": "code",
      "source": [
        "X_train = x "
      ],
      "metadata": {
        "id": "YeY_8NMDC7Jg"
      },
      "execution_count": null,
      "outputs": []
    },
    {
      "cell_type": "code",
      "source": [
        "print(len(X_train))"
      ],
      "metadata": {
        "colab": {
          "base_uri": "https://localhost:8080/"
        },
        "id": "c8YDQFubDD1x",
        "outputId": "2c50701a-eac6-43f3-a878-bc0570187bf2"
      },
      "execution_count": null,
      "outputs": [
        {
          "output_type": "stream",
          "name": "stdout",
          "text": [
            "1440\n"
          ]
        }
      ]
    },
    {
      "cell_type": "code",
      "source": [
        "for j in range(0,6):\n",
        "    for i in range(0,240):\n",
        "        y_train.append(j)"
      ],
      "metadata": {
        "id": "8UL1BwHVDJKp"
      },
      "execution_count": null,
      "outputs": []
    },
    {
      "cell_type": "code",
      "source": [
        "print(y_train)\n",
        "print(len(y_train))"
      ],
      "metadata": {
        "colab": {
          "base_uri": "https://localhost:8080/"
        },
        "id": "16BNCFruDe9b",
        "outputId": "ca7bec7e-1c55-40b6-9260-b07cbb9aea1e"
      },
      "execution_count": null,
      "outputs": [
        {
          "output_type": "stream",
          "name": "stdout",
          "text": [
            "[0, 0, 0, 0, 0, 0, 0, 0, 0, 0, 0, 0, 0, 0, 0, 0, 0, 0, 0, 0, 0, 0, 0, 0, 0, 0, 0, 0, 0, 0, 0, 0, 0, 0, 0, 0, 0, 0, 0, 0, 0, 0, 0, 0, 0, 0, 0, 0, 0, 0, 0, 0, 0, 0, 0, 0, 0, 0, 0, 0, 0, 0, 0, 0, 0, 0, 0, 0, 0, 0, 0, 0, 0, 0, 0, 0, 0, 0, 0, 0, 0, 0, 0, 0, 0, 0, 0, 0, 0, 0, 0, 0, 0, 0, 0, 0, 0, 0, 0, 0, 0, 0, 0, 0, 0, 0, 0, 0, 0, 0, 0, 0, 0, 0, 0, 0, 0, 0, 0, 0, 0, 0, 0, 0, 0, 0, 0, 0, 0, 0, 0, 0, 0, 0, 0, 0, 0, 0, 0, 0, 0, 0, 0, 0, 0, 0, 0, 0, 0, 0, 0, 0, 0, 0, 0, 0, 0, 0, 0, 0, 0, 0, 0, 0, 0, 0, 0, 0, 0, 0, 0, 0, 0, 0, 0, 0, 0, 0, 0, 0, 0, 0, 0, 0, 0, 0, 0, 0, 0, 0, 0, 0, 0, 0, 0, 0, 0, 0, 0, 0, 0, 0, 0, 0, 0, 0, 0, 0, 0, 0, 0, 0, 0, 0, 0, 0, 0, 0, 0, 0, 0, 0, 0, 0, 0, 0, 0, 0, 0, 0, 0, 0, 0, 0, 0, 0, 0, 0, 0, 0, 1, 1, 1, 1, 1, 1, 1, 1, 1, 1, 1, 1, 1, 1, 1, 1, 1, 1, 1, 1, 1, 1, 1, 1, 1, 1, 1, 1, 1, 1, 1, 1, 1, 1, 1, 1, 1, 1, 1, 1, 1, 1, 1, 1, 1, 1, 1, 1, 1, 1, 1, 1, 1, 1, 1, 1, 1, 1, 1, 1, 1, 1, 1, 1, 1, 1, 1, 1, 1, 1, 1, 1, 1, 1, 1, 1, 1, 1, 1, 1, 1, 1, 1, 1, 1, 1, 1, 1, 1, 1, 1, 1, 1, 1, 1, 1, 1, 1, 1, 1, 1, 1, 1, 1, 1, 1, 1, 1, 1, 1, 1, 1, 1, 1, 1, 1, 1, 1, 1, 1, 1, 1, 1, 1, 1, 1, 1, 1, 1, 1, 1, 1, 1, 1, 1, 1, 1, 1, 1, 1, 1, 1, 1, 1, 1, 1, 1, 1, 1, 1, 1, 1, 1, 1, 1, 1, 1, 1, 1, 1, 1, 1, 1, 1, 1, 1, 1, 1, 1, 1, 1, 1, 1, 1, 1, 1, 1, 1, 1, 1, 1, 1, 1, 1, 1, 1, 1, 1, 1, 1, 1, 1, 1, 1, 1, 1, 1, 1, 1, 1, 1, 1, 1, 1, 1, 1, 1, 1, 1, 1, 1, 1, 1, 1, 1, 1, 1, 1, 1, 1, 1, 1, 1, 1, 1, 1, 1, 1, 1, 1, 1, 1, 1, 1, 1, 1, 1, 1, 1, 1, 2, 2, 2, 2, 2, 2, 2, 2, 2, 2, 2, 2, 2, 2, 2, 2, 2, 2, 2, 2, 2, 2, 2, 2, 2, 2, 2, 2, 2, 2, 2, 2, 2, 2, 2, 2, 2, 2, 2, 2, 2, 2, 2, 2, 2, 2, 2, 2, 2, 2, 2, 2, 2, 2, 2, 2, 2, 2, 2, 2, 2, 2, 2, 2, 2, 2, 2, 2, 2, 2, 2, 2, 2, 2, 2, 2, 2, 2, 2, 2, 2, 2, 2, 2, 2, 2, 2, 2, 2, 2, 2, 2, 2, 2, 2, 2, 2, 2, 2, 2, 2, 2, 2, 2, 2, 2, 2, 2, 2, 2, 2, 2, 2, 2, 2, 2, 2, 2, 2, 2, 2, 2, 2, 2, 2, 2, 2, 2, 2, 2, 2, 2, 2, 2, 2, 2, 2, 2, 2, 2, 2, 2, 2, 2, 2, 2, 2, 2, 2, 2, 2, 2, 2, 2, 2, 2, 2, 2, 2, 2, 2, 2, 2, 2, 2, 2, 2, 2, 2, 2, 2, 2, 2, 2, 2, 2, 2, 2, 2, 2, 2, 2, 2, 2, 2, 2, 2, 2, 2, 2, 2, 2, 2, 2, 2, 2, 2, 2, 2, 2, 2, 2, 2, 2, 2, 2, 2, 2, 2, 2, 2, 2, 2, 2, 2, 2, 2, 2, 2, 2, 2, 2, 2, 2, 2, 2, 2, 2, 2, 2, 2, 2, 2, 2, 2, 2, 2, 2, 2, 2, 3, 3, 3, 3, 3, 3, 3, 3, 3, 3, 3, 3, 3, 3, 3, 3, 3, 3, 3, 3, 3, 3, 3, 3, 3, 3, 3, 3, 3, 3, 3, 3, 3, 3, 3, 3, 3, 3, 3, 3, 3, 3, 3, 3, 3, 3, 3, 3, 3, 3, 3, 3, 3, 3, 3, 3, 3, 3, 3, 3, 3, 3, 3, 3, 3, 3, 3, 3, 3, 3, 3, 3, 3, 3, 3, 3, 3, 3, 3, 3, 3, 3, 3, 3, 3, 3, 3, 3, 3, 3, 3, 3, 3, 3, 3, 3, 3, 3, 3, 3, 3, 3, 3, 3, 3, 3, 3, 3, 3, 3, 3, 3, 3, 3, 3, 3, 3, 3, 3, 3, 3, 3, 3, 3, 3, 3, 3, 3, 3, 3, 3, 3, 3, 3, 3, 3, 3, 3, 3, 3, 3, 3, 3, 3, 3, 3, 3, 3, 3, 3, 3, 3, 3, 3, 3, 3, 3, 3, 3, 3, 3, 3, 3, 3, 3, 3, 3, 3, 3, 3, 3, 3, 3, 3, 3, 3, 3, 3, 3, 3, 3, 3, 3, 3, 3, 3, 3, 3, 3, 3, 3, 3, 3, 3, 3, 3, 3, 3, 3, 3, 3, 3, 3, 3, 3, 3, 3, 3, 3, 3, 3, 3, 3, 3, 3, 3, 3, 3, 3, 3, 3, 3, 3, 3, 3, 3, 3, 3, 3, 3, 3, 3, 3, 3, 3, 3, 3, 3, 3, 3, 4, 4, 4, 4, 4, 4, 4, 4, 4, 4, 4, 4, 4, 4, 4, 4, 4, 4, 4, 4, 4, 4, 4, 4, 4, 4, 4, 4, 4, 4, 4, 4, 4, 4, 4, 4, 4, 4, 4, 4, 4, 4, 4, 4, 4, 4, 4, 4, 4, 4, 4, 4, 4, 4, 4, 4, 4, 4, 4, 4, 4, 4, 4, 4, 4, 4, 4, 4, 4, 4, 4, 4, 4, 4, 4, 4, 4, 4, 4, 4, 4, 4, 4, 4, 4, 4, 4, 4, 4, 4, 4, 4, 4, 4, 4, 4, 4, 4, 4, 4, 4, 4, 4, 4, 4, 4, 4, 4, 4, 4, 4, 4, 4, 4, 4, 4, 4, 4, 4, 4, 4, 4, 4, 4, 4, 4, 4, 4, 4, 4, 4, 4, 4, 4, 4, 4, 4, 4, 4, 4, 4, 4, 4, 4, 4, 4, 4, 4, 4, 4, 4, 4, 4, 4, 4, 4, 4, 4, 4, 4, 4, 4, 4, 4, 4, 4, 4, 4, 4, 4, 4, 4, 4, 4, 4, 4, 4, 4, 4, 4, 4, 4, 4, 4, 4, 4, 4, 4, 4, 4, 4, 4, 4, 4, 4, 4, 4, 4, 4, 4, 4, 4, 4, 4, 4, 4, 4, 4, 4, 4, 4, 4, 4, 4, 4, 4, 4, 4, 4, 4, 4, 4, 4, 4, 4, 4, 4, 4, 4, 4, 4, 4, 4, 4, 4, 4, 4, 4, 4, 4, 5, 5, 5, 5, 5, 5, 5, 5, 5, 5, 5, 5, 5, 5, 5, 5, 5, 5, 5, 5, 5, 5, 5, 5, 5, 5, 5, 5, 5, 5, 5, 5, 5, 5, 5, 5, 5, 5, 5, 5, 5, 5, 5, 5, 5, 5, 5, 5, 5, 5, 5, 5, 5, 5, 5, 5, 5, 5, 5, 5, 5, 5, 5, 5, 5, 5, 5, 5, 5, 5, 5, 5, 5, 5, 5, 5, 5, 5, 5, 5, 5, 5, 5, 5, 5, 5, 5, 5, 5, 5, 5, 5, 5, 5, 5, 5, 5, 5, 5, 5, 5, 5, 5, 5, 5, 5, 5, 5, 5, 5, 5, 5, 5, 5, 5, 5, 5, 5, 5, 5, 5, 5, 5, 5, 5, 5, 5, 5, 5, 5, 5, 5, 5, 5, 5, 5, 5, 5, 5, 5, 5, 5, 5, 5, 5, 5, 5, 5, 5, 5, 5, 5, 5, 5, 5, 5, 5, 5, 5, 5, 5, 5, 5, 5, 5, 5, 5, 5, 5, 5, 5, 5, 5, 5, 5, 5, 5, 5, 5, 5, 5, 5, 5, 5, 5, 5, 5, 5, 5, 5, 5, 5, 5, 5, 5, 5, 5, 5, 5, 5, 5, 5, 5, 5, 5, 5, 5, 5, 5, 5, 5, 5, 5, 5, 5, 5, 5, 5, 5, 5, 5, 5, 5, 5, 5, 5, 5, 5, 5, 5, 5, 5, 5, 5, 5, 5, 5, 5, 5, 5]\n",
            "1440\n"
          ]
        }
      ]
    },
    {
      "cell_type": "code",
      "source": [
        ""
      ],
      "metadata": {
        "id": "ZdGrdcM0Dpan"
      },
      "execution_count": null,
      "outputs": []
    },
    {
      "cell_type": "code",
      "source": [
        "dataset2 = pd.read_csv('test_features_extracted.csv')"
      ],
      "metadata": {
        "id": "T3ckg7FTDhBu"
      },
      "execution_count": null,
      "outputs": []
    },
    {
      "cell_type": "code",
      "source": [
        "x = dataset2.iloc[:, [1,2,5]].values"
      ],
      "metadata": {
        "id": "l-KyW9MhDuJC"
      },
      "execution_count": null,
      "outputs": []
    },
    {
      "cell_type": "code",
      "source": [
        "print(x)"
      ],
      "metadata": {
        "colab": {
          "base_uri": "https://localhost:8080/"
        },
        "id": "0SaYTz1kDv7n",
        "outputId": "a06b2899-f510-4ec4-d873-01096f55730f"
      },
      "execution_count": null,
      "outputs": [
        {
          "output_type": "stream",
          "name": "stdout",
          "text": [
            "[[1.46419744e+02 3.14000000e+02 1.21900000e+04]\n",
            " [1.35537719e+02 2.28000000e+02 1.15250000e+04]\n",
            " [1.52394050e+02 2.91000000e+02 1.23890000e+04]\n",
            " ...\n",
            " [2.44281188e+01 1.40000000e+01 1.00100000e+03]\n",
            " [3.19947250e+01 3.00000000e+00 9.37000000e+02]\n",
            " [2.13497813e+01 7.00000000e+00 7.43000000e+02]]\n"
          ]
        }
      ]
    },
    {
      "cell_type": "code",
      "source": [
        "print(len(x))"
      ],
      "metadata": {
        "colab": {
          "base_uri": "https://localhost:8080/"
        },
        "id": "hEtKybMbDxHt",
        "outputId": "b7916c5d-fd92-46a2-a161-70c8f090989b"
      },
      "execution_count": null,
      "outputs": [
        {
          "output_type": "stream",
          "name": "stdout",
          "text": [
            "360\n"
          ]
        }
      ]
    },
    {
      "cell_type": "code",
      "source": [
        "X_test = x"
      ],
      "metadata": {
        "id": "-9QHH96RDyml"
      },
      "execution_count": null,
      "outputs": []
    },
    {
      "cell_type": "code",
      "source": [
        "for j in range(0,6):\n",
        "    for i in range(0,60):\n",
        "        y_test.append(j)"
      ],
      "metadata": {
        "id": "aRLN-Gb_ELU0"
      },
      "execution_count": null,
      "outputs": []
    },
    {
      "cell_type": "code",
      "source": [
        "print(len(y_test))"
      ],
      "metadata": {
        "colab": {
          "base_uri": "https://localhost:8080/"
        },
        "id": "TvI2ig_2EQma",
        "outputId": "ec6a2743-5bd7-491c-b3e3-6e566ed0c033"
      },
      "execution_count": null,
      "outputs": [
        {
          "output_type": "stream",
          "name": "stdout",
          "text": [
            "360\n"
          ]
        }
      ]
    },
    {
      "cell_type": "code",
      "source": [
        "X_train=np.array(X_train)\n",
        "y_train=np.array(y_train)\n",
        "X_test=np.array(X_test)\n",
        "y_test=np.array(y_test)"
      ],
      "metadata": {
        "id": "NJNEwAmfETlD"
      },
      "execution_count": null,
      "outputs": []
    },
    {
      "cell_type": "code",
      "source": [
        "print ('Train set:', X_train.shape,  y_train.shape)\n",
        "print ('Test set:', X_test.shape,  y_test.shape)"
      ],
      "metadata": {
        "colab": {
          "base_uri": "https://localhost:8080/"
        },
        "id": "AvmzbrZXEXEY",
        "outputId": "1b956faa-5be7-4f66-b152-661b1ae18b98"
      },
      "execution_count": null,
      "outputs": [
        {
          "output_type": "stream",
          "name": "stdout",
          "text": [
            "Train set: (1440, 3) (1440,)\n",
            "Test set: (360, 3) (360,)\n"
          ]
        }
      ]
    },
    {
      "cell_type": "code",
      "source": [
        "nsamples, nx = X_train.shape\n",
        "X_train = X_train.reshape((nsamples,nx))"
      ],
      "metadata": {
        "id": "nAzNYeEuEX5w"
      },
      "execution_count": null,
      "outputs": []
    },
    {
      "cell_type": "code",
      "source": [
        "print(X_train.shape)"
      ],
      "metadata": {
        "colab": {
          "base_uri": "https://localhost:8080/"
        },
        "id": "nT0QvIU3EvTm",
        "outputId": "e4cbd59b-2298-4095-ccc5-1a815268e083"
      },
      "execution_count": null,
      "outputs": [
        {
          "output_type": "stream",
          "name": "stdout",
          "text": [
            "(1440, 3)\n"
          ]
        }
      ]
    },
    {
      "cell_type": "code",
      "source": [
        "nsamples, nx = X_test.shape\n",
        "X_test = X_test.reshape((nsamples,nx))"
      ],
      "metadata": {
        "id": "2Ot-FXUpFCd5"
      },
      "execution_count": null,
      "outputs": []
    },
    {
      "cell_type": "code",
      "source": [
        "print(X_test.shape)"
      ],
      "metadata": {
        "colab": {
          "base_uri": "https://localhost:8080/"
        },
        "id": "bnuOKL1wFG0d",
        "outputId": "f1122055-5670-4dc4-a001-df5eca155161"
      },
      "execution_count": null,
      "outputs": [
        {
          "output_type": "stream",
          "name": "stdout",
          "text": [
            "(360, 3)\n"
          ]
        }
      ]
    },
    {
      "cell_type": "code",
      "source": [
        "print(X_train)\n",
        "print(X_test)\n",
        "print(y_train)\n",
        "print(y_test)"
      ],
      "metadata": {
        "colab": {
          "base_uri": "https://localhost:8080/"
        },
        "id": "ZEgS6LVbQd20",
        "outputId": "f79873c5-0ca7-4157-a33d-41b897106ec4"
      },
      "execution_count": null,
      "outputs": [
        {
          "output_type": "stream",
          "name": "stdout",
          "text": [
            "[[1.53854106e+02 3.39000000e+02 1.28570000e+04]\n",
            " [9.89003375e+01 2.88000000e+02 8.34500000e+03]\n",
            " [1.22753619e+02 3.27000000e+02 1.09130000e+04]\n",
            " ...\n",
            " [9.26286250e+00 3.00000000e+00 7.21000000e+02]\n",
            " [1.74616438e+01 0.00000000e+00 9.75000000e+02]\n",
            " [1.08811813e+01 6.00000000e+00 6.02000000e+02]]\n",
            "[[1.46419744e+02 3.14000000e+02 1.21900000e+04]\n",
            " [1.35537719e+02 2.28000000e+02 1.15250000e+04]\n",
            " [1.52394050e+02 2.91000000e+02 1.23890000e+04]\n",
            " ...\n",
            " [2.44281188e+01 1.40000000e+01 1.00100000e+03]\n",
            " [3.19947250e+01 3.00000000e+00 9.37000000e+02]\n",
            " [2.13497813e+01 7.00000000e+00 7.43000000e+02]]\n",
            "[0 0 0 ... 5 5 5]\n",
            "[0 0 0 0 0 0 0 0 0 0 0 0 0 0 0 0 0 0 0 0 0 0 0 0 0 0 0 0 0 0 0 0 0 0 0 0 0\n",
            " 0 0 0 0 0 0 0 0 0 0 0 0 0 0 0 0 0 0 0 0 0 0 0 1 1 1 1 1 1 1 1 1 1 1 1 1 1\n",
            " 1 1 1 1 1 1 1 1 1 1 1 1 1 1 1 1 1 1 1 1 1 1 1 1 1 1 1 1 1 1 1 1 1 1 1 1 1\n",
            " 1 1 1 1 1 1 1 1 1 2 2 2 2 2 2 2 2 2 2 2 2 2 2 2 2 2 2 2 2 2 2 2 2 2 2 2 2\n",
            " 2 2 2 2 2 2 2 2 2 2 2 2 2 2 2 2 2 2 2 2 2 2 2 2 2 2 2 2 2 2 2 2 3 3 3 3 3\n",
            " 3 3 3 3 3 3 3 3 3 3 3 3 3 3 3 3 3 3 3 3 3 3 3 3 3 3 3 3 3 3 3 3 3 3 3 3 3\n",
            " 3 3 3 3 3 3 3 3 3 3 3 3 3 3 3 3 3 3 4 4 4 4 4 4 4 4 4 4 4 4 4 4 4 4 4 4 4\n",
            " 4 4 4 4 4 4 4 4 4 4 4 4 4 4 4 4 4 4 4 4 4 4 4 4 4 4 4 4 4 4 4 4 4 4 4 4 4\n",
            " 4 4 4 4 5 5 5 5 5 5 5 5 5 5 5 5 5 5 5 5 5 5 5 5 5 5 5 5 5 5 5 5 5 5 5 5 5\n",
            " 5 5 5 5 5 5 5 5 5 5 5 5 5 5 5 5 5 5 5 5 5 5 5 5 5 5 5]\n"
          ]
        }
      ]
    },
    {
      "cell_type": "code",
      "source": [
        "import time"
      ],
      "metadata": {
        "id": "sgrTqp8OJPd5"
      },
      "execution_count": null,
      "outputs": []
    },
    {
      "cell_type": "code",
      "source": [
        "train_begin = time.time()\n",
        "clf = svm.SVC(kernel='linear')\n",
        "clf.fit(X_train, y_train) \n",
        "train_end = time.time()\n",
        "train_time = train_end - train_begin\n",
        "\n",
        "\n",
        "time.sleep(5)\n",
        "test_begin = time.time()\n",
        "yhat = clf.predict(X_test)\n",
        "test_end = time.time()\n",
        "test_time = test_end - test_begin\n",
        "print(yhat)\n",
        "\n",
        "print(metrics.accuracy_score(y_test, yhat))\n",
        "print(confusion_matrix(y_test, yhat))\n",
        "print(classification_report(y_test, yhat))"
      ],
      "metadata": {
        "colab": {
          "base_uri": "https://localhost:8080/"
        },
        "id": "6Fh7g4tyFIcd",
        "outputId": "edaec92e-84b9-4ce6-fb6f-967b25b8023c"
      },
      "execution_count": null,
      "outputs": [
        {
          "output_type": "stream",
          "name": "stdout",
          "text": [
            "[0 0 0 0 0 0 0 0 0 2 0 0 0 0 0 0 0 0 0 0 0 0 0 0 0 0 0 0 0 2 0 0 0 0 0 0 0\n",
            " 0 0 0 0 0 0 0 0 0 0 0 0 0 0 0 0 0 0 0 0 0 0 0 1 1 5 3 1 1 1 1 1 1 1 1 1 1\n",
            " 1 1 1 1 1 1 1 1 1 1 1 1 1 1 1 1 1 1 1 1 1 1 1 1 1 5 1 1 1 1 1 1 1 1 5 1 1\n",
            " 1 1 1 1 1 1 1 1 1 2 0 2 2 2 2 2 2 2 2 2 2 2 2 2 2 2 2 2 2 2 2 2 0 2 2 2 2\n",
            " 2 2 2 2 2 2 2 2 0 2 2 2 2 2 2 2 2 2 2 2 2 2 0 2 2 2 2 2 2 2 2 0 3 3 1 5 3\n",
            " 3 3 1 5 3 3 1 0 3 3 3 3 5 3 1 3 3 3 3 3 1 3 1 3 3 5 5 0 5 3 5 3 3 3 3 3 0\n",
            " 3 3 5 3 3 3 3 3 3 3 1 5 3 0 1 3 1 3 4 4 4 4 4 4 4 4 4 4 4 4 4 4 4 4 4 4 4\n",
            " 4 4 4 4 4 4 4 4 4 4 4 4 4 3 4 4 4 4 4 4 4 4 4 4 4 4 4 4 4 4 4 4 4 4 4 4 4\n",
            " 4 4 4 4 5 5 5 3 5 5 5 5 5 3 5 1 5 5 5 5 5 1 5 5 2 5 5 5 5 5 5 1 5 5 5 5 5\n",
            " 3 5 5 5 5 5 5 5 5 3 5 5 5 3 5 5 5 5 5 5 5 5 5 1 5 5 5]\n",
            "0.8777777777777778\n",
            "[[58  0  2  0  0  0]\n",
            " [ 0 56  0  1  0  3]\n",
            " [ 5  0 55  0  0  0]\n",
            " [ 4  9  0 38  0  9]\n",
            " [ 0  0  0  1 59  0]\n",
            " [ 0  4  1  5  0 50]]\n",
            "              precision    recall  f1-score   support\n",
            "\n",
            "           0       0.87      0.97      0.91        60\n",
            "           1       0.81      0.93      0.87        60\n",
            "           2       0.95      0.92      0.93        60\n",
            "           3       0.84      0.63      0.72        60\n",
            "           4       1.00      0.98      0.99        60\n",
            "           5       0.81      0.83      0.82        60\n",
            "\n",
            "    accuracy                           0.88       360\n",
            "   macro avg       0.88      0.88      0.87       360\n",
            "weighted avg       0.88      0.88      0.87       360\n",
            "\n"
          ]
        }
      ]
    },
    {
      "cell_type": "code",
      "source": [
        "print(train_time)\n",
        "print(test_time/len(X_test))"
      ],
      "metadata": {
        "colab": {
          "base_uri": "https://localhost:8080/"
        },
        "id": "Jyd0MsHAJaeu",
        "outputId": "e0bef2a4-7515-49f3-c001-6c1642de47d3"
      },
      "execution_count": null,
      "outputs": [
        {
          "output_type": "stream",
          "name": "stdout",
          "text": [
            "149.68543887138367\n",
            "1.3334883583916559e-05\n"
          ]
        }
      ]
    },
    {
      "cell_type": "code",
      "source": [
        "matrix = confusion_matrix(y_test, yhat)\n",
        "matrix.diagonal()/matrix.sum(axis=1)\n"
      ],
      "metadata": {
        "colab": {
          "base_uri": "https://localhost:8080/"
        },
        "id": "cQZvehQ0Jn4Q",
        "outputId": "f2b1c313-20c6-4c76-b15c-771b5aff5316"
      },
      "execution_count": null,
      "outputs": [
        {
          "output_type": "execute_result",
          "data": {
            "text/plain": [
              "array([0.96666667, 0.93333333, 0.91666667, 0.63333333, 0.98333333,\n",
              "       0.83333333])"
            ]
          },
          "metadata": {},
          "execution_count": 38
        }
      ]
    },
    {
      "cell_type": "code",
      "source": [
        ""
      ],
      "metadata": {
        "id": "M1O1n2HZsTTC"
      },
      "execution_count": null,
      "outputs": []
    },
    {
      "cell_type": "code",
      "source": [
        ""
      ],
      "metadata": {
        "id": "04X-hFcgsRto"
      },
      "execution_count": null,
      "outputs": []
    },
    {
      "cell_type": "code",
      "source": [
        "from sklearn.multiclass import OneVsRestClassifier\n",
        "from sklearn.linear_model import LogisticRegression\n",
        "from sklearn.model_selection import train_test_split\n",
        "from sklearn.metrics import roc_curve\n",
        "from sklearn.metrics import roc_auc_score\n",
        "\n",
        "pred_prob = clf.fit(X_train, y_train).decision_function(X_test)\n",
        "# roc curve for classes\n",
        "fpr = {}\n",
        "tpr = {}\n",
        "thresh ={}\n",
        "\n",
        "n_class = 6\n",
        "\n",
        "for i in range(n_class):    \n",
        "    fpr[i], tpr[i], thresh[i] = roc_curve(y_test, pred_prob[:,i], pos_label=i)\n",
        "\n",
        "\n",
        "# plotting    \n",
        "plt.plot(fpr[0], tpr[0], linestyle='--',color='orange', label='Class 0 vs Rest')\n",
        "plt.plot(fpr[1], tpr[1], linestyle='--',color='green', label='Class 1 vs Rest')\n",
        "plt.plot(fpr[2], tpr[2], linestyle='--',color='blue', label='Class 2 vs Rest')\n",
        "plt.plot(fpr[3], tpr[3], linestyle='--',color='red', label='Class 3 vs Rest')\n",
        "plt.plot(fpr[4], tpr[4], linestyle='--',color='black', label='Class 4 vs Rest')\n",
        "plt.plot(fpr[5], tpr[5], linestyle='--',color='yellow', label='Class 5 vs Rest')\n",
        "plt.title('Multiclass ROC curve')\n",
        "plt.xlabel('False Positive Rate')\n",
        "plt.ylabel('True Positive rate')\n",
        "plt.legend(loc='best')\n",
        "plt.savefig('Multiclass ROC',dpi=300);  "
      ],
      "metadata": {
        "colab": {
          "base_uri": "https://localhost:8080/",
          "height": 295
        },
        "id": "cOOr3rZjJb9f",
        "outputId": "56ab36ee-fc07-4f1f-eefb-f8c958684ec2"
      },
      "execution_count": null,
      "outputs": [
        {
          "output_type": "display_data",
          "data": {
            "text/plain": [
              "<Figure size 432x288 with 1 Axes>"
            ],
            "image/png": "[encoded data removed]"
          },
          "metadata": {
            "needs_background": "light"
          }
        }
      ]
    },
    {
      "cell_type": "code",
      "source": [
        "clf = svm.SVC(kernel='rbf', gamma=\"scale\")\n",
        "clf.fit(X_train, y_train) \n",
        "yhat = clf.predict(X_test)\n",
        "print(yhat)\n",
        "\n",
        "print(metrics.accuracy_score(y_test, yhat))\n",
        "print(confusion_matrix(y_test, yhat))\n",
        "print(classification_report(y_test, yhat))"
      ],
      "metadata": {
        "colab": {
          "base_uri": "https://localhost:8080/"
        },
        "id": "k5fDObHUFJ4v",
        "outputId": "dcd1b8eb-157a-46eb-89ef-6c2e974d88f3"
      },
      "execution_count": null,
      "outputs": [
        {
          "output_type": "stream",
          "name": "stdout",
          "text": [
            "[0 0 0 0 0 2 0 0 0 0 0 0 3 0 0 2 0 0 2 2 0 0 0 0 0 0 0 0 0 2 0 0 0 0 0 0 0\n",
            " 0 0 0 0 0 0 0 0 0 0 0 0 0 0 0 0 0 0 0 0 0 2 0 1 1 1 1 1 1 1 1 1 1 1 1 1 1\n",
            " 1 1 1 1 1 1 1 1 1 1 1 1 1 1 1 1 1 1 1 1 1 1 1 1 1 1 1 1 1 1 1 1 1 1 1 1 1\n",
            " 1 1 1 1 1 1 1 1 1 2 2 2 2 2 2 2 2 2 5 2 2 2 2 2 2 1 2 2 1 2 2 2 4 2 5 2 2\n",
            " 2 2 2 2 2 2 2 2 2 2 2 2 2 2 2 2 2 0 2 0 2 2 2 5 2 2 2 2 5 2 5 2 2 4 1 5 5\n",
            " 5 2 1 1 2 5 1 2 1 1 4 0 5 2 1 2 0 2 5 2 1 5 1 2 2 1 5 0 5 2 5 0 2 3 5 4 2\n",
            " 5 2 1 3 5 5 5 4 2 1 1 5 4 3 1 1 1 4 1 4 1 1 1 4 1 1 4 4 1 4 1 1 1 1 1 1 1\n",
            " 1 1 1 4 1 4 1 1 1 4 4 4 1 1 4 4 4 1 1 4 1 1 4 1 4 4 1 1 1 1 4 1 1 1 1 1 4\n",
            " 4 4 4 1 5 5 5 5 5 5 5 5 5 5 5 1 5 5 5 5 5 1 5 5 5 1 5 5 5 5 5 1 5 5 1 5 5\n",
            " 5 5 5 5 5 5 5 5 1 5 5 5 5 5 5 5 5 5 5 5 5 1 5 1 5 5 5]\n",
            "0.6666666666666666\n",
            "[[53  0  6  1  0  0]\n",
            " [ 0 60  0  0  0  0]\n",
            " [ 2  2 50  0  1  5]\n",
            " [ 4 16 15  3  6 16]\n",
            " [ 0 38  0  0 22  0]\n",
            " [ 0  8  0  0  0 52]]\n",
            "              precision    recall  f1-score   support\n",
            "\n",
            "           0       0.90      0.88      0.89        60\n",
            "           1       0.48      1.00      0.65        60\n",
            "           2       0.70      0.83      0.76        60\n",
            "           3       0.75      0.05      0.09        60\n",
            "           4       0.76      0.37      0.49        60\n",
            "           5       0.71      0.87      0.78        60\n",
            "\n",
            "    accuracy                           0.67       360\n",
            "   macro avg       0.72      0.67      0.61       360\n",
            "weighted avg       0.72      0.67      0.61       360\n",
            "\n"
          ]
        }
      ]
    },
    {
      "cell_type": "code",
      "source": [
        "clf = svm.SVC(kernel='rbf', gamma=\"auto\")\n",
        "clf.fit(X_train, y_train) \n",
        "yhat = clf.predict(X_test)\n",
        "print(yhat)\n",
        "\n",
        "print(metrics.accuracy_score(y_test, yhat))\n",
        "print(confusion_matrix(y_test, yhat))\n",
        "print(classification_report(y_test, yhat))"
      ],
      "metadata": {
        "colab": {
          "base_uri": "https://localhost:8080/"
        },
        "id": "Z2HqJDTbFZYI",
        "outputId": "7939351a-cd9b-4e25-cdc0-7c2054b69a5c"
      },
      "execution_count": null,
      "outputs": [
        {
          "output_type": "stream",
          "name": "stdout",
          "text": [
            "[0 0 0 0 0 0 0 0 0 0 0 0 0 0 0 0 0 0 0 0 0 0 0 0 0 0 0 0 0 0 0 0 0 0 0 0 0\n",
            " 0 0 0 0 0 0 0 0 0 0 0 0 0 0 0 0 0 0 0 0 0 0 0 1 1 0 0 3 1 3 3 1 1 3 1 3 1\n",
            " 3 1 3 0 3 1 0 1 0 1 5 3 1 1 1 1 0 5 1 1 3 3 1 0 0 0 1 1 1 3 1 5 3 3 0 0 1\n",
            " 1 1 1 1 1 1 3 3 3 0 0 0 0 0 0 0 0 0 0 0 0 0 0 0 0 0 0 0 0 0 0 0 0 0 0 0 0\n",
            " 0 0 0 0 0 0 0 0 0 0 0 0 0 0 0 0 0 0 0 0 0 0 0 0 0 0 0 0 0 0 0 0 0 0 3 0 0\n",
            " 0 0 0 0 0 0 0 0 0 0 0 0 0 0 0 0 0 0 0 0 5 0 3 0 0 0 0 0 0 0 0 0 0 0 0 0 0\n",
            " 0 0 0 0 0 0 0 0 0 0 3 0 0 0 3 0 3 0 0 0 0 0 0 0 0 0 0 0 0 0 0 0 0 0 0 0 0\n",
            " 0 0 0 0 0 0 4 0 0 0 0 0 0 0 0 0 0 0 0 4 0 0 0 4 0 0 0 0 0 0 0 0 0 0 0 0 0\n",
            " 0 0 0 0 5 5 0 0 0 0 0 0 0 0 0 0 0 0 0 0 0 0 0 0 0 0 0 0 5 0 0 0 0 0 0 0 0\n",
            " 0 0 0 0 0 0 0 0 0 0 0 5 0 0 0 5 0 0 0 0 0 0 0 0 0 0 0]\n",
            "0.2833333333333333\n",
            "[[60  0  0  0  0  0]\n",
            " [11 29  0 17  0  3]\n",
            " [60  0  0  0  0  0]\n",
            " [54  0  0  5  0  1]\n",
            " [57  0  0  0  3  0]\n",
            " [55  0  0  0  0  5]]\n",
            "              precision    recall  f1-score   support\n",
            "\n",
            "           0       0.20      1.00      0.34        60\n",
            "           1       1.00      0.48      0.65        60\n",
            "           2       0.00      0.00      0.00        60\n",
            "           3       0.23      0.08      0.12        60\n",
            "           4       1.00      0.05      0.10        60\n",
            "           5       0.56      0.08      0.14        60\n",
            "\n",
            "    accuracy                           0.28       360\n",
            "   macro avg       0.50      0.28      0.22       360\n",
            "weighted avg       0.50      0.28      0.22       360\n",
            "\n"
          ]
        },
        {
          "output_type": "stream",
          "name": "stderr",
          "text": [
            "/usr/local/lib/python3.7/dist-packages/sklearn/metrics/_classification.py:1318: UndefinedMetricWarning: Precision and F-score are ill-defined and being set to 0.0 in labels with no predicted samples. Use `zero_division` parameter to control this behavior.\n",
            "  _warn_prf(average, modifier, msg_start, len(result))\n",
            "/usr/local/lib/python3.7/dist-packages/sklearn/metrics/_classification.py:1318: UndefinedMetricWarning: Precision and F-score are ill-defined and being set to 0.0 in labels with no predicted samples. Use `zero_division` parameter to control this behavior.\n",
            "  _warn_prf(average, modifier, msg_start, len(result))\n",
            "/usr/local/lib/python3.7/dist-packages/sklearn/metrics/_classification.py:1318: UndefinedMetricWarning: Precision and F-score are ill-defined and being set to 0.0 in labels with no predicted samples. Use `zero_division` parameter to control this behavior.\n",
            "  _warn_prf(average, modifier, msg_start, len(result))\n"
          ]
        }
      ]
    },
    {
      "cell_type": "code",
      "source": [
        "poly_svc = svm.SVC(kernel='poly', degree=5).fit(X_train, y_train)\n",
        "yhat = poly_svc.predict(X_test)\n",
        "print(yhat)\n",
        "print(metrics.accuracy_score(y_test, yhat))\n",
        "print(confusion_matrix(y_test, yhat))\n",
        "print(classification_report(y_test, yhat))"
      ],
      "metadata": {
        "colab": {
          "base_uri": "https://localhost:8080/"
        },
        "id": "JlHou2JhFa0i",
        "outputId": "1ac8e353-1e0b-4833-814c-f3a7aae78754"
      },
      "execution_count": null,
      "outputs": [
        {
          "output_type": "stream",
          "name": "stdout",
          "text": [
            "[0 0 0 0 0 0 0 0 0 2 0 2 4 0 0 0 0 0 2 2 0 2 0 0 0 0 2 0 0 2 0 0 0 0 0 0 2\n",
            " 0 0 2 0 0 0 0 0 0 0 0 0 0 0 0 0 0 0 3 0 0 3 0 1 1 1 1 1 1 1 1 1 1 1 1 1 1\n",
            " 1 1 1 1 1 1 1 1 1 1 1 1 1 1 1 1 1 1 1 1 1 1 1 1 1 1 1 1 1 1 1 1 1 1 1 1 1\n",
            " 1 1 1 1 1 1 1 1 1 2 0 2 3 2 2 2 2 2 1 2 3 2 3 2 2 1 2 2 1 2 2 2 1 2 1 2 2\n",
            " 2 2 2 2 2 2 2 3 0 2 3 2 2 3 3 2 2 2 2 2 2 2 2 1 2 2 2 2 1 2 1 3 0 5 1 1 1\n",
            " 1 2 1 1 2 1 1 0 1 1 1 3 1 2 1 0 4 2 1 2 1 1 1 2 3 1 1 3 1 3 1 3 0 5 1 1 3\n",
            " 1 3 1 4 1 1 1 1 2 1 1 1 5 4 1 1 1 1 1 1 1 1 1 1 1 1 1 1 1 1 1 1 1 1 1 1 1\n",
            " 1 1 1 1 1 1 1 1 1 1 1 1 1 1 1 1 1 1 1 1 1 1 1 1 1 1 1 1 1 1 1 1 1 1 1 1 1\n",
            " 1 1 1 1 1 1 1 1 1 1 1 1 1 1 1 1 1 1 1 5 1 1 1 1 1 1 1 1 1 1 1 1 1 1 1 1 1\n",
            " 1 1 1 1 1 1 1 1 1 1 1 1 1 1 1 1 1 1 1 1 1 1 1 1 1 1 1]\n",
            "0.4388888888888889\n",
            "[[48  0  9  2  1  0]\n",
            " [ 0 60  0  0  0  0]\n",
            " [ 2  8 42  8  0  0]\n",
            " [ 4 36  7  7  3  3]\n",
            " [ 0 60  0  0  0  0]\n",
            " [ 0 59  0  0  0  1]]\n",
            "              precision    recall  f1-score   support\n",
            "\n",
            "           0       0.89      0.80      0.84        60\n",
            "           1       0.27      1.00      0.42        60\n",
            "           2       0.72      0.70      0.71        60\n",
            "           3       0.41      0.12      0.18        60\n",
            "           4       0.00      0.00      0.00        60\n",
            "           5       0.25      0.02      0.03        60\n",
            "\n",
            "    accuracy                           0.44       360\n",
            "   macro avg       0.42      0.44      0.37       360\n",
            "weighted avg       0.42      0.44      0.37       360\n",
            "\n"
          ]
        }
      ]
    },
    {
      "cell_type": "code",
      "source": [
        "for i in range(1,8) :\n",
        "    poly_svc = svm.SVC(kernel='poly', degree=i).fit(X_train, y_train)\n",
        "    yhat = poly_svc.predict(X_test)\n",
        "    print(yhat)\n",
        "    print('Degree = ',i, metrics.accuracy_score(y_test, yhat))\n",
        "    # print(confusion_matrix(y_test, yhat))\n",
        "    # print(classification_report(y_test, yhat))"
      ],
      "metadata": {
        "colab": {
          "base_uri": "https://localhost:8080/"
        },
        "id": "qEofvChLFcZF",
        "outputId": "1d2aa5b5-3c4c-42fb-d213-f1700c9755a6"
      },
      "execution_count": null,
      "outputs": [
        {
          "output_type": "stream",
          "name": "stdout",
          "text": [
            "[0 0 0 0 0 0 0 0 0 0 0 0 3 0 0 0 0 0 0 2 0 0 0 0 0 0 0 0 0 2 0 0 0 0 0 0 0\n",
            " 0 0 0 0 0 0 0 0 0 0 0 0 0 0 0 0 0 0 2 0 0 2 0 1 1 1 1 1 1 1 1 1 1 1 1 1 1\n",
            " 1 1 1 1 1 1 1 1 1 1 1 1 1 1 1 1 1 1 1 1 1 1 1 1 1 1 1 1 1 1 1 1 1 1 1 1 1\n",
            " 1 1 1 1 1 1 1 1 1 2 0 2 2 2 2 2 0 2 1 0 2 2 2 2 2 1 2 2 1 2 0 2 4 2 5 0 0\n",
            " 2 0 2 0 2 2 2 2 2 2 2 2 2 2 2 2 2 0 0 0 2 0 2 4 2 2 2 2 5 2 5 2 2 3 1 5 5\n",
            " 5 2 1 1 2 5 1 2 1 1 5 3 5 2 1 0 3 0 5 0 1 5 1 2 2 1 5 3 1 2 5 2 0 3 3 3 2\n",
            " 5 2 1 3 5 5 5 4 2 1 1 5 3 3 1 1 1 3 1 4 1 1 1 5 1 1 4 4 1 5 1 1 1 1 1 1 1\n",
            " 1 1 1 4 1 4 1 1 1 5 4 4 1 1 1 5 4 1 1 1 1 1 4 1 1 5 1 1 1 1 1 1 1 1 1 1 1\n",
            " 4 4 5 1 5 5 5 5 5 5 5 5 5 5 1 1 5 1 5 3 5 1 5 5 5 1 5 5 5 5 5 1 5 1 1 5 5\n",
            " 5 5 5 5 5 5 5 5 1 5 5 5 5 1 5 5 1 5 5 5 5 1 5 1 5 5 5]\n",
            "Degree =  1 0.6194444444444445\n",
            "[0 0 0 0 0 0 0 0 0 2 0 0 3 0 0 0 0 0 2 2 0 0 0 0 0 0 2 0 0 2 0 0 0 0 0 0 2\n",
            " 0 0 2 0 0 0 0 0 0 0 0 0 0 0 0 0 0 0 3 0 0 2 0 1 1 1 1 1 1 1 1 1 1 1 1 1 1\n",
            " 1 1 1 1 1 1 1 1 1 1 1 1 1 1 1 1 1 1 1 1 1 1 1 1 1 1 1 1 1 1 1 1 1 1 1 1 1\n",
            " 1 1 1 1 1 1 1 1 1 2 2 2 2 2 2 2 2 2 1 2 3 2 3 2 2 1 2 2 1 2 2 2 5 2 1 2 2\n",
            " 2 2 2 2 2 2 2 2 2 2 3 2 2 2 2 2 2 2 2 2 2 2 2 1 2 2 2 2 1 2 1 2 0 4 1 1 1\n",
            " 1 2 1 1 2 1 1 0 1 1 1 3 1 2 1 2 3 2 1 2 1 1 1 2 3 1 1 3 1 2 1 3 0 4 5 5 2\n",
            " 1 2 1 4 1 1 1 1 2 1 1 1 4 3 1 1 1 5 1 1 1 1 1 1 1 1 1 1 1 1 1 1 1 1 1 1 1\n",
            " 1 1 1 1 1 1 1 1 1 1 1 1 1 1 1 1 1 1 1 1 1 1 1 1 1 1 1 1 1 1 1 1 1 1 1 1 1\n",
            " 1 1 1 1 1 1 1 1 1 1 1 1 5 1 1 1 1 1 1 4 1 1 1 1 1 1 1 1 1 1 1 1 1 1 1 5 1\n",
            " 1 1 1 1 5 1 1 1 1 1 1 1 1 1 1 1 1 1 1 1 1 1 1 1 1 1 1]\n",
            "Degree =  2 0.4666666666666667\n",
            "[0 0 0 0 0 0 0 0 0 2 0 0 4 0 0 0 0 0 2 2 0 0 0 0 0 0 2 0 0 2 0 0 0 0 0 0 2\n",
            " 0 0 2 0 0 0 0 0 0 0 0 0 0 0 0 0 0 0 3 0 0 2 0 1 1 1 1 1 1 1 1 1 1 1 1 1 1\n",
            " 1 1 1 1 1 1 1 1 1 1 1 1 1 1 1 1 1 1 1 1 1 1 1 1 1 1 1 1 1 1 1 1 1 1 1 1 1\n",
            " 1 1 1 1 1 1 1 1 1 2 2 2 3 2 2 2 2 2 1 2 3 2 3 2 2 1 2 2 1 2 2 2 1 2 1 2 2\n",
            " 2 2 2 2 2 2 2 3 2 2 3 2 2 2 3 2 2 2 2 2 2 2 2 1 2 2 2 2 1 2 1 3 0 5 1 1 1\n",
            " 1 2 1 1 2 1 1 0 1 1 1 3 1 2 1 2 3 2 1 2 1 1 1 2 3 1 1 3 1 3 1 3 0 4 5 5 2\n",
            " 1 2 1 4 1 1 1 1 2 1 1 1 4 4 1 1 1 5 1 1 1 1 1 1 1 1 1 1 1 1 1 1 1 1 1 1 1\n",
            " 1 1 1 1 1 1 1 1 1 1 1 1 1 1 1 1 1 1 1 1 1 1 1 1 1 1 1 1 1 1 1 1 1 1 1 1 1\n",
            " 1 1 1 1 1 1 1 1 1 1 1 1 1 1 1 1 1 1 1 5 1 1 1 1 1 1 1 1 1 1 1 1 1 1 1 5 1\n",
            " 1 1 1 1 1 1 1 1 1 1 1 1 1 1 1 1 1 1 1 1 1 1 1 1 1 1 1]\n",
            "Degree =  3 0.4527777777777778\n",
            "[0 0 0 0 0 0 0 0 0 2 0 0 4 0 0 0 0 0 2 2 0 0 0 0 0 0 2 0 0 2 0 0 0 0 0 0 2\n",
            " 0 0 2 0 0 0 0 0 0 0 0 0 0 0 0 0 0 0 3 0 0 3 0 1 1 1 1 1 1 1 1 1 1 1 1 1 1\n",
            " 1 1 1 1 1 1 1 1 1 1 1 1 1 1 1 1 1 1 1 1 1 1 1 1 1 1 1 1 1 1 1 1 1 1 1 1 1\n",
            " 1 1 1 1 1 1 1 1 1 2 0 2 3 2 2 2 2 2 1 2 3 2 3 2 2 1 2 2 1 2 2 2 1 2 1 2 2\n",
            " 2 2 2 2 2 2 2 3 2 2 3 2 2 3 3 2 2 2 2 2 2 2 2 1 2 2 2 2 1 2 1 3 0 5 1 1 1\n",
            " 1 2 1 1 2 1 1 0 1 1 1 3 1 2 1 0 3 2 1 2 1 1 1 2 3 1 1 3 1 3 1 3 0 5 5 1 3\n",
            " 1 2 1 4 1 1 1 1 2 1 1 1 4 4 1 1 1 1 1 1 1 1 1 1 1 1 1 1 1 1 1 1 1 1 1 1 1\n",
            " 1 1 1 1 1 1 1 1 1 1 1 1 1 1 1 1 1 1 1 1 1 1 1 1 1 1 1 1 1 1 1 1 1 1 1 1 1\n",
            " 1 1 1 1 1 1 1 1 1 1 1 1 1 1 1 1 1 1 1 5 1 1 1 1 1 1 1 1 1 1 1 1 1 1 1 1 1\n",
            " 1 1 1 1 1 1 1 1 1 1 1 1 1 1 1 1 1 1 1 1 1 1 1 1 1 1 1]\n",
            "Degree =  4 0.44722222222222224\n",
            "[0 0 0 0 0 0 0 0 0 2 0 2 4 0 0 0 0 0 2 2 0 2 0 0 0 0 2 0 0 2 0 0 0 0 0 0 2\n",
            " 0 0 2 0 0 0 0 0 0 0 0 0 0 0 0 0 0 0 3 0 0 3 0 1 1 1 1 1 1 1 1 1 1 1 1 1 1\n",
            " 1 1 1 1 1 1 1 1 1 1 1 1 1 1 1 1 1 1 1 1 1 1 1 1 1 1 1 1 1 1 1 1 1 1 1 1 1\n",
            " 1 1 1 1 1 1 1 1 1 2 0 2 3 2 2 2 2 2 1 2 3 2 3 2 2 1 2 2 1 2 2 2 1 2 1 2 2\n",
            " 2 2 2 2 2 2 2 3 0 2 3 2 2 3 3 2 2 2 2 2 2 2 2 1 2 2 2 2 1 2 1 3 0 5 1 1 1\n",
            " 1 2 1 1 2 1 1 0 1 1 1 3 1 2 1 0 4 2 1 2 1 1 1 2 3 1 1 3 1 3 1 3 0 5 1 1 3\n",
            " 1 3 1 4 1 1 1 1 2 1 1 1 5 4 1 1 1 1 1 1 1 1 1 1 1 1 1 1 1 1 1 1 1 1 1 1 1\n",
            " 1 1 1 1 1 1 1 1 1 1 1 1 1 1 1 1 1 1 1 1 1 1 1 1 1 1 1 1 1 1 1 1 1 1 1 1 1\n",
            " 1 1 1 1 1 1 1 1 1 1 1 1 1 1 1 1 1 1 1 5 1 1 1 1 1 1 1 1 1 1 1 1 1 1 1 1 1\n",
            " 1 1 1 1 1 1 1 1 1 1 1 1 1 1 1 1 1 1 1 1 1 1 1 1 1 1 1]\n",
            "Degree =  5 0.4388888888888889\n",
            "[0 0 0 0 0 0 0 0 0 2 0 2 4 0 0 0 0 0 2 2 0 2 0 0 0 0 2 0 0 2 0 0 0 0 0 0 2\n",
            " 0 0 2 0 0 0 0 0 0 0 0 0 0 0 0 0 0 0 3 0 0 3 0 1 1 1 1 1 1 1 1 1 1 1 1 1 1\n",
            " 1 1 1 1 1 1 1 1 1 1 1 1 1 1 1 1 1 1 1 1 1 1 1 1 1 1 1 1 1 1 1 1 1 1 1 1 1\n",
            " 1 1 1 1 1 1 1 1 1 2 0 2 3 2 2 2 2 2 1 2 3 2 3 2 2 1 2 2 1 2 2 2 1 2 1 2 2\n",
            " 2 2 2 2 3 2 2 3 0 2 3 2 2 3 3 2 2 2 2 2 2 2 0 1 2 2 2 2 1 3 1 3 0 5 1 1 1\n",
            " 1 3 1 1 3 1 1 0 1 1 1 4 1 0 1 0 4 2 1 0 1 1 1 0 3 1 1 4 1 3 1 3 0 5 1 1 3\n",
            " 1 3 1 5 1 1 1 1 2 1 1 1 5 4 1 1 1 1 1 1 1 1 1 1 1 1 1 1 1 1 1 1 1 1 1 1 1\n",
            " 1 1 1 1 1 1 1 1 1 1 1 1 1 1 1 1 1 1 1 1 1 1 1 1 1 1 1 1 1 1 1 1 1 1 1 1 1\n",
            " 1 1 1 1 1 1 1 1 1 1 1 1 1 1 1 1 1 1 1 5 1 1 1 1 1 1 1 1 1 1 1 1 1 1 1 1 1\n",
            " 1 1 1 1 1 1 1 1 1 1 1 1 1 1 1 1 1 1 1 1 1 1 1 1 1 1 1]\n",
            "Degree =  6 0.4305555555555556\n",
            "[0 0 0 0 0 0 0 0 0 2 0 2 4 0 0 0 0 2 0 2 0 2 0 0 0 0 2 0 0 2 0 0 0 0 0 0 2\n",
            " 0 0 2 0 2 0 0 0 0 0 0 0 0 0 0 0 0 0 3 0 0 3 0 1 1 1 1 1 1 1 1 1 1 1 1 1 1\n",
            " 1 1 1 1 1 1 1 1 1 1 1 1 1 1 1 1 1 1 1 1 1 1 1 1 1 1 1 1 1 1 1 1 1 1 1 1 1\n",
            " 1 1 1 1 1 1 1 1 1 2 0 2 3 2 2 2 2 2 1 2 3 2 3 2 2 1 2 2 1 2 2 2 1 2 1 2 2\n",
            " 2 2 2 2 2 2 2 3 0 2 3 2 2 3 3 2 2 2 2 2 2 2 2 1 2 2 2 2 1 3 1 3 0 1 1 1 1\n",
            " 1 3 1 1 3 1 1 0 1 1 1 4 1 0 1 0 4 3 1 0 1 1 1 0 3 1 1 4 1 3 1 3 0 5 1 1 3\n",
            " 1 3 1 5 1 1 1 1 0 1 1 1 5 4 1 1 1 1 1 1 1 1 1 1 1 1 1 1 1 1 1 1 1 1 1 1 1\n",
            " 1 1 1 1 1 1 1 1 1 1 1 1 1 1 1 1 1 1 1 1 1 1 1 1 1 1 1 1 1 1 1 1 1 1 1 1 1\n",
            " 1 1 1 1 1 1 1 1 1 1 1 1 1 1 1 1 1 1 1 1 1 1 1 1 1 1 1 1 1 1 1 1 1 1 1 1 1\n",
            " 1 1 1 1 1 1 1 1 1 1 1 1 1 1 1 1 1 1 1 1 1 1 1 1 1 1 1]\n",
            "Degree =  7 0.43333333333333335\n"
          ]
        }
      ]
    },
    {
      "cell_type": "code",
      "source": [
        "poly_svc = svm.SVC(kernel='poly', degree=1).fit(X_train, y_train)\n",
        "yhat = poly_svc.predict(X_test)\n",
        "print(yhat)\n",
        "print(metrics.accuracy_score(y_test, yhat))\n",
        "print(confusion_matrix(y_test, yhat))\n",
        "print(classification_report(y_test, yhat))"
      ],
      "metadata": {
        "id": "CccveQb6FdYx",
        "colab": {
          "base_uri": "https://localhost:8080/"
        },
        "outputId": "de6a06cb-babe-45fd-f438-ab63762055df"
      },
      "execution_count": null,
      "outputs": [
        {
          "output_type": "stream",
          "name": "stdout",
          "text": [
            "[0 0 0 0 0 0 0 0 0 0 0 0 3 0 0 0 0 0 0 2 0 0 0 0 0 0 0 0 0 2 0 0 0 0 0 0 0\n",
            " 0 0 0 0 0 0 0 0 0 0 0 0 0 0 0 0 0 0 2 0 0 2 0 1 1 1 1 1 1 1 1 1 1 1 1 1 1\n",
            " 1 1 1 1 1 1 1 1 1 1 1 1 1 1 1 1 1 1 1 1 1 1 1 1 1 1 1 1 1 1 1 1 1 1 1 1 1\n",
            " 1 1 1 1 1 1 1 1 1 2 0 2 2 2 2 2 0 2 1 0 2 2 2 2 2 1 2 2 1 2 0 2 4 2 5 0 0\n",
            " 2 0 2 0 2 2 2 2 2 2 2 2 2 2 2 2 2 0 0 0 2 0 2 4 2 2 2 2 5 2 5 2 2 3 1 5 5\n",
            " 5 2 1 1 2 5 1 2 1 1 5 3 5 2 1 0 3 0 5 0 1 5 1 2 2 1 5 3 1 2 5 2 0 3 3 3 2\n",
            " 5 2 1 3 5 5 5 4 2 1 1 5 3 3 1 1 1 3 1 4 1 1 1 5 1 1 4 4 1 5 1 1 1 1 1 1 1\n",
            " 1 1 1 4 1 4 1 1 1 5 4 4 1 1 1 5 4 1 1 1 1 1 4 1 1 5 1 1 1 1 1 1 1 1 1 1 1\n",
            " 4 4 5 1 5 5 5 5 5 5 5 5 5 5 1 1 5 1 5 3 5 1 5 5 5 1 5 5 5 5 5 1 5 1 1 5 5\n",
            " 5 5 5 5 5 5 5 5 1 5 5 5 5 1 5 5 1 5 5 5 5 1 5 1 5 5 5]\n",
            "0.6194444444444445\n",
            "[[55  0  4  1  0  0]\n",
            " [ 0 60  0  0  0  0]\n",
            " [12  3 40  0  2  3]\n",
            " [ 4 17 12 11  1 15]\n",
            " [ 0 43  0  0 11  6]\n",
            " [ 0 13  0  1  0 46]]\n",
            "              precision    recall  f1-score   support\n",
            "\n",
            "           0       0.77      0.92      0.84        60\n",
            "           1       0.44      1.00      0.61        60\n",
            "           2       0.71      0.67      0.69        60\n",
            "           3       0.85      0.18      0.30        60\n",
            "           4       0.79      0.18      0.30        60\n",
            "           5       0.66      0.77      0.71        60\n",
            "\n",
            "    accuracy                           0.62       360\n",
            "   macro avg       0.70      0.62      0.57       360\n",
            "weighted avg       0.70      0.62      0.57       360\n",
            "\n"
          ]
        }
      ]
    },
    {
      "cell_type": "code",
      "source": [
        ""
      ],
      "metadata": {
        "id": "hf6TcbLOLY4m"
      },
      "execution_count": null,
      "outputs": []
    }
  ]
}