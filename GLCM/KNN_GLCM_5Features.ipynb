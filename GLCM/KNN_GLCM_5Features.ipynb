{
  "nbformat": 4,
  "nbformat_minor": 0,
  "metadata": {
    "colab": {
      "name": "Project_23.ipynb",
      "provenance": []
    },
    "kernelspec": {
      "name": "python3",
      "display_name": "Python 3"
    },
    "language_info": {
      "name": "python"
    }
  },
  "cells": [
    {
      "cell_type": "markdown",
      "source": [
        "KNN\n",
        "Feature Extraction Method: GLCM\n",
        "Features Taken with distance = 5, angle = 0"
      ],
      "metadata": {
        "id": "1TYhaw4CTb5R"
      }
    },
    {
      "cell_type": "code",
      "execution_count": null,
      "metadata": {
        "id": "IMBKkk8pOgQf"
      },
      "outputs": [],
      "source": [
        "from google.colab import drive\n"
      ]
    },
    {
      "cell_type": "code",
      "source": [
        "drive.mount('/content/drive')"
      ],
      "metadata": {
        "colab": {
          "base_uri": "https://localhost:8080/"
        },
        "id": "CQw3ZZWIOubz",
        "outputId": "017aa11a-10ba-4307-e877-09779c21dbdc"
      },
      "execution_count": null,
      "outputs": [
        {
          "output_type": "stream",
          "name": "stdout",
          "text": [
            "Mounted at /content/drive\n"
          ]
        }
      ]
    },
    {
      "cell_type": "code",
      "source": [
        "cd /content/drive/\"MyDrive/Machine Learning/GLCM\""
      ],
      "metadata": {
        "colab": {
          "base_uri": "https://localhost:8080/"
        },
        "id": "cgnc0JB4PUpV",
        "outputId": "93d7b903-c6dd-425a-b421-f9f45338588a"
      },
      "execution_count": null,
      "outputs": [
        {
          "output_type": "stream",
          "name": "stdout",
          "text": [
            "/content/drive/MyDrive/Machine Learning/GLCM\n"
          ]
        }
      ]
    },
    {
      "cell_type": "code",
      "source": [
        "import pandas as pd\n",
        "import numpy as np\n",
        "import matplotlib.pyplot as plt\n",
        "from sklearn.model_selection import train_test_split\n",
        "import glob\n",
        "import cv2\n",
        "from sklearn.ensemble import RandomForestClassifier\n",
        "from sklearn import metrics\n",
        "from sklearn import svm\n",
        "from sklearn.metrics import classification_report, confusion_matrix\n",
        "import itertools\n",
        "from skimage.filters import sobel\n",
        "from skimage.feature import greycomatrix, greycoprops\n",
        "import time"
      ],
      "metadata": {
        "id": "ZoDpv16mOva4"
      },
      "execution_count": null,
      "outputs": []
    },
    {
      "cell_type": "code",
      "source": [
        "X_train = list()\n",
        "X_test = list()\n",
        "y_train = list()\n",
        "y_test = list()\n",
        "\n",
        "# for k fold cross validation\n",
        "x_new = list()\n",
        "y_new = list()"
      ],
      "metadata": {
        "id": "CN1HOcsTO5R9"
      },
      "execution_count": null,
      "outputs": []
    },
    {
      "cell_type": "code",
      "source": [
        "# 0 = crazing \n",
        "# 1 = inclusion\n",
        "# 2 = patches\n",
        "# 3 = pitted_surface\n",
        "# 4 = rolled in scale\n",
        "# 5 = scratches"
      ],
      "metadata": {
        "id": "2SU6a4DnO8tx"
      },
      "execution_count": null,
      "outputs": []
    },
    {
      "cell_type": "code",
      "source": [
        "dataset1 = pd.read_csv('GLCM_train.csv')\n",
        "print(dataset1)"
      ],
      "metadata": {
        "colab": {
          "base_uri": "https://localhost:8080/"
        },
        "id": "G5zmMTiRPBRy",
        "outputId": "8d951255-3a69-49e6-aa02-d2b94ca6ed2a"
      },
      "execution_count": null,
      "outputs": [
        {
          "output_type": "stream",
          "name": "stdout",
          "text": [
            "      Unnamed: 0    Energy      Corr   Diss_sim   Homogen    Contrast  \\\n",
            "0              0  0.014224  0.725731  15.456080  0.063373  383.715930   \n",
            "1              0  0.015558  0.778272  12.804573  0.076365  263.964171   \n",
            "2              0  0.015120  0.746263  13.894296  0.069790  310.096910   \n",
            "3              0  0.016114  0.719193  13.510452  0.071717  292.011709   \n",
            "4              0  0.013543  0.787991  14.764347  0.066498  351.571382   \n",
            "...          ...       ...       ...        ...       ...         ...   \n",
            "1435           0  0.033905  0.971425   3.316633  0.292426   22.962261   \n",
            "1436           0  0.058558  0.959366   2.681734  0.485881   48.285804   \n",
            "1437           0  0.047101  0.983943   2.665603  0.434930   30.869422   \n",
            "1438           0  0.052825  0.987204   3.837789  0.358781   61.731910   \n",
            "1439           0  0.052105  0.966701   3.046206  0.392387   38.874296   \n",
            "\n",
            "       Energy2     Corr2  Diss_sim2  Homogen2  ...   Energy4  Corr4  \\\n",
            "0     0.012683  0.395795  22.695406  0.044695  ...  0.105232    1.0   \n",
            "1     0.013689  0.532007  18.470305  0.054047  ...  0.107451    1.0   \n",
            "2     0.013502  0.488098  19.576853  0.051071  ...  0.107443    1.0   \n",
            "3     0.014400  0.418449  19.309518  0.052188  ...  0.113047    1.0   \n",
            "4     0.011767  0.515696  22.175660  0.045302  ...  0.098454    1.0   \n",
            "...        ...       ...        ...       ...  ...       ...    ...   \n",
            "1435  0.028393  0.932634   4.949340  0.214864  ...  0.118031    1.0   \n",
            "1436  0.046291  0.799489   5.660381  0.331171  ...  0.136424    1.0   \n",
            "1437  0.036447  0.913482   5.835431  0.289870  ...  0.117314    1.0   \n",
            "1438  0.040471  0.929155   8.684949  0.226254  ...  0.128840    1.0   \n",
            "1439  0.042811  0.879766   5.305406  0.279443  ...  0.140307    1.0   \n",
            "\n",
            "      Diss_sim4  Homogen4  Contrast4   Energy5  Corr5  Diss_sim5  Homogen5  \\\n",
            "0           0.0       1.0        0.0  0.105232    1.0        0.0       1.0   \n",
            "1           0.0       1.0        0.0  0.107451    1.0        0.0       1.0   \n",
            "2           0.0       1.0        0.0  0.107443    1.0        0.0       1.0   \n",
            "3           0.0       1.0        0.0  0.113047    1.0        0.0       1.0   \n",
            "4           0.0       1.0        0.0  0.098454    1.0        0.0       1.0   \n",
            "...         ...       ...        ...       ...    ...        ...       ...   \n",
            "1435        0.0       1.0        0.0  0.118031    1.0        0.0       1.0   \n",
            "1436        0.0       1.0        0.0  0.136424    1.0        0.0       1.0   \n",
            "1437        0.0       1.0        0.0  0.117314    1.0        0.0       1.0   \n",
            "1438        0.0       1.0        0.0  0.128840    1.0        0.0       1.0   \n",
            "1439        0.0       1.0        0.0  0.140307    1.0        0.0       1.0   \n",
            "\n",
            "      Contrast5  \n",
            "0           0.0  \n",
            "1           0.0  \n",
            "2           0.0  \n",
            "3           0.0  \n",
            "4           0.0  \n",
            "...         ...  \n",
            "1435        0.0  \n",
            "1436        0.0  \n",
            "1437        0.0  \n",
            "1438        0.0  \n",
            "1439        0.0  \n",
            "\n",
            "[1440 rows x 26 columns]\n"
          ]
        }
      ]
    },
    {
      "cell_type": "code",
      "source": [
        "x = dataset1.iloc[:,11:16].values\n",
        "print(len(x[0]))"
      ],
      "metadata": {
        "colab": {
          "base_uri": "https://localhost:8080/"
        },
        "id": "uxaFqQqHQCTL",
        "outputId": "bc0fc972-9f37-437b-ef6d-cb18785a281a"
      },
      "execution_count": null,
      "outputs": [
        {
          "output_type": "stream",
          "name": "stdout",
          "text": [
            "5\n"
          ]
        }
      ]
    },
    {
      "cell_type": "code",
      "source": [
        "print(x)"
      ],
      "metadata": {
        "colab": {
          "base_uri": "https://localhost:8080/"
        },
        "id": "rGMlJ3SiQVKX",
        "outputId": "33b8451b-92b7-4a51-d8be-e05a25cafd55"
      },
      "execution_count": null,
      "outputs": [
        {
          "output_type": "stream",
          "name": "stdout",
          "text": [
            "[[1.24517214e-02 2.71204228e-01 2.48634103e+01 3.97342203e-02\n",
            "  1.01318356e+03]\n",
            " [1.34048379e-02 4.41275423e-01 2.01172051e+01 5.08597913e-02\n",
            "  6.57472590e+02]\n",
            " [1.32462640e-02 3.76921626e-01 2.15380256e+01 4.70296571e-02\n",
            "  7.47128641e+02]\n",
            " ...\n",
            " [3.33351676e-02 8.35100932e-01 8.23856410e+00 2.50575371e-01\n",
            "  3.21118462e+02]\n",
            " [3.48665720e-02 8.64707627e-01 1.21986667e+01 1.84690935e-01\n",
            "  6.62054513e+02]\n",
            " [4.12908734e-02 8.18317591e-01 6.79512821e+00 2.48585891e-01\n",
            "  2.13973590e+02]]\n"
          ]
        }
      ]
    },
    {
      "cell_type": "code",
      "source": [
        "print(x[0])"
      ],
      "metadata": {
        "colab": {
          "base_uri": "https://localhost:8080/"
        },
        "id": "yuge5Jq7QY6D",
        "outputId": "2d701e2c-6926-4f4b-ecac-ad1ee1c76528"
      },
      "execution_count": null,
      "outputs": [
        {
          "output_type": "stream",
          "name": "stdout",
          "text": [
            "[1.24517214e-02 2.71204228e-01 2.48634103e+01 3.97342203e-02\n",
            " 1.01318356e+03]\n"
          ]
        }
      ]
    },
    {
      "cell_type": "code",
      "source": [
        "print(len(x))"
      ],
      "metadata": {
        "colab": {
          "base_uri": "https://localhost:8080/"
        },
        "id": "m76dWWx6QvzV",
        "outputId": "53909cfc-7fa0-4102-90d2-6b0befd3ef5b"
      },
      "execution_count": null,
      "outputs": [
        {
          "output_type": "stream",
          "name": "stdout",
          "text": [
            "1440\n"
          ]
        }
      ]
    },
    {
      "cell_type": "code",
      "source": [
        "y = list()"
      ],
      "metadata": {
        "id": "dztpDFUrQfja"
      },
      "execution_count": null,
      "outputs": []
    },
    {
      "cell_type": "code",
      "source": [
        "for i in range(0,6) :\n",
        "    for j in range(0,240):\n",
        "        y.append(i)\n"
      ],
      "metadata": {
        "id": "OMKN81jDQrkX"
      },
      "execution_count": null,
      "outputs": []
    },
    {
      "cell_type": "code",
      "source": [
        "print(y)"
      ],
      "metadata": {
        "colab": {
          "base_uri": "https://localhost:8080/"
        },
        "id": "jcvrJiINRIyW",
        "outputId": "e91ff609-6c37-457c-e89f-7365c5c3ba81"
      },
      "execution_count": null,
      "outputs": [
        {
          "output_type": "stream",
          "name": "stdout",
          "text": [
            "[0, 0, 0, 0, 0, 0, 0, 0, 0, 0, 0, 0, 0, 0, 0, 0, 0, 0, 0, 0, 0, 0, 0, 0, 0, 0, 0, 0, 0, 0, 0, 0, 0, 0, 0, 0, 0, 0, 0, 0, 0, 0, 0, 0, 0, 0, 0, 0, 0, 0, 0, 0, 0, 0, 0, 0, 0, 0, 0, 0, 0, 0, 0, 0, 0, 0, 0, 0, 0, 0, 0, 0, 0, 0, 0, 0, 0, 0, 0, 0, 0, 0, 0, 0, 0, 0, 0, 0, 0, 0, 0, 0, 0, 0, 0, 0, 0, 0, 0, 0, 0, 0, 0, 0, 0, 0, 0, 0, 0, 0, 0, 0, 0, 0, 0, 0, 0, 0, 0, 0, 0, 0, 0, 0, 0, 0, 0, 0, 0, 0, 0, 0, 0, 0, 0, 0, 0, 0, 0, 0, 0, 0, 0, 0, 0, 0, 0, 0, 0, 0, 0, 0, 0, 0, 0, 0, 0, 0, 0, 0, 0, 0, 0, 0, 0, 0, 0, 0, 0, 0, 0, 0, 0, 0, 0, 0, 0, 0, 0, 0, 0, 0, 0, 0, 0, 0, 0, 0, 0, 0, 0, 0, 0, 0, 0, 0, 0, 0, 0, 0, 0, 0, 0, 0, 0, 0, 0, 0, 0, 0, 0, 0, 0, 0, 0, 0, 0, 0, 0, 0, 0, 0, 0, 0, 0, 0, 0, 0, 0, 0, 0, 0, 0, 0, 0, 0, 0, 0, 0, 0, 1, 1, 1, 1, 1, 1, 1, 1, 1, 1, 1, 1, 1, 1, 1, 1, 1, 1, 1, 1, 1, 1, 1, 1, 1, 1, 1, 1, 1, 1, 1, 1, 1, 1, 1, 1, 1, 1, 1, 1, 1, 1, 1, 1, 1, 1, 1, 1, 1, 1, 1, 1, 1, 1, 1, 1, 1, 1, 1, 1, 1, 1, 1, 1, 1, 1, 1, 1, 1, 1, 1, 1, 1, 1, 1, 1, 1, 1, 1, 1, 1, 1, 1, 1, 1, 1, 1, 1, 1, 1, 1, 1, 1, 1, 1, 1, 1, 1, 1, 1, 1, 1, 1, 1, 1, 1, 1, 1, 1, 1, 1, 1, 1, 1, 1, 1, 1, 1, 1, 1, 1, 1, 1, 1, 1, 1, 1, 1, 1, 1, 1, 1, 1, 1, 1, 1, 1, 1, 1, 1, 1, 1, 1, 1, 1, 1, 1, 1, 1, 1, 1, 1, 1, 1, 1, 1, 1, 1, 1, 1, 1, 1, 1, 1, 1, 1, 1, 1, 1, 1, 1, 1, 1, 1, 1, 1, 1, 1, 1, 1, 1, 1, 1, 1, 1, 1, 1, 1, 1, 1, 1, 1, 1, 1, 1, 1, 1, 1, 1, 1, 1, 1, 1, 1, 1, 1, 1, 1, 1, 1, 1, 1, 1, 1, 1, 1, 1, 1, 1, 1, 1, 1, 1, 1, 1, 1, 1, 1, 1, 1, 1, 1, 1, 1, 1, 1, 1, 1, 1, 1, 2, 2, 2, 2, 2, 2, 2, 2, 2, 2, 2, 2, 2, 2, 2, 2, 2, 2, 2, 2, 2, 2, 2, 2, 2, 2, 2, 2, 2, 2, 2, 2, 2, 2, 2, 2, 2, 2, 2, 2, 2, 2, 2, 2, 2, 2, 2, 2, 2, 2, 2, 2, 2, 2, 2, 2, 2, 2, 2, 2, 2, 2, 2, 2, 2, 2, 2, 2, 2, 2, 2, 2, 2, 2, 2, 2, 2, 2, 2, 2, 2, 2, 2, 2, 2, 2, 2, 2, 2, 2, 2, 2, 2, 2, 2, 2, 2, 2, 2, 2, 2, 2, 2, 2, 2, 2, 2, 2, 2, 2, 2, 2, 2, 2, 2, 2, 2, 2, 2, 2, 2, 2, 2, 2, 2, 2, 2, 2, 2, 2, 2, 2, 2, 2, 2, 2, 2, 2, 2, 2, 2, 2, 2, 2, 2, 2, 2, 2, 2, 2, 2, 2, 2, 2, 2, 2, 2, 2, 2, 2, 2, 2, 2, 2, 2, 2, 2, 2, 2, 2, 2, 2, 2, 2, 2, 2, 2, 2, 2, 2, 2, 2, 2, 2, 2, 2, 2, 2, 2, 2, 2, 2, 2, 2, 2, 2, 2, 2, 2, 2, 2, 2, 2, 2, 2, 2, 2, 2, 2, 2, 2, 2, 2, 2, 2, 2, 2, 2, 2, 2, 2, 2, 2, 2, 2, 2, 2, 2, 2, 2, 2, 2, 2, 2, 2, 2, 2, 2, 2, 2, 3, 3, 3, 3, 3, 3, 3, 3, 3, 3, 3, 3, 3, 3, 3, 3, 3, 3, 3, 3, 3, 3, 3, 3, 3, 3, 3, 3, 3, 3, 3, 3, 3, 3, 3, 3, 3, 3, 3, 3, 3, 3, 3, 3, 3, 3, 3, 3, 3, 3, 3, 3, 3, 3, 3, 3, 3, 3, 3, 3, 3, 3, 3, 3, 3, 3, 3, 3, 3, 3, 3, 3, 3, 3, 3, 3, 3, 3, 3, 3, 3, 3, 3, 3, 3, 3, 3, 3, 3, 3, 3, 3, 3, 3, 3, 3, 3, 3, 3, 3, 3, 3, 3, 3, 3, 3, 3, 3, 3, 3, 3, 3, 3, 3, 3, 3, 3, 3, 3, 3, 3, 3, 3, 3, 3, 3, 3, 3, 3, 3, 3, 3, 3, 3, 3, 3, 3, 3, 3, 3, 3, 3, 3, 3, 3, 3, 3, 3, 3, 3, 3, 3, 3, 3, 3, 3, 3, 3, 3, 3, 3, 3, 3, 3, 3, 3, 3, 3, 3, 3, 3, 3, 3, 3, 3, 3, 3, 3, 3, 3, 3, 3, 3, 3, 3, 3, 3, 3, 3, 3, 3, 3, 3, 3, 3, 3, 3, 3, 3, 3, 3, 3, 3, 3, 3, 3, 3, 3, 3, 3, 3, 3, 3, 3, 3, 3, 3, 3, 3, 3, 3, 3, 3, 3, 3, 3, 3, 3, 3, 3, 3, 3, 3, 3, 3, 3, 3, 3, 3, 3, 4, 4, 4, 4, 4, 4, 4, 4, 4, 4, 4, 4, 4, 4, 4, 4, 4, 4, 4, 4, 4, 4, 4, 4, 4, 4, 4, 4, 4, 4, 4, 4, 4, 4, 4, 4, 4, 4, 4, 4, 4, 4, 4, 4, 4, 4, 4, 4, 4, 4, 4, 4, 4, 4, 4, 4, 4, 4, 4, 4, 4, 4, 4, 4, 4, 4, 4, 4, 4, 4, 4, 4, 4, 4, 4, 4, 4, 4, 4, 4, 4, 4, 4, 4, 4, 4, 4, 4, 4, 4, 4, 4, 4, 4, 4, 4, 4, 4, 4, 4, 4, 4, 4, 4, 4, 4, 4, 4, 4, 4, 4, 4, 4, 4, 4, 4, 4, 4, 4, 4, 4, 4, 4, 4, 4, 4, 4, 4, 4, 4, 4, 4, 4, 4, 4, 4, 4, 4, 4, 4, 4, 4, 4, 4, 4, 4, 4, 4, 4, 4, 4, 4, 4, 4, 4, 4, 4, 4, 4, 4, 4, 4, 4, 4, 4, 4, 4, 4, 4, 4, 4, 4, 4, 4, 4, 4, 4, 4, 4, 4, 4, 4, 4, 4, 4, 4, 4, 4, 4, 4, 4, 4, 4, 4, 4, 4, 4, 4, 4, 4, 4, 4, 4, 4, 4, 4, 4, 4, 4, 4, 4, 4, 4, 4, 4, 4, 4, 4, 4, 4, 4, 4, 4, 4, 4, 4, 4, 4, 4, 4, 4, 4, 4, 4, 4, 4, 4, 4, 4, 4, 5, 5, 5, 5, 5, 5, 5, 5, 5, 5, 5, 5, 5, 5, 5, 5, 5, 5, 5, 5, 5, 5, 5, 5, 5, 5, 5, 5, 5, 5, 5, 5, 5, 5, 5, 5, 5, 5, 5, 5, 5, 5, 5, 5, 5, 5, 5, 5, 5, 5, 5, 5, 5, 5, 5, 5, 5, 5, 5, 5, 5, 5, 5, 5, 5, 5, 5, 5, 5, 5, 5, 5, 5, 5, 5, 5, 5, 5, 5, 5, 5, 5, 5, 5, 5, 5, 5, 5, 5, 5, 5, 5, 5, 5, 5, 5, 5, 5, 5, 5, 5, 5, 5, 5, 5, 5, 5, 5, 5, 5, 5, 5, 5, 5, 5, 5, 5, 5, 5, 5, 5, 5, 5, 5, 5, 5, 5, 5, 5, 5, 5, 5, 5, 5, 5, 5, 5, 5, 5, 5, 5, 5, 5, 5, 5, 5, 5, 5, 5, 5, 5, 5, 5, 5, 5, 5, 5, 5, 5, 5, 5, 5, 5, 5, 5, 5, 5, 5, 5, 5, 5, 5, 5, 5, 5, 5, 5, 5, 5, 5, 5, 5, 5, 5, 5, 5, 5, 5, 5, 5, 5, 5, 5, 5, 5, 5, 5, 5, 5, 5, 5, 5, 5, 5, 5, 5, 5, 5, 5, 5, 5, 5, 5, 5, 5, 5, 5, 5, 5, 5, 5, 5, 5, 5, 5, 5, 5, 5, 5, 5, 5, 5, 5, 5, 5, 5, 5, 5, 5, 5]\n"
          ]
        }
      ]
    },
    {
      "cell_type": "code",
      "source": [
        "X_train = x\n",
        "y_train = y"
      ],
      "metadata": {
        "id": "UvhliqOLRJby"
      },
      "execution_count": null,
      "outputs": []
    },
    {
      "cell_type": "code",
      "source": [
        "dataset1 = pd.read_csv('GLCM_test.csv')\n",
        "print(dataset1)"
      ],
      "metadata": {
        "colab": {
          "base_uri": "https://localhost:8080/"
        },
        "id": "OKPzIOcfRUGw",
        "outputId": "53235c93-cb1a-4dfe-ad41-e5fd8505ddd3"
      },
      "execution_count": null,
      "outputs": [
        {
          "output_type": "stream",
          "name": "stdout",
          "text": [
            "     Unnamed: 0    Energy      Corr   Diss_sim   Homogen    Contrast  \\\n",
            "0             0  0.014085  0.748947  15.308317  0.063230  375.439874   \n",
            "1             0  0.013354  0.812510  14.557965  0.068531  341.479372   \n",
            "2             0  0.013476  0.759687  15.553065  0.063098  390.181206   \n",
            "3             0  0.013039  0.771689  15.981709  0.062617  409.665628   \n",
            "4             0  0.013783  0.757698  15.442638  0.064622  387.517764   \n",
            "..          ...       ...       ...        ...       ...         ...   \n",
            "355           0  0.062155  0.995837   1.575452  0.488198    5.920075   \n",
            "356           0  0.067211  0.985235   1.432513  0.498722    4.875427   \n",
            "357           0  0.055791  0.988033   2.337362  0.355444   10.801583   \n",
            "358           0  0.046354  0.989063   2.493492  0.373817   19.243593   \n",
            "359           0  0.055859  0.979090   2.404749  0.356955   14.151985   \n",
            "\n",
            "      Energy2     Corr2  Diss_sim2  Homogen2  ...   Energy4  Corr4  Diss_sim4  \\\n",
            "0    0.012467  0.446429  22.532995  0.044155  ...  0.103558    1.0        0.0   \n",
            "1    0.011849  0.607541  20.839543  0.048530  ...  0.096566    1.0        0.0   \n",
            "2    0.011937  0.475017  22.796701  0.044843  ...  0.100087    1.0        0.0   \n",
            "3    0.011519  0.488173  23.654162  0.042825  ...  0.097640    1.0        0.0   \n",
            "4    0.012142  0.450002  22.986954  0.045123  ...  0.101432    1.0        0.0   \n",
            "..        ...       ...        ...       ...  ...       ...    ...        ...   \n",
            "355  0.049038  0.985219   2.781472  0.346212  ...  0.145807    1.0        0.0   \n",
            "356  0.054696  0.951457   2.321548  0.366321  ...  0.162806    1.0        0.0   \n",
            "357  0.042696  0.954985   4.320914  0.223368  ...  0.167867    1.0        0.0   \n",
            "358  0.036690  0.948742   4.702665  0.256342  ...  0.133851    1.0        0.0   \n",
            "359  0.044111  0.925030   4.182614  0.239788  ...  0.166927    1.0        0.0   \n",
            "\n",
            "     Homogen4  Contrast4   Energy5  Corr5  Diss_sim5  Homogen5  Contrast5  \n",
            "0         1.0        0.0  0.103558    1.0        0.0       1.0        0.0  \n",
            "1         1.0        0.0  0.096566    1.0        0.0       1.0        0.0  \n",
            "2         1.0        0.0  0.100087    1.0        0.0       1.0        0.0  \n",
            "3         1.0        0.0  0.097640    1.0        0.0       1.0        0.0  \n",
            "4         1.0        0.0  0.101432    1.0        0.0       1.0        0.0  \n",
            "..        ...        ...       ...    ...        ...       ...        ...  \n",
            "355       1.0        0.0  0.145807    1.0        0.0       1.0        0.0  \n",
            "356       1.0        0.0  0.162806    1.0        0.0       1.0        0.0  \n",
            "357       1.0        0.0  0.167867    1.0        0.0       1.0        0.0  \n",
            "358       1.0        0.0  0.133851    1.0        0.0       1.0        0.0  \n",
            "359       1.0        0.0  0.166927    1.0        0.0       1.0        0.0  \n",
            "\n",
            "[360 rows x 26 columns]\n"
          ]
        }
      ]
    },
    {
      "cell_type": "code",
      "source": [
        "x = dataset1.iloc[:,11:16].values\n",
        "print(len(x[0]))"
      ],
      "metadata": {
        "colab": {
          "base_uri": "https://localhost:8080/"
        },
        "id": "j4-y-ob3RrM8",
        "outputId": "5d1ae101-389d-443b-c6a9-c8600b839354"
      },
      "execution_count": null,
      "outputs": [
        {
          "output_type": "stream",
          "name": "stdout",
          "text": [
            "5\n"
          ]
        }
      ]
    },
    {
      "cell_type": "code",
      "source": [
        "print(x)\n",
        "print(x[0])"
      ],
      "metadata": {
        "colab": {
          "base_uri": "https://localhost:8080/"
        },
        "id": "y9YOWDpLRu7c",
        "outputId": "a5a8fb05-e989-4d37-9a99-9ccdbf6d7af4"
      },
      "execution_count": null,
      "outputs": [
        {
          "output_type": "stream",
          "name": "stdout",
          "text": [
            "[[1.22837374e-02 3.11786677e-01 2.48204615e+01 4.11062064e-02\n",
            "  1.01926036e+03]\n",
            " [1.15904810e-02 5.32045089e-01 2.26312564e+01 4.52681077e-02\n",
            "  8.34160744e+02]\n",
            " [1.16493814e-02 3.58520753e-01 2.51179487e+01 4.20494281e-02\n",
            "  1.04075026e+03]\n",
            " ...\n",
            " [3.99379203e-02 9.27688946e-01 5.25128205e+00 1.95771812e-01\n",
            "  6.49314872e+01]\n",
            " [3.36716754e-02 9.03525199e-01 6.17061538e+00 2.19845428e-01\n",
            "  1.71253436e+02]\n",
            " [4.14036432e-02 8.88943344e-01 5.00961538e+00 2.13126563e-01\n",
            "  7.41732051e+01]]\n",
            "[1.22837374e-02 3.11786677e-01 2.48204615e+01 4.11062064e-02\n",
            " 1.01926036e+03]\n"
          ]
        }
      ]
    },
    {
      "cell_type": "code",
      "source": [
        "print(len(x))"
      ],
      "metadata": {
        "colab": {
          "base_uri": "https://localhost:8080/"
        },
        "id": "PxbqLuGZRzOG",
        "outputId": "c0d4394c-be89-4687-8dfe-ff6e543b6895"
      },
      "execution_count": null,
      "outputs": [
        {
          "output_type": "stream",
          "name": "stdout",
          "text": [
            "360\n"
          ]
        }
      ]
    },
    {
      "cell_type": "code",
      "source": [
        "y = list()"
      ],
      "metadata": {
        "id": "8EI_d01dR_Z8"
      },
      "execution_count": null,
      "outputs": []
    },
    {
      "cell_type": "code",
      "source": [
        "for i in range(0,6) :\n",
        "    for j in range(0,60):\n",
        "        y.append(i)\n"
      ],
      "metadata": {
        "id": "zjGTQusQR8OT"
      },
      "execution_count": null,
      "outputs": []
    },
    {
      "cell_type": "code",
      "source": [
        "X_test = x\n",
        "y_test = y"
      ],
      "metadata": {
        "id": "fbpuLVcTSDC5"
      },
      "execution_count": null,
      "outputs": []
    },
    {
      "cell_type": "code",
      "source": [
        "print(len(X_train))\n",
        "print(len(X_test))\n",
        "print(len(y_train))\n",
        "print(len(y_test))"
      ],
      "metadata": {
        "colab": {
          "base_uri": "https://localhost:8080/"
        },
        "id": "oHfsc7DcSHMM",
        "outputId": "1a410c60-8c12-4b88-a870-bd96ac8ae4b7"
      },
      "execution_count": null,
      "outputs": [
        {
          "output_type": "stream",
          "name": "stdout",
          "text": [
            "1440\n",
            "360\n",
            "1440\n",
            "360\n"
          ]
        }
      ]
    },
    {
      "cell_type": "code",
      "source": [
        "X_train=np.array(X_train)\n",
        "y_train=np.array(y_train)\n",
        "X_test=np.array(X_test)\n",
        "y_test=np.array(y_test)"
      ],
      "metadata": {
        "id": "5UGEkAclSUVC"
      },
      "execution_count": null,
      "outputs": []
    },
    {
      "cell_type": "code",
      "source": [
        "print ('Train set:', X_train.shape,  y_train.shape)\n",
        "print ('Test set:', X_test.shape,  y_test.shape)"
      ],
      "metadata": {
        "colab": {
          "base_uri": "https://localhost:8080/"
        },
        "id": "w6Hsckn3SY3M",
        "outputId": "3a6ca7d4-daa3-45cd-de06-a2b237211c18"
      },
      "execution_count": null,
      "outputs": [
        {
          "output_type": "stream",
          "name": "stdout",
          "text": [
            "Train set: (1440, 5) (1440,)\n",
            "Test set: (360, 5) (360,)\n"
          ]
        }
      ]
    },
    {
      "cell_type": "code",
      "source": [
        "nsamples, nx = X_train.shape\n",
        "X_train = X_train.reshape((nsamples,nx))"
      ],
      "metadata": {
        "id": "qktya8lBSZ3a"
      },
      "execution_count": null,
      "outputs": []
    },
    {
      "cell_type": "code",
      "source": [
        "print(X_train.shape)"
      ],
      "metadata": {
        "colab": {
          "base_uri": "https://localhost:8080/"
        },
        "id": "BiXq0NhtSbx7",
        "outputId": "1fe2b788-6f5f-4b45-ad82-57ebf0f7781d"
      },
      "execution_count": null,
      "outputs": [
        {
          "output_type": "stream",
          "name": "stdout",
          "text": [
            "(1440, 5)\n"
          ]
        }
      ]
    },
    {
      "cell_type": "code",
      "source": [
        "nsamples, nx = X_test.shape\n",
        "X_test = X_test.reshape((nsamples,nx))"
      ],
      "metadata": {
        "id": "WsphffhyScs8"
      },
      "execution_count": null,
      "outputs": []
    },
    {
      "cell_type": "code",
      "source": [
        "print(X_test.shape)"
      ],
      "metadata": {
        "colab": {
          "base_uri": "https://localhost:8080/"
        },
        "id": "xl5IHifZSdmj",
        "outputId": "c028c97f-6d26-4220-fad7-54ca2cd82317"
      },
      "execution_count": null,
      "outputs": [
        {
          "output_type": "stream",
          "name": "stdout",
          "text": [
            "(360, 5)\n"
          ]
        }
      ]
    },
    {
      "cell_type": "code",
      "source": [
        "from sklearn.neighbors import KNeighborsClassifier \n",
        "from sklearn import metrics"
      ],
      "metadata": {
        "id": "J9u8NKGUVIc7"
      },
      "execution_count": null,
      "outputs": []
    },
    {
      "cell_type": "code",
      "source": [
        "train_accuracy = list()\n",
        "test_accuracy = list()\n",
        "k_value = list()"
      ],
      "metadata": {
        "id": "myS-2999XH0T"
      },
      "execution_count": null,
      "outputs": []
    },
    {
      "cell_type": "code",
      "source": [
        "\n",
        "for k in range(1,101,2):\n",
        "    knn= KNeighborsClassifier(n_neighbors=k)\n",
        "    knn.fit(X_train,y_train)\n",
        "    y_pred=knn.predict(X_train)\n",
        "    y_pred_test = knn.predict(X_test)\n",
        "\n",
        "    # print(metrics.accuracy_score(y_test, y_pred_test))\n",
        "    # print(confusion_matrix(y_test, y_pred_test))\n",
        "    # print(classification_report(y_test,y_pred_test))\n",
        "    k_value.append(k)\n",
        "    train_accuracy.append((metrics.accuracy_score(y_train, y_pred)))\n",
        "    test_accuracy.append(metrics.accuracy_score(y_test, y_pred_test))\n"
      ],
      "metadata": {
        "id": "3CsZ71McXI1M"
      },
      "execution_count": null,
      "outputs": []
    },
    {
      "cell_type": "code",
      "source": [
        "print(train_accuracy)\n",
        "print(test_accuracy)\n",
        "print(k_value)"
      ],
      "metadata": {
        "colab": {
          "base_uri": "https://localhost:8080/"
        },
        "id": "Pzul7J64XJ0V",
        "outputId": "4afb137b-b47a-48d1-a7d3-590d94cdb46e"
      },
      "execution_count": null,
      "outputs": [
        {
          "output_type": "stream",
          "name": "stdout",
          "text": [
            "[1.0, 0.7590277777777777, 0.6888888888888889, 0.6375, 0.6180555555555556, 0.5993055555555555, 0.5916666666666667, 0.5680555555555555, 0.5722222222222222, 0.5604166666666667, 0.5583333333333333, 0.5458333333333333, 0.5381944444444444, 0.5409722222222222, 0.5291666666666667, 0.5270833333333333, 0.5222222222222223, 0.51875, 0.51875, 0.5166666666666667, 0.5118055555555555, 0.51875, 0.5236111111111111, 0.5131944444444444, 0.5159722222222223, 0.5138888888888888, 0.5097222222222222, 0.5055555555555555, 0.5076388888888889, 0.5048611111111111, 0.5020833333333333, 0.5034722222222222, 0.5020833333333333, 0.5, 0.5034722222222222, 0.50625, 0.5069444444444444, 0.5118055555555555, 0.5145833333333333, 0.5159722222222223, 0.51875, 0.5222222222222223, 0.5180555555555556, 0.5097222222222222, 0.5145833333333333, 0.5166666666666667, 0.5138888888888888, 0.5138888888888888, 0.5166666666666667, 0.5159722222222223]\n",
            "[0.5527777777777778, 0.4777777777777778, 0.4361111111111111, 0.4638888888888889, 0.4583333333333333, 0.45555555555555555, 0.4222222222222222, 0.43333333333333335, 0.4361111111111111, 0.4361111111111111, 0.43333333333333335, 0.4361111111111111, 0.4305555555555556, 0.44166666666666665, 0.43333333333333335, 0.4305555555555556, 0.44166666666666665, 0.42777777777777776, 0.41944444444444445, 0.4083333333333333, 0.4111111111111111, 0.41944444444444445, 0.40555555555555556, 0.40555555555555556, 0.4083333333333333, 0.41944444444444445, 0.4222222222222222, 0.45, 0.44722222222222224, 0.43333333333333335, 0.4361111111111111, 0.41944444444444445, 0.4166666666666667, 0.4111111111111111, 0.42777777777777776, 0.4111111111111111, 0.3972222222222222, 0.4, 0.3972222222222222, 0.4, 0.39444444444444443, 0.4, 0.4027777777777778, 0.41388888888888886, 0.4083333333333333, 0.4166666666666667, 0.4166666666666667, 0.4111111111111111, 0.4111111111111111, 0.4027777777777778]\n",
            "[1, 3, 5, 7, 9, 11, 13, 15, 17, 19, 21, 23, 25, 27, 29, 31, 33, 35, 37, 39, 41, 43, 45, 47, 49, 51, 53, 55, 57, 59, 61, 63, 65, 67, 69, 71, 73, 75, 77, 79, 81, 83, 85, 87, 89, 91, 93, 95, 97, 99]\n"
          ]
        }
      ]
    },
    {
      "cell_type": "code",
      "source": [
        "plt.plot(k_value, train_accuracy, 'g', label='Training Accuracy')\n",
        "plt.plot(k_value, test_accuracy, 'b', label='Testing Accuracy')\n",
        "plt.title('Training and Testing Accuracy')\n",
        "plt.xlabel('K')\n",
        "plt.ylabel('Accuracy')\n",
        "plt.legend()\n",
        "plt.show()"
      ],
      "metadata": {
        "colab": {
          "base_uri": "https://localhost:8080/",
          "height": 295
        },
        "id": "p5o1VK-MXK3t",
        "outputId": "765a1901-b907-48a8-8146-ed21e9296682"
      },
      "execution_count": null,
      "outputs": [
        {
          "output_type": "display_data",
          "data": {
            "text/plain": [
              "<Figure size 432x288 with 1 Axes>"
            ],
            "image/png": "[encoded data removed]"
          },
          "metadata": {
            "needs_background": "light"
          }
        }
      ]
    },
    {
      "cell_type": "code",
      "source": [
        "knn= KNeighborsClassifier(n_neighbors=1)\n",
        "knn.fit(X_train,y_train)\n",
        "y_pred=knn.predict(X_train)\n",
        "y_pred_test = knn.predict(X_test)\n",
        "\n",
        "print(metrics.accuracy_score(y_test, y_pred_test))\n",
        "print(confusion_matrix(y_test, y_pred_test))\n",
        "print(classification_report(y_test,y_pred_test))"
      ],
      "metadata": {
        "colab": {
          "base_uri": "https://localhost:8080/"
        },
        "id": "xaE2-RssXq8f",
        "outputId": "da3067c0-9101-49f8-d566-044b07d2285f"
      },
      "execution_count": null,
      "outputs": [
        {
          "output_type": "stream",
          "name": "stdout",
          "text": [
            "0.5527777777777778\n",
            "[[38  0 22  0  0  0]\n",
            " [ 0 44  0 10  0  6]\n",
            " [20  0 33  5  2  0]\n",
            " [ 9  7 14 19 10  1]\n",
            " [ 0  1  1 18 38  2]\n",
            " [ 0 29  0  4  0 27]]\n",
            "              precision    recall  f1-score   support\n",
            "\n",
            "           0       0.57      0.63      0.60        60\n",
            "           1       0.54      0.73      0.62        60\n",
            "           2       0.47      0.55      0.51        60\n",
            "           3       0.34      0.32      0.33        60\n",
            "           4       0.76      0.63      0.69        60\n",
            "           5       0.75      0.45      0.56        60\n",
            "\n",
            "    accuracy                           0.55       360\n",
            "   macro avg       0.57      0.55      0.55       360\n",
            "weighted avg       0.57      0.55      0.55       360\n",
            "\n"
          ]
        }
      ]
    },
    {
      "cell_type": "code",
      "source": [
        ""
      ],
      "metadata": {
        "id": "-Sinu5PIX5nL"
      },
      "execution_count": null,
      "outputs": []
    }
  ]
}