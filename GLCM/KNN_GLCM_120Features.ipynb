{
  "nbformat": 4,
  "nbformat_minor": 0,
  "metadata": {
    "colab": {
      "name": "Project_38.ipynb",
      "provenance": []
    },
    "kernelspec": {
      "name": "python3",
      "display_name": "Python 3"
    },
    "language_info": {
      "name": "python"
    }
  },
  "cells": [
    {
      "cell_type": "markdown",
      "source": [
        "KNN\n",
        "Feature Extraction Method: GLCM\n",
        "Features Taken with distance = 1,3,5, angle = 0,45,90,135,180,225,270,315) (total 120 features)"
      ],
      "metadata": {
        "id": "1TYhaw4CTb5R"
      }
    },
    {
      "cell_type": "code",
      "execution_count": null,
      "metadata": {
        "id": "IMBKkk8pOgQf"
      },
      "outputs": [],
      "source": [
        "from google.colab import drive"
      ]
    },
    {
      "cell_type": "code",
      "source": [
        "drive.mount('/content/drive')"
      ],
      "metadata": {
        "colab": {
          "base_uri": "https://localhost:8080/"
        },
        "id": "CQw3ZZWIOubz",
        "outputId": "b49f5ea0-af5f-4876-c706-ffe176d4b6a9"
      },
      "execution_count": null,
      "outputs": [
        {
          "output_type": "stream",
          "name": "stdout",
          "text": [
            "Mounted at /content/drive\n"
          ]
        }
      ]
    },
    {
      "cell_type": "code",
      "source": [
        "cd /content/drive/\"MyDrive/Machine Learning/GLCM_Features\""
      ],
      "metadata": {
        "colab": {
          "base_uri": "https://localhost:8080/"
        },
        "id": "cgnc0JB4PUpV",
        "outputId": "fb79e80c-5592-4760-9cc2-abafa41db67d"
      },
      "execution_count": null,
      "outputs": [
        {
          "output_type": "stream",
          "name": "stdout",
          "text": [
            "/content/drive/MyDrive/Machine Learning/GLCM_Features\n"
          ]
        }
      ]
    },
    {
      "cell_type": "code",
      "source": [
        "import pandas as pd\n",
        "import numpy as np\n",
        "import matplotlib.pyplot as plt\n",
        "from sklearn.model_selection import train_test_split\n",
        "import glob\n",
        "import cv2\n",
        "from sklearn.ensemble import RandomForestClassifier\n",
        "from sklearn import metrics\n",
        "from sklearn import svm\n",
        "from sklearn.metrics import classification_report, confusion_matrix\n",
        "import itertools\n",
        "from skimage.filters import sobel\n",
        "from skimage.feature import greycomatrix, greycoprops\n",
        "import time"
      ],
      "metadata": {
        "id": "ZoDpv16mOva4"
      },
      "execution_count": null,
      "outputs": []
    },
    {
      "cell_type": "code",
      "source": [
        "X_train = list()\n",
        "X_test = list()\n",
        "y_train = list()\n",
        "y_test = list()\n",
        "\n",
        "# for k fold cross validation\n",
        "x_new = list()\n",
        "y_new = list()"
      ],
      "metadata": {
        "id": "CN1HOcsTO5R9"
      },
      "execution_count": null,
      "outputs": []
    },
    {
      "cell_type": "code",
      "source": [
        "# 0 = crazing \n",
        "# 1 = inclusion\n",
        "# 2 = patches\n",
        "# 3 = pitted_surface\n",
        "# 4 = rolled in scale\n",
        "# 5 = scratches"
      ],
      "metadata": {
        "id": "2SU6a4DnO8tx"
      },
      "execution_count": null,
      "outputs": []
    },
    {
      "cell_type": "code",
      "source": [
        "dataset1 = pd.read_csv('GLCM_train.csv')\n",
        "print(dataset1)"
      ],
      "metadata": {
        "colab": {
          "base_uri": "https://localhost:8080/"
        },
        "id": "G5zmMTiRPBRy",
        "outputId": "c34a4bfa-694a-4e4f-f9cc-2aa94bc31411"
      },
      "execution_count": null,
      "outputs": [
        {
          "output_type": "stream",
          "name": "stdout",
          "text": [
            "      Unnamed: 0   Energy0     Corr0  Diss_sim0  Homogen0   Contrast0  \\\n",
            "0              0  0.014224  0.725731  15.456080  0.063373  383.715930   \n",
            "1              0  0.015558  0.778272  12.804573  0.076365  263.964171   \n",
            "2              0  0.015120  0.746263  13.894296  0.069790  310.096910   \n",
            "3              0  0.016114  0.719193  13.510452  0.071717  292.011709   \n",
            "4              0  0.013543  0.787991  14.764347  0.066498  351.571382   \n",
            "...          ...       ...       ...        ...       ...         ...   \n",
            "1435           0  0.033905  0.971425   3.316633  0.292426   22.962261   \n",
            "1436           0  0.058558  0.959366   2.681734  0.485881   48.285804   \n",
            "1437           0  0.047101  0.983943   2.665603  0.434930   30.869422   \n",
            "1438           0  0.052825  0.987204   3.837789  0.358781   61.731910   \n",
            "1439           0  0.052105  0.966701   3.046206  0.392387   38.874296   \n",
            "\n",
            "       Energy1     Corr1  Diss_sim1  Homogen1  ...  Energy22    Corr22  \\\n",
            "0     0.013450  0.616408  18.258428  0.054306  ...  0.012436  0.277652   \n",
            "1     0.014842  0.713412  14.560541  0.067183  ...  0.013611  0.531014   \n",
            "2     0.014372  0.664039  15.977778  0.061897  ...  0.013127  0.397121   \n",
            "3     0.015345  0.630021  15.523623  0.062190  ...  0.014267  0.386965   \n",
            "4     0.012790  0.714692  17.094493  0.057958  ...  0.011572  0.468387   \n",
            "...        ...       ...        ...       ...  ...       ...       ...   \n",
            "1435  0.030721  0.960311   4.002247  0.247181  ...  0.028126  0.947486   \n",
            "1436  0.051076  0.944310   3.287114  0.402826  ...  0.047175  0.929122   \n",
            "1437  0.042152  0.979532   3.200273  0.369889  ...  0.038286  0.974283   \n",
            "1438  0.049199  0.985406   4.380899  0.305555  ...  0.046291  0.988384   \n",
            "1439  0.046791  0.963105   3.450494  0.332961  ...  0.042420  0.985282   \n",
            "\n",
            "      Diss_sim22  Homogen22   Contrast22  Energy23    Corr23  Diss_sim23  \\\n",
            "0      24.906000   0.039990  1012.564821  0.012439  0.268385   25.057788   \n",
            "1      18.590051   0.053608   560.551538  0.013451  0.470073   19.663135   \n",
            "2      21.367692   0.047655   739.713846  0.013116  0.338426   22.207179   \n",
            "3      19.904872   0.049606   640.252718  0.014193  0.315293   20.823355   \n",
            "4      23.372359   0.043189   883.505692  0.011519  0.404090   24.471236   \n",
            "...          ...        ...          ...       ...       ...         ...   \n",
            "1435    4.734513   0.210921    42.404923  0.026145  0.898739    6.204524   \n",
            "1436    3.508872   0.356384    84.239333  0.044133  0.772735    6.229332   \n",
            "1437    3.887872   0.299838    49.964897  0.034322  0.868239    7.390749   \n",
            "1438    4.534179   0.257726    55.993103  0.036642  0.895140   10.742946   \n",
            "1439    2.979615   0.296650    17.311000  0.040936  0.848839    6.077259   \n",
            "\n",
            "      Homogen23   Contrast23  \n",
            "0      0.040521  1019.237505  \n",
            "1      0.051356   626.654545  \n",
            "2      0.046214   796.455565  \n",
            "3      0.047984   708.589390  \n",
            "4      0.041855   976.399703  \n",
            "...         ...          ...  \n",
            "1435   0.180988    81.891478  \n",
            "1436   0.295136   271.652645  \n",
            "1437   0.249918   254.045684  \n",
            "1438   0.196038   511.558647  \n",
            "1439   0.254340   177.470117  \n",
            "\n",
            "[1440 rows x 121 columns]\n"
          ]
        }
      ]
    },
    {
      "cell_type": "code",
      "source": [
        "x = dataset1.iloc[:,1:].values\n",
        "print(len(x[0]))"
      ],
      "metadata": {
        "colab": {
          "base_uri": "https://localhost:8080/"
        },
        "id": "uxaFqQqHQCTL",
        "outputId": "d230fc8e-e51b-495f-e5ee-d1e1e273cf65"
      },
      "execution_count": null,
      "outputs": [
        {
          "output_type": "stream",
          "name": "stdout",
          "text": [
            "120\n"
          ]
        }
      ]
    },
    {
      "cell_type": "code",
      "source": [
        "print(x)"
      ],
      "metadata": {
        "colab": {
          "base_uri": "https://localhost:8080/"
        },
        "id": "rGMlJ3SiQVKX",
        "outputId": "0067bd17-ebf6-43e6-dadb-5c81c0e37b79"
      },
      "execution_count": null,
      "outputs": [
        {
          "output_type": "stream",
          "name": "stdout",
          "text": [
            "[[1.42235469e-02 7.25731266e-01 1.54560804e+01 ... 2.50577884e+01\n",
            "  4.05208138e-02 1.01923751e+03]\n",
            " [1.55583846e-02 7.78271956e-01 1.28045729e+01 ... 1.96631352e+01\n",
            "  5.13562318e-02 6.26654545e+02]\n",
            " [1.51195333e-02 7.46262736e-01 1.38942965e+01 ... 2.22071793e+01\n",
            "  4.62140829e-02 7.96455565e+02]\n",
            " ...\n",
            " [4.71007360e-02 9.83943252e-01 2.66560302e+00 ... 7.39074865e+00\n",
            "  2.49918243e-01 2.54045684e+02]\n",
            " [5.28245045e-02 9.87203605e-01 3.83778894e+00 ... 1.07429456e+01\n",
            "  1.96037798e-01 5.11558647e+02]\n",
            " [5.21048101e-02 9.66701159e-01 3.04620603e+00 ... 6.07725948e+00\n",
            "  2.54339847e-01 1.77470117e+02]]\n"
          ]
        }
      ]
    },
    {
      "cell_type": "code",
      "source": [
        "print(x[0])"
      ],
      "metadata": {
        "colab": {
          "base_uri": "https://localhost:8080/"
        },
        "id": "yuge5Jq7QY6D",
        "outputId": "da6c361e-42ef-493a-ad18-7c264bc9e0f7"
      },
      "execution_count": null,
      "outputs": [
        {
          "output_type": "stream",
          "name": "stdout",
          "text": [
            "[1.42235469e-02 7.25731266e-01 1.54560804e+01 6.33728906e-02\n",
            " 3.83715930e+02 1.34496351e-02 6.16407720e-01 1.82584278e+01\n",
            " 5.43057083e-02 5.36650034e+02 1.45606429e-02 7.59055851e-01\n",
            " 1.45129397e+01 6.73377845e-02 3.37119020e+02 1.36664513e-02\n",
            " 6.55656905e-01 1.73407742e+01 5.77192005e-02 4.81738744e+02\n",
            " 1.42235469e-02 7.25731266e-01 1.54560804e+01 6.33728906e-02\n",
            " 3.83715930e+02 1.34496351e-02 6.16407720e-01 1.82584278e+01\n",
            " 5.43057083e-02 5.36650034e+02 1.45606429e-02 7.59055851e-01\n",
            " 1.45129397e+01 6.73377845e-02 3.37119020e+02 1.36664513e-02\n",
            " 6.55656905e-01 1.73407742e+01 5.77192005e-02 4.81738744e+02\n",
            " 1.26830436e-02 3.95794743e-01 2.26954061e+01 4.46945403e-02\n",
            " 8.42411802e+02 1.26403998e-02 3.88674657e-01 2.28848332e+01\n",
            " 4.50317227e-02 8.54238369e+02 1.26798942e-02 4.15270877e-01\n",
            " 2.25397208e+01 4.35298264e-02 8.18826878e+02 1.27552290e-02\n",
            " 4.36699820e-01 2.20984083e+01 4.46882495e-02 7.87138557e+02\n",
            " 1.26830436e-02 3.95794743e-01 2.26954061e+01 4.46945403e-02\n",
            " 8.42411802e+02 1.26403998e-02 3.88674657e-01 2.28848332e+01\n",
            " 4.50317227e-02 8.54238369e+02 1.26798942e-02 4.15270877e-01\n",
            " 2.25397208e+01 4.35298264e-02 8.18826878e+02 1.27552290e-02\n",
            " 4.36699820e-01 2.20984083e+01 4.46882495e-02 7.87138557e+02\n",
            " 1.24517214e-02 2.71204228e-01 2.48634103e+01 3.97342203e-02\n",
            " 1.01318356e+03 1.24357596e-02 2.32222993e-01 2.54886245e+01\n",
            " 3.92970938e-02 1.06972384e+03 1.24363468e-02 2.77652158e-01\n",
            " 2.49060000e+01 3.99898759e-02 1.01256482e+03 1.24387017e-02\n",
            " 2.68385279e-01 2.50577884e+01 4.05208138e-02 1.01923751e+03\n",
            " 1.24517214e-02 2.71204228e-01 2.48634103e+01 3.97342203e-02\n",
            " 1.01318356e+03 1.24357596e-02 2.32222993e-01 2.54886245e+01\n",
            " 3.92970938e-02 1.06972384e+03 1.24363468e-02 2.77652158e-01\n",
            " 2.49060000e+01 3.99898759e-02 1.01256482e+03 1.24387017e-02\n",
            " 2.68385279e-01 2.50577884e+01 4.05208138e-02 1.01923751e+03]\n"
          ]
        }
      ]
    },
    {
      "cell_type": "code",
      "source": [
        "print(len(x))"
      ],
      "metadata": {
        "colab": {
          "base_uri": "https://localhost:8080/"
        },
        "id": "m76dWWx6QvzV",
        "outputId": "cc45b9ac-6038-462b-f73f-79edab530788"
      },
      "execution_count": null,
      "outputs": [
        {
          "output_type": "stream",
          "name": "stdout",
          "text": [
            "1440\n"
          ]
        }
      ]
    },
    {
      "cell_type": "code",
      "source": [
        "y = list()"
      ],
      "metadata": {
        "id": "dztpDFUrQfja"
      },
      "execution_count": null,
      "outputs": []
    },
    {
      "cell_type": "code",
      "source": [
        "for i in range(0,6) :\n",
        "    for j in range(0,240):\n",
        "        y.append(i)\n"
      ],
      "metadata": {
        "id": "OMKN81jDQrkX"
      },
      "execution_count": null,
      "outputs": []
    },
    {
      "cell_type": "code",
      "source": [
        "print(y)"
      ],
      "metadata": {
        "colab": {
          "base_uri": "https://localhost:8080/"
        },
        "id": "jcvrJiINRIyW",
        "outputId": "f7fac14a-0926-413b-aa50-4dc13953deb5"
      },
      "execution_count": null,
      "outputs": [
        {
          "output_type": "stream",
          "name": "stdout",
          "text": [
            "[0, 0, 0, 0, 0, 0, 0, 0, 0, 0, 0, 0, 0, 0, 0, 0, 0, 0, 0, 0, 0, 0, 0, 0, 0, 0, 0, 0, 0, 0, 0, 0, 0, 0, 0, 0, 0, 0, 0, 0, 0, 0, 0, 0, 0, 0, 0, 0, 0, 0, 0, 0, 0, 0, 0, 0, 0, 0, 0, 0, 0, 0, 0, 0, 0, 0, 0, 0, 0, 0, 0, 0, 0, 0, 0, 0, 0, 0, 0, 0, 0, 0, 0, 0, 0, 0, 0, 0, 0, 0, 0, 0, 0, 0, 0, 0, 0, 0, 0, 0, 0, 0, 0, 0, 0, 0, 0, 0, 0, 0, 0, 0, 0, 0, 0, 0, 0, 0, 0, 0, 0, 0, 0, 0, 0, 0, 0, 0, 0, 0, 0, 0, 0, 0, 0, 0, 0, 0, 0, 0, 0, 0, 0, 0, 0, 0, 0, 0, 0, 0, 0, 0, 0, 0, 0, 0, 0, 0, 0, 0, 0, 0, 0, 0, 0, 0, 0, 0, 0, 0, 0, 0, 0, 0, 0, 0, 0, 0, 0, 0, 0, 0, 0, 0, 0, 0, 0, 0, 0, 0, 0, 0, 0, 0, 0, 0, 0, 0, 0, 0, 0, 0, 0, 0, 0, 0, 0, 0, 0, 0, 0, 0, 0, 0, 0, 0, 0, 0, 0, 0, 0, 0, 0, 0, 0, 0, 0, 0, 0, 0, 0, 0, 0, 0, 0, 0, 0, 0, 0, 0, 1, 1, 1, 1, 1, 1, 1, 1, 1, 1, 1, 1, 1, 1, 1, 1, 1, 1, 1, 1, 1, 1, 1, 1, 1, 1, 1, 1, 1, 1, 1, 1, 1, 1, 1, 1, 1, 1, 1, 1, 1, 1, 1, 1, 1, 1, 1, 1, 1, 1, 1, 1, 1, 1, 1, 1, 1, 1, 1, 1, 1, 1, 1, 1, 1, 1, 1, 1, 1, 1, 1, 1, 1, 1, 1, 1, 1, 1, 1, 1, 1, 1, 1, 1, 1, 1, 1, 1, 1, 1, 1, 1, 1, 1, 1, 1, 1, 1, 1, 1, 1, 1, 1, 1, 1, 1, 1, 1, 1, 1, 1, 1, 1, 1, 1, 1, 1, 1, 1, 1, 1, 1, 1, 1, 1, 1, 1, 1, 1, 1, 1, 1, 1, 1, 1, 1, 1, 1, 1, 1, 1, 1, 1, 1, 1, 1, 1, 1, 1, 1, 1, 1, 1, 1, 1, 1, 1, 1, 1, 1, 1, 1, 1, 1, 1, 1, 1, 1, 1, 1, 1, 1, 1, 1, 1, 1, 1, 1, 1, 1, 1, 1, 1, 1, 1, 1, 1, 1, 1, 1, 1, 1, 1, 1, 1, 1, 1, 1, 1, 1, 1, 1, 1, 1, 1, 1, 1, 1, 1, 1, 1, 1, 1, 1, 1, 1, 1, 1, 1, 1, 1, 1, 1, 1, 1, 1, 1, 1, 1, 1, 1, 1, 1, 1, 1, 1, 1, 1, 1, 1, 2, 2, 2, 2, 2, 2, 2, 2, 2, 2, 2, 2, 2, 2, 2, 2, 2, 2, 2, 2, 2, 2, 2, 2, 2, 2, 2, 2, 2, 2, 2, 2, 2, 2, 2, 2, 2, 2, 2, 2, 2, 2, 2, 2, 2, 2, 2, 2, 2, 2, 2, 2, 2, 2, 2, 2, 2, 2, 2, 2, 2, 2, 2, 2, 2, 2, 2, 2, 2, 2, 2, 2, 2, 2, 2, 2, 2, 2, 2, 2, 2, 2, 2, 2, 2, 2, 2, 2, 2, 2, 2, 2, 2, 2, 2, 2, 2, 2, 2, 2, 2, 2, 2, 2, 2, 2, 2, 2, 2, 2, 2, 2, 2, 2, 2, 2, 2, 2, 2, 2, 2, 2, 2, 2, 2, 2, 2, 2, 2, 2, 2, 2, 2, 2, 2, 2, 2, 2, 2, 2, 2, 2, 2, 2, 2, 2, 2, 2, 2, 2, 2, 2, 2, 2, 2, 2, 2, 2, 2, 2, 2, 2, 2, 2, 2, 2, 2, 2, 2, 2, 2, 2, 2, 2, 2, 2, 2, 2, 2, 2, 2, 2, 2, 2, 2, 2, 2, 2, 2, 2, 2, 2, 2, 2, 2, 2, 2, 2, 2, 2, 2, 2, 2, 2, 2, 2, 2, 2, 2, 2, 2, 2, 2, 2, 2, 2, 2, 2, 2, 2, 2, 2, 2, 2, 2, 2, 2, 2, 2, 2, 2, 2, 2, 2, 2, 2, 2, 2, 2, 2, 3, 3, 3, 3, 3, 3, 3, 3, 3, 3, 3, 3, 3, 3, 3, 3, 3, 3, 3, 3, 3, 3, 3, 3, 3, 3, 3, 3, 3, 3, 3, 3, 3, 3, 3, 3, 3, 3, 3, 3, 3, 3, 3, 3, 3, 3, 3, 3, 3, 3, 3, 3, 3, 3, 3, 3, 3, 3, 3, 3, 3, 3, 3, 3, 3, 3, 3, 3, 3, 3, 3, 3, 3, 3, 3, 3, 3, 3, 3, 3, 3, 3, 3, 3, 3, 3, 3, 3, 3, 3, 3, 3, 3, 3, 3, 3, 3, 3, 3, 3, 3, 3, 3, 3, 3, 3, 3, 3, 3, 3, 3, 3, 3, 3, 3, 3, 3, 3, 3, 3, 3, 3, 3, 3, 3, 3, 3, 3, 3, 3, 3, 3, 3, 3, 3, 3, 3, 3, 3, 3, 3, 3, 3, 3, 3, 3, 3, 3, 3, 3, 3, 3, 3, 3, 3, 3, 3, 3, 3, 3, 3, 3, 3, 3, 3, 3, 3, 3, 3, 3, 3, 3, 3, 3, 3, 3, 3, 3, 3, 3, 3, 3, 3, 3, 3, 3, 3, 3, 3, 3, 3, 3, 3, 3, 3, 3, 3, 3, 3, 3, 3, 3, 3, 3, 3, 3, 3, 3, 3, 3, 3, 3, 3, 3, 3, 3, 3, 3, 3, 3, 3, 3, 3, 3, 3, 3, 3, 3, 3, 3, 3, 3, 3, 3, 3, 3, 3, 3, 3, 3, 4, 4, 4, 4, 4, 4, 4, 4, 4, 4, 4, 4, 4, 4, 4, 4, 4, 4, 4, 4, 4, 4, 4, 4, 4, 4, 4, 4, 4, 4, 4, 4, 4, 4, 4, 4, 4, 4, 4, 4, 4, 4, 4, 4, 4, 4, 4, 4, 4, 4, 4, 4, 4, 4, 4, 4, 4, 4, 4, 4, 4, 4, 4, 4, 4, 4, 4, 4, 4, 4, 4, 4, 4, 4, 4, 4, 4, 4, 4, 4, 4, 4, 4, 4, 4, 4, 4, 4, 4, 4, 4, 4, 4, 4, 4, 4, 4, 4, 4, 4, 4, 4, 4, 4, 4, 4, 4, 4, 4, 4, 4, 4, 4, 4, 4, 4, 4, 4, 4, 4, 4, 4, 4, 4, 4, 4, 4, 4, 4, 4, 4, 4, 4, 4, 4, 4, 4, 4, 4, 4, 4, 4, 4, 4, 4, 4, 4, 4, 4, 4, 4, 4, 4, 4, 4, 4, 4, 4, 4, 4, 4, 4, 4, 4, 4, 4, 4, 4, 4, 4, 4, 4, 4, 4, 4, 4, 4, 4, 4, 4, 4, 4, 4, 4, 4, 4, 4, 4, 4, 4, 4, 4, 4, 4, 4, 4, 4, 4, 4, 4, 4, 4, 4, 4, 4, 4, 4, 4, 4, 4, 4, 4, 4, 4, 4, 4, 4, 4, 4, 4, 4, 4, 4, 4, 4, 4, 4, 4, 4, 4, 4, 4, 4, 4, 4, 4, 4, 4, 4, 4, 5, 5, 5, 5, 5, 5, 5, 5, 5, 5, 5, 5, 5, 5, 5, 5, 5, 5, 5, 5, 5, 5, 5, 5, 5, 5, 5, 5, 5, 5, 5, 5, 5, 5, 5, 5, 5, 5, 5, 5, 5, 5, 5, 5, 5, 5, 5, 5, 5, 5, 5, 5, 5, 5, 5, 5, 5, 5, 5, 5, 5, 5, 5, 5, 5, 5, 5, 5, 5, 5, 5, 5, 5, 5, 5, 5, 5, 5, 5, 5, 5, 5, 5, 5, 5, 5, 5, 5, 5, 5, 5, 5, 5, 5, 5, 5, 5, 5, 5, 5, 5, 5, 5, 5, 5, 5, 5, 5, 5, 5, 5, 5, 5, 5, 5, 5, 5, 5, 5, 5, 5, 5, 5, 5, 5, 5, 5, 5, 5, 5, 5, 5, 5, 5, 5, 5, 5, 5, 5, 5, 5, 5, 5, 5, 5, 5, 5, 5, 5, 5, 5, 5, 5, 5, 5, 5, 5, 5, 5, 5, 5, 5, 5, 5, 5, 5, 5, 5, 5, 5, 5, 5, 5, 5, 5, 5, 5, 5, 5, 5, 5, 5, 5, 5, 5, 5, 5, 5, 5, 5, 5, 5, 5, 5, 5, 5, 5, 5, 5, 5, 5, 5, 5, 5, 5, 5, 5, 5, 5, 5, 5, 5, 5, 5, 5, 5, 5, 5, 5, 5, 5, 5, 5, 5, 5, 5, 5, 5, 5, 5, 5, 5, 5, 5, 5, 5, 5, 5, 5, 5]\n"
          ]
        }
      ]
    },
    {
      "cell_type": "code",
      "source": [
        "X_train = x\n",
        "y_train = y"
      ],
      "metadata": {
        "id": "UvhliqOLRJby"
      },
      "execution_count": null,
      "outputs": []
    },
    {
      "cell_type": "code",
      "source": [
        "dataset1 = pd.read_csv('GLCM_test.csv')\n",
        "print(dataset1)"
      ],
      "metadata": {
        "colab": {
          "base_uri": "https://localhost:8080/"
        },
        "id": "OKPzIOcfRUGw",
        "outputId": "aeaf8d00-b4fc-46d0-b975-d8170293d104"
      },
      "execution_count": null,
      "outputs": [
        {
          "output_type": "stream",
          "name": "stdout",
          "text": [
            "     Unnamed: 0   Energy0     Corr0  Diss_sim0  Homogen0   Contrast0  \\\n",
            "0             0  0.014085  0.748947  15.308317  0.063230  375.439874   \n",
            "1             0  0.013354  0.812510  14.557965  0.068531  341.479372   \n",
            "2             0  0.013476  0.759687  15.553065  0.063098  390.181206   \n",
            "3             0  0.013039  0.771689  15.981709  0.062617  409.665628   \n",
            "4             0  0.013783  0.757698  15.442638  0.064622  387.517764   \n",
            "..          ...       ...       ...        ...       ...         ...   \n",
            "355           0  0.062155  0.995837   1.575452  0.488198    5.920075   \n",
            "356           0  0.067211  0.985235   1.432513  0.498722    4.875427   \n",
            "357           0  0.055791  0.988033   2.337362  0.355444   10.801583   \n",
            "358           0  0.046354  0.989063   2.493492  0.373817   19.243593   \n",
            "359           0  0.055859  0.979090   2.404749  0.356955   14.151985   \n",
            "\n",
            "      Energy1     Corr1  Diss_sim1  Homogen1  ...  Energy22    Corr22  \\\n",
            "0    0.013353  0.651627  17.977299  0.054884  ...  0.012267  0.337588   \n",
            "1    0.012640  0.745310  16.984167  0.057709  ...  0.011454  0.519375   \n",
            "2    0.012767  0.673131  18.108129  0.055327  ...  0.011773  0.410818   \n",
            "3    0.012298  0.678448  18.950860  0.052458  ...  0.011116  0.366094   \n",
            "4    0.013028  0.672874  17.955961  0.054814  ...  0.011914  0.363817   \n",
            "..        ...       ...        ...       ...  ...       ...       ...   \n",
            "355  0.050080  0.940898   4.609050  0.346346  ...  0.036213  0.647418   \n",
            "356  0.056982  0.937472   2.327391  0.393785  ...  0.048737  0.631494   \n",
            "357  0.046727  0.900459   4.783238  0.257754  ...  0.039028  0.428962   \n",
            "358  0.039474  0.949534   4.368072  0.286645  ...  0.033072  0.576624   \n",
            "359  0.046597  0.891051   4.451857  0.261731  ...  0.035780  0.355011   \n",
            "\n",
            "     Diss_sim22  Homogen22   Contrast22  Energy23    Corr23  Diss_sim23  \\\n",
            "0     24.516179   0.042432   988.077615  0.012198  0.288452   25.291988   \n",
            "1     23.173282   0.044095   881.632769  0.011566  0.518553   23.029441   \n",
            "2     24.175795   0.043477   952.155231  0.011612  0.334072   25.681331   \n",
            "3     26.681821   0.037076  1142.733615  0.011140  0.311734   27.441561   \n",
            "4     24.878897   0.041179  1012.229821  0.011850  0.312730   25.787016   \n",
            "..          ...        ...          ...       ...       ...         ...   \n",
            "355   11.530128   0.195272   504.971154  0.037130  0.685679   10.567940   \n",
            "356    4.376641   0.297802   117.836641  0.049244  0.657280    4.288187   \n",
            "357    9.852564   0.178268   526.271641  0.038072  0.457921    9.744638   \n",
            "358   11.415615   0.199975   752.360077  0.032003  0.588856   11.473527   \n",
            "359    9.813487   0.168924   444.870872  0.036442  0.409715    9.311563   \n",
            "\n",
            "     Homogen23   Contrast23  \n",
            "0     0.041209  1053.806305  \n",
            "1     0.044173   860.134241  \n",
            "2     0.038370  1077.315441  \n",
            "3     0.035770  1215.886532  \n",
            "4     0.037954  1090.835069  \n",
            "..         ...          ...  \n",
            "355   0.211579   450.383174  \n",
            "356   0.294108   109.183908  \n",
            "357   0.172121   495.202312  \n",
            "358   0.189257   734.857429  \n",
            "359   0.168403   399.055940  \n",
            "\n",
            "[360 rows x 121 columns]\n"
          ]
        }
      ]
    },
    {
      "cell_type": "code",
      "source": [
        "x = dataset1.iloc[:,1:].values\n",
        "print(len(x[0]))"
      ],
      "metadata": {
        "colab": {
          "base_uri": "https://localhost:8080/"
        },
        "id": "j4-y-ob3RrM8",
        "outputId": "d1bb0481-6fb7-4a02-89de-4453db23b7cb"
      },
      "execution_count": null,
      "outputs": [
        {
          "output_type": "stream",
          "name": "stdout",
          "text": [
            "120\n"
          ]
        }
      ]
    },
    {
      "cell_type": "code",
      "source": [
        "print(x)\n",
        "print(x[0])"
      ],
      "metadata": {
        "colab": {
          "base_uri": "https://localhost:8080/"
        },
        "id": "y9YOWDpLRu7c",
        "outputId": "2b9da833-bfb4-4e13-8dfb-4e02f235dfd5"
      },
      "execution_count": null,
      "outputs": [
        {
          "output_type": "stream",
          "name": "stdout",
          "text": [
            "[[1.40851053e-02 7.48946716e-01 1.53083166e+01 ... 2.52919877e+01\n",
            "  4.12090470e-02 1.05380630e+03]\n",
            " [1.33542182e-02 8.12510406e-01 1.45579648e+01 ... 2.30294409e+01\n",
            "  4.41729560e-02 8.60134241e+02]\n",
            " [1.34756312e-02 7.59686590e-01 1.55530653e+01 ... 2.56813307e+01\n",
            "  3.83698324e-02 1.07731544e+03]\n",
            " ...\n",
            " [5.57906864e-02 9.88033099e-01 2.33736181e+00 ... 9.74463765e+00\n",
            "  1.72121360e-01 4.95202312e+02]\n",
            " [4.63544075e-02 9.89062761e-01 2.49349246e+00 ... 1.14735267e+01\n",
            "  1.89257210e-01 7.34857429e+02]\n",
            " [5.58592725e-02 9.79089631e-01 2.40474874e+00 ... 9.31156289e+00\n",
            "  1.68402502e-01 3.99055940e+02]]\n",
            "[1.40851053e-02 7.48946716e-01 1.53083166e+01 6.32298821e-02\n",
            " 3.75439874e+02 1.33527101e-02 6.51626626e-01 1.79772986e+01\n",
            " 5.48840623e-02 5.20755663e+02 1.44900611e-02 7.84241722e-01\n",
            " 1.41835678e+01 6.95831467e-02 3.22941960e+02 1.36216790e-02\n",
            " 6.93382163e-01 1.68698770e+01 5.94963105e-02 4.58334588e+02\n",
            " 1.40851053e-02 7.48946716e-01 1.53083166e+01 6.32298821e-02\n",
            " 3.75439874e+02 1.33527101e-02 6.51626626e-01 1.79772986e+01\n",
            " 5.48840623e-02 5.20755663e+02 1.44900611e-02 7.84241722e-01\n",
            " 1.41835678e+01 6.95831467e-02 3.22941960e+02 1.36216790e-02\n",
            " 6.93382163e-01 1.68698770e+01 5.94963105e-02 4.58334588e+02\n",
            " 1.24673812e-02 4.46428662e-01 2.25329949e+01 4.41550228e-02\n",
            " 8.24729797e+02 1.25034088e-02 4.45313571e-01 2.25942506e+01\n",
            " 4.43870324e-02 8.27531196e+02 1.25855059e-02 4.84028747e-01\n",
            " 2.18252284e+01 4.59956205e-02 7.71785431e+02 1.26357664e-02\n",
            " 4.87302730e-01 2.16865371e+01 4.61714778e-02 7.65038134e+02\n",
            " 1.24673812e-02 4.46428662e-01 2.25329949e+01 4.41550228e-02\n",
            " 8.24729797e+02 1.25034088e-02 4.45313571e-01 2.25942506e+01\n",
            " 4.43870324e-02 8.27531196e+02 1.25855059e-02 4.84028747e-01\n",
            " 2.18252284e+01 4.59956205e-02 7.71785431e+02 1.26357664e-02\n",
            " 4.87302730e-01 2.16865371e+01 4.61714778e-02 7.65038134e+02\n",
            " 1.22837374e-02 3.11786677e-01 2.48204615e+01 4.11062064e-02\n",
            " 1.01926036e+03 1.22285026e-02 2.95268763e-01 2.51509527e+01\n",
            " 4.06580398e-02 1.04353564e+03 1.22668125e-02 3.37588169e-01\n",
            " 2.45161795e+01 4.24323229e-02 9.88077615e+02 1.21978769e-02\n",
            " 2.88452187e-01 2.52919877e+01 4.12090470e-02 1.05380630e+03\n",
            " 1.22837374e-02 3.11786677e-01 2.48204615e+01 4.11062064e-02\n",
            " 1.01926036e+03 1.22285026e-02 2.95268763e-01 2.51509527e+01\n",
            " 4.06580398e-02 1.04353564e+03 1.22668125e-02 3.37588169e-01\n",
            " 2.45161795e+01 4.24323229e-02 9.88077615e+02 1.21978769e-02\n",
            " 2.88452187e-01 2.52919877e+01 4.12090470e-02 1.05380630e+03]\n"
          ]
        }
      ]
    },
    {
      "cell_type": "code",
      "source": [
        "print(len(x))"
      ],
      "metadata": {
        "colab": {
          "base_uri": "https://localhost:8080/"
        },
        "id": "PxbqLuGZRzOG",
        "outputId": "a0d3df7d-ed88-4fd5-cf43-1c9ac3202c1e"
      },
      "execution_count": null,
      "outputs": [
        {
          "output_type": "stream",
          "name": "stdout",
          "text": [
            "360\n"
          ]
        }
      ]
    },
    {
      "cell_type": "code",
      "source": [
        "y = list()"
      ],
      "metadata": {
        "id": "8EI_d01dR_Z8"
      },
      "execution_count": null,
      "outputs": []
    },
    {
      "cell_type": "code",
      "source": [
        "for i in range(0,6) :\n",
        "    for j in range(0,60):\n",
        "        y.append(i)\n"
      ],
      "metadata": {
        "id": "zjGTQusQR8OT"
      },
      "execution_count": null,
      "outputs": []
    },
    {
      "cell_type": "code",
      "source": [
        "X_test = x\n",
        "y_test = y"
      ],
      "metadata": {
        "id": "fbpuLVcTSDC5"
      },
      "execution_count": null,
      "outputs": []
    },
    {
      "cell_type": "code",
      "source": [
        "print(len(X_train))\n",
        "print(len(X_test))\n",
        "print(len(y_train))\n",
        "print(len(y_test))"
      ],
      "metadata": {
        "colab": {
          "base_uri": "https://localhost:8080/"
        },
        "id": "oHfsc7DcSHMM",
        "outputId": "e313dde0-7a4a-42e2-9c97-b63176ec5b61"
      },
      "execution_count": null,
      "outputs": [
        {
          "output_type": "stream",
          "name": "stdout",
          "text": [
            "1440\n",
            "360\n",
            "1440\n",
            "360\n"
          ]
        }
      ]
    },
    {
      "cell_type": "code",
      "source": [
        "X_train=np.array(X_train)\n",
        "y_train=np.array(y_train)\n",
        "X_test=np.array(X_test)\n",
        "y_test=np.array(y_test)"
      ],
      "metadata": {
        "id": "5UGEkAclSUVC"
      },
      "execution_count": null,
      "outputs": []
    },
    {
      "cell_type": "code",
      "source": [
        "print ('Train set:', X_train.shape,  y_train.shape)\n",
        "print ('Test set:', X_test.shape,  y_test.shape)"
      ],
      "metadata": {
        "colab": {
          "base_uri": "https://localhost:8080/"
        },
        "id": "w6Hsckn3SY3M",
        "outputId": "05917b2f-1092-4a3b-b637-68b861064149"
      },
      "execution_count": null,
      "outputs": [
        {
          "output_type": "stream",
          "name": "stdout",
          "text": [
            "Train set: (1440, 120) (1440,)\n",
            "Test set: (360, 120) (360,)\n"
          ]
        }
      ]
    },
    {
      "cell_type": "code",
      "source": [
        "nsamples, nx = X_train.shape\n",
        "X_train = X_train.reshape((nsamples,nx))"
      ],
      "metadata": {
        "id": "qktya8lBSZ3a"
      },
      "execution_count": null,
      "outputs": []
    },
    {
      "cell_type": "code",
      "source": [
        "print(X_train.shape)"
      ],
      "metadata": {
        "colab": {
          "base_uri": "https://localhost:8080/"
        },
        "id": "BiXq0NhtSbx7",
        "outputId": "7fb88578-c863-4d66-fa9d-9b4cd56630f4"
      },
      "execution_count": null,
      "outputs": [
        {
          "output_type": "stream",
          "name": "stdout",
          "text": [
            "(1440, 120)\n"
          ]
        }
      ]
    },
    {
      "cell_type": "code",
      "source": [
        "nsamples, nx = X_test.shape\n",
        "X_test = X_test.reshape((nsamples,nx))"
      ],
      "metadata": {
        "id": "WsphffhyScs8"
      },
      "execution_count": null,
      "outputs": []
    },
    {
      "cell_type": "code",
      "source": [
        "print(X_test.shape)"
      ],
      "metadata": {
        "colab": {
          "base_uri": "https://localhost:8080/"
        },
        "id": "xl5IHifZSdmj",
        "outputId": "4735e839-a17f-4aee-9287-7e09110f9c06"
      },
      "execution_count": null,
      "outputs": [
        {
          "output_type": "stream",
          "name": "stdout",
          "text": [
            "(360, 120)\n"
          ]
        }
      ]
    },
    {
      "cell_type": "code",
      "source": [
        "from sklearn.neighbors import KNeighborsClassifier \n",
        "from sklearn import metrics"
      ],
      "metadata": {
        "id": "J9u8NKGUVIc7"
      },
      "execution_count": null,
      "outputs": []
    },
    {
      "cell_type": "code",
      "source": [
        "train_accuracy = list()\n",
        "test_accuracy = list()\n",
        "k_value = list()"
      ],
      "metadata": {
        "id": "myS-2999XH0T"
      },
      "execution_count": null,
      "outputs": []
    },
    {
      "cell_type": "code",
      "source": [
        "\n",
        "for k in range(1,101,2):\n",
        "    knn= KNeighborsClassifier(n_neighbors=k)\n",
        "    knn.fit(X_train,y_train)\n",
        "    y_pred=knn.predict(X_train)\n",
        "    y_pred_test = knn.predict(X_test)\n",
        "\n",
        "    # print(metrics.accuracy_score(y_test, y_pred_test))\n",
        "    # print(confusion_matrix(y_test, y_pred_test))\n",
        "    # print(classification_report(y_test,y_pred_test))\n",
        "    k_value.append(k)\n",
        "    train_accuracy.append((metrics.accuracy_score(y_train, y_pred)))\n",
        "    test_accuracy.append(metrics.accuracy_score(y_test, y_pred_test))\n"
      ],
      "metadata": {
        "id": "3CsZ71McXI1M"
      },
      "execution_count": null,
      "outputs": []
    },
    {
      "cell_type": "code",
      "source": [
        "print(train_accuracy)\n",
        "print(test_accuracy)\n",
        "print(k_value)"
      ],
      "metadata": {
        "colab": {
          "base_uri": "https://localhost:8080/"
        },
        "id": "Pzul7J64XJ0V",
        "outputId": "eebae129-954d-4afc-fe46-bd02866004d8"
      },
      "execution_count": null,
      "outputs": [
        {
          "output_type": "stream",
          "name": "stdout",
          "text": [
            "[1.0, 0.9708333333333333, 0.9638888888888889, 0.9486111111111111, 0.9395833333333333, 0.9270833333333334, 0.9201388888888888, 0.9111111111111111, 0.9034722222222222, 0.8958333333333334, 0.8888888888888888, 0.8826388888888889, 0.8791666666666667, 0.8736111111111111, 0.8652777777777778, 0.8597222222222223, 0.8576388888888888, 0.85, 0.8465277777777778, 0.8423611111111111, 0.8402777777777778, 0.8395833333333333, 0.8333333333333334, 0.83125, 0.8284722222222223, 0.8277777777777777, 0.8270833333333333, 0.8243055555555555, 0.8243055555555555, 0.825, 0.8229166666666666, 0.8222222222222222, 0.8208333333333333, 0.8173611111111111, 0.8145833333333333, 0.8125, 0.8138888888888889, 0.8104166666666667, 0.8125, 0.8097222222222222, 0.8055555555555556, 0.8027777777777778, 0.7972222222222223, 0.7951388888888888, 0.7930555555555555, 0.7895833333333333, 0.7875, 0.7847222222222222, 0.7833333333333333, 0.7805555555555556]\n",
            "[0.9305555555555556, 0.9, 0.8638888888888889, 0.8611111111111112, 0.8555555555555555, 0.8555555555555555, 0.8416666666666667, 0.8277777777777777, 0.7916666666666666, 0.7722222222222223, 0.7666666666666667, 0.75, 0.7361111111111112, 0.7361111111111112, 0.7333333333333333, 0.7333333333333333, 0.7222222222222222, 0.7083333333333334, 0.7, 0.6944444444444444, 0.6888888888888889, 0.6833333333333333, 0.6833333333333333, 0.6722222222222223, 0.6666666666666666, 0.6694444444444444, 0.6666666666666666, 0.6638888888888889, 0.6611111111111111, 0.6611111111111111, 0.6527777777777778, 0.6472222222222223, 0.6444444444444445, 0.6472222222222223, 0.6472222222222223, 0.6416666666666667, 0.6277777777777778, 0.6305555555555555, 0.6305555555555555, 0.6277777777777778, 0.6277777777777778, 0.6222222222222222, 0.6222222222222222, 0.6222222222222222, 0.6166666666666667, 0.6194444444444445, 0.6222222222222222, 0.6166666666666667, 0.6138888888888889, 0.6111111111111112]\n",
            "[1, 3, 5, 7, 9, 11, 13, 15, 17, 19, 21, 23, 25, 27, 29, 31, 33, 35, 37, 39, 41, 43, 45, 47, 49, 51, 53, 55, 57, 59, 61, 63, 65, 67, 69, 71, 73, 75, 77, 79, 81, 83, 85, 87, 89, 91, 93, 95, 97, 99]\n"
          ]
        }
      ]
    },
    {
      "cell_type": "code",
      "source": [
        "plt.plot(k_value, train_accuracy, 'g', label='Training Accuracy')\n",
        "plt.plot(k_value, test_accuracy, 'b', label='Testing Accuracy')\n",
        "plt.title('Training and Testing Accuracy')\n",
        "plt.xlabel('K')\n",
        "plt.ylabel('Accuracy')\n",
        "plt.legend()\n",
        "plt.show()"
      ],
      "metadata": {
        "colab": {
          "base_uri": "https://localhost:8080/",
          "height": 295
        },
        "id": "p5o1VK-MXK3t",
        "outputId": "16ea9bd1-599d-4c36-ebb2-01e4d73287bb"
      },
      "execution_count": null,
      "outputs": [
        {
          "output_type": "display_data",
          "data": {
            "text/plain": [
              "<Figure size 432x288 with 1 Axes>"
            ],
            "image/png": "[encoded data removed]"
          },
          "metadata": {
            "needs_background": "light"
          }
        }
      ]
    },
    {
      "cell_type": "code",
      "source": [
        "knn= KNeighborsClassifier(n_neighbors=3)\n",
        "knn.fit(X_train,y_train)\n",
        "y_pred=knn.predict(X_train)\n",
        "y_pred_test = knn.predict(X_test)\n",
        "\n",
        "print(metrics.accuracy_score(y_test, y_pred_test))\n",
        "print(confusion_matrix(y_test, y_pred_test))\n",
        "print(classification_report(y_test,y_pred_test))"
      ],
      "metadata": {
        "colab": {
          "base_uri": "https://localhost:8080/"
        },
        "id": "xaE2-RssXq8f",
        "outputId": "633fd49a-54d6-4970-e415-fcfe528e97d0"
      },
      "execution_count": null,
      "outputs": [
        {
          "output_type": "stream",
          "name": "stdout",
          "text": [
            "0.9\n",
            "[[59  0  1  0  0  0]\n",
            " [ 0 59  0  1  0  0]\n",
            " [ 9  0 51  0  0  0]\n",
            " [ 8  1  1 50  0  0]\n",
            " [ 0  0  0  0 60  0]\n",
            " [ 1  2  0  1 11 45]]\n",
            "              precision    recall  f1-score   support\n",
            "\n",
            "           0       0.77      0.98      0.86        60\n",
            "           1       0.95      0.98      0.97        60\n",
            "           2       0.96      0.85      0.90        60\n",
            "           3       0.96      0.83      0.89        60\n",
            "           4       0.85      1.00      0.92        60\n",
            "           5       1.00      0.75      0.86        60\n",
            "\n",
            "    accuracy                           0.90       360\n",
            "   macro avg       0.91      0.90      0.90       360\n",
            "weighted avg       0.91      0.90      0.90       360\n",
            "\n"
          ]
        }
      ]
    },
    {
      "cell_type": "code",
      "source": [
        ""
      ],
      "metadata": {
        "id": "-Sinu5PIX5nL"
      },
      "execution_count": null,
      "outputs": []
    }
  ]
}