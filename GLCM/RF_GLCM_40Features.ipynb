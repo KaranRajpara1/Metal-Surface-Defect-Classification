{
  "nbformat": 4,
  "nbformat_minor": 0,
  "metadata": {
    "colab": {
      "name": "Project_41.ipynb",
      "provenance": []
    },
    "kernelspec": {
      "name": "python3",
      "display_name": "Python 3"
    },
    "language_info": {
      "name": "python"
    }
  },
  "cells": [
    {
      "cell_type": "markdown",
      "source": [
        "\\Random Forest\n",
        "Feature Extraction Method: GLCM\n",
        "Features Taken with distance = 5, angle = 0,45,90,135,180,225,270,315) (total 40 features)"
      ],
      "metadata": {
        "id": "1TYhaw4CTb5R"
      }
    },
    {
      "cell_type": "code",
      "execution_count": null,
      "metadata": {
        "id": "IMBKkk8pOgQf"
      },
      "outputs": [],
      "source": [
        "from google.colab import drive"
      ]
    },
    {
      "cell_type": "code",
      "source": [
        "drive.mount('/content/drive')"
      ],
      "metadata": {
        "colab": {
          "base_uri": "https://localhost:8080/"
        },
        "id": "CQw3ZZWIOubz",
        "outputId": "54d6371e-fb55-47a6-e55d-1e2ee784efc0"
      },
      "execution_count": null,
      "outputs": [
        {
          "output_type": "stream",
          "name": "stdout",
          "text": [
            "Mounted at /content/drive\n"
          ]
        }
      ]
    },
    {
      "cell_type": "code",
      "source": [
        "cd /content/drive/\"MyDrive/Machine Learning/GLCM_5Distance\""
      ],
      "metadata": {
        "colab": {
          "base_uri": "https://localhost:8080/"
        },
        "id": "cgnc0JB4PUpV",
        "outputId": "fda58c48-612f-43cd-aaae-312403cf2f15"
      },
      "execution_count": null,
      "outputs": [
        {
          "output_type": "stream",
          "name": "stdout",
          "text": [
            "/content/drive/MyDrive/Machine Learning/GLCM_5Distance\n"
          ]
        }
      ]
    },
    {
      "cell_type": "code",
      "source": [
        "import pandas as pd\n",
        "import numpy as np\n",
        "import matplotlib.pyplot as plt\n",
        "from sklearn.model_selection import train_test_split\n",
        "import glob\n",
        "import cv2\n",
        "from sklearn.ensemble import RandomForestClassifier\n",
        "from sklearn import metrics\n",
        "from sklearn import svm\n",
        "from sklearn.metrics import classification_report, confusion_matrix\n",
        "import itertools\n",
        "from skimage.filters import sobel\n",
        "from skimage.feature import greycomatrix, greycoprops\n",
        "import time"
      ],
      "metadata": {
        "id": "ZoDpv16mOva4"
      },
      "execution_count": null,
      "outputs": []
    },
    {
      "cell_type": "code",
      "source": [
        "X_train = list()\n",
        "X_test = list()\n",
        "y_train = list()\n",
        "y_test = list()\n",
        "\n",
        "# for k fold cross validation\n",
        "x_new = list()\n",
        "y_new = list()"
      ],
      "metadata": {
        "id": "CN1HOcsTO5R9"
      },
      "execution_count": null,
      "outputs": []
    },
    {
      "cell_type": "code",
      "source": [
        "# 0 = crazing \n",
        "# 1 = inclusion\n",
        "# 2 = patches\n",
        "# 3 = pitted_surface\n",
        "# 4 = rolled in scale\n",
        "# 5 = scratches"
      ],
      "metadata": {
        "id": "2SU6a4DnO8tx"
      },
      "execution_count": null,
      "outputs": []
    },
    {
      "cell_type": "code",
      "source": [
        "dataset1 = pd.read_csv('GLCM_train.csv')\n",
        "print(dataset1)"
      ],
      "metadata": {
        "colab": {
          "base_uri": "https://localhost:8080/"
        },
        "id": "G5zmMTiRPBRy",
        "outputId": "2ecf44d1-d1f5-486a-96dd-fac8188649fc"
      },
      "execution_count": null,
      "outputs": [
        {
          "output_type": "stream",
          "name": "stdout",
          "text": [
            "      Unnamed: 0   Energy0     Corr0  Diss_sim0  Homogen0    Contrast0  \\\n",
            "0              0  0.012452  0.271204  24.863410  0.039734  1013.183564   \n",
            "1              0  0.013405  0.441275  20.117205  0.050860   657.472590   \n",
            "2              0  0.013246  0.376922  21.538026  0.047030   747.128641   \n",
            "3              0  0.014207  0.307237  20.938308  0.047282   713.287026   \n",
            "4              0  0.011498  0.413125  24.385974  0.041033   961.435462   \n",
            "...          ...       ...       ...        ...       ...          ...   \n",
            "1435           0  0.027185  0.906224   5.758308  0.194348    75.368103   \n",
            "1436           0  0.044096  0.719087   6.977718  0.286380   336.668385   \n",
            "1437           0  0.033335  0.835101   8.238564  0.250575   321.118462   \n",
            "1438           0  0.034867  0.864708  12.198667  0.184691   662.054513   \n",
            "1439           0  0.041291  0.818318   6.795128  0.248586   213.973590   \n",
            "\n",
            "       Energy1     Corr1  Diss_sim1  Homogen1  ...   Energy6     Corr6  \\\n",
            "0     0.012436  0.232223  25.488625  0.039297  ...  0.012436  0.277652   \n",
            "1     0.013412  0.448902  20.011922  0.049570  ...  0.013611  0.531014   \n",
            "2     0.013201  0.365006  21.774703  0.046494  ...  0.013127  0.397121   \n",
            "3     0.014131  0.304585  21.051515  0.046492  ...  0.014267  0.386965   \n",
            "4     0.011491  0.410447  24.415764  0.041475  ...  0.011572  0.468387   \n",
            "...        ...       ...        ...       ...  ...       ...       ...   \n",
            "1435  0.026228  0.899232   6.029935  0.188482  ...  0.028126  0.947486   \n",
            "1436  0.043939  0.735441   6.673417  0.301203  ...  0.047175  0.929122   \n",
            "1437  0.034243  0.863560   7.487453  0.264021  ...  0.038286  0.974283   \n",
            "1438  0.036756  0.896957  10.789046  0.191916  ...  0.046291  0.988384   \n",
            "1439  0.041047  0.845792   6.240967  0.249408  ...  0.042420  0.985282   \n",
            "\n",
            "      Diss_sim6  Homogen6    Contrast6   Energy7     Corr7  Diss_sim7  \\\n",
            "0     24.906000  0.039990  1012.564821  0.012439  0.268385  25.057788   \n",
            "1     18.590051  0.053608   560.551538  0.013451  0.470073  19.663135   \n",
            "2     21.367692  0.047655   739.713846  0.013116  0.338426  22.207179   \n",
            "3     19.904872  0.049606   640.252718  0.014193  0.315293  20.823355   \n",
            "4     23.372359  0.043189   883.505692  0.011519  0.404090  24.471236   \n",
            "...         ...       ...          ...       ...       ...        ...   \n",
            "1435   4.734513  0.210921    42.404923  0.026145  0.898739   6.204524   \n",
            "1436   3.508872  0.356384    84.239333  0.044133  0.772735   6.229332   \n",
            "1437   3.887872  0.299838    49.964897  0.034322  0.868239   7.390749   \n",
            "1438   4.534179  0.257726    55.993103  0.036642  0.895140  10.742946   \n",
            "1439   2.979615  0.296650    17.311000  0.040936  0.848839   6.077259   \n",
            "\n",
            "      Homogen7    Contrast7  \n",
            "0     0.040521  1019.237505  \n",
            "1     0.051356   626.654545  \n",
            "2     0.046214   796.455565  \n",
            "3     0.047984   708.589390  \n",
            "4     0.041855   976.399703  \n",
            "...        ...          ...  \n",
            "1435  0.180988    81.891478  \n",
            "1436  0.295136   271.652645  \n",
            "1437  0.249918   254.045684  \n",
            "1438  0.196038   511.558647  \n",
            "1439  0.254340   177.470117  \n",
            "\n",
            "[1440 rows x 41 columns]\n"
          ]
        }
      ]
    },
    {
      "cell_type": "code",
      "source": [
        "x = dataset1.iloc[:,1:].values\n",
        "print(len(x[0]))"
      ],
      "metadata": {
        "colab": {
          "base_uri": "https://localhost:8080/"
        },
        "id": "uxaFqQqHQCTL",
        "outputId": "a2e66cca-0a02-47a1-bebf-e3f0b0a0c978"
      },
      "execution_count": null,
      "outputs": [
        {
          "output_type": "stream",
          "name": "stdout",
          "text": [
            "40\n"
          ]
        }
      ]
    },
    {
      "cell_type": "code",
      "source": [
        "print(x)"
      ],
      "metadata": {
        "colab": {
          "base_uri": "https://localhost:8080/"
        },
        "id": "rGMlJ3SiQVKX",
        "outputId": "a50c9451-cb0b-4548-f5d6-3469ecbf91b9"
      },
      "execution_count": null,
      "outputs": [
        {
          "output_type": "stream",
          "name": "stdout",
          "text": [
            "[[1.24517214e-02 2.71204228e-01 2.48634103e+01 ... 2.50577884e+01\n",
            "  4.05208138e-02 1.01923751e+03]\n",
            " [1.34048379e-02 4.41275423e-01 2.01172051e+01 ... 1.96631352e+01\n",
            "  5.13562318e-02 6.26654545e+02]\n",
            " [1.32462640e-02 3.76921626e-01 2.15380256e+01 ... 2.22071793e+01\n",
            "  4.62140829e-02 7.96455565e+02]\n",
            " ...\n",
            " [3.33351676e-02 8.35100932e-01 8.23856410e+00 ... 7.39074865e+00\n",
            "  2.49918243e-01 2.54045684e+02]\n",
            " [3.48665720e-02 8.64707627e-01 1.21986667e+01 ... 1.07429456e+01\n",
            "  1.96037798e-01 5.11558647e+02]\n",
            " [4.12908734e-02 8.18317591e-01 6.79512821e+00 ... 6.07725948e+00\n",
            "  2.54339847e-01 1.77470117e+02]]\n"
          ]
        }
      ]
    },
    {
      "cell_type": "code",
      "source": [
        "print(x[0])"
      ],
      "metadata": {
        "colab": {
          "base_uri": "https://localhost:8080/"
        },
        "id": "yuge5Jq7QY6D",
        "outputId": "4d397a0d-6fe6-4401-8ea7-1863883c1a64"
      },
      "execution_count": null,
      "outputs": [
        {
          "output_type": "stream",
          "name": "stdout",
          "text": [
            "[1.24517214e-02 2.71204228e-01 2.48634103e+01 3.97342203e-02\n",
            " 1.01318356e+03 1.24357596e-02 2.32222993e-01 2.54886245e+01\n",
            " 3.92970938e-02 1.06972384e+03 1.24363468e-02 2.77652158e-01\n",
            " 2.49060000e+01 3.99898759e-02 1.01256482e+03 1.24387017e-02\n",
            " 2.68385279e-01 2.50577884e+01 4.05208138e-02 1.01923751e+03\n",
            " 1.24517214e-02 2.71204228e-01 2.48634103e+01 3.97342203e-02\n",
            " 1.01318356e+03 1.24357596e-02 2.32222993e-01 2.54886245e+01\n",
            " 3.92970938e-02 1.06972384e+03 1.24363468e-02 2.77652158e-01\n",
            " 2.49060000e+01 3.99898759e-02 1.01256482e+03 1.24387017e-02\n",
            " 2.68385279e-01 2.50577884e+01 4.05208138e-02 1.01923751e+03]\n"
          ]
        }
      ]
    },
    {
      "cell_type": "code",
      "source": [
        "print(len(x))"
      ],
      "metadata": {
        "colab": {
          "base_uri": "https://localhost:8080/"
        },
        "id": "m76dWWx6QvzV",
        "outputId": "c2bc81e5-7c45-4e66-e961-79eaf05facf8"
      },
      "execution_count": null,
      "outputs": [
        {
          "output_type": "stream",
          "name": "stdout",
          "text": [
            "1440\n"
          ]
        }
      ]
    },
    {
      "cell_type": "code",
      "source": [
        "y = list()"
      ],
      "metadata": {
        "id": "dztpDFUrQfja"
      },
      "execution_count": null,
      "outputs": []
    },
    {
      "cell_type": "code",
      "source": [
        "for i in range(0,6) :\n",
        "    for j in range(0,240):\n",
        "        y.append(i)\n"
      ],
      "metadata": {
        "id": "OMKN81jDQrkX"
      },
      "execution_count": null,
      "outputs": []
    },
    {
      "cell_type": "code",
      "source": [
        "print(y)"
      ],
      "metadata": {
        "colab": {
          "base_uri": "https://localhost:8080/"
        },
        "id": "jcvrJiINRIyW",
        "outputId": "06c3963b-976a-4095-cbeb-972d10e389b0"
      },
      "execution_count": null,
      "outputs": [
        {
          "output_type": "stream",
          "name": "stdout",
          "text": [
            "[0, 0, 0, 0, 0, 0, 0, 0, 0, 0, 0, 0, 0, 0, 0, 0, 0, 0, 0, 0, 0, 0, 0, 0, 0, 0, 0, 0, 0, 0, 0, 0, 0, 0, 0, 0, 0, 0, 0, 0, 0, 0, 0, 0, 0, 0, 0, 0, 0, 0, 0, 0, 0, 0, 0, 0, 0, 0, 0, 0, 0, 0, 0, 0, 0, 0, 0, 0, 0, 0, 0, 0, 0, 0, 0, 0, 0, 0, 0, 0, 0, 0, 0, 0, 0, 0, 0, 0, 0, 0, 0, 0, 0, 0, 0, 0, 0, 0, 0, 0, 0, 0, 0, 0, 0, 0, 0, 0, 0, 0, 0, 0, 0, 0, 0, 0, 0, 0, 0, 0, 0, 0, 0, 0, 0, 0, 0, 0, 0, 0, 0, 0, 0, 0, 0, 0, 0, 0, 0, 0, 0, 0, 0, 0, 0, 0, 0, 0, 0, 0, 0, 0, 0, 0, 0, 0, 0, 0, 0, 0, 0, 0, 0, 0, 0, 0, 0, 0, 0, 0, 0, 0, 0, 0, 0, 0, 0, 0, 0, 0, 0, 0, 0, 0, 0, 0, 0, 0, 0, 0, 0, 0, 0, 0, 0, 0, 0, 0, 0, 0, 0, 0, 0, 0, 0, 0, 0, 0, 0, 0, 0, 0, 0, 0, 0, 0, 0, 0, 0, 0, 0, 0, 0, 0, 0, 0, 0, 0, 0, 0, 0, 0, 0, 0, 0, 0, 0, 0, 0, 0, 1, 1, 1, 1, 1, 1, 1, 1, 1, 1, 1, 1, 1, 1, 1, 1, 1, 1, 1, 1, 1, 1, 1, 1, 1, 1, 1, 1, 1, 1, 1, 1, 1, 1, 1, 1, 1, 1, 1, 1, 1, 1, 1, 1, 1, 1, 1, 1, 1, 1, 1, 1, 1, 1, 1, 1, 1, 1, 1, 1, 1, 1, 1, 1, 1, 1, 1, 1, 1, 1, 1, 1, 1, 1, 1, 1, 1, 1, 1, 1, 1, 1, 1, 1, 1, 1, 1, 1, 1, 1, 1, 1, 1, 1, 1, 1, 1, 1, 1, 1, 1, 1, 1, 1, 1, 1, 1, 1, 1, 1, 1, 1, 1, 1, 1, 1, 1, 1, 1, 1, 1, 1, 1, 1, 1, 1, 1, 1, 1, 1, 1, 1, 1, 1, 1, 1, 1, 1, 1, 1, 1, 1, 1, 1, 1, 1, 1, 1, 1, 1, 1, 1, 1, 1, 1, 1, 1, 1, 1, 1, 1, 1, 1, 1, 1, 1, 1, 1, 1, 1, 1, 1, 1, 1, 1, 1, 1, 1, 1, 1, 1, 1, 1, 1, 1, 1, 1, 1, 1, 1, 1, 1, 1, 1, 1, 1, 1, 1, 1, 1, 1, 1, 1, 1, 1, 1, 1, 1, 1, 1, 1, 1, 1, 1, 1, 1, 1, 1, 1, 1, 1, 1, 1, 1, 1, 1, 1, 1, 1, 1, 1, 1, 1, 1, 1, 1, 1, 1, 1, 1, 2, 2, 2, 2, 2, 2, 2, 2, 2, 2, 2, 2, 2, 2, 2, 2, 2, 2, 2, 2, 2, 2, 2, 2, 2, 2, 2, 2, 2, 2, 2, 2, 2, 2, 2, 2, 2, 2, 2, 2, 2, 2, 2, 2, 2, 2, 2, 2, 2, 2, 2, 2, 2, 2, 2, 2, 2, 2, 2, 2, 2, 2, 2, 2, 2, 2, 2, 2, 2, 2, 2, 2, 2, 2, 2, 2, 2, 2, 2, 2, 2, 2, 2, 2, 2, 2, 2, 2, 2, 2, 2, 2, 2, 2, 2, 2, 2, 2, 2, 2, 2, 2, 2, 2, 2, 2, 2, 2, 2, 2, 2, 2, 2, 2, 2, 2, 2, 2, 2, 2, 2, 2, 2, 2, 2, 2, 2, 2, 2, 2, 2, 2, 2, 2, 2, 2, 2, 2, 2, 2, 2, 2, 2, 2, 2, 2, 2, 2, 2, 2, 2, 2, 2, 2, 2, 2, 2, 2, 2, 2, 2, 2, 2, 2, 2, 2, 2, 2, 2, 2, 2, 2, 2, 2, 2, 2, 2, 2, 2, 2, 2, 2, 2, 2, 2, 2, 2, 2, 2, 2, 2, 2, 2, 2, 2, 2, 2, 2, 2, 2, 2, 2, 2, 2, 2, 2, 2, 2, 2, 2, 2, 2, 2, 2, 2, 2, 2, 2, 2, 2, 2, 2, 2, 2, 2, 2, 2, 2, 2, 2, 2, 2, 2, 2, 2, 2, 2, 2, 2, 2, 3, 3, 3, 3, 3, 3, 3, 3, 3, 3, 3, 3, 3, 3, 3, 3, 3, 3, 3, 3, 3, 3, 3, 3, 3, 3, 3, 3, 3, 3, 3, 3, 3, 3, 3, 3, 3, 3, 3, 3, 3, 3, 3, 3, 3, 3, 3, 3, 3, 3, 3, 3, 3, 3, 3, 3, 3, 3, 3, 3, 3, 3, 3, 3, 3, 3, 3, 3, 3, 3, 3, 3, 3, 3, 3, 3, 3, 3, 3, 3, 3, 3, 3, 3, 3, 3, 3, 3, 3, 3, 3, 3, 3, 3, 3, 3, 3, 3, 3, 3, 3, 3, 3, 3, 3, 3, 3, 3, 3, 3, 3, 3, 3, 3, 3, 3, 3, 3, 3, 3, 3, 3, 3, 3, 3, 3, 3, 3, 3, 3, 3, 3, 3, 3, 3, 3, 3, 3, 3, 3, 3, 3, 3, 3, 3, 3, 3, 3, 3, 3, 3, 3, 3, 3, 3, 3, 3, 3, 3, 3, 3, 3, 3, 3, 3, 3, 3, 3, 3, 3, 3, 3, 3, 3, 3, 3, 3, 3, 3, 3, 3, 3, 3, 3, 3, 3, 3, 3, 3, 3, 3, 3, 3, 3, 3, 3, 3, 3, 3, 3, 3, 3, 3, 3, 3, 3, 3, 3, 3, 3, 3, 3, 3, 3, 3, 3, 3, 3, 3, 3, 3, 3, 3, 3, 3, 3, 3, 3, 3, 3, 3, 3, 3, 3, 3, 3, 3, 3, 3, 3, 4, 4, 4, 4, 4, 4, 4, 4, 4, 4, 4, 4, 4, 4, 4, 4, 4, 4, 4, 4, 4, 4, 4, 4, 4, 4, 4, 4, 4, 4, 4, 4, 4, 4, 4, 4, 4, 4, 4, 4, 4, 4, 4, 4, 4, 4, 4, 4, 4, 4, 4, 4, 4, 4, 4, 4, 4, 4, 4, 4, 4, 4, 4, 4, 4, 4, 4, 4, 4, 4, 4, 4, 4, 4, 4, 4, 4, 4, 4, 4, 4, 4, 4, 4, 4, 4, 4, 4, 4, 4, 4, 4, 4, 4, 4, 4, 4, 4, 4, 4, 4, 4, 4, 4, 4, 4, 4, 4, 4, 4, 4, 4, 4, 4, 4, 4, 4, 4, 4, 4, 4, 4, 4, 4, 4, 4, 4, 4, 4, 4, 4, 4, 4, 4, 4, 4, 4, 4, 4, 4, 4, 4, 4, 4, 4, 4, 4, 4, 4, 4, 4, 4, 4, 4, 4, 4, 4, 4, 4, 4, 4, 4, 4, 4, 4, 4, 4, 4, 4, 4, 4, 4, 4, 4, 4, 4, 4, 4, 4, 4, 4, 4, 4, 4, 4, 4, 4, 4, 4, 4, 4, 4, 4, 4, 4, 4, 4, 4, 4, 4, 4, 4, 4, 4, 4, 4, 4, 4, 4, 4, 4, 4, 4, 4, 4, 4, 4, 4, 4, 4, 4, 4, 4, 4, 4, 4, 4, 4, 4, 4, 4, 4, 4, 4, 4, 4, 4, 4, 4, 4, 5, 5, 5, 5, 5, 5, 5, 5, 5, 5, 5, 5, 5, 5, 5, 5, 5, 5, 5, 5, 5, 5, 5, 5, 5, 5, 5, 5, 5, 5, 5, 5, 5, 5, 5, 5, 5, 5, 5, 5, 5, 5, 5, 5, 5, 5, 5, 5, 5, 5, 5, 5, 5, 5, 5, 5, 5, 5, 5, 5, 5, 5, 5, 5, 5, 5, 5, 5, 5, 5, 5, 5, 5, 5, 5, 5, 5, 5, 5, 5, 5, 5, 5, 5, 5, 5, 5, 5, 5, 5, 5, 5, 5, 5, 5, 5, 5, 5, 5, 5, 5, 5, 5, 5, 5, 5, 5, 5, 5, 5, 5, 5, 5, 5, 5, 5, 5, 5, 5, 5, 5, 5, 5, 5, 5, 5, 5, 5, 5, 5, 5, 5, 5, 5, 5, 5, 5, 5, 5, 5, 5, 5, 5, 5, 5, 5, 5, 5, 5, 5, 5, 5, 5, 5, 5, 5, 5, 5, 5, 5, 5, 5, 5, 5, 5, 5, 5, 5, 5, 5, 5, 5, 5, 5, 5, 5, 5, 5, 5, 5, 5, 5, 5, 5, 5, 5, 5, 5, 5, 5, 5, 5, 5, 5, 5, 5, 5, 5, 5, 5, 5, 5, 5, 5, 5, 5, 5, 5, 5, 5, 5, 5, 5, 5, 5, 5, 5, 5, 5, 5, 5, 5, 5, 5, 5, 5, 5, 5, 5, 5, 5, 5, 5, 5, 5, 5, 5, 5, 5, 5]\n"
          ]
        }
      ]
    },
    {
      "cell_type": "code",
      "source": [
        "X_train = x\n",
        "y_train = y"
      ],
      "metadata": {
        "id": "UvhliqOLRJby"
      },
      "execution_count": null,
      "outputs": []
    },
    {
      "cell_type": "code",
      "source": [
        "dataset1 = pd.read_csv('GLCM_test.csv')\n",
        "print(dataset1)"
      ],
      "metadata": {
        "colab": {
          "base_uri": "https://localhost:8080/"
        },
        "id": "OKPzIOcfRUGw",
        "outputId": "4e8697b2-50c2-44b4-ddea-ec41f815089b"
      },
      "execution_count": null,
      "outputs": [
        {
          "output_type": "stream",
          "name": "stdout",
          "text": [
            "     Unnamed: 0   Energy0     Corr0  Diss_sim0  Homogen0    Contrast0  \\\n",
            "0             0  0.012284  0.311787  24.820462  0.041106  1019.260359   \n",
            "1             0  0.011590  0.532045  22.631256  0.045268   834.160744   \n",
            "2             0  0.011649  0.358521  25.117949  0.042049  1040.750256   \n",
            "3             0  0.011251  0.359499  26.398513  0.038530  1127.812256   \n",
            "4             0  0.011823  0.316927  25.709205  0.039344  1092.402744   \n",
            "..          ...       ...       ...        ...       ...          ...   \n",
            "355           0  0.046701  0.977281   3.292744  0.320080    32.446641   \n",
            "356           0  0.052898  0.930696   2.625872  0.340889    22.747872   \n",
            "357           0  0.039938  0.927689   5.251282  0.195772    64.931487   \n",
            "358           0  0.033672  0.903525   6.170615  0.219845   171.253436   \n",
            "359           0  0.041404  0.888943   5.009615  0.213127    74.173205   \n",
            "\n",
            "      Energy1     Corr1  Diss_sim1  Homogen1  ...   Energy6     Corr6  \\\n",
            "0    0.012229  0.295269  25.150953  0.040658  ...  0.012267  0.337588   \n",
            "1    0.011475  0.496608  23.566977  0.043238  ...  0.011454  0.519375   \n",
            "2    0.011670  0.353127  25.247163  0.040122  ...  0.011773  0.410818   \n",
            "3    0.011135  0.320691  27.381195  0.037166  ...  0.011116  0.366094   \n",
            "4    0.011830  0.308295  25.845950  0.039722  ...  0.011914  0.363817   \n",
            "..        ...       ...        ...       ...  ...       ...       ...   \n",
            "355  0.037625  0.693511  10.390671  0.215863  ...  0.036213  0.647418   \n",
            "356  0.048940  0.680266   4.089598  0.308483  ...  0.048737  0.631494   \n",
            "357  0.038067  0.486673   9.551307  0.172932  ...  0.039028  0.428962   \n",
            "358  0.032280  0.688017  10.006273  0.197023  ...  0.033072  0.576624   \n",
            "359  0.036451  0.430715   9.214702  0.171011  ...  0.035780  0.355011   \n",
            "\n",
            "     Diss_sim6  Homogen6    Contrast6   Energy7     Corr7  Diss_sim7  \\\n",
            "0    24.516179  0.042432   988.077615  0.012198  0.288452  25.291988   \n",
            "1    23.173282  0.044095   881.632769  0.011566  0.518553  23.029441   \n",
            "2    24.175795  0.043477   952.155231  0.011612  0.334072  25.681331   \n",
            "3    26.681821  0.037076  1142.733615  0.011140  0.311734  27.441561   \n",
            "4    24.878897  0.041179  1012.229821  0.011850  0.312730  25.787016   \n",
            "..         ...       ...          ...       ...       ...        ...   \n",
            "355  11.530128  0.195272   504.971154  0.037130  0.685679  10.567940   \n",
            "356   4.376641  0.297802   117.836641  0.049244  0.657280   4.288187   \n",
            "357   9.852564  0.178268   526.271641  0.038072  0.457921   9.744638   \n",
            "358  11.415615  0.199975   752.360077  0.032003  0.588856  11.473527   \n",
            "359   9.813487  0.168924   444.870872  0.036442  0.409715   9.311563   \n",
            "\n",
            "     Homogen7    Contrast7  \n",
            "0    0.041209  1053.806305  \n",
            "1    0.044173   860.134241  \n",
            "2    0.038370  1077.315441  \n",
            "3    0.035770  1215.886532  \n",
            "4    0.037954  1090.835069  \n",
            "..        ...          ...  \n",
            "355  0.211579   450.383174  \n",
            "356  0.294108   109.183908  \n",
            "357  0.172121   495.202312  \n",
            "358  0.189257   734.857429  \n",
            "359  0.168403   399.055940  \n",
            "\n",
            "[360 rows x 41 columns]\n"
          ]
        }
      ]
    },
    {
      "cell_type": "code",
      "source": [
        "x = dataset1.iloc[:,1:].values\n",
        "print(len(x[0]))"
      ],
      "metadata": {
        "colab": {
          "base_uri": "https://localhost:8080/"
        },
        "id": "j4-y-ob3RrM8",
        "outputId": "f54577cb-0a5d-40ab-f9b1-d2d97e5fbdd6"
      },
      "execution_count": null,
      "outputs": [
        {
          "output_type": "stream",
          "name": "stdout",
          "text": [
            "40\n"
          ]
        }
      ]
    },
    {
      "cell_type": "code",
      "source": [
        "print(x)\n",
        "print(x[0])"
      ],
      "metadata": {
        "colab": {
          "base_uri": "https://localhost:8080/"
        },
        "id": "y9YOWDpLRu7c",
        "outputId": "6cb3be04-40bb-4d94-c484-88161b51b5ef"
      },
      "execution_count": null,
      "outputs": [
        {
          "output_type": "stream",
          "name": "stdout",
          "text": [
            "[[1.22837374e-02 3.11786677e-01 2.48204615e+01 ... 2.52919877e+01\n",
            "  4.12090470e-02 1.05380630e+03]\n",
            " [1.15904810e-02 5.32045089e-01 2.26312564e+01 ... 2.30294409e+01\n",
            "  4.41729560e-02 8.60134241e+02]\n",
            " [1.16493814e-02 3.58520753e-01 2.51179487e+01 ... 2.56813307e+01\n",
            "  3.83698324e-02 1.07731544e+03]\n",
            " ...\n",
            " [3.99379203e-02 9.27688946e-01 5.25128205e+00 ... 9.74463765e+00\n",
            "  1.72121360e-01 4.95202312e+02]\n",
            " [3.36716754e-02 9.03525199e-01 6.17061538e+00 ... 1.14735267e+01\n",
            "  1.89257210e-01 7.34857429e+02]\n",
            " [4.14036432e-02 8.88943344e-01 5.00961538e+00 ... 9.31156289e+00\n",
            "  1.68402502e-01 3.99055940e+02]]\n",
            "[1.22837374e-02 3.11786677e-01 2.48204615e+01 4.11062064e-02\n",
            " 1.01926036e+03 1.22285026e-02 2.95268763e-01 2.51509527e+01\n",
            " 4.06580398e-02 1.04353564e+03 1.22668125e-02 3.37588169e-01\n",
            " 2.45161795e+01 4.24323229e-02 9.88077615e+02 1.21978769e-02\n",
            " 2.88452187e-01 2.52919877e+01 4.12090470e-02 1.05380630e+03\n",
            " 1.22837374e-02 3.11786677e-01 2.48204615e+01 4.11062064e-02\n",
            " 1.01926036e+03 1.22285026e-02 2.95268763e-01 2.51509527e+01\n",
            " 4.06580398e-02 1.04353564e+03 1.22668125e-02 3.37588169e-01\n",
            " 2.45161795e+01 4.24323229e-02 9.88077615e+02 1.21978769e-02\n",
            " 2.88452187e-01 2.52919877e+01 4.12090470e-02 1.05380630e+03]\n"
          ]
        }
      ]
    },
    {
      "cell_type": "code",
      "source": [
        "print(len(x))"
      ],
      "metadata": {
        "colab": {
          "base_uri": "https://localhost:8080/"
        },
        "id": "PxbqLuGZRzOG",
        "outputId": "2cfe109c-b8aa-47e4-d95e-b2241829d6b4"
      },
      "execution_count": null,
      "outputs": [
        {
          "output_type": "stream",
          "name": "stdout",
          "text": [
            "360\n"
          ]
        }
      ]
    },
    {
      "cell_type": "code",
      "source": [
        "y = list()"
      ],
      "metadata": {
        "id": "8EI_d01dR_Z8"
      },
      "execution_count": null,
      "outputs": []
    },
    {
      "cell_type": "code",
      "source": [
        "for i in range(0,6) :\n",
        "    for j in range(0,60):\n",
        "        y.append(i)\n"
      ],
      "metadata": {
        "id": "zjGTQusQR8OT"
      },
      "execution_count": null,
      "outputs": []
    },
    {
      "cell_type": "code",
      "source": [
        "X_test = x\n",
        "y_test = y"
      ],
      "metadata": {
        "id": "fbpuLVcTSDC5"
      },
      "execution_count": null,
      "outputs": []
    },
    {
      "cell_type": "code",
      "source": [
        "print(len(X_train))\n",
        "print(len(X_test))\n",
        "print(len(y_train))\n",
        "print(len(y_test))"
      ],
      "metadata": {
        "colab": {
          "base_uri": "https://localhost:8080/"
        },
        "id": "oHfsc7DcSHMM",
        "outputId": "4e5937f8-8c35-4408-9085-a3f0aa33e363"
      },
      "execution_count": null,
      "outputs": [
        {
          "output_type": "stream",
          "name": "stdout",
          "text": [
            "1440\n",
            "360\n",
            "1440\n",
            "360\n"
          ]
        }
      ]
    },
    {
      "cell_type": "code",
      "source": [
        "X_train=np.array(X_train)\n",
        "y_train=np.array(y_train)\n",
        "X_test=np.array(X_test)\n",
        "y_test=np.array(y_test)"
      ],
      "metadata": {
        "id": "5UGEkAclSUVC"
      },
      "execution_count": null,
      "outputs": []
    },
    {
      "cell_type": "code",
      "source": [
        "print ('Train set:', X_train.shape,  y_train.shape)\n",
        "print ('Test set:', X_test.shape,  y_test.shape)"
      ],
      "metadata": {
        "colab": {
          "base_uri": "https://localhost:8080/"
        },
        "id": "w6Hsckn3SY3M",
        "outputId": "9da502f6-1d3d-4237-f142-fadfbc6f47cc"
      },
      "execution_count": null,
      "outputs": [
        {
          "output_type": "stream",
          "name": "stdout",
          "text": [
            "Train set: (1440, 40) (1440,)\n",
            "Test set: (360, 40) (360,)\n"
          ]
        }
      ]
    },
    {
      "cell_type": "code",
      "source": [
        "nsamples, nx = X_train.shape\n",
        "X_train = X_train.reshape((nsamples,nx))"
      ],
      "metadata": {
        "id": "qktya8lBSZ3a"
      },
      "execution_count": null,
      "outputs": []
    },
    {
      "cell_type": "code",
      "source": [
        "print(X_train.shape)"
      ],
      "metadata": {
        "colab": {
          "base_uri": "https://localhost:8080/"
        },
        "id": "BiXq0NhtSbx7",
        "outputId": "ab82b84d-e157-47ca-e8bc-6dd092003bb7"
      },
      "execution_count": null,
      "outputs": [
        {
          "output_type": "stream",
          "name": "stdout",
          "text": [
            "(1440, 40)\n"
          ]
        }
      ]
    },
    {
      "cell_type": "code",
      "source": [
        "nsamples, nx = X_test.shape\n",
        "X_test = X_test.reshape((nsamples,nx))"
      ],
      "metadata": {
        "id": "WsphffhyScs8"
      },
      "execution_count": null,
      "outputs": []
    },
    {
      "cell_type": "code",
      "source": [
        "print(X_test.shape)"
      ],
      "metadata": {
        "colab": {
          "base_uri": "https://localhost:8080/"
        },
        "id": "xl5IHifZSdmj",
        "outputId": "f4e4f692-70ac-4609-c9dd-1b1f0db2d5c7"
      },
      "execution_count": null,
      "outputs": [
        {
          "output_type": "stream",
          "name": "stdout",
          "text": [
            "(360, 40)\n"
          ]
        }
      ]
    },
    {
      "cell_type": "code",
      "source": [
        "from sklearn.ensemble import RandomForestClassifier\n",
        "#Import scikit-learn metrics module for accuracy calculation\n",
        "from sklearn import metrics"
      ],
      "metadata": {
        "id": "dp6bXBCoUrL7"
      },
      "execution_count": null,
      "outputs": []
    },
    {
      "cell_type": "code",
      "source": [
        "train_accuracy = list()\n",
        "test_accuracy = list()\n",
        "no_of_estimators = list()"
      ],
      "metadata": {
        "id": "E5iwIMJqUtc0"
      },
      "execution_count": null,
      "outputs": []
    },
    {
      "cell_type": "code",
      "source": [
        "for i in range(10,100,5) :\n",
        "    #Create a Gaussian Classifier\n",
        "    clf=RandomForestClassifier(n_estimators=i)\n",
        "\n",
        "    #Train the model using the training sets y_pred=clf.predict(X_test)\n",
        "    clf.fit(X_train, y_train)\n",
        "    y_pred=clf.predict(X_train)\n",
        "    #print(\"Train Accuracy:\",metrics.accuracy_score(output_class, y_pred))\n",
        "    train_accuracy.append(metrics.accuracy_score(y_train, y_pred))\n",
        "\n",
        "    y_pred_test = clf.predict(X_test)\n",
        "    #print(\"Test Accuracy:\",metrics.accuracy_score(output_predict_class, y_pred_test))\n",
        "    test_accuracy.append(metrics.accuracy_score(y_test, y_pred_test))\n",
        "\n",
        "    no_of_estimators.append(i)"
      ],
      "metadata": {
        "id": "502vEWBsUuU9"
      },
      "execution_count": null,
      "outputs": []
    },
    {
      "cell_type": "code",
      "source": [
        "print(train_accuracy)\n",
        "print(test_accuracy)\n",
        "print(no_of_estimators)"
      ],
      "metadata": {
        "colab": {
          "base_uri": "https://localhost:8080/"
        },
        "id": "XKGMyE6CUvRy",
        "outputId": "46060aab-753e-4f85-bcb2-47e15fcff7f4"
      },
      "execution_count": null,
      "outputs": [
        {
          "output_type": "stream",
          "name": "stdout",
          "text": [
            "[0.9958333333333333, 0.9986111111111111, 0.9965277777777778, 0.9986111111111111, 1.0, 1.0, 1.0, 1.0, 1.0, 1.0, 1.0, 1.0, 1.0, 1.0, 1.0, 1.0, 1.0, 1.0]\n",
            "[0.8833333333333333, 0.8861111111111111, 0.9, 0.8861111111111111, 0.8944444444444445, 0.8916666666666667, 0.8944444444444445, 0.8861111111111111, 0.8833333333333333, 0.8861111111111111, 0.9, 0.9, 0.8861111111111111, 0.8805555555555555, 0.8861111111111111, 0.9, 0.8972222222222223, 0.8888888888888888]\n",
            "[10, 15, 20, 25, 30, 35, 40, 45, 50, 55, 60, 65, 70, 75, 80, 85, 90, 95]\n"
          ]
        }
      ]
    },
    {
      "cell_type": "code",
      "source": [
        "plt.plot(no_of_estimators, train_accuracy, 'g', label='Training Accuracy')\n",
        "plt.plot(no_of_estimators, test_accuracy, 'b', label='Testing Accuracy')\n",
        "plt.title('Training and Testing Accuracy')\n",
        "plt.xlabel('no_of_estimators')\n",
        "plt.ylabel('Accuracy')\n",
        "plt.legend()\n",
        "plt.show()"
      ],
      "metadata": {
        "colab": {
          "base_uri": "https://localhost:8080/",
          "height": 296
        },
        "id": "wXgH4NP7UwVr",
        "outputId": "0efc0b8e-8279-4d4d-b753-86a56c42df0e"
      },
      "execution_count": null,
      "outputs": [
        {
          "output_type": "display_data",
          "data": {
            "text/plain": [
              "<Figure size 432x288 with 1 Axes>"
            ],
            "image/png": "[encoded data removed]"
          },
          "metadata": {
            "needs_background": "light"
          }
        }
      ]
    },
    {
      "cell_type": "code",
      "source": [
        "max(test_accuracy)"
      ],
      "metadata": {
        "colab": {
          "base_uri": "https://localhost:8080/"
        },
        "id": "5PA_yDhCUzrX",
        "outputId": "7189b72c-c663-4b5a-b588-7af1c1345159"
      },
      "execution_count": null,
      "outputs": [
        {
          "output_type": "execute_result",
          "data": {
            "text/plain": [
              "0.9"
            ]
          },
          "metadata": {},
          "execution_count": 36
        }
      ]
    },
    {
      "cell_type": "code",
      "source": [
        "clf=RandomForestClassifier(n_estimators=25)\n",
        "\n",
        "#Train the model using the training sets y_pred=clf.predict(X_test)\n",
        "clf.fit(X_train, y_train)\n",
        "y_pred=clf.predict(X_train)\n",
        "y_pred_test = clf.predict(X_test)\n",
        "\n",
        "print(metrics.accuracy_score(y_test, y_pred_test))\n",
        "print(confusion_matrix(y_test, y_pred_test))\n",
        "print(classification_report(y_test,y_pred_test))"
      ],
      "metadata": {
        "colab": {
          "base_uri": "https://localhost:8080/"
        },
        "id": "D2MlIRKBU04W",
        "outputId": "c785b3b4-028d-449f-d3f3-a7061f9f5489"
      },
      "execution_count": null,
      "outputs": [
        {
          "output_type": "stream",
          "name": "stdout",
          "text": [
            "0.875\n",
            "[[57  0  2  1  0  0]\n",
            " [ 0 46  0 11  0  3]\n",
            " [ 4  0 53  3  0  0]\n",
            " [ 7  1  6 43  2  1]\n",
            " [ 0  0  0  0 60  0]\n",
            " [ 0  2  0  0  2 56]]\n",
            "              precision    recall  f1-score   support\n",
            "\n",
            "           0       0.84      0.95      0.89        60\n",
            "           1       0.94      0.77      0.84        60\n",
            "           2       0.87      0.88      0.88        60\n",
            "           3       0.74      0.72      0.73        60\n",
            "           4       0.94      1.00      0.97        60\n",
            "           5       0.93      0.93      0.93        60\n",
            "\n",
            "    accuracy                           0.88       360\n",
            "   macro avg       0.88      0.88      0.87       360\n",
            "weighted avg       0.88      0.88      0.87       360\n",
            "\n"
          ]
        }
      ]
    },
    {
      "cell_type": "code",
      "source": [
        ""
      ],
      "metadata": {
        "id": "J9u8NKGUVIc7"
      },
      "execution_count": null,
      "outputs": []
    }
  ]
}