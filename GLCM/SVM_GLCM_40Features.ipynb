{
  "nbformat": 4,
  "nbformat_minor": 0,
  "metadata": {
    "colab": {
      "name": "Project_40.ipynb",
      "provenance": []
    },
    "kernelspec": {
      "name": "python3",
      "display_name": "Python 3"
    },
    "language_info": {
      "name": "python"
    }
  },
  "cells": [
    {
      "cell_type": "markdown",
      "source": [
        "SVM\n",
        "Feature Extraction Method: GLCM\n",
        "Features Taken with distance = 5, angle = 0,45,90,135,180,225,270,315) (total 40 features)"
      ],
      "metadata": {
        "id": "1TYhaw4CTb5R"
      }
    },
    {
      "cell_type": "code",
      "execution_count": null,
      "metadata": {
        "id": "IMBKkk8pOgQf"
      },
      "outputs": [],
      "source": [
        "from google.colab import drive"
      ]
    },
    {
      "cell_type": "code",
      "source": [
        "drive.mount('/content/drive')"
      ],
      "metadata": {
        "colab": {
          "base_uri": "https://localhost:8080/"
        },
        "id": "CQw3ZZWIOubz",
        "outputId": "0ae9ebe3-c136-49a0-cd9b-35eb6d55ab29"
      },
      "execution_count": null,
      "outputs": [
        {
          "output_type": "stream",
          "name": "stdout",
          "text": [
            "Mounted at /content/drive\n"
          ]
        }
      ]
    },
    {
      "cell_type": "code",
      "source": [
        "cd /content/drive/\"MyDrive/Machine Learning/GLCM_5Distance\""
      ],
      "metadata": {
        "colab": {
          "base_uri": "https://localhost:8080/"
        },
        "id": "cgnc0JB4PUpV",
        "outputId": "ec06af62-f8f3-4dda-a415-dba7135239f3"
      },
      "execution_count": null,
      "outputs": [
        {
          "output_type": "stream",
          "name": "stdout",
          "text": [
            "/content/drive/MyDrive/Machine Learning/GLCM_5Distance\n"
          ]
        }
      ]
    },
    {
      "cell_type": "code",
      "source": [
        "import pandas as pd\n",
        "import numpy as np\n",
        "import matplotlib.pyplot as plt\n",
        "from sklearn.model_selection import train_test_split\n",
        "import glob\n",
        "import cv2\n",
        "from sklearn.ensemble import RandomForestClassifier\n",
        "from sklearn import metrics\n",
        "from sklearn import svm\n",
        "from sklearn.metrics import classification_report, confusion_matrix\n",
        "import itertools\n",
        "from skimage.filters import sobel\n",
        "from skimage.feature import greycomatrix, greycoprops\n",
        "import time"
      ],
      "metadata": {
        "id": "ZoDpv16mOva4"
      },
      "execution_count": null,
      "outputs": []
    },
    {
      "cell_type": "code",
      "source": [
        "X_train = list()\n",
        "X_test = list()\n",
        "y_train = list()\n",
        "y_test = list()\n",
        "\n",
        "# for k fold cross validation\n",
        "x_new = list()\n",
        "y_new = list()"
      ],
      "metadata": {
        "id": "CN1HOcsTO5R9"
      },
      "execution_count": null,
      "outputs": []
    },
    {
      "cell_type": "code",
      "source": [
        "# 0 = crazing \n",
        "# 1 = inclusion\n",
        "# 2 = patches\n",
        "# 3 = pitted_surface\n",
        "# 4 = rolled in scale\n",
        "# 5 = scratches"
      ],
      "metadata": {
        "id": "2SU6a4DnO8tx"
      },
      "execution_count": null,
      "outputs": []
    },
    {
      "cell_type": "code",
      "source": [
        "dataset1 = pd.read_csv('GLCM_train.csv')\n",
        "print(dataset1)"
      ],
      "metadata": {
        "colab": {
          "base_uri": "https://localhost:8080/"
        },
        "id": "G5zmMTiRPBRy",
        "outputId": "6999723e-d9f8-4861-cc5c-c7435373236f"
      },
      "execution_count": null,
      "outputs": [
        {
          "output_type": "stream",
          "name": "stdout",
          "text": [
            "      Unnamed: 0   Energy0     Corr0  Diss_sim0  Homogen0    Contrast0  \\\n",
            "0              0  0.012452  0.271204  24.863410  0.039734  1013.183564   \n",
            "1              0  0.013405  0.441275  20.117205  0.050860   657.472590   \n",
            "2              0  0.013246  0.376922  21.538026  0.047030   747.128641   \n",
            "3              0  0.014207  0.307237  20.938308  0.047282   713.287026   \n",
            "4              0  0.011498  0.413125  24.385974  0.041033   961.435462   \n",
            "...          ...       ...       ...        ...       ...          ...   \n",
            "1435           0  0.027185  0.906224   5.758308  0.194348    75.368103   \n",
            "1436           0  0.044096  0.719087   6.977718  0.286380   336.668385   \n",
            "1437           0  0.033335  0.835101   8.238564  0.250575   321.118462   \n",
            "1438           0  0.034867  0.864708  12.198667  0.184691   662.054513   \n",
            "1439           0  0.041291  0.818318   6.795128  0.248586   213.973590   \n",
            "\n",
            "       Energy1     Corr1  Diss_sim1  Homogen1  ...   Energy6     Corr6  \\\n",
            "0     0.012436  0.232223  25.488625  0.039297  ...  0.012436  0.277652   \n",
            "1     0.013412  0.448902  20.011922  0.049570  ...  0.013611  0.531014   \n",
            "2     0.013201  0.365006  21.774703  0.046494  ...  0.013127  0.397121   \n",
            "3     0.014131  0.304585  21.051515  0.046492  ...  0.014267  0.386965   \n",
            "4     0.011491  0.410447  24.415764  0.041475  ...  0.011572  0.468387   \n",
            "...        ...       ...        ...       ...  ...       ...       ...   \n",
            "1435  0.026228  0.899232   6.029935  0.188482  ...  0.028126  0.947486   \n",
            "1436  0.043939  0.735441   6.673417  0.301203  ...  0.047175  0.929122   \n",
            "1437  0.034243  0.863560   7.487453  0.264021  ...  0.038286  0.974283   \n",
            "1438  0.036756  0.896957  10.789046  0.191916  ...  0.046291  0.988384   \n",
            "1439  0.041047  0.845792   6.240967  0.249408  ...  0.042420  0.985282   \n",
            "\n",
            "      Diss_sim6  Homogen6    Contrast6   Energy7     Corr7  Diss_sim7  \\\n",
            "0     24.906000  0.039990  1012.564821  0.012439  0.268385  25.057788   \n",
            "1     18.590051  0.053608   560.551538  0.013451  0.470073  19.663135   \n",
            "2     21.367692  0.047655   739.713846  0.013116  0.338426  22.207179   \n",
            "3     19.904872  0.049606   640.252718  0.014193  0.315293  20.823355   \n",
            "4     23.372359  0.043189   883.505692  0.011519  0.404090  24.471236   \n",
            "...         ...       ...          ...       ...       ...        ...   \n",
            "1435   4.734513  0.210921    42.404923  0.026145  0.898739   6.204524   \n",
            "1436   3.508872  0.356384    84.239333  0.044133  0.772735   6.229332   \n",
            "1437   3.887872  0.299838    49.964897  0.034322  0.868239   7.390749   \n",
            "1438   4.534179  0.257726    55.993103  0.036642  0.895140  10.742946   \n",
            "1439   2.979615  0.296650    17.311000  0.040936  0.848839   6.077259   \n",
            "\n",
            "      Homogen7    Contrast7  \n",
            "0     0.040521  1019.237505  \n",
            "1     0.051356   626.654545  \n",
            "2     0.046214   796.455565  \n",
            "3     0.047984   708.589390  \n",
            "4     0.041855   976.399703  \n",
            "...        ...          ...  \n",
            "1435  0.180988    81.891478  \n",
            "1436  0.295136   271.652645  \n",
            "1437  0.249918   254.045684  \n",
            "1438  0.196038   511.558647  \n",
            "1439  0.254340   177.470117  \n",
            "\n",
            "[1440 rows x 41 columns]\n"
          ]
        }
      ]
    },
    {
      "cell_type": "code",
      "source": [
        "x = dataset1.iloc[:,1:].values\n",
        "print(len(x[0]))"
      ],
      "metadata": {
        "colab": {
          "base_uri": "https://localhost:8080/"
        },
        "id": "uxaFqQqHQCTL",
        "outputId": "bdc0ed6b-4902-469a-8149-8f25e563fe0d"
      },
      "execution_count": null,
      "outputs": [
        {
          "output_type": "stream",
          "name": "stdout",
          "text": [
            "40\n"
          ]
        }
      ]
    },
    {
      "cell_type": "code",
      "source": [
        "print(x)"
      ],
      "metadata": {
        "colab": {
          "base_uri": "https://localhost:8080/"
        },
        "id": "rGMlJ3SiQVKX",
        "outputId": "ea21c98d-9439-498a-aa50-67cbb0e3c8cf"
      },
      "execution_count": null,
      "outputs": [
        {
          "output_type": "stream",
          "name": "stdout",
          "text": [
            "[[1.24517214e-02 2.71204228e-01 2.48634103e+01 ... 2.50577884e+01\n",
            "  4.05208138e-02 1.01923751e+03]\n",
            " [1.34048379e-02 4.41275423e-01 2.01172051e+01 ... 1.96631352e+01\n",
            "  5.13562318e-02 6.26654545e+02]\n",
            " [1.32462640e-02 3.76921626e-01 2.15380256e+01 ... 2.22071793e+01\n",
            "  4.62140829e-02 7.96455565e+02]\n",
            " ...\n",
            " [3.33351676e-02 8.35100932e-01 8.23856410e+00 ... 7.39074865e+00\n",
            "  2.49918243e-01 2.54045684e+02]\n",
            " [3.48665720e-02 8.64707627e-01 1.21986667e+01 ... 1.07429456e+01\n",
            "  1.96037798e-01 5.11558647e+02]\n",
            " [4.12908734e-02 8.18317591e-01 6.79512821e+00 ... 6.07725948e+00\n",
            "  2.54339847e-01 1.77470117e+02]]\n"
          ]
        }
      ]
    },
    {
      "cell_type": "code",
      "source": [
        "print(x[0])"
      ],
      "metadata": {
        "colab": {
          "base_uri": "https://localhost:8080/"
        },
        "id": "yuge5Jq7QY6D",
        "outputId": "54fe1b9e-78bc-47e4-8fb5-9ed040d58003"
      },
      "execution_count": null,
      "outputs": [
        {
          "output_type": "stream",
          "name": "stdout",
          "text": [
            "[1.24517214e-02 2.71204228e-01 2.48634103e+01 3.97342203e-02\n",
            " 1.01318356e+03 1.24357596e-02 2.32222993e-01 2.54886245e+01\n",
            " 3.92970938e-02 1.06972384e+03 1.24363468e-02 2.77652158e-01\n",
            " 2.49060000e+01 3.99898759e-02 1.01256482e+03 1.24387017e-02\n",
            " 2.68385279e-01 2.50577884e+01 4.05208138e-02 1.01923751e+03\n",
            " 1.24517214e-02 2.71204228e-01 2.48634103e+01 3.97342203e-02\n",
            " 1.01318356e+03 1.24357596e-02 2.32222993e-01 2.54886245e+01\n",
            " 3.92970938e-02 1.06972384e+03 1.24363468e-02 2.77652158e-01\n",
            " 2.49060000e+01 3.99898759e-02 1.01256482e+03 1.24387017e-02\n",
            " 2.68385279e-01 2.50577884e+01 4.05208138e-02 1.01923751e+03]\n"
          ]
        }
      ]
    },
    {
      "cell_type": "code",
      "source": [
        "print(len(x))"
      ],
      "metadata": {
        "colab": {
          "base_uri": "https://localhost:8080/"
        },
        "id": "m76dWWx6QvzV",
        "outputId": "2e3ec6d3-4341-4894-abfc-6bcfeb26cdcf"
      },
      "execution_count": null,
      "outputs": [
        {
          "output_type": "stream",
          "name": "stdout",
          "text": [
            "1440\n"
          ]
        }
      ]
    },
    {
      "cell_type": "code",
      "source": [
        "y = list()"
      ],
      "metadata": {
        "id": "dztpDFUrQfja"
      },
      "execution_count": null,
      "outputs": []
    },
    {
      "cell_type": "code",
      "source": [
        "for i in range(0,6) :\n",
        "    for j in range(0,240):\n",
        "        y.append(i)\n"
      ],
      "metadata": {
        "id": "OMKN81jDQrkX"
      },
      "execution_count": null,
      "outputs": []
    },
    {
      "cell_type": "code",
      "source": [
        "print(y)"
      ],
      "metadata": {
        "colab": {
          "base_uri": "https://localhost:8080/"
        },
        "id": "jcvrJiINRIyW",
        "outputId": "121c7da5-fcc5-47a5-fa77-b647f50b5aa8"
      },
      "execution_count": null,
      "outputs": [
        {
          "output_type": "stream",
          "name": "stdout",
          "text": [
            "[0, 0, 0, 0, 0, 0, 0, 0, 0, 0, 0, 0, 0, 0, 0, 0, 0, 0, 0, 0, 0, 0, 0, 0, 0, 0, 0, 0, 0, 0, 0, 0, 0, 0, 0, 0, 0, 0, 0, 0, 0, 0, 0, 0, 0, 0, 0, 0, 0, 0, 0, 0, 0, 0, 0, 0, 0, 0, 0, 0, 0, 0, 0, 0, 0, 0, 0, 0, 0, 0, 0, 0, 0, 0, 0, 0, 0, 0, 0, 0, 0, 0, 0, 0, 0, 0, 0, 0, 0, 0, 0, 0, 0, 0, 0, 0, 0, 0, 0, 0, 0, 0, 0, 0, 0, 0, 0, 0, 0, 0, 0, 0, 0, 0, 0, 0, 0, 0, 0, 0, 0, 0, 0, 0, 0, 0, 0, 0, 0, 0, 0, 0, 0, 0, 0, 0, 0, 0, 0, 0, 0, 0, 0, 0, 0, 0, 0, 0, 0, 0, 0, 0, 0, 0, 0, 0, 0, 0, 0, 0, 0, 0, 0, 0, 0, 0, 0, 0, 0, 0, 0, 0, 0, 0, 0, 0, 0, 0, 0, 0, 0, 0, 0, 0, 0, 0, 0, 0, 0, 0, 0, 0, 0, 0, 0, 0, 0, 0, 0, 0, 0, 0, 0, 0, 0, 0, 0, 0, 0, 0, 0, 0, 0, 0, 0, 0, 0, 0, 0, 0, 0, 0, 0, 0, 0, 0, 0, 0, 0, 0, 0, 0, 0, 0, 0, 0, 0, 0, 0, 0, 1, 1, 1, 1, 1, 1, 1, 1, 1, 1, 1, 1, 1, 1, 1, 1, 1, 1, 1, 1, 1, 1, 1, 1, 1, 1, 1, 1, 1, 1, 1, 1, 1, 1, 1, 1, 1, 1, 1, 1, 1, 1, 1, 1, 1, 1, 1, 1, 1, 1, 1, 1, 1, 1, 1, 1, 1, 1, 1, 1, 1, 1, 1, 1, 1, 1, 1, 1, 1, 1, 1, 1, 1, 1, 1, 1, 1, 1, 1, 1, 1, 1, 1, 1, 1, 1, 1, 1, 1, 1, 1, 1, 1, 1, 1, 1, 1, 1, 1, 1, 1, 1, 1, 1, 1, 1, 1, 1, 1, 1, 1, 1, 1, 1, 1, 1, 1, 1, 1, 1, 1, 1, 1, 1, 1, 1, 1, 1, 1, 1, 1, 1, 1, 1, 1, 1, 1, 1, 1, 1, 1, 1, 1, 1, 1, 1, 1, 1, 1, 1, 1, 1, 1, 1, 1, 1, 1, 1, 1, 1, 1, 1, 1, 1, 1, 1, 1, 1, 1, 1, 1, 1, 1, 1, 1, 1, 1, 1, 1, 1, 1, 1, 1, 1, 1, 1, 1, 1, 1, 1, 1, 1, 1, 1, 1, 1, 1, 1, 1, 1, 1, 1, 1, 1, 1, 1, 1, 1, 1, 1, 1, 1, 1, 1, 1, 1, 1, 1, 1, 1, 1, 1, 1, 1, 1, 1, 1, 1, 1, 1, 1, 1, 1, 1, 1, 1, 1, 1, 1, 1, 2, 2, 2, 2, 2, 2, 2, 2, 2, 2, 2, 2, 2, 2, 2, 2, 2, 2, 2, 2, 2, 2, 2, 2, 2, 2, 2, 2, 2, 2, 2, 2, 2, 2, 2, 2, 2, 2, 2, 2, 2, 2, 2, 2, 2, 2, 2, 2, 2, 2, 2, 2, 2, 2, 2, 2, 2, 2, 2, 2, 2, 2, 2, 2, 2, 2, 2, 2, 2, 2, 2, 2, 2, 2, 2, 2, 2, 2, 2, 2, 2, 2, 2, 2, 2, 2, 2, 2, 2, 2, 2, 2, 2, 2, 2, 2, 2, 2, 2, 2, 2, 2, 2, 2, 2, 2, 2, 2, 2, 2, 2, 2, 2, 2, 2, 2, 2, 2, 2, 2, 2, 2, 2, 2, 2, 2, 2, 2, 2, 2, 2, 2, 2, 2, 2, 2, 2, 2, 2, 2, 2, 2, 2, 2, 2, 2, 2, 2, 2, 2, 2, 2, 2, 2, 2, 2, 2, 2, 2, 2, 2, 2, 2, 2, 2, 2, 2, 2, 2, 2, 2, 2, 2, 2, 2, 2, 2, 2, 2, 2, 2, 2, 2, 2, 2, 2, 2, 2, 2, 2, 2, 2, 2, 2, 2, 2, 2, 2, 2, 2, 2, 2, 2, 2, 2, 2, 2, 2, 2, 2, 2, 2, 2, 2, 2, 2, 2, 2, 2, 2, 2, 2, 2, 2, 2, 2, 2, 2, 2, 2, 2, 2, 2, 2, 2, 2, 2, 2, 2, 2, 3, 3, 3, 3, 3, 3, 3, 3, 3, 3, 3, 3, 3, 3, 3, 3, 3, 3, 3, 3, 3, 3, 3, 3, 3, 3, 3, 3, 3, 3, 3, 3, 3, 3, 3, 3, 3, 3, 3, 3, 3, 3, 3, 3, 3, 3, 3, 3, 3, 3, 3, 3, 3, 3, 3, 3, 3, 3, 3, 3, 3, 3, 3, 3, 3, 3, 3, 3, 3, 3, 3, 3, 3, 3, 3, 3, 3, 3, 3, 3, 3, 3, 3, 3, 3, 3, 3, 3, 3, 3, 3, 3, 3, 3, 3, 3, 3, 3, 3, 3, 3, 3, 3, 3, 3, 3, 3, 3, 3, 3, 3, 3, 3, 3, 3, 3, 3, 3, 3, 3, 3, 3, 3, 3, 3, 3, 3, 3, 3, 3, 3, 3, 3, 3, 3, 3, 3, 3, 3, 3, 3, 3, 3, 3, 3, 3, 3, 3, 3, 3, 3, 3, 3, 3, 3, 3, 3, 3, 3, 3, 3, 3, 3, 3, 3, 3, 3, 3, 3, 3, 3, 3, 3, 3, 3, 3, 3, 3, 3, 3, 3, 3, 3, 3, 3, 3, 3, 3, 3, 3, 3, 3, 3, 3, 3, 3, 3, 3, 3, 3, 3, 3, 3, 3, 3, 3, 3, 3, 3, 3, 3, 3, 3, 3, 3, 3, 3, 3, 3, 3, 3, 3, 3, 3, 3, 3, 3, 3, 3, 3, 3, 3, 3, 3, 3, 3, 3, 3, 3, 3, 4, 4, 4, 4, 4, 4, 4, 4, 4, 4, 4, 4, 4, 4, 4, 4, 4, 4, 4, 4, 4, 4, 4, 4, 4, 4, 4, 4, 4, 4, 4, 4, 4, 4, 4, 4, 4, 4, 4, 4, 4, 4, 4, 4, 4, 4, 4, 4, 4, 4, 4, 4, 4, 4, 4, 4, 4, 4, 4, 4, 4, 4, 4, 4, 4, 4, 4, 4, 4, 4, 4, 4, 4, 4, 4, 4, 4, 4, 4, 4, 4, 4, 4, 4, 4, 4, 4, 4, 4, 4, 4, 4, 4, 4, 4, 4, 4, 4, 4, 4, 4, 4, 4, 4, 4, 4, 4, 4, 4, 4, 4, 4, 4, 4, 4, 4, 4, 4, 4, 4, 4, 4, 4, 4, 4, 4, 4, 4, 4, 4, 4, 4, 4, 4, 4, 4, 4, 4, 4, 4, 4, 4, 4, 4, 4, 4, 4, 4, 4, 4, 4, 4, 4, 4, 4, 4, 4, 4, 4, 4, 4, 4, 4, 4, 4, 4, 4, 4, 4, 4, 4, 4, 4, 4, 4, 4, 4, 4, 4, 4, 4, 4, 4, 4, 4, 4, 4, 4, 4, 4, 4, 4, 4, 4, 4, 4, 4, 4, 4, 4, 4, 4, 4, 4, 4, 4, 4, 4, 4, 4, 4, 4, 4, 4, 4, 4, 4, 4, 4, 4, 4, 4, 4, 4, 4, 4, 4, 4, 4, 4, 4, 4, 4, 4, 4, 4, 4, 4, 4, 4, 5, 5, 5, 5, 5, 5, 5, 5, 5, 5, 5, 5, 5, 5, 5, 5, 5, 5, 5, 5, 5, 5, 5, 5, 5, 5, 5, 5, 5, 5, 5, 5, 5, 5, 5, 5, 5, 5, 5, 5, 5, 5, 5, 5, 5, 5, 5, 5, 5, 5, 5, 5, 5, 5, 5, 5, 5, 5, 5, 5, 5, 5, 5, 5, 5, 5, 5, 5, 5, 5, 5, 5, 5, 5, 5, 5, 5, 5, 5, 5, 5, 5, 5, 5, 5, 5, 5, 5, 5, 5, 5, 5, 5, 5, 5, 5, 5, 5, 5, 5, 5, 5, 5, 5, 5, 5, 5, 5, 5, 5, 5, 5, 5, 5, 5, 5, 5, 5, 5, 5, 5, 5, 5, 5, 5, 5, 5, 5, 5, 5, 5, 5, 5, 5, 5, 5, 5, 5, 5, 5, 5, 5, 5, 5, 5, 5, 5, 5, 5, 5, 5, 5, 5, 5, 5, 5, 5, 5, 5, 5, 5, 5, 5, 5, 5, 5, 5, 5, 5, 5, 5, 5, 5, 5, 5, 5, 5, 5, 5, 5, 5, 5, 5, 5, 5, 5, 5, 5, 5, 5, 5, 5, 5, 5, 5, 5, 5, 5, 5, 5, 5, 5, 5, 5, 5, 5, 5, 5, 5, 5, 5, 5, 5, 5, 5, 5, 5, 5, 5, 5, 5, 5, 5, 5, 5, 5, 5, 5, 5, 5, 5, 5, 5, 5, 5, 5, 5, 5, 5, 5]\n"
          ]
        }
      ]
    },
    {
      "cell_type": "code",
      "source": [
        "X_train = x\n",
        "y_train = y"
      ],
      "metadata": {
        "id": "UvhliqOLRJby"
      },
      "execution_count": null,
      "outputs": []
    },
    {
      "cell_type": "code",
      "source": [
        "dataset1 = pd.read_csv('GLCM_test.csv')\n",
        "print(dataset1)"
      ],
      "metadata": {
        "colab": {
          "base_uri": "https://localhost:8080/"
        },
        "id": "OKPzIOcfRUGw",
        "outputId": "fa58a808-971a-41ad-ddd9-83a941e2b1fc"
      },
      "execution_count": null,
      "outputs": [
        {
          "output_type": "stream",
          "name": "stdout",
          "text": [
            "     Unnamed: 0   Energy0     Corr0  Diss_sim0  Homogen0    Contrast0  \\\n",
            "0             0  0.012284  0.311787  24.820462  0.041106  1019.260359   \n",
            "1             0  0.011590  0.532045  22.631256  0.045268   834.160744   \n",
            "2             0  0.011649  0.358521  25.117949  0.042049  1040.750256   \n",
            "3             0  0.011251  0.359499  26.398513  0.038530  1127.812256   \n",
            "4             0  0.011823  0.316927  25.709205  0.039344  1092.402744   \n",
            "..          ...       ...       ...        ...       ...          ...   \n",
            "355           0  0.046701  0.977281   3.292744  0.320080    32.446641   \n",
            "356           0  0.052898  0.930696   2.625872  0.340889    22.747872   \n",
            "357           0  0.039938  0.927689   5.251282  0.195772    64.931487   \n",
            "358           0  0.033672  0.903525   6.170615  0.219845   171.253436   \n",
            "359           0  0.041404  0.888943   5.009615  0.213127    74.173205   \n",
            "\n",
            "      Energy1     Corr1  Diss_sim1  Homogen1  ...   Energy6     Corr6  \\\n",
            "0    0.012229  0.295269  25.150953  0.040658  ...  0.012267  0.337588   \n",
            "1    0.011475  0.496608  23.566977  0.043238  ...  0.011454  0.519375   \n",
            "2    0.011670  0.353127  25.247163  0.040122  ...  0.011773  0.410818   \n",
            "3    0.011135  0.320691  27.381195  0.037166  ...  0.011116  0.366094   \n",
            "4    0.011830  0.308295  25.845950  0.039722  ...  0.011914  0.363817   \n",
            "..        ...       ...        ...       ...  ...       ...       ...   \n",
            "355  0.037625  0.693511  10.390671  0.215863  ...  0.036213  0.647418   \n",
            "356  0.048940  0.680266   4.089598  0.308483  ...  0.048737  0.631494   \n",
            "357  0.038067  0.486673   9.551307  0.172932  ...  0.039028  0.428962   \n",
            "358  0.032280  0.688017  10.006273  0.197023  ...  0.033072  0.576624   \n",
            "359  0.036451  0.430715   9.214702  0.171011  ...  0.035780  0.355011   \n",
            "\n",
            "     Diss_sim6  Homogen6    Contrast6   Energy7     Corr7  Diss_sim7  \\\n",
            "0    24.516179  0.042432   988.077615  0.012198  0.288452  25.291988   \n",
            "1    23.173282  0.044095   881.632769  0.011566  0.518553  23.029441   \n",
            "2    24.175795  0.043477   952.155231  0.011612  0.334072  25.681331   \n",
            "3    26.681821  0.037076  1142.733615  0.011140  0.311734  27.441561   \n",
            "4    24.878897  0.041179  1012.229821  0.011850  0.312730  25.787016   \n",
            "..         ...       ...          ...       ...       ...        ...   \n",
            "355  11.530128  0.195272   504.971154  0.037130  0.685679  10.567940   \n",
            "356   4.376641  0.297802   117.836641  0.049244  0.657280   4.288187   \n",
            "357   9.852564  0.178268   526.271641  0.038072  0.457921   9.744638   \n",
            "358  11.415615  0.199975   752.360077  0.032003  0.588856  11.473527   \n",
            "359   9.813487  0.168924   444.870872  0.036442  0.409715   9.311563   \n",
            "\n",
            "     Homogen7    Contrast7  \n",
            "0    0.041209  1053.806305  \n",
            "1    0.044173   860.134241  \n",
            "2    0.038370  1077.315441  \n",
            "3    0.035770  1215.886532  \n",
            "4    0.037954  1090.835069  \n",
            "..        ...          ...  \n",
            "355  0.211579   450.383174  \n",
            "356  0.294108   109.183908  \n",
            "357  0.172121   495.202312  \n",
            "358  0.189257   734.857429  \n",
            "359  0.168403   399.055940  \n",
            "\n",
            "[360 rows x 41 columns]\n"
          ]
        }
      ]
    },
    {
      "cell_type": "code",
      "source": [
        "x = dataset1.iloc[:,1:].values\n",
        "print(len(x[0]))"
      ],
      "metadata": {
        "colab": {
          "base_uri": "https://localhost:8080/"
        },
        "id": "j4-y-ob3RrM8",
        "outputId": "cff307bd-f6e9-40d6-fbcc-e650ef5e5b57"
      },
      "execution_count": null,
      "outputs": [
        {
          "output_type": "stream",
          "name": "stdout",
          "text": [
            "40\n"
          ]
        }
      ]
    },
    {
      "cell_type": "code",
      "source": [
        "print(x)\n",
        "print(x[0])"
      ],
      "metadata": {
        "colab": {
          "base_uri": "https://localhost:8080/"
        },
        "id": "y9YOWDpLRu7c",
        "outputId": "856701ef-dbf7-47f0-9870-3f2fd27a022a"
      },
      "execution_count": null,
      "outputs": [
        {
          "output_type": "stream",
          "name": "stdout",
          "text": [
            "[[1.22837374e-02 3.11786677e-01 2.48204615e+01 ... 2.52919877e+01\n",
            "  4.12090470e-02 1.05380630e+03]\n",
            " [1.15904810e-02 5.32045089e-01 2.26312564e+01 ... 2.30294409e+01\n",
            "  4.41729560e-02 8.60134241e+02]\n",
            " [1.16493814e-02 3.58520753e-01 2.51179487e+01 ... 2.56813307e+01\n",
            "  3.83698324e-02 1.07731544e+03]\n",
            " ...\n",
            " [3.99379203e-02 9.27688946e-01 5.25128205e+00 ... 9.74463765e+00\n",
            "  1.72121360e-01 4.95202312e+02]\n",
            " [3.36716754e-02 9.03525199e-01 6.17061538e+00 ... 1.14735267e+01\n",
            "  1.89257210e-01 7.34857429e+02]\n",
            " [4.14036432e-02 8.88943344e-01 5.00961538e+00 ... 9.31156289e+00\n",
            "  1.68402502e-01 3.99055940e+02]]\n",
            "[1.22837374e-02 3.11786677e-01 2.48204615e+01 4.11062064e-02\n",
            " 1.01926036e+03 1.22285026e-02 2.95268763e-01 2.51509527e+01\n",
            " 4.06580398e-02 1.04353564e+03 1.22668125e-02 3.37588169e-01\n",
            " 2.45161795e+01 4.24323229e-02 9.88077615e+02 1.21978769e-02\n",
            " 2.88452187e-01 2.52919877e+01 4.12090470e-02 1.05380630e+03\n",
            " 1.22837374e-02 3.11786677e-01 2.48204615e+01 4.11062064e-02\n",
            " 1.01926036e+03 1.22285026e-02 2.95268763e-01 2.51509527e+01\n",
            " 4.06580398e-02 1.04353564e+03 1.22668125e-02 3.37588169e-01\n",
            " 2.45161795e+01 4.24323229e-02 9.88077615e+02 1.21978769e-02\n",
            " 2.88452187e-01 2.52919877e+01 4.12090470e-02 1.05380630e+03]\n"
          ]
        }
      ]
    },
    {
      "cell_type": "code",
      "source": [
        "print(len(x))"
      ],
      "metadata": {
        "colab": {
          "base_uri": "https://localhost:8080/"
        },
        "id": "PxbqLuGZRzOG",
        "outputId": "75287bfd-67a8-4107-89f2-1eb6389603e5"
      },
      "execution_count": null,
      "outputs": [
        {
          "output_type": "stream",
          "name": "stdout",
          "text": [
            "360\n"
          ]
        }
      ]
    },
    {
      "cell_type": "code",
      "source": [
        "y = list()"
      ],
      "metadata": {
        "id": "8EI_d01dR_Z8"
      },
      "execution_count": null,
      "outputs": []
    },
    {
      "cell_type": "code",
      "source": [
        "for i in range(0,6) :\n",
        "    for j in range(0,60):\n",
        "        y.append(i)\n"
      ],
      "metadata": {
        "id": "zjGTQusQR8OT"
      },
      "execution_count": null,
      "outputs": []
    },
    {
      "cell_type": "code",
      "source": [
        "X_test = x\n",
        "y_test = y"
      ],
      "metadata": {
        "id": "fbpuLVcTSDC5"
      },
      "execution_count": null,
      "outputs": []
    },
    {
      "cell_type": "code",
      "source": [
        "print(len(X_train))\n",
        "print(len(X_test))\n",
        "print(len(y_train))\n",
        "print(len(y_test))"
      ],
      "metadata": {
        "colab": {
          "base_uri": "https://localhost:8080/"
        },
        "id": "oHfsc7DcSHMM",
        "outputId": "d2720269-f7e6-4f74-8ef2-416b272a00b1"
      },
      "execution_count": null,
      "outputs": [
        {
          "output_type": "stream",
          "name": "stdout",
          "text": [
            "1440\n",
            "360\n",
            "1440\n",
            "360\n"
          ]
        }
      ]
    },
    {
      "cell_type": "code",
      "source": [
        "X_train=np.array(X_train)\n",
        "y_train=np.array(y_train)\n",
        "X_test=np.array(X_test)\n",
        "y_test=np.array(y_test)"
      ],
      "metadata": {
        "id": "5UGEkAclSUVC"
      },
      "execution_count": null,
      "outputs": []
    },
    {
      "cell_type": "code",
      "source": [
        "print ('Train set:', X_train.shape,  y_train.shape)\n",
        "print ('Test set:', X_test.shape,  y_test.shape)"
      ],
      "metadata": {
        "colab": {
          "base_uri": "https://localhost:8080/"
        },
        "id": "w6Hsckn3SY3M",
        "outputId": "a8c983b0-9bf9-4190-9a64-2f70af49187a"
      },
      "execution_count": null,
      "outputs": [
        {
          "output_type": "stream",
          "name": "stdout",
          "text": [
            "Train set: (1440, 40) (1440,)\n",
            "Test set: (360, 40) (360,)\n"
          ]
        }
      ]
    },
    {
      "cell_type": "code",
      "source": [
        "nsamples, nx = X_train.shape\n",
        "X_train = X_train.reshape((nsamples,nx))"
      ],
      "metadata": {
        "id": "qktya8lBSZ3a"
      },
      "execution_count": null,
      "outputs": []
    },
    {
      "cell_type": "code",
      "source": [
        "print(X_train.shape)"
      ],
      "metadata": {
        "colab": {
          "base_uri": "https://localhost:8080/"
        },
        "id": "BiXq0NhtSbx7",
        "outputId": "547cc5d1-d662-46aa-dc51-396a46e020c1"
      },
      "execution_count": null,
      "outputs": [
        {
          "output_type": "stream",
          "name": "stdout",
          "text": [
            "(1440, 40)\n"
          ]
        }
      ]
    },
    {
      "cell_type": "code",
      "source": [
        "nsamples, nx = X_test.shape\n",
        "X_test = X_test.reshape((nsamples,nx))"
      ],
      "metadata": {
        "id": "WsphffhyScs8"
      },
      "execution_count": null,
      "outputs": []
    },
    {
      "cell_type": "code",
      "source": [
        "print(X_test.shape)"
      ],
      "metadata": {
        "colab": {
          "base_uri": "https://localhost:8080/"
        },
        "id": "xl5IHifZSdmj",
        "outputId": "518afd36-f858-4982-83fb-88398896772c"
      },
      "execution_count": null,
      "outputs": [
        {
          "output_type": "stream",
          "name": "stdout",
          "text": [
            "(360, 40)\n"
          ]
        }
      ]
    },
    {
      "cell_type": "code",
      "source": [
        "train_begin = time.time()\n",
        "clf = svm.SVC(kernel='linear')\n",
        "clf.fit(X_train, y_train) \n",
        "train_end = time.time()\n",
        "train_time = train_end - train_begin\n",
        "\n"
      ],
      "metadata": {
        "id": "MFbBho7LSe7c"
      },
      "execution_count": null,
      "outputs": []
    },
    {
      "cell_type": "code",
      "source": [
        "test_begin = time.time()\n",
        "yhat = clf.predict(X_test)\n",
        "test_end = time.time()\n",
        "test_time = test_end - test_begin\n",
        "print(yhat)\n",
        "\n",
        "print(metrics.accuracy_score(y_test, yhat))\n",
        "print(confusion_matrix(y_test, yhat))\n",
        "print(classification_report(y_test, yhat))\n",
        "print(train_time)\n",
        "print(test_time)"
      ],
      "metadata": {
        "colab": {
          "base_uri": "https://localhost:8080/"
        },
        "id": "z9zFnyNqSq55",
        "outputId": "27cffc39-6bc4-4aea-b6cf-c52c5dcf7f55"
      },
      "execution_count": null,
      "outputs": [
        {
          "output_type": "stream",
          "name": "stdout",
          "text": [
            "[0 0 0 0 0 0 0 0 0 0 0 0 0 0 0 0 0 0 0 0 0 0 0 0 0 0 0 0 0 0 0 0 0 0 0 0 0\n",
            " 0 0 0 0 0 0 0 0 0 0 0 0 0 0 0 0 0 0 0 0 0 0 0 1 1 1 1 1 1 1 1 1 1 1 1 1 1\n",
            " 1 1 1 1 1 1 1 1 1 1 1 1 5 1 1 1 1 1 1 1 1 1 1 1 1 5 1 1 1 1 1 1 1 1 5 1 1\n",
            " 1 1 1 1 1 1 1 1 1 2 2 2 2 2 2 2 2 2 3 2 2 2 2 2 2 3 2 2 3 2 2 2 3 2 2 2 2\n",
            " 2 2 2 2 2 2 2 2 2 2 2 2 2 0 2 2 2 2 2 0 2 2 2 2 2 2 2 2 3 2 3 2 3 3 3 3 3\n",
            " 3 2 3 3 3 3 3 0 3 3 3 3 3 0 3 0 2 3 3 0 1 3 3 0 3 3 3 0 3 3 3 3 0 3 3 3 0\n",
            " 3 0 3 3 3 3 3 3 3 3 1 3 3 3 3 3 3 3 4 4 4 4 4 4 4 4 4 4 4 4 4 4 4 4 4 4 4\n",
            " 4 4 4 4 4 4 4 4 4 4 4 4 4 4 4 4 4 4 4 4 4 4 4 4 4 4 4 4 4 4 4 4 4 4 4 4 4\n",
            " 4 4 4 4 5 5 5 5 5 5 5 5 5 5 5 5 5 5 5 5 5 1 5 5 5 5 5 5 5 5 5 5 5 5 5 5 5\n",
            " 5 5 5 5 5 5 5 5 5 5 5 5 5 5 5 5 5 5 5 5 5 5 5 5 5 5 5]\n",
            "0.9305555555555556\n",
            "[[60  0  0  0  0  0]\n",
            " [ 0 57  0  0  0  3]\n",
            " [ 2  0 52  6  0  0]\n",
            " [ 9  2  2 47  0  0]\n",
            " [ 0  0  0  0 60  0]\n",
            " [ 0  1  0  0  0 59]]\n",
            "              precision    recall  f1-score   support\n",
            "\n",
            "           0       0.85      1.00      0.92        60\n",
            "           1       0.95      0.95      0.95        60\n",
            "           2       0.96      0.87      0.91        60\n",
            "           3       0.89      0.78      0.83        60\n",
            "           4       1.00      1.00      1.00        60\n",
            "           5       0.95      0.98      0.97        60\n",
            "\n",
            "    accuracy                           0.93       360\n",
            "   macro avg       0.93      0.93      0.93       360\n",
            "weighted avg       0.93      0.93      0.93       360\n",
            "\n",
            "14.743545055389404\n",
            "0.010624408721923828\n"
          ]
        }
      ]
    },
    {
      "cell_type": "code",
      "source": [
        "print(train_time)\n",
        "print(test_time/len(X_test))"
      ],
      "metadata": {
        "colab": {
          "base_uri": "https://localhost:8080/"
        },
        "id": "Bth6rj_pSsjR",
        "outputId": "e938271f-f9d5-4f27-aac5-9e463f53639c"
      },
      "execution_count": null,
      "outputs": [
        {
          "output_type": "stream",
          "name": "stdout",
          "text": [
            "14.743545055389404\n",
            "2.951224644978841e-05\n"
          ]
        }
      ]
    },
    {
      "cell_type": "code",
      "source": [
        "clf = svm.SVC(kernel='rbf', gamma=\"scale\")\n",
        "clf.fit(X_train, y_train) \n",
        "yhat = clf.predict(X_test)\n",
        "print(yhat)\n",
        "\n",
        "print(metrics.accuracy_score(y_test, yhat))\n",
        "print(confusion_matrix(y_test, yhat))\n",
        "print(classification_report(y_test, yhat))"
      ],
      "metadata": {
        "colab": {
          "base_uri": "https://localhost:8080/"
        },
        "id": "UKsnVRKHSvDm",
        "outputId": "bb2192f4-c2cf-41ba-8652-cfabd99c542e"
      },
      "execution_count": null,
      "outputs": [
        {
          "output_type": "stream",
          "name": "stdout",
          "text": [
            "[0 0 0 0 0 0 0 0 0 0 0 0 4 0 0 0 0 0 0 0 0 0 0 0 0 0 0 0 0 0 0 0 0 0 0 0 0\n",
            " 0 0 0 0 0 0 0 0 0 0 0 0 0 0 0 0 0 0 0 0 0 0 0 1 1 1 1 1 1 1 1 1 1 1 1 1 1\n",
            " 3 1 1 1 1 1 1 1 1 1 1 1 1 1 1 1 1 1 1 1 1 1 1 1 1 1 1 1 1 1 1 1 1 1 1 1 1\n",
            " 1 1 1 1 1 1 1 1 1 2 0 2 0 2 2 2 2 2 3 2 0 2 0 2 2 3 2 2 3 0 2 2 4 2 3 0 2\n",
            " 2 2 2 2 0 2 2 2 0 2 0 2 0 0 0 2 2 2 2 0 2 2 0 4 2 2 2 2 4 0 3 0 0 4 1 3 3\n",
            " 3 2 3 3 0 3 1 0 3 3 4 0 3 0 3 0 0 2 3 0 1 3 1 0 0 1 3 0 3 0 3 0 0 4 2 3 0\n",
            " 3 0 3 4 4 3 3 4 2 1 1 3 4 0 1 3 1 3 3 4 3 4 4 4 4 4 4 4 4 4 3 4 3 3 3 3 3\n",
            " 3 3 4 4 3 4 3 4 4 4 4 4 3 3 4 4 4 4 4 4 3 3 4 3 4 4 3 3 3 3 4 3 3 4 4 4 4\n",
            " 4 4 4 3 0 0 4 4 4 4 4 4 4 4 4 1 4 4 0 0 4 3 0 4 0 1 4 4 4 4 4 1 4 5 3 0 4\n",
            " 4 4 4 0 4 4 0 4 1 4 4 4 4 4 4 4 4 5 0 4 4 1 4 1 4 0 4]\n",
            "0.5972222222222222\n",
            "[[59  0  0  0  1  0]\n",
            " [ 0 59  0  1  0  0]\n",
            " [16  0 36  5  3  0]\n",
            " [17  9  4 23  7  0]\n",
            " [ 0  0  0 24 36  0]\n",
            " [11  6  0  2 39  2]]\n",
            "              precision    recall  f1-score   support\n",
            "\n",
            "           0       0.57      0.98      0.72        60\n",
            "           1       0.80      0.98      0.88        60\n",
            "           2       0.90      0.60      0.72        60\n",
            "           3       0.42      0.38      0.40        60\n",
            "           4       0.42      0.60      0.49        60\n",
            "           5       1.00      0.03      0.06        60\n",
            "\n",
            "    accuracy                           0.60       360\n",
            "   macro avg       0.68      0.60      0.55       360\n",
            "weighted avg       0.68      0.60      0.55       360\n",
            "\n"
          ]
        }
      ]
    },
    {
      "cell_type": "code",
      "source": [
        "clf = svm.SVC(kernel='rbf', gamma=\"auto\")\n",
        "clf.fit(X_train, y_train) \n",
        "yhat = clf.predict(X_test)\n",
        "print(yhat)\n",
        "\n",
        "print(metrics.accuracy_score(y_test, yhat))\n",
        "print(confusion_matrix(y_test, yhat))\n",
        "print(classification_report(y_test, yhat))"
      ],
      "metadata": {
        "colab": {
          "base_uri": "https://localhost:8080/"
        },
        "id": "sb2jBnjKSyve",
        "outputId": "f17b880f-1fb9-4bda-d4a1-ef5290c5ac4e"
      },
      "execution_count": null,
      "outputs": [
        {
          "output_type": "stream",
          "name": "stdout",
          "text": [
            "[0 0 0 0 0 0 0 0 0 0 0 0 0 0 0 0 0 0 0 0 0 0 0 0 0 0 0 0 0 0 0 0 0 0 0 0 0\n",
            " 0 0 0 0 0 0 0 0 0 0 0 0 0 0 0 0 0 0 0 0 0 0 0 1 1 5 0 3 1 1 1 1 1 1 1 1 1\n",
            " 0 5 1 1 1 1 1 1 1 1 1 1 5 1 1 1 1 1 1 1 1 1 1 1 1 0 1 1 1 1 1 1 3 1 0 5 1\n",
            " 1 1 1 1 1 1 1 1 0 0 0 0 0 0 0 0 0 0 0 0 0 0 0 0 0 2 0 0 2 0 0 0 0 0 0 0 0\n",
            " 0 0 0 0 0 0 0 0 0 0 0 0 0 0 0 0 0 0 0 0 0 0 0 2 0 0 0 0 3 0 2 0 0 3 3 0 2\n",
            " 2 0 0 0 0 3 3 0 0 3 3 0 0 0 2 0 0 0 3 0 3 3 3 0 0 3 3 0 0 0 2 0 0 0 0 0 0\n",
            " 2 0 3 0 3 0 0 0 0 3 1 3 0 0 3 0 3 0 4 4 0 4 4 0 0 4 0 0 4 0 4 0 4 4 4 4 4\n",
            " 4 4 4 4 4 4 0 0 4 4 4 0 0 0 0 0 4 4 4 4 4 4 4 3 4 4 4 4 4 3 4 0 0 0 4 0 0\n",
            " 4 4 0 4 0 0 0 5 0 0 0 0 0 0 0 0 0 0 0 0 0 0 0 0 0 0 0 0 0 0 0 5 0 0 5 0 0\n",
            " 0 0 0 0 0 0 0 0 0 0 0 0 0 0 0 0 5 0 0 0 0 0 0 0 0 0 0]\n",
            "0.48055555555555557\n",
            "[[60  0  0  0  0  0]\n",
            " [ 5 49  0  2  0  4]\n",
            " [55  0  4  1  0  0]\n",
            " [36  1  5 18  0  0]\n",
            " [20  0  0  2 38  0]\n",
            " [56  0  0  0  0  4]]\n",
            "              precision    recall  f1-score   support\n",
            "\n",
            "           0       0.26      1.00      0.41        60\n",
            "           1       0.98      0.82      0.89        60\n",
            "           2       0.44      0.07      0.12        60\n",
            "           3       0.78      0.30      0.43        60\n",
            "           4       1.00      0.63      0.78        60\n",
            "           5       0.50      0.07      0.12        60\n",
            "\n",
            "    accuracy                           0.48       360\n",
            "   macro avg       0.66      0.48      0.46       360\n",
            "weighted avg       0.66      0.48      0.46       360\n",
            "\n"
          ]
        }
      ]
    },
    {
      "cell_type": "code",
      "source": [
        "poly_svc = svm.SVC(kernel='poly', degree=5).fit(X_train, y_train)\n",
        "yhat = poly_svc.predict(X_test)\n",
        "print(yhat)\n",
        "print(metrics.accuracy_score(y_test, yhat))\n",
        "print(confusion_matrix(y_test, yhat))\n",
        "print(classification_report(y_test, yhat))"
      ],
      "metadata": {
        "colab": {
          "base_uri": "https://localhost:8080/"
        },
        "id": "SZmmHPpMS0qP",
        "outputId": "4741cfde-ce62-4b2c-889c-6501b0f159d3"
      },
      "execution_count": null,
      "outputs": [
        {
          "output_type": "stream",
          "name": "stdout",
          "text": [
            "[0 0 0 0 0 0 0 0 0 0 0 0 4 2 0 0 0 0 0 0 0 0 0 0 0 0 0 0 0 0 0 0 0 0 0 0 0\n",
            " 0 0 0 0 0 0 0 0 0 0 0 2 0 0 0 0 0 0 0 0 0 3 0 1 1 1 1 1 1 1 1 1 1 1 1 1 1\n",
            " 1 1 1 1 1 1 1 1 1 1 1 1 1 1 1 1 1 1 1 1 1 1 1 1 1 1 1 1 1 1 1 1 1 1 1 1 1\n",
            " 1 1 1 1 1 1 1 1 1 2 2 2 3 2 2 2 2 2 1 2 0 2 0 2 2 1 2 2 1 0 2 2 1 2 1 2 2\n",
            " 2 2 2 2 0 2 2 3 2 2 0 2 2 0 3 2 2 2 2 2 2 2 2 1 2 2 2 2 1 2 1 0 3 1 1 1 1\n",
            " 1 2 1 1 0 1 1 0 1 1 1 4 1 0 1 0 3 2 1 0 1 1 1 0 3 1 1 0 1 0 1 0 0 1 3 1 0\n",
            " 1 0 1 1 1 1 1 1 3 1 1 1 1 0 1 1 1 1 1 1 1 1 1 1 1 1 1 1 1 1 1 1 1 1 1 1 1\n",
            " 1 1 1 1 1 1 1 1 1 1 1 1 1 1 1 1 1 1 1 1 1 1 1 1 1 1 1 1 1 1 1 1 1 1 1 1 1\n",
            " 1 1 1 1 0 0 1 1 4 1 4 4 0 1 1 1 4 1 0 0 1 1 0 1 0 1 1 1 1 4 4 1 1 1 1 0 1\n",
            " 1 1 1 0 4 1 0 4 1 1 1 1 0 1 1 1 1 1 0 4 1 1 4 1 4 0 4]\n",
            "0.4527777777777778\n",
            "[[56  0  2  1  1  0]\n",
            " [ 0 60  0  0  0  0]\n",
            " [ 7  8 42  3  0  0]\n",
            " [13 39  2  5  1  0]\n",
            " [ 0 60  0  0  0  0]\n",
            " [13 35  0  0 12  0]]\n",
            "              precision    recall  f1-score   support\n",
            "\n",
            "           0       0.63      0.93      0.75        60\n",
            "           1       0.30      1.00      0.46        60\n",
            "           2       0.91      0.70      0.79        60\n",
            "           3       0.56      0.08      0.14        60\n",
            "           4       0.00      0.00      0.00        60\n",
            "           5       0.00      0.00      0.00        60\n",
            "\n",
            "    accuracy                           0.45       360\n",
            "   macro avg       0.40      0.45      0.36       360\n",
            "weighted avg       0.40      0.45      0.36       360\n",
            "\n"
          ]
        },
        {
          "output_type": "stream",
          "name": "stderr",
          "text": [
            "/usr/local/lib/python3.7/dist-packages/sklearn/metrics/_classification.py:1318: UndefinedMetricWarning: Precision and F-score are ill-defined and being set to 0.0 in labels with no predicted samples. Use `zero_division` parameter to control this behavior.\n",
            "  _warn_prf(average, modifier, msg_start, len(result))\n",
            "/usr/local/lib/python3.7/dist-packages/sklearn/metrics/_classification.py:1318: UndefinedMetricWarning: Precision and F-score are ill-defined and being set to 0.0 in labels with no predicted samples. Use `zero_division` parameter to control this behavior.\n",
            "  _warn_prf(average, modifier, msg_start, len(result))\n",
            "/usr/local/lib/python3.7/dist-packages/sklearn/metrics/_classification.py:1318: UndefinedMetricWarning: Precision and F-score are ill-defined and being set to 0.0 in labels with no predicted samples. Use `zero_division` parameter to control this behavior.\n",
            "  _warn_prf(average, modifier, msg_start, len(result))\n"
          ]
        }
      ]
    },
    {
      "cell_type": "code",
      "source": [
        "for i in range(1,15) :\n",
        "    poly_svc = svm.SVC(kernel='poly', degree=i).fit(X_train, y_train)\n",
        "    yhat = poly_svc.predict(X_test)\n",
        "    print(yhat)\n",
        "    print('Degree = ',i, metrics.accuracy_score(y_test, yhat))\n",
        "    # print(confusion_matrix(y_test, yhat))\n",
        "    # print(classification_report(y_test, yhat))"
      ],
      "metadata": {
        "colab": {
          "base_uri": "https://localhost:8080/"
        },
        "id": "l3AXkteRS196",
        "outputId": "c8e070e3-3f9a-4c3d-9e86-6c018482dc7c"
      },
      "execution_count": null,
      "outputs": [
        {
          "output_type": "stream",
          "name": "stdout",
          "text": [
            "[0 0 0 0 0 0 0 0 0 0 0 0 4 0 0 0 0 0 0 0 0 0 0 0 0 0 0 0 0 0 0 0 0 0 0 0 0\n",
            " 0 0 0 0 0 0 0 0 0 0 0 0 0 0 0 0 0 0 0 0 0 0 0 1 1 1 1 1 1 1 1 1 1 1 1 1 1\n",
            " 3 1 1 1 1 1 1 1 1 1 1 1 1 1 1 1 1 1 1 1 1 1 1 1 1 1 1 1 1 1 1 1 1 1 1 1 1\n",
            " 1 1 1 1 1 1 1 1 1 2 0 2 0 2 2 2 2 2 3 2 0 2 0 2 2 3 2 2 3 0 2 2 3 2 3 0 2\n",
            " 2 2 2 0 0 2 2 2 0 2 0 2 0 0 0 2 2 0 2 0 2 2 0 3 2 2 2 2 3 0 3 0 0 3 1 3 3\n",
            " 3 2 3 3 0 3 1 0 3 3 3 0 3 0 3 0 0 2 3 0 1 3 1 0 0 1 3 0 3 0 3 0 0 3 2 3 0\n",
            " 3 0 3 3 3 3 3 3 2 1 1 3 3 0 1 3 1 3 3 4 3 3 3 3 3 3 3 4 3 4 3 3 3 3 3 3 3\n",
            " 3 3 3 4 3 4 3 3 3 4 4 4 3 3 3 3 4 3 3 3 3 3 4 3 3 4 3 3 3 3 3 3 3 3 3 3 3\n",
            " 4 4 4 3 0 0 4 4 4 4 4 4 4 4 4 1 4 4 0 0 4 3 0 4 0 1 4 4 4 4 4 1 4 5 1 0 4\n",
            " 4 4 4 0 4 4 0 4 1 4 4 4 4 4 4 4 4 5 0 4 4 1 4 1 4 0 4]\n",
            "Degree =  1 0.55\n",
            "[0 0 0 0 0 0 0 0 0 0 0 0 4 2 0 0 0 0 0 0 0 0 0 0 0 0 0 0 0 0 0 0 0 0 0 0 0\n",
            " 0 0 0 0 0 0 0 0 0 0 0 0 0 0 0 0 0 0 0 0 0 0 0 1 1 1 1 1 1 1 1 1 1 1 1 1 1\n",
            " 1 1 1 1 1 1 1 1 1 1 1 1 1 1 1 1 1 1 1 1 1 1 1 1 1 1 1 1 1 1 1 1 1 1 1 1 1\n",
            " 1 1 1 1 1 1 1 1 1 2 2 2 0 2 2 2 2 2 1 2 0 2 3 2 2 1 2 2 1 0 2 2 3 2 3 2 2\n",
            " 2 2 2 2 0 2 2 2 0 2 0 2 0 0 0 2 2 2 2 2 2 2 2 3 2 2 2 2 3 0 3 0 0 3 1 3 3\n",
            " 3 2 1 1 0 3 1 0 1 1 3 3 3 0 1 0 0 2 3 0 1 1 1 0 0 1 1 0 1 3 1 0 0 3 2 3 0\n",
            " 3 0 1 3 3 3 3 3 2 1 1 1 3 3 1 1 1 3 1 4 1 1 1 3 1 1 3 4 3 4 1 1 1 1 1 1 1\n",
            " 1 1 1 4 1 4 1 1 1 4 4 4 1 1 1 3 4 1 1 3 1 1 4 1 3 4 1 1 1 1 1 1 1 1 1 1 1\n",
            " 4 4 4 1 0 0 1 4 4 4 4 4 4 4 1 1 4 1 0 0 4 1 0 4 0 1 4 4 4 4 4 1 4 1 1 0 4\n",
            " 4 4 4 0 4 4 0 4 1 1 4 4 4 4 4 1 1 5 0 4 4 1 4 1 4 0 4]\n",
            "Degree =  2 0.5388888888888889\n",
            "[0 0 0 0 0 0 0 0 0 0 0 0 4 2 0 0 0 0 0 0 0 0 0 0 0 0 0 0 0 0 0 0 0 0 0 0 0\n",
            " 0 0 0 0 0 0 0 0 0 0 0 0 0 0 0 0 0 0 0 0 0 0 0 1 1 1 1 1 1 1 1 1 1 1 1 1 1\n",
            " 1 1 1 1 1 1 1 1 1 1 1 1 1 1 1 1 1 1 1 1 1 1 1 1 1 1 1 1 1 1 1 1 1 1 1 1 1\n",
            " 1 1 1 1 1 1 1 1 1 2 2 2 0 2 2 2 2 2 1 2 0 2 0 2 2 1 2 2 1 0 2 2 4 2 4 2 2\n",
            " 2 2 2 2 0 2 2 2 0 2 0 2 2 0 0 2 2 2 2 2 2 2 2 4 2 2 2 2 1 0 1 0 0 4 1 4 1\n",
            " 1 2 1 1 0 1 1 0 1 1 4 0 4 0 1 0 3 2 4 0 1 1 1 0 0 1 1 0 1 0 1 0 0 4 3 4 0\n",
            " 1 0 1 4 1 1 4 4 2 1 1 1 4 0 1 1 1 4 1 1 1 1 1 1 1 1 1 4 1 1 1 1 1 1 1 1 1\n",
            " 1 1 1 1 1 1 1 1 1 1 1 1 1 1 1 1 4 1 1 1 1 1 1 1 1 1 1 1 1 1 1 1 1 1 1 1 1\n",
            " 1 4 4 1 0 0 1 1 4 4 4 4 0 1 1 1 4 1 0 0 1 1 0 4 0 1 4 4 4 4 4 1 4 1 1 0 1\n",
            " 1 1 4 0 4 1 0 4 1 1 4 4 4 1 1 1 1 3 0 4 4 1 4 1 4 0 4]\n",
            "Degree =  3 0.4583333333333333\n",
            "[0 0 0 0 0 0 0 0 0 0 0 0 4 2 0 0 0 0 0 0 0 0 0 0 0 0 0 0 0 0 0 0 0 0 0 0 0\n",
            " 0 0 0 0 0 0 0 0 0 0 0 2 0 0 0 0 0 0 0 0 0 3 0 1 1 1 1 1 1 1 1 1 1 1 1 1 1\n",
            " 1 1 1 1 1 1 1 1 1 1 1 1 1 1 1 1 1 1 1 1 1 1 1 1 1 1 1 1 1 1 1 1 1 1 1 1 1\n",
            " 1 1 1 1 1 1 1 1 1 2 2 2 3 2 2 2 2 2 1 2 0 2 0 2 2 1 2 2 1 0 2 2 1 2 4 2 2\n",
            " 2 2 2 2 0 2 2 2 2 2 0 2 2 0 0 2 2 2 2 2 2 2 2 1 2 2 2 2 1 2 1 0 3 1 1 4 1\n",
            " 1 2 1 1 0 1 1 0 1 1 1 0 4 0 1 0 3 2 1 0 1 1 1 0 3 1 1 0 1 0 1 0 0 4 3 1 0\n",
            " 1 0 1 4 1 1 4 1 2 1 1 1 1 0 1 1 1 4 1 1 1 1 1 1 1 1 1 1 1 1 1 1 1 1 1 1 1\n",
            " 1 1 1 1 1 1 1 1 1 1 1 1 1 1 1 1 1 1 1 1 1 1 1 1 1 1 1 1 1 1 1 1 1 1 1 1 1\n",
            " 1 1 1 1 0 0 1 1 4 4 4 4 0 1 1 1 4 1 0 0 1 1 0 1 0 1 4 1 1 4 4 1 4 1 1 0 1\n",
            " 1 1 4 0 4 1 0 4 1 1 1 4 4 1 1 1 1 4 0 4 4 1 4 1 4 0 4]\n",
            "Degree =  4 0.4527777777777778\n",
            "[0 0 0 0 0 0 0 0 0 0 0 0 4 2 0 0 0 0 0 0 0 0 0 0 0 0 0 0 0 0 0 0 0 0 0 0 0\n",
            " 0 0 0 0 0 0 0 0 0 0 0 2 0 0 0 0 0 0 0 0 0 3 0 1 1 1 1 1 1 1 1 1 1 1 1 1 1\n",
            " 1 1 1 1 1 1 1 1 1 1 1 1 1 1 1 1 1 1 1 1 1 1 1 1 1 1 1 1 1 1 1 1 1 1 1 1 1\n",
            " 1 1 1 1 1 1 1 1 1 2 2 2 3 2 2 2 2 2 1 2 0 2 0 2 2 1 2 2 1 0 2 2 1 2 1 2 2\n",
            " 2 2 2 2 0 2 2 3 2 2 0 2 2 0 3 2 2 2 2 2 2 2 2 1 2 2 2 2 1 2 1 0 3 1 1 1 1\n",
            " 1 2 1 1 0 1 1 0 1 1 1 4 1 0 1 0 3 2 1 0 1 1 1 0 3 1 1 0 1 0 1 0 0 1 3 1 0\n",
            " 1 0 1 1 1 1 1 1 3 1 1 1 1 0 1 1 1 1 1 1 1 1 1 1 1 1 1 1 1 1 1 1 1 1 1 1 1\n",
            " 1 1 1 1 1 1 1 1 1 1 1 1 1 1 1 1 1 1 1 1 1 1 1 1 1 1 1 1 1 1 1 1 1 1 1 1 1\n",
            " 1 1 1 1 0 0 1 1 4 1 4 4 0 1 1 1 4 1 0 0 1 1 0 1 0 1 1 1 1 4 4 1 1 1 1 0 1\n",
            " 1 1 1 0 4 1 0 4 1 1 1 1 0 1 1 1 1 1 0 4 1 1 4 1 4 0 4]\n",
            "Degree =  5 0.4527777777777778\n",
            "[0 0 0 0 0 0 0 0 0 0 0 0 1 2 0 0 0 0 0 0 0 0 0 0 0 0 0 0 0 0 0 0 0 0 0 0 0\n",
            " 0 0 0 0 0 0 0 0 0 0 0 2 0 0 0 0 0 0 0 0 0 3 0 1 1 1 1 1 1 1 1 1 1 1 1 1 1\n",
            " 1 1 1 1 1 1 1 1 1 1 1 1 1 1 1 1 1 1 1 1 1 1 1 1 1 1 1 1 1 1 1 1 1 1 1 1 1\n",
            " 1 1 1 1 1 1 1 1 1 2 2 2 3 2 2 2 2 2 1 2 3 2 0 2 2 1 2 2 1 0 2 2 1 2 1 2 2\n",
            " 2 2 2 2 0 2 2 3 2 2 0 2 2 0 3 2 2 2 2 0 2 2 2 1 2 2 2 2 1 2 1 2 3 1 1 1 1\n",
            " 1 2 1 1 0 1 1 0 1 1 1 4 1 0 1 0 3 3 1 0 1 1 1 0 3 1 1 3 1 0 1 0 0 1 3 1 0\n",
            " 1 0 1 1 1 1 1 1 3 1 1 1 1 0 1 1 1 1 1 1 1 1 1 1 1 1 1 1 1 1 1 1 1 1 1 1 1\n",
            " 1 1 1 1 1 1 1 1 1 1 1 1 1 1 1 1 1 1 1 1 1 1 1 1 1 1 1 1 1 1 1 1 1 1 1 1 1\n",
            " 1 1 1 1 0 0 1 1 4 1 4 4 0 1 1 1 1 1 0 0 1 1 0 1 0 1 1 1 1 0 4 1 1 1 1 0 1\n",
            " 1 1 1 0 4 1 0 1 1 1 1 1 0 1 1 1 1 1 0 4 1 1 4 1 4 0 1]\n",
            "Degree =  6 0.4583333333333333\n",
            "[0 0 0 0 0 0 0 0 0 0 0 0 1 0 0 0 0 0 0 0 0 0 0 0 0 0 0 0 0 0 0 0 0 0 0 0 0\n",
            " 0 0 0 0 0 0 0 0 0 0 0 0 0 0 0 0 0 0 4 0 0 3 0 1 1 1 1 1 1 1 1 1 1 1 1 1 1\n",
            " 1 1 1 1 1 1 1 1 1 1 1 1 1 1 1 1 1 1 1 1 1 1 1 1 1 1 1 1 1 1 1 1 1 1 1 1 1\n",
            " 1 1 1 1 1 1 1 1 1 2 2 2 3 2 2 2 2 2 1 2 3 2 0 2 2 1 2 2 1 0 2 2 1 2 1 2 2\n",
            " 2 2 2 2 0 2 2 3 2 2 0 2 2 0 3 2 2 2 2 0 2 2 2 1 2 2 2 2 1 2 1 2 3 1 1 1 1\n",
            " 1 2 1 1 0 1 1 0 1 1 1 1 1 0 1 0 3 3 1 0 1 1 1 0 3 1 1 0 1 0 1 0 0 1 3 1 0\n",
            " 1 0 1 1 1 1 1 1 3 1 1 1 1 0 1 1 1 1 1 1 1 1 1 1 1 1 1 1 1 1 1 1 1 1 1 1 1\n",
            " 1 1 1 1 1 1 1 1 1 1 1 1 1 1 1 1 1 1 1 1 1 1 1 1 1 1 1 1 1 1 1 1 1 1 1 1 1\n",
            " 1 1 1 1 0 0 1 1 4 1 4 1 0 1 1 1 1 1 0 0 1 1 0 1 0 1 1 1 1 0 1 1 1 1 1 0 1\n",
            " 1 1 1 0 0 1 0 1 1 1 1 1 0 1 1 1 1 1 0 4 1 1 1 1 4 0 1]\n",
            "Degree =  7 0.4583333333333333\n",
            "[0 0 0 0 0 0 0 0 0 0 0 0 1 0 0 0 0 0 0 0 0 0 0 0 0 0 0 0 0 0 0 0 0 0 0 0 0\n",
            " 0 0 0 0 0 0 0 0 0 0 0 0 0 0 0 0 0 0 4 0 0 3 0 1 1 1 1 1 1 1 1 1 1 1 1 1 1\n",
            " 1 1 1 1 1 1 1 1 1 1 1 1 1 1 1 1 1 1 1 1 1 1 1 1 1 1 1 1 1 1 1 1 1 1 1 1 1\n",
            " 1 1 1 1 1 1 1 1 1 2 2 2 3 2 2 2 2 2 1 2 3 2 3 2 2 1 2 2 1 0 2 2 1 2 1 2 2\n",
            " 2 2 2 2 0 2 2 3 2 2 4 2 2 0 3 2 2 2 2 0 2 2 2 1 2 2 2 2 1 2 1 2 3 1 1 1 1\n",
            " 1 2 1 1 0 1 1 0 1 1 1 1 1 0 1 0 3 3 1 0 1 1 1 0 3 1 1 0 1 3 1 3 0 1 3 1 0\n",
            " 1 0 1 1 1 1 1 1 3 1 1 1 1 3 1 1 1 1 1 1 1 1 1 1 1 1 1 1 1 1 1 1 1 1 1 1 1\n",
            " 1 1 1 1 1 1 1 1 1 1 1 1 1 1 1 1 1 1 1 1 1 1 1 1 1 1 1 1 1 1 1 1 1 1 1 1 1\n",
            " 1 1 1 1 0 0 1 1 4 1 1 1 0 1 1 1 1 1 0 0 1 1 0 1 0 1 1 1 1 0 1 1 1 1 1 0 1\n",
            " 1 1 1 0 0 1 0 1 1 1 1 1 0 1 1 1 1 1 0 4 1 1 1 1 4 0 1]\n",
            "Degree =  8 0.4666666666666667\n",
            "[0 0 0 0 0 0 0 0 0 0 0 0 1 0 0 0 0 0 0 0 0 0 0 0 0 0 0 0 0 0 0 0 0 0 0 0 0\n",
            " 0 0 0 0 0 0 0 0 0 0 0 0 0 0 0 0 0 0 1 0 0 3 0 1 1 1 1 1 1 1 1 1 1 1 1 1 1\n",
            " 1 1 1 1 1 1 1 1 1 1 1 1 1 1 1 1 1 1 1 1 1 1 1 1 1 1 1 1 1 1 1 1 1 1 1 1 1\n",
            " 1 1 1 1 1 1 1 1 1 2 2 2 3 2 2 2 2 2 1 2 3 2 4 2 2 1 2 2 1 0 2 2 1 2 1 2 2\n",
            " 2 2 2 2 0 2 2 3 2 2 4 2 2 0 3 2 2 2 2 0 2 2 2 1 2 2 2 2 1 2 1 2 3 1 1 1 1\n",
            " 1 2 1 1 0 1 1 0 1 1 1 1 1 0 1 0 3 3 1 0 1 1 1 0 3 1 1 0 1 0 1 3 0 1 3 1 0\n",
            " 1 0 1 1 1 1 1 1 3 1 1 1 1 3 1 1 1 1 1 1 1 1 1 1 1 1 1 1 1 1 1 1 1 1 1 1 1\n",
            " 1 1 1 1 1 1 1 1 1 1 1 1 1 1 1 1 1 1 1 1 1 1 1 1 1 1 1 1 1 1 1 1 1 1 1 1 1\n",
            " 1 1 1 1 2 0 1 1 4 1 1 1 0 1 1 1 1 1 2 0 1 1 0 1 0 1 1 1 1 0 1 1 1 1 1 0 1\n",
            " 1 1 1 0 4 1 2 1 1 1 1 1 0 1 1 1 1 1 0 1 1 1 1 1 4 0 1]\n",
            "Degree =  9 0.4638888888888889\n",
            "[0 0 0 0 0 0 0 0 0 0 0 0 1 0 0 0 0 0 0 0 0 0 0 0 0 0 0 0 0 0 0 0 0 0 0 0 0\n",
            " 0 0 0 0 0 0 0 0 0 0 0 0 0 0 0 0 0 0 1 0 0 3 0 1 1 1 1 1 1 1 1 1 1 1 1 1 1\n",
            " 1 1 1 1 1 1 1 1 1 1 1 1 1 1 1 1 1 1 1 1 1 1 1 1 1 1 1 1 1 1 1 1 1 1 1 1 1\n",
            " 1 1 1 1 1 1 1 1 1 2 2 2 3 2 2 2 2 2 1 2 3 2 4 2 2 1 2 2 1 0 2 2 1 2 1 2 2\n",
            " 2 2 2 2 0 2 2 3 2 2 4 2 2 0 3 2 2 2 2 0 2 2 2 1 2 2 2 2 1 2 1 2 3 1 1 1 1\n",
            " 1 2 1 1 0 1 1 0 1 1 1 1 1 0 1 0 3 3 1 0 1 1 1 0 3 1 1 0 1 0 1 0 0 1 3 1 0\n",
            " 1 0 1 1 1 1 1 1 3 1 1 1 1 0 1 1 1 1 1 1 1 1 1 1 1 1 1 1 1 1 1 1 1 1 1 1 1\n",
            " 1 1 1 1 1 1 1 1 1 1 1 1 1 1 1 1 1 1 1 1 1 1 1 1 1 1 1 1 1 1 1 1 1 1 1 1 1\n",
            " 1 1 1 1 2 0 1 1 4 1 1 1 0 1 1 1 1 1 2 0 1 1 0 1 0 1 1 1 1 4 1 1 1 1 1 0 1\n",
            " 1 1 1 0 4 1 2 1 1 1 1 1 4 1 1 1 1 1 0 1 1 1 1 1 1 2 1]\n",
            "Degree =  10 0.4583333333333333\n",
            "[0 0 0 0 0 0 0 0 0 0 0 0 1 0 0 0 0 0 0 0 0 0 0 0 0 0 0 0 0 0 0 0 0 0 0 0 0\n",
            " 0 0 0 0 0 0 0 0 0 0 0 0 0 0 0 0 0 0 1 0 0 3 0 1 1 1 1 1 1 1 1 1 1 1 1 1 1\n",
            " 1 1 1 1 1 1 1 1 1 1 1 1 1 1 1 1 1 1 1 1 1 1 1 1 1 1 1 1 1 1 1 1 1 1 1 1 1\n",
            " 1 1 1 1 1 1 1 1 1 2 2 2 3 2 2 2 2 2 1 2 0 2 4 2 2 1 2 2 1 0 2 2 1 2 1 2 2\n",
            " 2 2 2 2 0 2 2 3 2 2 4 2 2 0 3 2 2 2 2 0 2 2 2 1 2 2 2 2 1 2 1 2 3 1 1 1 1\n",
            " 1 2 1 1 0 1 1 0 1 1 1 1 1 0 1 0 3 3 1 0 1 1 1 0 3 1 1 0 1 0 1 0 0 1 3 1 0\n",
            " 1 0 1 1 1 1 1 1 3 1 1 1 1 0 1 1 1 1 1 1 1 1 1 1 1 1 1 1 1 1 1 1 1 1 1 1 1\n",
            " 1 1 1 1 1 1 1 1 1 1 1 1 1 1 1 1 1 1 1 1 1 1 1 1 1 1 1 1 1 1 1 1 1 1 1 1 1\n",
            " 1 1 1 1 2 0 1 1 4 1 1 1 0 1 1 1 1 1 2 0 1 1 0 1 2 1 1 1 1 4 1 1 1 1 1 2 1\n",
            " 1 1 1 2 4 1 2 1 1 1 1 1 4 1 1 1 1 1 0 1 1 1 1 1 1 2 1]\n",
            "Degree =  11 0.4583333333333333\n",
            "[0 0 0 0 0 0 0 0 0 0 0 0 1 0 0 0 0 0 0 0 0 0 0 0 0 0 0 0 0 0 0 0 0 0 0 0 0\n",
            " 0 0 0 0 0 0 0 0 0 0 0 0 0 0 0 0 0 0 1 0 0 3 0 1 1 1 1 1 1 1 1 1 1 1 1 1 1\n",
            " 1 1 1 1 1 1 1 1 1 1 1 1 1 1 1 1 1 1 1 1 1 1 1 1 1 1 1 1 1 1 1 1 1 1 1 1 1\n",
            " 1 1 1 1 1 1 1 1 1 2 2 2 3 2 2 2 2 2 1 2 0 2 4 2 2 1 2 2 1 0 2 2 1 2 1 2 2\n",
            " 2 2 2 2 0 2 2 3 2 2 4 2 2 0 3 2 2 2 2 0 2 2 2 1 2 2 2 2 1 2 1 0 3 1 1 1 1\n",
            " 1 2 1 1 0 1 1 0 1 1 1 1 1 0 1 0 3 3 1 0 1 1 1 0 3 1 1 0 1 0 1 4 0 1 3 1 0\n",
            " 1 0 1 1 1 1 1 1 3 1 1 1 1 0 1 1 1 1 1 1 1 1 1 1 1 1 1 1 1 1 1 1 1 1 1 1 1\n",
            " 1 1 1 1 1 1 1 1 1 1 1 1 1 1 1 1 1 1 1 1 1 1 1 1 1 1 1 1 1 1 1 1 1 1 1 1 1\n",
            " 1 1 1 1 2 0 1 1 4 1 1 1 0 1 1 1 1 1 2 0 1 1 0 1 2 1 1 1 1 4 1 1 1 1 1 2 1\n",
            " 1 1 1 2 4 1 2 1 1 1 1 1 4 1 1 1 1 1 0 1 1 1 1 1 1 2 1]\n",
            "Degree =  12 0.45555555555555555\n",
            "[0 0 0 0 0 0 0 0 0 0 0 0 1 0 0 0 0 0 0 0 0 0 0 0 0 0 0 0 0 0 0 0 0 0 0 0 0\n",
            " 0 0 0 0 0 0 0 0 0 0 0 0 0 0 0 0 0 0 1 0 0 3 0 1 1 1 1 1 1 1 1 1 1 1 1 1 1\n",
            " 1 1 1 1 1 1 1 1 1 1 1 1 1 1 1 1 1 1 1 1 1 1 1 1 1 1 1 1 1 1 1 1 1 1 1 1 1\n",
            " 1 1 1 1 1 1 1 1 1 2 2 2 3 2 2 2 2 2 1 2 0 2 4 2 2 1 2 2 1 0 2 2 1 2 1 2 2\n",
            " 2 2 2 2 0 2 2 3 2 2 4 2 2 0 3 2 2 2 2 2 2 2 2 1 2 2 2 2 1 2 1 0 3 1 1 1 1\n",
            " 1 2 1 1 0 1 1 4 1 1 1 1 1 0 1 0 3 3 1 0 1 1 1 0 3 1 1 0 1 0 1 4 0 1 3 1 0\n",
            " 1 0 1 1 1 1 1 1 3 1 1 1 1 4 1 1 1 1 1 1 1 1 1 1 1 1 1 1 1 1 1 1 1 1 1 1 1\n",
            " 1 1 1 1 1 1 1 1 1 1 1 1 1 1 1 1 1 1 1 1 1 1 1 1 1 1 1 1 1 1 1 1 1 1 1 1 1\n",
            " 1 1 1 1 2 2 1 1 4 1 1 1 0 1 1 1 1 1 2 2 1 1 0 1 2 1 1 1 1 4 1 1 1 1 1 2 1\n",
            " 1 1 1 2 4 1 2 1 1 1 1 1 4 1 1 1 1 1 0 1 1 1 1 1 1 2 1]\n",
            "Degree =  13 0.4583333333333333\n",
            "[0 0 0 0 0 0 0 0 0 0 0 0 1 0 0 0 0 0 0 0 0 0 0 0 0 0 0 0 0 0 0 0 0 0 0 0 0\n",
            " 0 0 0 0 0 0 0 0 0 0 0 0 0 0 0 0 0 0 1 0 0 3 0 1 1 1 1 1 1 1 1 1 1 1 1 1 1\n",
            " 1 1 1 1 1 1 1 1 1 1 1 1 1 1 1 1 1 1 1 1 1 1 1 1 1 1 1 1 1 1 1 1 1 1 1 1 1\n",
            " 1 1 1 1 1 1 1 1 1 2 2 2 3 2 2 2 2 2 1 2 0 2 4 2 2 1 2 2 1 0 2 2 1 2 1 2 2\n",
            " 2 2 2 2 0 2 2 3 2 2 1 2 2 0 3 2 2 2 2 2 2 2 2 1 2 2 2 2 1 2 1 0 3 1 1 1 1\n",
            " 1 2 1 1 0 1 1 4 1 1 1 1 1 0 1 0 3 3 1 0 1 1 1 0 3 1 1 0 1 0 1 4 0 1 3 1 0\n",
            " 1 0 1 1 1 1 1 1 3 1 1 1 1 4 1 1 1 1 1 1 1 1 1 1 1 1 1 1 1 1 1 1 1 1 1 1 1\n",
            " 1 1 1 1 1 1 1 1 1 1 1 1 1 1 1 1 1 1 1 1 1 1 1 1 1 1 1 1 1 1 1 1 1 1 1 1 1\n",
            " 1 1 1 1 2 2 1 1 4 1 1 1 0 1 1 1 1 1 2 2 1 1 2 1 2 1 1 1 1 4 1 1 1 1 1 2 1\n",
            " 1 1 1 2 4 1 2 1 1 1 1 1 4 1 1 1 1 1 0 1 1 1 1 1 1 2 1]\n",
            "Degree =  14 0.4583333333333333\n"
          ]
        }
      ]
    },
    {
      "cell_type": "code",
      "source": [
        "poly_svc = svm.SVC(kernel='poly', degree=1).fit(X_train, y_train)\n",
        "yhat = poly_svc.predict(X_test)\n",
        "print(yhat)\n",
        "print(metrics.accuracy_score(y_test, yhat))\n",
        "print(confusion_matrix(y_test, yhat))\n",
        "print(classification_report(y_test, yhat))"
      ],
      "metadata": {
        "colab": {
          "base_uri": "https://localhost:8080/"
        },
        "id": "Ti9dGVtgS3r7",
        "outputId": "fcfd4058-b8f9-49dc-80a7-e100aa3be31b"
      },
      "execution_count": null,
      "outputs": [
        {
          "output_type": "stream",
          "name": "stdout",
          "text": [
            "[0 0 0 0 0 0 0 0 0 0 0 0 4 0 0 0 0 0 0 0 0 0 0 0 0 0 0 0 0 0 0 0 0 0 0 0 0\n",
            " 0 0 0 0 0 0 0 0 0 0 0 0 0 0 0 0 0 0 0 0 0 0 0 1 1 1 1 1 1 1 1 1 1 1 1 1 1\n",
            " 3 1 1 1 1 1 1 1 1 1 1 1 1 1 1 1 1 1 1 1 1 1 1 1 1 1 1 1 1 1 1 1 1 1 1 1 1\n",
            " 1 1 1 1 1 1 1 1 1 2 0 2 0 2 2 2 2 2 3 2 0 2 0 2 2 3 2 2 3 0 2 2 3 2 3 0 2\n",
            " 2 2 2 0 0 2 2 2 0 2 0 2 0 0 0 2 2 0 2 0 2 2 0 3 2 2 2 2 3 0 3 0 0 3 1 3 3\n",
            " 3 2 3 3 0 3 1 0 3 3 3 0 3 0 3 0 0 2 3 0 1 3 1 0 0 1 3 0 3 0 3 0 0 3 2 3 0\n",
            " 3 0 3 3 3 3 3 3 2 1 1 3 3 0 1 3 1 3 3 4 3 3 3 3 3 3 3 4 3 4 3 3 3 3 3 3 3\n",
            " 3 3 3 4 3 4 3 3 3 4 4 4 3 3 3 3 4 3 3 3 3 3 4 3 3 4 3 3 3 3 3 3 3 3 3 3 3\n",
            " 4 4 4 3 0 0 4 4 4 4 4 4 4 4 4 1 4 4 0 0 4 3 0 4 0 1 4 4 4 4 4 1 4 5 1 0 4\n",
            " 4 4 4 0 4 4 0 4 1 4 4 4 4 4 4 4 4 5 0 4 4 1 4 1 4 0 4]\n",
            "0.55\n",
            "[[59  0  0  0  1  0]\n",
            " [ 0 59  0  1  0  0]\n",
            " [18  0 34  8  0  0]\n",
            " [17  9  4 30  0  0]\n",
            " [ 0  0  0 46 14  0]\n",
            " [11  7  0  1 39  2]]\n",
            "              precision    recall  f1-score   support\n",
            "\n",
            "           0       0.56      0.98      0.72        60\n",
            "           1       0.79      0.98      0.87        60\n",
            "           2       0.89      0.57      0.69        60\n",
            "           3       0.35      0.50      0.41        60\n",
            "           4       0.26      0.23      0.25        60\n",
            "           5       1.00      0.03      0.06        60\n",
            "\n",
            "    accuracy                           0.55       360\n",
            "   macro avg       0.64      0.55      0.50       360\n",
            "weighted avg       0.64      0.55      0.50       360\n",
            "\n"
          ]
        }
      ]
    },
    {
      "cell_type": "code",
      "source": [
        ""
      ],
      "metadata": {
        "id": "Xfm08yKlVrMt"
      },
      "execution_count": null,
      "outputs": []
    }
  ]
}