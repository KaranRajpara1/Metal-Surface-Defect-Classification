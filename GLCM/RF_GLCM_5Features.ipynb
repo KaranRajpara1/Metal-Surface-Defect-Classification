{
  "nbformat": 4,
  "nbformat_minor": 0,
  "metadata": {
    "colab": {
      "name": "Project_22.ipynb",
      "provenance": []
    },
    "kernelspec": {
      "name": "python3",
      "display_name": "Python 3"
    },
    "language_info": {
      "name": "python"
    }
  },
  "cells": [
    {
      "cell_type": "markdown",
      "source": [
        "Random Forest\n",
        "Feature Extraction Method: GLCM\n",
        "Features Taken with distance = 5, angle = 0"
      ],
      "metadata": {
        "id": "1TYhaw4CTb5R"
      }
    },
    {
      "cell_type": "code",
      "execution_count": null,
      "metadata": {
        "id": "IMBKkk8pOgQf"
      },
      "outputs": [],
      "source": [
        "from google.colab import drive"
      ]
    },
    {
      "cell_type": "code",
      "source": [
        "drive.mount('/content/drive')"
      ],
      "metadata": {
        "colab": {
          "base_uri": "https://localhost:8080/"
        },
        "id": "CQw3ZZWIOubz",
        "outputId": "3ac335e1-5c5f-4f5b-ee7e-5b8d74ebb6cf"
      },
      "execution_count": null,
      "outputs": [
        {
          "output_type": "stream",
          "name": "stdout",
          "text": [
            "Mounted at /content/drive\n"
          ]
        }
      ]
    },
    {
      "cell_type": "code",
      "source": [
        "cd /content/drive/\"MyDrive/Machine Learning/GLCM\""
      ],
      "metadata": {
        "colab": {
          "base_uri": "https://localhost:8080/"
        },
        "id": "cgnc0JB4PUpV",
        "outputId": "b7fa8ead-ea5f-4df7-918a-7d9721abc959"
      },
      "execution_count": null,
      "outputs": [
        {
          "output_type": "stream",
          "name": "stdout",
          "text": [
            "/content/drive/MyDrive/Machine Learning/GLCM\n"
          ]
        }
      ]
    },
    {
      "cell_type": "code",
      "source": [
        "import pandas as pd\n",
        "import numpy as np\n",
        "import matplotlib.pyplot as plt\n",
        "from sklearn.model_selection import train_test_split\n",
        "import glob\n",
        "import cv2\n",
        "from sklearn.ensemble import RandomForestClassifier\n",
        "from sklearn import metrics\n",
        "from sklearn import svm\n",
        "from sklearn.metrics import classification_report, confusion_matrix\n",
        "import itertools\n",
        "from skimage.filters import sobel\n",
        "from skimage.feature import greycomatrix, greycoprops\n",
        "import time"
      ],
      "metadata": {
        "id": "ZoDpv16mOva4"
      },
      "execution_count": null,
      "outputs": []
    },
    {
      "cell_type": "code",
      "source": [
        "X_train = list()\n",
        "X_test = list()\n",
        "y_train = list()\n",
        "y_test = list()\n",
        "\n",
        "# for k fold cross validation\n",
        "x_new = list()\n",
        "y_new = list()"
      ],
      "metadata": {
        "id": "CN1HOcsTO5R9"
      },
      "execution_count": null,
      "outputs": []
    },
    {
      "cell_type": "code",
      "source": [
        "# 0 = crazing \n",
        "# 1 = inclusion\n",
        "# 2 = patches\n",
        "# 3 = pitted_surface\n",
        "# 4 = rolled in scale\n",
        "# 5 = scratches"
      ],
      "metadata": {
        "id": "2SU6a4DnO8tx"
      },
      "execution_count": null,
      "outputs": []
    },
    {
      "cell_type": "code",
      "source": [
        "dataset1 = pd.read_csv('GLCM_train.csv')\n",
        "print(dataset1)"
      ],
      "metadata": {
        "colab": {
          "base_uri": "https://localhost:8080/"
        },
        "id": "G5zmMTiRPBRy",
        "outputId": "917bca55-2049-4c59-e7b7-0e04a93438cd"
      },
      "execution_count": null,
      "outputs": [
        {
          "output_type": "stream",
          "name": "stdout",
          "text": [
            "      Unnamed: 0    Energy      Corr   Diss_sim   Homogen    Contrast  \\\n",
            "0              0  0.014224  0.725731  15.456080  0.063373  383.715930   \n",
            "1              0  0.015558  0.778272  12.804573  0.076365  263.964171   \n",
            "2              0  0.015120  0.746263  13.894296  0.069790  310.096910   \n",
            "3              0  0.016114  0.719193  13.510452  0.071717  292.011709   \n",
            "4              0  0.013543  0.787991  14.764347  0.066498  351.571382   \n",
            "...          ...       ...       ...        ...       ...         ...   \n",
            "1435           0  0.033905  0.971425   3.316633  0.292426   22.962261   \n",
            "1436           0  0.058558  0.959366   2.681734  0.485881   48.285804   \n",
            "1437           0  0.047101  0.983943   2.665603  0.434930   30.869422   \n",
            "1438           0  0.052825  0.987204   3.837789  0.358781   61.731910   \n",
            "1439           0  0.052105  0.966701   3.046206  0.392387   38.874296   \n",
            "\n",
            "       Energy2     Corr2  Diss_sim2  Homogen2  ...   Energy4  Corr4  \\\n",
            "0     0.012683  0.395795  22.695406  0.044695  ...  0.105232    1.0   \n",
            "1     0.013689  0.532007  18.470305  0.054047  ...  0.107451    1.0   \n",
            "2     0.013502  0.488098  19.576853  0.051071  ...  0.107443    1.0   \n",
            "3     0.014400  0.418449  19.309518  0.052188  ...  0.113047    1.0   \n",
            "4     0.011767  0.515696  22.175660  0.045302  ...  0.098454    1.0   \n",
            "...        ...       ...        ...       ...  ...       ...    ...   \n",
            "1435  0.028393  0.932634   4.949340  0.214864  ...  0.118031    1.0   \n",
            "1436  0.046291  0.799489   5.660381  0.331171  ...  0.136424    1.0   \n",
            "1437  0.036447  0.913482   5.835431  0.289870  ...  0.117314    1.0   \n",
            "1438  0.040471  0.929155   8.684949  0.226254  ...  0.128840    1.0   \n",
            "1439  0.042811  0.879766   5.305406  0.279443  ...  0.140307    1.0   \n",
            "\n",
            "      Diss_sim4  Homogen4  Contrast4   Energy5  Corr5  Diss_sim5  Homogen5  \\\n",
            "0           0.0       1.0        0.0  0.105232    1.0        0.0       1.0   \n",
            "1           0.0       1.0        0.0  0.107451    1.0        0.0       1.0   \n",
            "2           0.0       1.0        0.0  0.107443    1.0        0.0       1.0   \n",
            "3           0.0       1.0        0.0  0.113047    1.0        0.0       1.0   \n",
            "4           0.0       1.0        0.0  0.098454    1.0        0.0       1.0   \n",
            "...         ...       ...        ...       ...    ...        ...       ...   \n",
            "1435        0.0       1.0        0.0  0.118031    1.0        0.0       1.0   \n",
            "1436        0.0       1.0        0.0  0.136424    1.0        0.0       1.0   \n",
            "1437        0.0       1.0        0.0  0.117314    1.0        0.0       1.0   \n",
            "1438        0.0       1.0        0.0  0.128840    1.0        0.0       1.0   \n",
            "1439        0.0       1.0        0.0  0.140307    1.0        0.0       1.0   \n",
            "\n",
            "      Contrast5  \n",
            "0           0.0  \n",
            "1           0.0  \n",
            "2           0.0  \n",
            "3           0.0  \n",
            "4           0.0  \n",
            "...         ...  \n",
            "1435        0.0  \n",
            "1436        0.0  \n",
            "1437        0.0  \n",
            "1438        0.0  \n",
            "1439        0.0  \n",
            "\n",
            "[1440 rows x 26 columns]\n"
          ]
        }
      ]
    },
    {
      "cell_type": "code",
      "source": [
        "x = dataset1.iloc[:,11:16].values\n",
        "print(len(x[0]))"
      ],
      "metadata": {
        "colab": {
          "base_uri": "https://localhost:8080/"
        },
        "id": "uxaFqQqHQCTL",
        "outputId": "de42d003-ac61-44d0-91ca-7a3367b103bd"
      },
      "execution_count": null,
      "outputs": [
        {
          "output_type": "stream",
          "name": "stdout",
          "text": [
            "5\n"
          ]
        }
      ]
    },
    {
      "cell_type": "code",
      "source": [
        "print(x)"
      ],
      "metadata": {
        "colab": {
          "base_uri": "https://localhost:8080/"
        },
        "id": "rGMlJ3SiQVKX",
        "outputId": "4878f0ec-1ea3-4098-f3a3-4a1fd5c145ed"
      },
      "execution_count": null,
      "outputs": [
        {
          "output_type": "stream",
          "name": "stdout",
          "text": [
            "[[1.24517214e-02 2.71204228e-01 2.48634103e+01 3.97342203e-02\n",
            "  1.01318356e+03]\n",
            " [1.34048379e-02 4.41275423e-01 2.01172051e+01 5.08597913e-02\n",
            "  6.57472590e+02]\n",
            " [1.32462640e-02 3.76921626e-01 2.15380256e+01 4.70296571e-02\n",
            "  7.47128641e+02]\n",
            " ...\n",
            " [3.33351676e-02 8.35100932e-01 8.23856410e+00 2.50575371e-01\n",
            "  3.21118462e+02]\n",
            " [3.48665720e-02 8.64707627e-01 1.21986667e+01 1.84690935e-01\n",
            "  6.62054513e+02]\n",
            " [4.12908734e-02 8.18317591e-01 6.79512821e+00 2.48585891e-01\n",
            "  2.13973590e+02]]\n"
          ]
        }
      ]
    },
    {
      "cell_type": "code",
      "source": [
        "print(x[0])"
      ],
      "metadata": {
        "colab": {
          "base_uri": "https://localhost:8080/"
        },
        "id": "yuge5Jq7QY6D",
        "outputId": "0ef1abdb-89b5-4f95-e92e-95ae15a7f5c5"
      },
      "execution_count": null,
      "outputs": [
        {
          "output_type": "stream",
          "name": "stdout",
          "text": [
            "[1.24517214e-02 2.71204228e-01 2.48634103e+01 3.97342203e-02\n",
            " 1.01318356e+03]\n"
          ]
        }
      ]
    },
    {
      "cell_type": "code",
      "source": [
        "print(len(x))"
      ],
      "metadata": {
        "colab": {
          "base_uri": "https://localhost:8080/"
        },
        "id": "m76dWWx6QvzV",
        "outputId": "879389bd-3c6a-49b8-95e1-3b69e25a6d85"
      },
      "execution_count": null,
      "outputs": [
        {
          "output_type": "stream",
          "name": "stdout",
          "text": [
            "1440\n"
          ]
        }
      ]
    },
    {
      "cell_type": "code",
      "source": [
        "y = list()"
      ],
      "metadata": {
        "id": "dztpDFUrQfja"
      },
      "execution_count": null,
      "outputs": []
    },
    {
      "cell_type": "code",
      "source": [
        "for i in range(0,6) :\n",
        "    for j in range(0,240):\n",
        "        y.append(i)\n"
      ],
      "metadata": {
        "id": "OMKN81jDQrkX"
      },
      "execution_count": null,
      "outputs": []
    },
    {
      "cell_type": "code",
      "source": [
        "print(y)"
      ],
      "metadata": {
        "colab": {
          "base_uri": "https://localhost:8080/"
        },
        "id": "jcvrJiINRIyW",
        "outputId": "3d70bbea-9bf1-40e3-876e-e7b9dfec61ad"
      },
      "execution_count": null,
      "outputs": [
        {
          "output_type": "stream",
          "name": "stdout",
          "text": [
            "[0, 0, 0, 0, 0, 0, 0, 0, 0, 0, 0, 0, 0, 0, 0, 0, 0, 0, 0, 0, 0, 0, 0, 0, 0, 0, 0, 0, 0, 0, 0, 0, 0, 0, 0, 0, 0, 0, 0, 0, 0, 0, 0, 0, 0, 0, 0, 0, 0, 0, 0, 0, 0, 0, 0, 0, 0, 0, 0, 0, 0, 0, 0, 0, 0, 0, 0, 0, 0, 0, 0, 0, 0, 0, 0, 0, 0, 0, 0, 0, 0, 0, 0, 0, 0, 0, 0, 0, 0, 0, 0, 0, 0, 0, 0, 0, 0, 0, 0, 0, 0, 0, 0, 0, 0, 0, 0, 0, 0, 0, 0, 0, 0, 0, 0, 0, 0, 0, 0, 0, 0, 0, 0, 0, 0, 0, 0, 0, 0, 0, 0, 0, 0, 0, 0, 0, 0, 0, 0, 0, 0, 0, 0, 0, 0, 0, 0, 0, 0, 0, 0, 0, 0, 0, 0, 0, 0, 0, 0, 0, 0, 0, 0, 0, 0, 0, 0, 0, 0, 0, 0, 0, 0, 0, 0, 0, 0, 0, 0, 0, 0, 0, 0, 0, 0, 0, 0, 0, 0, 0, 0, 0, 0, 0, 0, 0, 0, 0, 0, 0, 0, 0, 0, 0, 0, 0, 0, 0, 0, 0, 0, 0, 0, 0, 0, 0, 0, 0, 0, 0, 0, 0, 0, 0, 0, 0, 0, 0, 0, 0, 0, 0, 0, 0, 0, 0, 0, 0, 0, 0, 1, 1, 1, 1, 1, 1, 1, 1, 1, 1, 1, 1, 1, 1, 1, 1, 1, 1, 1, 1, 1, 1, 1, 1, 1, 1, 1, 1, 1, 1, 1, 1, 1, 1, 1, 1, 1, 1, 1, 1, 1, 1, 1, 1, 1, 1, 1, 1, 1, 1, 1, 1, 1, 1, 1, 1, 1, 1, 1, 1, 1, 1, 1, 1, 1, 1, 1, 1, 1, 1, 1, 1, 1, 1, 1, 1, 1, 1, 1, 1, 1, 1, 1, 1, 1, 1, 1, 1, 1, 1, 1, 1, 1, 1, 1, 1, 1, 1, 1, 1, 1, 1, 1, 1, 1, 1, 1, 1, 1, 1, 1, 1, 1, 1, 1, 1, 1, 1, 1, 1, 1, 1, 1, 1, 1, 1, 1, 1, 1, 1, 1, 1, 1, 1, 1, 1, 1, 1, 1, 1, 1, 1, 1, 1, 1, 1, 1, 1, 1, 1, 1, 1, 1, 1, 1, 1, 1, 1, 1, 1, 1, 1, 1, 1, 1, 1, 1, 1, 1, 1, 1, 1, 1, 1, 1, 1, 1, 1, 1, 1, 1, 1, 1, 1, 1, 1, 1, 1, 1, 1, 1, 1, 1, 1, 1, 1, 1, 1, 1, 1, 1, 1, 1, 1, 1, 1, 1, 1, 1, 1, 1, 1, 1, 1, 1, 1, 1, 1, 1, 1, 1, 1, 1, 1, 1, 1, 1, 1, 1, 1, 1, 1, 1, 1, 1, 1, 1, 1, 1, 1, 2, 2, 2, 2, 2, 2, 2, 2, 2, 2, 2, 2, 2, 2, 2, 2, 2, 2, 2, 2, 2, 2, 2, 2, 2, 2, 2, 2, 2, 2, 2, 2, 2, 2, 2, 2, 2, 2, 2, 2, 2, 2, 2, 2, 2, 2, 2, 2, 2, 2, 2, 2, 2, 2, 2, 2, 2, 2, 2, 2, 2, 2, 2, 2, 2, 2, 2, 2, 2, 2, 2, 2, 2, 2, 2, 2, 2, 2, 2, 2, 2, 2, 2, 2, 2, 2, 2, 2, 2, 2, 2, 2, 2, 2, 2, 2, 2, 2, 2, 2, 2, 2, 2, 2, 2, 2, 2, 2, 2, 2, 2, 2, 2, 2, 2, 2, 2, 2, 2, 2, 2, 2, 2, 2, 2, 2, 2, 2, 2, 2, 2, 2, 2, 2, 2, 2, 2, 2, 2, 2, 2, 2, 2, 2, 2, 2, 2, 2, 2, 2, 2, 2, 2, 2, 2, 2, 2, 2, 2, 2, 2, 2, 2, 2, 2, 2, 2, 2, 2, 2, 2, 2, 2, 2, 2, 2, 2, 2, 2, 2, 2, 2, 2, 2, 2, 2, 2, 2, 2, 2, 2, 2, 2, 2, 2, 2, 2, 2, 2, 2, 2, 2, 2, 2, 2, 2, 2, 2, 2, 2, 2, 2, 2, 2, 2, 2, 2, 2, 2, 2, 2, 2, 2, 2, 2, 2, 2, 2, 2, 2, 2, 2, 2, 2, 2, 2, 2, 2, 2, 2, 3, 3, 3, 3, 3, 3, 3, 3, 3, 3, 3, 3, 3, 3, 3, 3, 3, 3, 3, 3, 3, 3, 3, 3, 3, 3, 3, 3, 3, 3, 3, 3, 3, 3, 3, 3, 3, 3, 3, 3, 3, 3, 3, 3, 3, 3, 3, 3, 3, 3, 3, 3, 3, 3, 3, 3, 3, 3, 3, 3, 3, 3, 3, 3, 3, 3, 3, 3, 3, 3, 3, 3, 3, 3, 3, 3, 3, 3, 3, 3, 3, 3, 3, 3, 3, 3, 3, 3, 3, 3, 3, 3, 3, 3, 3, 3, 3, 3, 3, 3, 3, 3, 3, 3, 3, 3, 3, 3, 3, 3, 3, 3, 3, 3, 3, 3, 3, 3, 3, 3, 3, 3, 3, 3, 3, 3, 3, 3, 3, 3, 3, 3, 3, 3, 3, 3, 3, 3, 3, 3, 3, 3, 3, 3, 3, 3, 3, 3, 3, 3, 3, 3, 3, 3, 3, 3, 3, 3, 3, 3, 3, 3, 3, 3, 3, 3, 3, 3, 3, 3, 3, 3, 3, 3, 3, 3, 3, 3, 3, 3, 3, 3, 3, 3, 3, 3, 3, 3, 3, 3, 3, 3, 3, 3, 3, 3, 3, 3, 3, 3, 3, 3, 3, 3, 3, 3, 3, 3, 3, 3, 3, 3, 3, 3, 3, 3, 3, 3, 3, 3, 3, 3, 3, 3, 3, 3, 3, 3, 3, 3, 3, 3, 3, 3, 3, 3, 3, 3, 3, 3, 4, 4, 4, 4, 4, 4, 4, 4, 4, 4, 4, 4, 4, 4, 4, 4, 4, 4, 4, 4, 4, 4, 4, 4, 4, 4, 4, 4, 4, 4, 4, 4, 4, 4, 4, 4, 4, 4, 4, 4, 4, 4, 4, 4, 4, 4, 4, 4, 4, 4, 4, 4, 4, 4, 4, 4, 4, 4, 4, 4, 4, 4, 4, 4, 4, 4, 4, 4, 4, 4, 4, 4, 4, 4, 4, 4, 4, 4, 4, 4, 4, 4, 4, 4, 4, 4, 4, 4, 4, 4, 4, 4, 4, 4, 4, 4, 4, 4, 4, 4, 4, 4, 4, 4, 4, 4, 4, 4, 4, 4, 4, 4, 4, 4, 4, 4, 4, 4, 4, 4, 4, 4, 4, 4, 4, 4, 4, 4, 4, 4, 4, 4, 4, 4, 4, 4, 4, 4, 4, 4, 4, 4, 4, 4, 4, 4, 4, 4, 4, 4, 4, 4, 4, 4, 4, 4, 4, 4, 4, 4, 4, 4, 4, 4, 4, 4, 4, 4, 4, 4, 4, 4, 4, 4, 4, 4, 4, 4, 4, 4, 4, 4, 4, 4, 4, 4, 4, 4, 4, 4, 4, 4, 4, 4, 4, 4, 4, 4, 4, 4, 4, 4, 4, 4, 4, 4, 4, 4, 4, 4, 4, 4, 4, 4, 4, 4, 4, 4, 4, 4, 4, 4, 4, 4, 4, 4, 4, 4, 4, 4, 4, 4, 4, 4, 4, 4, 4, 4, 4, 4, 5, 5, 5, 5, 5, 5, 5, 5, 5, 5, 5, 5, 5, 5, 5, 5, 5, 5, 5, 5, 5, 5, 5, 5, 5, 5, 5, 5, 5, 5, 5, 5, 5, 5, 5, 5, 5, 5, 5, 5, 5, 5, 5, 5, 5, 5, 5, 5, 5, 5, 5, 5, 5, 5, 5, 5, 5, 5, 5, 5, 5, 5, 5, 5, 5, 5, 5, 5, 5, 5, 5, 5, 5, 5, 5, 5, 5, 5, 5, 5, 5, 5, 5, 5, 5, 5, 5, 5, 5, 5, 5, 5, 5, 5, 5, 5, 5, 5, 5, 5, 5, 5, 5, 5, 5, 5, 5, 5, 5, 5, 5, 5, 5, 5, 5, 5, 5, 5, 5, 5, 5, 5, 5, 5, 5, 5, 5, 5, 5, 5, 5, 5, 5, 5, 5, 5, 5, 5, 5, 5, 5, 5, 5, 5, 5, 5, 5, 5, 5, 5, 5, 5, 5, 5, 5, 5, 5, 5, 5, 5, 5, 5, 5, 5, 5, 5, 5, 5, 5, 5, 5, 5, 5, 5, 5, 5, 5, 5, 5, 5, 5, 5, 5, 5, 5, 5, 5, 5, 5, 5, 5, 5, 5, 5, 5, 5, 5, 5, 5, 5, 5, 5, 5, 5, 5, 5, 5, 5, 5, 5, 5, 5, 5, 5, 5, 5, 5, 5, 5, 5, 5, 5, 5, 5, 5, 5, 5, 5, 5, 5, 5, 5, 5, 5, 5, 5, 5, 5, 5, 5]\n"
          ]
        }
      ]
    },
    {
      "cell_type": "code",
      "source": [
        "X_train = x\n",
        "y_train = y"
      ],
      "metadata": {
        "id": "UvhliqOLRJby"
      },
      "execution_count": null,
      "outputs": []
    },
    {
      "cell_type": "code",
      "source": [
        "dataset1 = pd.read_csv('GLCM_test.csv')\n",
        "print(dataset1)"
      ],
      "metadata": {
        "colab": {
          "base_uri": "https://localhost:8080/"
        },
        "id": "OKPzIOcfRUGw",
        "outputId": "2334228b-9d32-4211-a9f9-8a08a977d4fd"
      },
      "execution_count": null,
      "outputs": [
        {
          "output_type": "stream",
          "name": "stdout",
          "text": [
            "     Unnamed: 0    Energy      Corr   Diss_sim   Homogen    Contrast  \\\n",
            "0             0  0.014085  0.748947  15.308317  0.063230  375.439874   \n",
            "1             0  0.013354  0.812510  14.557965  0.068531  341.479372   \n",
            "2             0  0.013476  0.759687  15.553065  0.063098  390.181206   \n",
            "3             0  0.013039  0.771689  15.981709  0.062617  409.665628   \n",
            "4             0  0.013783  0.757698  15.442638  0.064622  387.517764   \n",
            "..          ...       ...       ...        ...       ...         ...   \n",
            "355           0  0.062155  0.995837   1.575452  0.488198    5.920075   \n",
            "356           0  0.067211  0.985235   1.432513  0.498722    4.875427   \n",
            "357           0  0.055791  0.988033   2.337362  0.355444   10.801583   \n",
            "358           0  0.046354  0.989063   2.493492  0.373817   19.243593   \n",
            "359           0  0.055859  0.979090   2.404749  0.356955   14.151985   \n",
            "\n",
            "      Energy2     Corr2  Diss_sim2  Homogen2  ...   Energy4  Corr4  Diss_sim4  \\\n",
            "0    0.012467  0.446429  22.532995  0.044155  ...  0.103558    1.0        0.0   \n",
            "1    0.011849  0.607541  20.839543  0.048530  ...  0.096566    1.0        0.0   \n",
            "2    0.011937  0.475017  22.796701  0.044843  ...  0.100087    1.0        0.0   \n",
            "3    0.011519  0.488173  23.654162  0.042825  ...  0.097640    1.0        0.0   \n",
            "4    0.012142  0.450002  22.986954  0.045123  ...  0.101432    1.0        0.0   \n",
            "..        ...       ...        ...       ...  ...       ...    ...        ...   \n",
            "355  0.049038  0.985219   2.781472  0.346212  ...  0.145807    1.0        0.0   \n",
            "356  0.054696  0.951457   2.321548  0.366321  ...  0.162806    1.0        0.0   \n",
            "357  0.042696  0.954985   4.320914  0.223368  ...  0.167867    1.0        0.0   \n",
            "358  0.036690  0.948742   4.702665  0.256342  ...  0.133851    1.0        0.0   \n",
            "359  0.044111  0.925030   4.182614  0.239788  ...  0.166927    1.0        0.0   \n",
            "\n",
            "     Homogen4  Contrast4   Energy5  Corr5  Diss_sim5  Homogen5  Contrast5  \n",
            "0         1.0        0.0  0.103558    1.0        0.0       1.0        0.0  \n",
            "1         1.0        0.0  0.096566    1.0        0.0       1.0        0.0  \n",
            "2         1.0        0.0  0.100087    1.0        0.0       1.0        0.0  \n",
            "3         1.0        0.0  0.097640    1.0        0.0       1.0        0.0  \n",
            "4         1.0        0.0  0.101432    1.0        0.0       1.0        0.0  \n",
            "..        ...        ...       ...    ...        ...       ...        ...  \n",
            "355       1.0        0.0  0.145807    1.0        0.0       1.0        0.0  \n",
            "356       1.0        0.0  0.162806    1.0        0.0       1.0        0.0  \n",
            "357       1.0        0.0  0.167867    1.0        0.0       1.0        0.0  \n",
            "358       1.0        0.0  0.133851    1.0        0.0       1.0        0.0  \n",
            "359       1.0        0.0  0.166927    1.0        0.0       1.0        0.0  \n",
            "\n",
            "[360 rows x 26 columns]\n"
          ]
        }
      ]
    },
    {
      "cell_type": "code",
      "source": [
        "x = dataset1.iloc[:,11:16].values\n",
        "print(len(x[0]))"
      ],
      "metadata": {
        "colab": {
          "base_uri": "https://localhost:8080/"
        },
        "id": "j4-y-ob3RrM8",
        "outputId": "73bdc2b8-652a-4a63-9ccc-867b07105d9f"
      },
      "execution_count": null,
      "outputs": [
        {
          "output_type": "stream",
          "name": "stdout",
          "text": [
            "5\n"
          ]
        }
      ]
    },
    {
      "cell_type": "code",
      "source": [
        "print(x)\n",
        "print(x[0])"
      ],
      "metadata": {
        "colab": {
          "base_uri": "https://localhost:8080/"
        },
        "id": "y9YOWDpLRu7c",
        "outputId": "2afb93f7-a375-47be-c8da-0a5fc16471ad"
      },
      "execution_count": null,
      "outputs": [
        {
          "output_type": "stream",
          "name": "stdout",
          "text": [
            "[[1.22837374e-02 3.11786677e-01 2.48204615e+01 4.11062064e-02\n",
            "  1.01926036e+03]\n",
            " [1.15904810e-02 5.32045089e-01 2.26312564e+01 4.52681077e-02\n",
            "  8.34160744e+02]\n",
            " [1.16493814e-02 3.58520753e-01 2.51179487e+01 4.20494281e-02\n",
            "  1.04075026e+03]\n",
            " ...\n",
            " [3.99379203e-02 9.27688946e-01 5.25128205e+00 1.95771812e-01\n",
            "  6.49314872e+01]\n",
            " [3.36716754e-02 9.03525199e-01 6.17061538e+00 2.19845428e-01\n",
            "  1.71253436e+02]\n",
            " [4.14036432e-02 8.88943344e-01 5.00961538e+00 2.13126563e-01\n",
            "  7.41732051e+01]]\n",
            "[1.22837374e-02 3.11786677e-01 2.48204615e+01 4.11062064e-02\n",
            " 1.01926036e+03]\n"
          ]
        }
      ]
    },
    {
      "cell_type": "code",
      "source": [
        "print(len(x))"
      ],
      "metadata": {
        "colab": {
          "base_uri": "https://localhost:8080/"
        },
        "id": "PxbqLuGZRzOG",
        "outputId": "836d3157-630c-447c-d7d8-56dee10a89fd"
      },
      "execution_count": null,
      "outputs": [
        {
          "output_type": "stream",
          "name": "stdout",
          "text": [
            "360\n"
          ]
        }
      ]
    },
    {
      "cell_type": "code",
      "source": [
        "y = list()"
      ],
      "metadata": {
        "id": "8EI_d01dR_Z8"
      },
      "execution_count": null,
      "outputs": []
    },
    {
      "cell_type": "code",
      "source": [
        "for i in range(0,6) :\n",
        "    for j in range(0,60):\n",
        "        y.append(i)\n"
      ],
      "metadata": {
        "id": "zjGTQusQR8OT"
      },
      "execution_count": null,
      "outputs": []
    },
    {
      "cell_type": "code",
      "source": [
        "X_test = x\n",
        "y_test = y"
      ],
      "metadata": {
        "id": "fbpuLVcTSDC5"
      },
      "execution_count": null,
      "outputs": []
    },
    {
      "cell_type": "code",
      "source": [
        "print(len(X_train))\n",
        "print(len(X_test))\n",
        "print(len(y_train))\n",
        "print(len(y_test))"
      ],
      "metadata": {
        "colab": {
          "base_uri": "https://localhost:8080/"
        },
        "id": "oHfsc7DcSHMM",
        "outputId": "17cf294e-fbea-401e-9863-7edfd5d4fe68"
      },
      "execution_count": null,
      "outputs": [
        {
          "output_type": "stream",
          "name": "stdout",
          "text": [
            "1440\n",
            "360\n",
            "1440\n",
            "360\n"
          ]
        }
      ]
    },
    {
      "cell_type": "code",
      "source": [
        "X_train=np.array(X_train)\n",
        "y_train=np.array(y_train)\n",
        "X_test=np.array(X_test)\n",
        "y_test=np.array(y_test)"
      ],
      "metadata": {
        "id": "5UGEkAclSUVC"
      },
      "execution_count": null,
      "outputs": []
    },
    {
      "cell_type": "code",
      "source": [
        "print ('Train set:', X_train.shape,  y_train.shape)\n",
        "print ('Test set:', X_test.shape,  y_test.shape)"
      ],
      "metadata": {
        "colab": {
          "base_uri": "https://localhost:8080/"
        },
        "id": "w6Hsckn3SY3M",
        "outputId": "3af3e9b6-b146-4e8b-f891-95a3aabe430c"
      },
      "execution_count": null,
      "outputs": [
        {
          "output_type": "stream",
          "name": "stdout",
          "text": [
            "Train set: (1440, 5) (1440,)\n",
            "Test set: (360, 5) (360,)\n"
          ]
        }
      ]
    },
    {
      "cell_type": "code",
      "source": [
        "nsamples, nx = X_train.shape\n",
        "X_train = X_train.reshape((nsamples,nx))"
      ],
      "metadata": {
        "id": "qktya8lBSZ3a"
      },
      "execution_count": null,
      "outputs": []
    },
    {
      "cell_type": "code",
      "source": [
        "print(X_train.shape)"
      ],
      "metadata": {
        "colab": {
          "base_uri": "https://localhost:8080/"
        },
        "id": "BiXq0NhtSbx7",
        "outputId": "b5de3f41-9707-49b4-9a11-a0c9f7a5eb35"
      },
      "execution_count": null,
      "outputs": [
        {
          "output_type": "stream",
          "name": "stdout",
          "text": [
            "(1440, 5)\n"
          ]
        }
      ]
    },
    {
      "cell_type": "code",
      "source": [
        "nsamples, nx = X_test.shape\n",
        "X_test = X_test.reshape((nsamples,nx))"
      ],
      "metadata": {
        "id": "WsphffhyScs8"
      },
      "execution_count": null,
      "outputs": []
    },
    {
      "cell_type": "code",
      "source": [
        "print(X_test.shape)"
      ],
      "metadata": {
        "colab": {
          "base_uri": "https://localhost:8080/"
        },
        "id": "xl5IHifZSdmj",
        "outputId": "63051fa6-78c6-4154-8db5-83c5afd62899"
      },
      "execution_count": null,
      "outputs": [
        {
          "output_type": "stream",
          "name": "stdout",
          "text": [
            "(360, 5)\n"
          ]
        }
      ]
    },
    {
      "cell_type": "code",
      "source": [
        "from sklearn.ensemble import RandomForestClassifier\n",
        "#Import scikit-learn metrics module for accuracy calculation\n",
        "from sklearn import metrics"
      ],
      "metadata": {
        "id": "dp6bXBCoUrL7"
      },
      "execution_count": null,
      "outputs": []
    },
    {
      "cell_type": "code",
      "source": [
        "train_accuracy = list()\n",
        "test_accuracy = list()\n",
        "no_of_estimators = list()"
      ],
      "metadata": {
        "id": "E5iwIMJqUtc0"
      },
      "execution_count": null,
      "outputs": []
    },
    {
      "cell_type": "code",
      "source": [
        "for i in range(10,100,5) :\n",
        "    #Create a Gaussian Classifier\n",
        "    clf=RandomForestClassifier(n_estimators=i)\n",
        "\n",
        "    #Train the model using the training sets y_pred=clf.predict(X_test)\n",
        "    clf.fit(X_train, y_train)\n",
        "    y_pred=clf.predict(X_train)\n",
        "    #print(\"Train Accuracy:\",metrics.accuracy_score(output_class, y_pred))\n",
        "    train_accuracy.append(metrics.accuracy_score(y_train, y_pred))\n",
        "\n",
        "    y_pred_test = clf.predict(X_test)\n",
        "    #print(\"Test Accuracy:\",metrics.accuracy_score(output_predict_class, y_pred_test))\n",
        "    test_accuracy.append(metrics.accuracy_score(y_test, y_pred_test))\n",
        "\n",
        "    no_of_estimators.append(i)"
      ],
      "metadata": {
        "id": "502vEWBsUuU9"
      },
      "execution_count": null,
      "outputs": []
    },
    {
      "cell_type": "code",
      "source": [
        "print(train_accuracy)\n",
        "print(test_accuracy)\n",
        "print(no_of_estimators)"
      ],
      "metadata": {
        "colab": {
          "base_uri": "https://localhost:8080/"
        },
        "id": "XKGMyE6CUvRy",
        "outputId": "74167c15-3f52-4964-9ed0-e366fb54d9be"
      },
      "execution_count": null,
      "outputs": [
        {
          "output_type": "stream",
          "name": "stdout",
          "text": [
            "[0.9923611111111111, 0.9951388888888889, 0.9965277777777778, 0.9972222222222222, 1.0, 0.9993055555555556, 1.0, 0.9993055555555556, 1.0, 1.0, 1.0, 0.9993055555555556, 1.0, 1.0, 1.0, 1.0, 1.0, 1.0]\n",
            "[0.7888888888888889, 0.825, 0.825, 0.8222222222222222, 0.8277777777777777, 0.8111111111111111, 0.8194444444444444, 0.8055555555555556, 0.8194444444444444, 0.8055555555555556, 0.825, 0.8027777777777778, 0.8138888888888889, 0.8166666666666667, 0.8111111111111111, 0.8138888888888889, 0.8138888888888889, 0.8138888888888889]\n",
            "[10, 15, 20, 25, 30, 35, 40, 45, 50, 55, 60, 65, 70, 75, 80, 85, 90, 95]\n"
          ]
        }
      ]
    },
    {
      "cell_type": "code",
      "source": [
        "plt.plot(no_of_estimators, train_accuracy, 'g', label='Training Accuracy')\n",
        "plt.plot(no_of_estimators, test_accuracy, 'b', label='Testing Accuracy')\n",
        "plt.title('Training and Testing Accuracy')\n",
        "plt.xlabel('no_of_estimators')\n",
        "plt.ylabel('Accuracy')\n",
        "plt.legend()\n",
        "plt.show()"
      ],
      "metadata": {
        "colab": {
          "base_uri": "https://localhost:8080/",
          "height": 296
        },
        "id": "wXgH4NP7UwVr",
        "outputId": "72596295-2592-4329-94ab-ad009c96895f"
      },
      "execution_count": null,
      "outputs": [
        {
          "output_type": "display_data",
          "data": {
            "text/plain": [
              "<Figure size 432x288 with 1 Axes>"
            ],
            "image/png": "[encoded data removed]"
          },
          "metadata": {
            "needs_background": "light"
          }
        }
      ]
    },
    {
      "cell_type": "code",
      "source": [
        "max(test_accuracy)"
      ],
      "metadata": {
        "colab": {
          "base_uri": "https://localhost:8080/"
        },
        "id": "5PA_yDhCUzrX",
        "outputId": "2a6b1451-7d86-4a3f-b023-8d7ee4ad250e"
      },
      "execution_count": null,
      "outputs": [
        {
          "output_type": "execute_result",
          "data": {
            "text/plain": [
              "0.8277777777777777"
            ]
          },
          "metadata": {},
          "execution_count": 35
        }
      ]
    },
    {
      "cell_type": "code",
      "source": [
        "clf=RandomForestClassifier(n_estimators=30)\n",
        "\n",
        "#Train the model using the training sets y_pred=clf.predict(X_test)\n",
        "clf.fit(X_train, y_train)\n",
        "y_pred=clf.predict(X_train)\n",
        "y_pred_test = clf.predict(X_test)\n",
        "\n",
        "print(metrics.accuracy_score(y_test, y_pred_test))\n",
        "print(confusion_matrix(y_test, y_pred_test))\n",
        "print(classification_report(y_test,y_pred_test))"
      ],
      "metadata": {
        "colab": {
          "base_uri": "https://localhost:8080/"
        },
        "id": "D2MlIRKBU04W",
        "outputId": "cb1a1beb-a2ae-42e9-ffeb-396b708674a5"
      },
      "execution_count": null,
      "outputs": [
        {
          "output_type": "stream",
          "name": "stdout",
          "text": [
            "0.8361111111111111\n",
            "[[59  0  0  1  0  0]\n",
            " [ 0 43  0 14  0  3]\n",
            " [ 2  0 56  2  0  0]\n",
            " [ 9  1  9 35  5  1]\n",
            " [ 0  0  0  0 60  0]\n",
            " [ 0 11  0  1  0 48]]\n",
            "              precision    recall  f1-score   support\n",
            "\n",
            "           0       0.84      0.98      0.91        60\n",
            "           1       0.78      0.72      0.75        60\n",
            "           2       0.86      0.93      0.90        60\n",
            "           3       0.66      0.58      0.62        60\n",
            "           4       0.92      1.00      0.96        60\n",
            "           5       0.92      0.80      0.86        60\n",
            "\n",
            "    accuracy                           0.84       360\n",
            "   macro avg       0.83      0.84      0.83       360\n",
            "weighted avg       0.83      0.84      0.83       360\n",
            "\n"
          ]
        }
      ]
    },
    {
      "cell_type": "code",
      "source": [
        ""
      ],
      "metadata": {
        "id": "J9u8NKGUVIc7"
      },
      "execution_count": null,
      "outputs": []
    }
  ]
}