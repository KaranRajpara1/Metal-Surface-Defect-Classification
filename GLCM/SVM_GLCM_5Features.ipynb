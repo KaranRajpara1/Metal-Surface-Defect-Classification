{
  "nbformat": 4,
  "nbformat_minor": 0,
  "metadata": {
    "colab": {
      "name": "Project_21.ipynb",
      "provenance": []
    },
    "kernelspec": {
      "name": "python3",
      "display_name": "Python 3"
    },
    "language_info": {
      "name": "python"
    }
  },
  "cells": [
    {
      "cell_type": "markdown",
      "source": [
        "SVM\n",
        "Feature Extraction Method: GLCM\n",
        "Features Taken with distance = 5, angle = 0"
      ],
      "metadata": {
        "id": "1TYhaw4CTb5R"
      }
    },
    {
      "cell_type": "code",
      "execution_count": null,
      "metadata": {
        "id": "IMBKkk8pOgQf"
      },
      "outputs": [],
      "source": [
        "from google.colab import drive"
      ]
    },
    {
      "cell_type": "code",
      "source": [
        "drive.mount('/content/drive')"
      ],
      "metadata": {
        "colab": {
          "base_uri": "https://localhost:8080/"
        },
        "id": "CQw3ZZWIOubz",
        "outputId": "7bd8edee-5955-4ce8-af16-5e93a5952014"
      },
      "execution_count": null,
      "outputs": [
        {
          "output_type": "stream",
          "name": "stdout",
          "text": [
            "Mounted at /content/drive\n"
          ]
        }
      ]
    },
    {
      "cell_type": "code",
      "source": [
        "cd /content/drive/\"MyDrive/Machine Learning/GLCM\""
      ],
      "metadata": {
        "colab": {
          "base_uri": "https://localhost:8080/"
        },
        "id": "cgnc0JB4PUpV",
        "outputId": "bac01cf5-422f-48e6-8c00-4bc242f65dc8"
      },
      "execution_count": null,
      "outputs": [
        {
          "output_type": "stream",
          "name": "stdout",
          "text": [
            "/content/drive/MyDrive/Machine Learning/GLCM\n"
          ]
        }
      ]
    },
    {
      "cell_type": "code",
      "source": [
        "import pandas as pd\n",
        "import numpy as np\n",
        "import matplotlib.pyplot as plt\n",
        "from sklearn.model_selection import train_test_split\n",
        "import glob\n",
        "import cv2\n",
        "from sklearn.ensemble import RandomForestClassifier\n",
        "from sklearn import metrics\n",
        "from sklearn import svm\n",
        "from sklearn.metrics import classification_report, confusion_matrix\n",
        "import itertools\n",
        "from skimage.filters import sobel\n",
        "from skimage.feature import greycomatrix, greycoprops\n",
        "import time"
      ],
      "metadata": {
        "id": "ZoDpv16mOva4"
      },
      "execution_count": null,
      "outputs": []
    },
    {
      "cell_type": "code",
      "source": [
        "X_train = list()\n",
        "X_test = list()\n",
        "y_train = list()\n",
        "y_test = list()\n",
        "\n",
        "# for k fold cross validation\n",
        "x_new = list()\n",
        "y_new = list()"
      ],
      "metadata": {
        "id": "CN1HOcsTO5R9"
      },
      "execution_count": null,
      "outputs": []
    },
    {
      "cell_type": "code",
      "source": [
        "# 0 = crazing \n",
        "# 1 = inclusion\n",
        "# 2 = patches\n",
        "# 3 = pitted_surface\n",
        "# 4 = rolled in scale\n",
        "# 5 = scratches"
      ],
      "metadata": {
        "id": "2SU6a4DnO8tx"
      },
      "execution_count": null,
      "outputs": []
    },
    {
      "cell_type": "code",
      "source": [
        "dataset1 = pd.read_csv('GLCM_train.csv')\n",
        "print(dataset1)"
      ],
      "metadata": {
        "colab": {
          "base_uri": "https://localhost:8080/"
        },
        "id": "G5zmMTiRPBRy",
        "outputId": "e6f5009c-f94c-4aea-fa3e-50b07fbdfb84"
      },
      "execution_count": null,
      "outputs": [
        {
          "output_type": "stream",
          "name": "stdout",
          "text": [
            "      Unnamed: 0    Energy      Corr   Diss_sim   Homogen    Contrast  \\\n",
            "0              0  0.014224  0.725731  15.456080  0.063373  383.715930   \n",
            "1              0  0.015558  0.778272  12.804573  0.076365  263.964171   \n",
            "2              0  0.015120  0.746263  13.894296  0.069790  310.096910   \n",
            "3              0  0.016114  0.719193  13.510452  0.071717  292.011709   \n",
            "4              0  0.013543  0.787991  14.764347  0.066498  351.571382   \n",
            "...          ...       ...       ...        ...       ...         ...   \n",
            "1435           0  0.033905  0.971425   3.316633  0.292426   22.962261   \n",
            "1436           0  0.058558  0.959366   2.681734  0.485881   48.285804   \n",
            "1437           0  0.047101  0.983943   2.665603  0.434930   30.869422   \n",
            "1438           0  0.052825  0.987204   3.837789  0.358781   61.731910   \n",
            "1439           0  0.052105  0.966701   3.046206  0.392387   38.874296   \n",
            "\n",
            "       Energy2     Corr2  Diss_sim2  Homogen2  ...   Energy4  Corr4  \\\n",
            "0     0.012683  0.395795  22.695406  0.044695  ...  0.105232    1.0   \n",
            "1     0.013689  0.532007  18.470305  0.054047  ...  0.107451    1.0   \n",
            "2     0.013502  0.488098  19.576853  0.051071  ...  0.107443    1.0   \n",
            "3     0.014400  0.418449  19.309518  0.052188  ...  0.113047    1.0   \n",
            "4     0.011767  0.515696  22.175660  0.045302  ...  0.098454    1.0   \n",
            "...        ...       ...        ...       ...  ...       ...    ...   \n",
            "1435  0.028393  0.932634   4.949340  0.214864  ...  0.118031    1.0   \n",
            "1436  0.046291  0.799489   5.660381  0.331171  ...  0.136424    1.0   \n",
            "1437  0.036447  0.913482   5.835431  0.289870  ...  0.117314    1.0   \n",
            "1438  0.040471  0.929155   8.684949  0.226254  ...  0.128840    1.0   \n",
            "1439  0.042811  0.879766   5.305406  0.279443  ...  0.140307    1.0   \n",
            "\n",
            "      Diss_sim4  Homogen4  Contrast4   Energy5  Corr5  Diss_sim5  Homogen5  \\\n",
            "0           0.0       1.0        0.0  0.105232    1.0        0.0       1.0   \n",
            "1           0.0       1.0        0.0  0.107451    1.0        0.0       1.0   \n",
            "2           0.0       1.0        0.0  0.107443    1.0        0.0       1.0   \n",
            "3           0.0       1.0        0.0  0.113047    1.0        0.0       1.0   \n",
            "4           0.0       1.0        0.0  0.098454    1.0        0.0       1.0   \n",
            "...         ...       ...        ...       ...    ...        ...       ...   \n",
            "1435        0.0       1.0        0.0  0.118031    1.0        0.0       1.0   \n",
            "1436        0.0       1.0        0.0  0.136424    1.0        0.0       1.0   \n",
            "1437        0.0       1.0        0.0  0.117314    1.0        0.0       1.0   \n",
            "1438        0.0       1.0        0.0  0.128840    1.0        0.0       1.0   \n",
            "1439        0.0       1.0        0.0  0.140307    1.0        0.0       1.0   \n",
            "\n",
            "      Contrast5  \n",
            "0           0.0  \n",
            "1           0.0  \n",
            "2           0.0  \n",
            "3           0.0  \n",
            "4           0.0  \n",
            "...         ...  \n",
            "1435        0.0  \n",
            "1436        0.0  \n",
            "1437        0.0  \n",
            "1438        0.0  \n",
            "1439        0.0  \n",
            "\n",
            "[1440 rows x 26 columns]\n"
          ]
        }
      ]
    },
    {
      "cell_type": "code",
      "source": [
        "x = dataset1.iloc[:,11:16].values\n",
        "print(len(x[0]))"
      ],
      "metadata": {
        "colab": {
          "base_uri": "https://localhost:8080/"
        },
        "id": "uxaFqQqHQCTL",
        "outputId": "285b5410-b6d1-49a8-a2f0-4a9591cc6b8e"
      },
      "execution_count": null,
      "outputs": [
        {
          "output_type": "stream",
          "name": "stdout",
          "text": [
            "5\n"
          ]
        }
      ]
    },
    {
      "cell_type": "code",
      "source": [
        "print(x)"
      ],
      "metadata": {
        "colab": {
          "base_uri": "https://localhost:8080/"
        },
        "id": "rGMlJ3SiQVKX",
        "outputId": "bc89f2aa-abc1-49fa-be41-735b03d1c97e"
      },
      "execution_count": null,
      "outputs": [
        {
          "output_type": "stream",
          "name": "stdout",
          "text": [
            "[[1.24517214e-02 2.71204228e-01 2.48634103e+01 3.97342203e-02\n",
            "  1.01318356e+03]\n",
            " [1.34048379e-02 4.41275423e-01 2.01172051e+01 5.08597913e-02\n",
            "  6.57472590e+02]\n",
            " [1.32462640e-02 3.76921626e-01 2.15380256e+01 4.70296571e-02\n",
            "  7.47128641e+02]\n",
            " ...\n",
            " [3.33351676e-02 8.35100932e-01 8.23856410e+00 2.50575371e-01\n",
            "  3.21118462e+02]\n",
            " [3.48665720e-02 8.64707627e-01 1.21986667e+01 1.84690935e-01\n",
            "  6.62054513e+02]\n",
            " [4.12908734e-02 8.18317591e-01 6.79512821e+00 2.48585891e-01\n",
            "  2.13973590e+02]]\n"
          ]
        }
      ]
    },
    {
      "cell_type": "code",
      "source": [
        "print(x[0])"
      ],
      "metadata": {
        "colab": {
          "base_uri": "https://localhost:8080/"
        },
        "id": "yuge5Jq7QY6D",
        "outputId": "23200723-e75e-482c-e6dd-baef13d5635a"
      },
      "execution_count": null,
      "outputs": [
        {
          "output_type": "stream",
          "name": "stdout",
          "text": [
            "[1.24517214e-02 2.71204228e-01 2.48634103e+01 3.97342203e-02\n",
            " 1.01318356e+03]\n"
          ]
        }
      ]
    },
    {
      "cell_type": "code",
      "source": [
        "print(len(x))"
      ],
      "metadata": {
        "colab": {
          "base_uri": "https://localhost:8080/"
        },
        "id": "m76dWWx6QvzV",
        "outputId": "08c3abb8-bebd-4747-bb69-3fa9449690cd"
      },
      "execution_count": null,
      "outputs": [
        {
          "output_type": "stream",
          "name": "stdout",
          "text": [
            "1440\n"
          ]
        }
      ]
    },
    {
      "cell_type": "code",
      "source": [
        "y = list()"
      ],
      "metadata": {
        "id": "dztpDFUrQfja"
      },
      "execution_count": null,
      "outputs": []
    },
    {
      "cell_type": "code",
      "source": [
        "for i in range(0,6) :\n",
        "    for j in range(0,240):\n",
        "        y.append(i)\n"
      ],
      "metadata": {
        "id": "OMKN81jDQrkX"
      },
      "execution_count": null,
      "outputs": []
    },
    {
      "cell_type": "code",
      "source": [
        "print(y)"
      ],
      "metadata": {
        "colab": {
          "base_uri": "https://localhost:8080/"
        },
        "id": "jcvrJiINRIyW",
        "outputId": "32a299df-c492-4a35-9415-540dfdf489b7"
      },
      "execution_count": null,
      "outputs": [
        {
          "output_type": "stream",
          "name": "stdout",
          "text": [
            "[0, 0, 0, 0, 0, 0, 0, 0, 0, 0, 0, 0, 0, 0, 0, 0, 0, 0, 0, 0, 0, 0, 0, 0, 0, 0, 0, 0, 0, 0, 0, 0, 0, 0, 0, 0, 0, 0, 0, 0, 0, 0, 0, 0, 0, 0, 0, 0, 0, 0, 0, 0, 0, 0, 0, 0, 0, 0, 0, 0, 0, 0, 0, 0, 0, 0, 0, 0, 0, 0, 0, 0, 0, 0, 0, 0, 0, 0, 0, 0, 0, 0, 0, 0, 0, 0, 0, 0, 0, 0, 0, 0, 0, 0, 0, 0, 0, 0, 0, 0, 0, 0, 0, 0, 0, 0, 0, 0, 0, 0, 0, 0, 0, 0, 0, 0, 0, 0, 0, 0, 0, 0, 0, 0, 0, 0, 0, 0, 0, 0, 0, 0, 0, 0, 0, 0, 0, 0, 0, 0, 0, 0, 0, 0, 0, 0, 0, 0, 0, 0, 0, 0, 0, 0, 0, 0, 0, 0, 0, 0, 0, 0, 0, 0, 0, 0, 0, 0, 0, 0, 0, 0, 0, 0, 0, 0, 0, 0, 0, 0, 0, 0, 0, 0, 0, 0, 0, 0, 0, 0, 0, 0, 0, 0, 0, 0, 0, 0, 0, 0, 0, 0, 0, 0, 0, 0, 0, 0, 0, 0, 0, 0, 0, 0, 0, 0, 0, 0, 0, 0, 0, 0, 0, 0, 0, 0, 0, 0, 0, 0, 0, 0, 0, 0, 0, 0, 0, 0, 0, 0, 1, 1, 1, 1, 1, 1, 1, 1, 1, 1, 1, 1, 1, 1, 1, 1, 1, 1, 1, 1, 1, 1, 1, 1, 1, 1, 1, 1, 1, 1, 1, 1, 1, 1, 1, 1, 1, 1, 1, 1, 1, 1, 1, 1, 1, 1, 1, 1, 1, 1, 1, 1, 1, 1, 1, 1, 1, 1, 1, 1, 1, 1, 1, 1, 1, 1, 1, 1, 1, 1, 1, 1, 1, 1, 1, 1, 1, 1, 1, 1, 1, 1, 1, 1, 1, 1, 1, 1, 1, 1, 1, 1, 1, 1, 1, 1, 1, 1, 1, 1, 1, 1, 1, 1, 1, 1, 1, 1, 1, 1, 1, 1, 1, 1, 1, 1, 1, 1, 1, 1, 1, 1, 1, 1, 1, 1, 1, 1, 1, 1, 1, 1, 1, 1, 1, 1, 1, 1, 1, 1, 1, 1, 1, 1, 1, 1, 1, 1, 1, 1, 1, 1, 1, 1, 1, 1, 1, 1, 1, 1, 1, 1, 1, 1, 1, 1, 1, 1, 1, 1, 1, 1, 1, 1, 1, 1, 1, 1, 1, 1, 1, 1, 1, 1, 1, 1, 1, 1, 1, 1, 1, 1, 1, 1, 1, 1, 1, 1, 1, 1, 1, 1, 1, 1, 1, 1, 1, 1, 1, 1, 1, 1, 1, 1, 1, 1, 1, 1, 1, 1, 1, 1, 1, 1, 1, 1, 1, 1, 1, 1, 1, 1, 1, 1, 1, 1, 1, 1, 1, 1, 2, 2, 2, 2, 2, 2, 2, 2, 2, 2, 2, 2, 2, 2, 2, 2, 2, 2, 2, 2, 2, 2, 2, 2, 2, 2, 2, 2, 2, 2, 2, 2, 2, 2, 2, 2, 2, 2, 2, 2, 2, 2, 2, 2, 2, 2, 2, 2, 2, 2, 2, 2, 2, 2, 2, 2, 2, 2, 2, 2, 2, 2, 2, 2, 2, 2, 2, 2, 2, 2, 2, 2, 2, 2, 2, 2, 2, 2, 2, 2, 2, 2, 2, 2, 2, 2, 2, 2, 2, 2, 2, 2, 2, 2, 2, 2, 2, 2, 2, 2, 2, 2, 2, 2, 2, 2, 2, 2, 2, 2, 2, 2, 2, 2, 2, 2, 2, 2, 2, 2, 2, 2, 2, 2, 2, 2, 2, 2, 2, 2, 2, 2, 2, 2, 2, 2, 2, 2, 2, 2, 2, 2, 2, 2, 2, 2, 2, 2, 2, 2, 2, 2, 2, 2, 2, 2, 2, 2, 2, 2, 2, 2, 2, 2, 2, 2, 2, 2, 2, 2, 2, 2, 2, 2, 2, 2, 2, 2, 2, 2, 2, 2, 2, 2, 2, 2, 2, 2, 2, 2, 2, 2, 2, 2, 2, 2, 2, 2, 2, 2, 2, 2, 2, 2, 2, 2, 2, 2, 2, 2, 2, 2, 2, 2, 2, 2, 2, 2, 2, 2, 2, 2, 2, 2, 2, 2, 2, 2, 2, 2, 2, 2, 2, 2, 2, 2, 2, 2, 2, 2, 3, 3, 3, 3, 3, 3, 3, 3, 3, 3, 3, 3, 3, 3, 3, 3, 3, 3, 3, 3, 3, 3, 3, 3, 3, 3, 3, 3, 3, 3, 3, 3, 3, 3, 3, 3, 3, 3, 3, 3, 3, 3, 3, 3, 3, 3, 3, 3, 3, 3, 3, 3, 3, 3, 3, 3, 3, 3, 3, 3, 3, 3, 3, 3, 3, 3, 3, 3, 3, 3, 3, 3, 3, 3, 3, 3, 3, 3, 3, 3, 3, 3, 3, 3, 3, 3, 3, 3, 3, 3, 3, 3, 3, 3, 3, 3, 3, 3, 3, 3, 3, 3, 3, 3, 3, 3, 3, 3, 3, 3, 3, 3, 3, 3, 3, 3, 3, 3, 3, 3, 3, 3, 3, 3, 3, 3, 3, 3, 3, 3, 3, 3, 3, 3, 3, 3, 3, 3, 3, 3, 3, 3, 3, 3, 3, 3, 3, 3, 3, 3, 3, 3, 3, 3, 3, 3, 3, 3, 3, 3, 3, 3, 3, 3, 3, 3, 3, 3, 3, 3, 3, 3, 3, 3, 3, 3, 3, 3, 3, 3, 3, 3, 3, 3, 3, 3, 3, 3, 3, 3, 3, 3, 3, 3, 3, 3, 3, 3, 3, 3, 3, 3, 3, 3, 3, 3, 3, 3, 3, 3, 3, 3, 3, 3, 3, 3, 3, 3, 3, 3, 3, 3, 3, 3, 3, 3, 3, 3, 3, 3, 3, 3, 3, 3, 3, 3, 3, 3, 3, 3, 4, 4, 4, 4, 4, 4, 4, 4, 4, 4, 4, 4, 4, 4, 4, 4, 4, 4, 4, 4, 4, 4, 4, 4, 4, 4, 4, 4, 4, 4, 4, 4, 4, 4, 4, 4, 4, 4, 4, 4, 4, 4, 4, 4, 4, 4, 4, 4, 4, 4, 4, 4, 4, 4, 4, 4, 4, 4, 4, 4, 4, 4, 4, 4, 4, 4, 4, 4, 4, 4, 4, 4, 4, 4, 4, 4, 4, 4, 4, 4, 4, 4, 4, 4, 4, 4, 4, 4, 4, 4, 4, 4, 4, 4, 4, 4, 4, 4, 4, 4, 4, 4, 4, 4, 4, 4, 4, 4, 4, 4, 4, 4, 4, 4, 4, 4, 4, 4, 4, 4, 4, 4, 4, 4, 4, 4, 4, 4, 4, 4, 4, 4, 4, 4, 4, 4, 4, 4, 4, 4, 4, 4, 4, 4, 4, 4, 4, 4, 4, 4, 4, 4, 4, 4, 4, 4, 4, 4, 4, 4, 4, 4, 4, 4, 4, 4, 4, 4, 4, 4, 4, 4, 4, 4, 4, 4, 4, 4, 4, 4, 4, 4, 4, 4, 4, 4, 4, 4, 4, 4, 4, 4, 4, 4, 4, 4, 4, 4, 4, 4, 4, 4, 4, 4, 4, 4, 4, 4, 4, 4, 4, 4, 4, 4, 4, 4, 4, 4, 4, 4, 4, 4, 4, 4, 4, 4, 4, 4, 4, 4, 4, 4, 4, 4, 4, 4, 4, 4, 4, 4, 5, 5, 5, 5, 5, 5, 5, 5, 5, 5, 5, 5, 5, 5, 5, 5, 5, 5, 5, 5, 5, 5, 5, 5, 5, 5, 5, 5, 5, 5, 5, 5, 5, 5, 5, 5, 5, 5, 5, 5, 5, 5, 5, 5, 5, 5, 5, 5, 5, 5, 5, 5, 5, 5, 5, 5, 5, 5, 5, 5, 5, 5, 5, 5, 5, 5, 5, 5, 5, 5, 5, 5, 5, 5, 5, 5, 5, 5, 5, 5, 5, 5, 5, 5, 5, 5, 5, 5, 5, 5, 5, 5, 5, 5, 5, 5, 5, 5, 5, 5, 5, 5, 5, 5, 5, 5, 5, 5, 5, 5, 5, 5, 5, 5, 5, 5, 5, 5, 5, 5, 5, 5, 5, 5, 5, 5, 5, 5, 5, 5, 5, 5, 5, 5, 5, 5, 5, 5, 5, 5, 5, 5, 5, 5, 5, 5, 5, 5, 5, 5, 5, 5, 5, 5, 5, 5, 5, 5, 5, 5, 5, 5, 5, 5, 5, 5, 5, 5, 5, 5, 5, 5, 5, 5, 5, 5, 5, 5, 5, 5, 5, 5, 5, 5, 5, 5, 5, 5, 5, 5, 5, 5, 5, 5, 5, 5, 5, 5, 5, 5, 5, 5, 5, 5, 5, 5, 5, 5, 5, 5, 5, 5, 5, 5, 5, 5, 5, 5, 5, 5, 5, 5, 5, 5, 5, 5, 5, 5, 5, 5, 5, 5, 5, 5, 5, 5, 5, 5, 5, 5]\n"
          ]
        }
      ]
    },
    {
      "cell_type": "code",
      "source": [
        "X_train = x\n",
        "y_train = y"
      ],
      "metadata": {
        "id": "UvhliqOLRJby"
      },
      "execution_count": null,
      "outputs": []
    },
    {
      "cell_type": "code",
      "source": [
        "dataset1 = pd.read_csv('GLCM_test.csv')\n",
        "print(dataset1)"
      ],
      "metadata": {
        "colab": {
          "base_uri": "https://localhost:8080/"
        },
        "id": "OKPzIOcfRUGw",
        "outputId": "4367c7e5-3e03-42a3-bb18-7b75e2627c6b"
      },
      "execution_count": null,
      "outputs": [
        {
          "output_type": "stream",
          "name": "stdout",
          "text": [
            "     Unnamed: 0    Energy      Corr   Diss_sim   Homogen    Contrast  \\\n",
            "0             0  0.014085  0.748947  15.308317  0.063230  375.439874   \n",
            "1             0  0.013354  0.812510  14.557965  0.068531  341.479372   \n",
            "2             0  0.013476  0.759687  15.553065  0.063098  390.181206   \n",
            "3             0  0.013039  0.771689  15.981709  0.062617  409.665628   \n",
            "4             0  0.013783  0.757698  15.442638  0.064622  387.517764   \n",
            "..          ...       ...       ...        ...       ...         ...   \n",
            "355           0  0.062155  0.995837   1.575452  0.488198    5.920075   \n",
            "356           0  0.067211  0.985235   1.432513  0.498722    4.875427   \n",
            "357           0  0.055791  0.988033   2.337362  0.355444   10.801583   \n",
            "358           0  0.046354  0.989063   2.493492  0.373817   19.243593   \n",
            "359           0  0.055859  0.979090   2.404749  0.356955   14.151985   \n",
            "\n",
            "      Energy2     Corr2  Diss_sim2  Homogen2  ...   Energy4  Corr4  Diss_sim4  \\\n",
            "0    0.012467  0.446429  22.532995  0.044155  ...  0.103558    1.0        0.0   \n",
            "1    0.011849  0.607541  20.839543  0.048530  ...  0.096566    1.0        0.0   \n",
            "2    0.011937  0.475017  22.796701  0.044843  ...  0.100087    1.0        0.0   \n",
            "3    0.011519  0.488173  23.654162  0.042825  ...  0.097640    1.0        0.0   \n",
            "4    0.012142  0.450002  22.986954  0.045123  ...  0.101432    1.0        0.0   \n",
            "..        ...       ...        ...       ...  ...       ...    ...        ...   \n",
            "355  0.049038  0.985219   2.781472  0.346212  ...  0.145807    1.0        0.0   \n",
            "356  0.054696  0.951457   2.321548  0.366321  ...  0.162806    1.0        0.0   \n",
            "357  0.042696  0.954985   4.320914  0.223368  ...  0.167867    1.0        0.0   \n",
            "358  0.036690  0.948742   4.702665  0.256342  ...  0.133851    1.0        0.0   \n",
            "359  0.044111  0.925030   4.182614  0.239788  ...  0.166927    1.0        0.0   \n",
            "\n",
            "     Homogen4  Contrast4   Energy5  Corr5  Diss_sim5  Homogen5  Contrast5  \n",
            "0         1.0        0.0  0.103558    1.0        0.0       1.0        0.0  \n",
            "1         1.0        0.0  0.096566    1.0        0.0       1.0        0.0  \n",
            "2         1.0        0.0  0.100087    1.0        0.0       1.0        0.0  \n",
            "3         1.0        0.0  0.097640    1.0        0.0       1.0        0.0  \n",
            "4         1.0        0.0  0.101432    1.0        0.0       1.0        0.0  \n",
            "..        ...        ...       ...    ...        ...       ...        ...  \n",
            "355       1.0        0.0  0.145807    1.0        0.0       1.0        0.0  \n",
            "356       1.0        0.0  0.162806    1.0        0.0       1.0        0.0  \n",
            "357       1.0        0.0  0.167867    1.0        0.0       1.0        0.0  \n",
            "358       1.0        0.0  0.133851    1.0        0.0       1.0        0.0  \n",
            "359       1.0        0.0  0.166927    1.0        0.0       1.0        0.0  \n",
            "\n",
            "[360 rows x 26 columns]\n"
          ]
        }
      ]
    },
    {
      "cell_type": "code",
      "source": [
        "x = dataset1.iloc[:,11:16].values\n",
        "print(len(x[0]))"
      ],
      "metadata": {
        "colab": {
          "base_uri": "https://localhost:8080/"
        },
        "id": "j4-y-ob3RrM8",
        "outputId": "34dcbe25-2ea8-48f8-bed3-c2777c6a0554"
      },
      "execution_count": null,
      "outputs": [
        {
          "output_type": "stream",
          "name": "stdout",
          "text": [
            "5\n"
          ]
        }
      ]
    },
    {
      "cell_type": "code",
      "source": [
        "print(x)\n",
        "print(x[0])"
      ],
      "metadata": {
        "colab": {
          "base_uri": "https://localhost:8080/"
        },
        "id": "y9YOWDpLRu7c",
        "outputId": "cfd2285b-1834-4607-f91d-066d1eb67302"
      },
      "execution_count": null,
      "outputs": [
        {
          "output_type": "stream",
          "name": "stdout",
          "text": [
            "[[1.22837374e-02 3.11786677e-01 2.48204615e+01 4.11062064e-02\n",
            "  1.01926036e+03]\n",
            " [1.15904810e-02 5.32045089e-01 2.26312564e+01 4.52681077e-02\n",
            "  8.34160744e+02]\n",
            " [1.16493814e-02 3.58520753e-01 2.51179487e+01 4.20494281e-02\n",
            "  1.04075026e+03]\n",
            " ...\n",
            " [3.99379203e-02 9.27688946e-01 5.25128205e+00 1.95771812e-01\n",
            "  6.49314872e+01]\n",
            " [3.36716754e-02 9.03525199e-01 6.17061538e+00 2.19845428e-01\n",
            "  1.71253436e+02]\n",
            " [4.14036432e-02 8.88943344e-01 5.00961538e+00 2.13126563e-01\n",
            "  7.41732051e+01]]\n",
            "[1.22837374e-02 3.11786677e-01 2.48204615e+01 4.11062064e-02\n",
            " 1.01926036e+03]\n"
          ]
        }
      ]
    },
    {
      "cell_type": "code",
      "source": [
        "print(len(x))"
      ],
      "metadata": {
        "colab": {
          "base_uri": "https://localhost:8080/"
        },
        "id": "PxbqLuGZRzOG",
        "outputId": "a59e8c9c-be01-48a6-bbe1-228c04820100"
      },
      "execution_count": null,
      "outputs": [
        {
          "output_type": "stream",
          "name": "stdout",
          "text": [
            "360\n"
          ]
        }
      ]
    },
    {
      "cell_type": "code",
      "source": [
        "y = list()"
      ],
      "metadata": {
        "id": "8EI_d01dR_Z8"
      },
      "execution_count": null,
      "outputs": []
    },
    {
      "cell_type": "code",
      "source": [
        "for i in range(0,6) :\n",
        "    for j in range(0,60):\n",
        "        y.append(i)\n"
      ],
      "metadata": {
        "id": "zjGTQusQR8OT"
      },
      "execution_count": null,
      "outputs": []
    },
    {
      "cell_type": "code",
      "source": [
        "X_test = x\n",
        "y_test = y"
      ],
      "metadata": {
        "id": "fbpuLVcTSDC5"
      },
      "execution_count": null,
      "outputs": []
    },
    {
      "cell_type": "code",
      "source": [
        "print(len(X_train))\n",
        "print(len(X_test))\n",
        "print(len(y_train))\n",
        "print(len(y_test))"
      ],
      "metadata": {
        "colab": {
          "base_uri": "https://localhost:8080/"
        },
        "id": "oHfsc7DcSHMM",
        "outputId": "504897ce-e071-4889-97eb-9ff838dea612"
      },
      "execution_count": null,
      "outputs": [
        {
          "output_type": "stream",
          "name": "stdout",
          "text": [
            "1440\n",
            "360\n",
            "1440\n",
            "360\n"
          ]
        }
      ]
    },
    {
      "cell_type": "code",
      "source": [
        "X_train=np.array(X_train)\n",
        "y_train=np.array(y_train)\n",
        "X_test=np.array(X_test)\n",
        "y_test=np.array(y_test)"
      ],
      "metadata": {
        "id": "5UGEkAclSUVC"
      },
      "execution_count": null,
      "outputs": []
    },
    {
      "cell_type": "code",
      "source": [
        "print ('Train set:', X_train.shape,  y_train.shape)\n",
        "print ('Test set:', X_test.shape,  y_test.shape)"
      ],
      "metadata": {
        "colab": {
          "base_uri": "https://localhost:8080/"
        },
        "id": "w6Hsckn3SY3M",
        "outputId": "4aeedd23-d4cb-4380-b61e-44ee12f441c0"
      },
      "execution_count": null,
      "outputs": [
        {
          "output_type": "stream",
          "name": "stdout",
          "text": [
            "Train set: (1440, 5) (1440,)\n",
            "Test set: (360, 5) (360,)\n"
          ]
        }
      ]
    },
    {
      "cell_type": "code",
      "source": [
        "nsamples, nx = X_train.shape\n",
        "X_train = X_train.reshape((nsamples,nx))"
      ],
      "metadata": {
        "id": "qktya8lBSZ3a"
      },
      "execution_count": null,
      "outputs": []
    },
    {
      "cell_type": "code",
      "source": [
        "print(X_train.shape)"
      ],
      "metadata": {
        "colab": {
          "base_uri": "https://localhost:8080/"
        },
        "id": "BiXq0NhtSbx7",
        "outputId": "58132db9-45be-4070-b73f-8e13dcccbfaf"
      },
      "execution_count": null,
      "outputs": [
        {
          "output_type": "stream",
          "name": "stdout",
          "text": [
            "(1440, 5)\n"
          ]
        }
      ]
    },
    {
      "cell_type": "code",
      "source": [
        "nsamples, nx = X_test.shape\n",
        "X_test = X_test.reshape((nsamples,nx))"
      ],
      "metadata": {
        "id": "WsphffhyScs8"
      },
      "execution_count": null,
      "outputs": []
    },
    {
      "cell_type": "code",
      "source": [
        "print(X_test.shape)"
      ],
      "metadata": {
        "colab": {
          "base_uri": "https://localhost:8080/"
        },
        "id": "xl5IHifZSdmj",
        "outputId": "363a9e71-4cc0-4085-977e-ab249db0e90b"
      },
      "execution_count": null,
      "outputs": [
        {
          "output_type": "stream",
          "name": "stdout",
          "text": [
            "(360, 5)\n"
          ]
        }
      ]
    },
    {
      "cell_type": "code",
      "source": [
        "train_begin = time.time()\n",
        "clf = svm.SVC(kernel='linear')\n",
        "clf.fit(X_train, y_train) \n",
        "train_end = time.time()\n",
        "train_time = train_end - train_begin\n",
        "\n"
      ],
      "metadata": {
        "id": "MFbBho7LSe7c"
      },
      "execution_count": null,
      "outputs": []
    },
    {
      "cell_type": "code",
      "source": [
        "test_begin = time.time()\n",
        "yhat = clf.predict(X_test)\n",
        "test_end = time.time()\n",
        "test_time = test_end - test_begin\n",
        "print(yhat)\n",
        "\n",
        "print(metrics.accuracy_score(y_test, yhat))\n",
        "print(confusion_matrix(y_test, yhat))\n",
        "print(classification_report(y_test, yhat))\n",
        "print(train_time)\n",
        "print(test_time)"
      ],
      "metadata": {
        "colab": {
          "base_uri": "https://localhost:8080/"
        },
        "id": "z9zFnyNqSq55",
        "outputId": "ea128eb6-25d9-47f6-80a9-ba0263283583"
      },
      "execution_count": null,
      "outputs": [
        {
          "output_type": "stream",
          "name": "stdout",
          "text": [
            "[0 0 0 0 0 0 0 0 0 0 0 0 0 0 0 0 0 0 0 2 0 0 0 0 0 0 0 0 0 2 0 0 0 0 0 0 2\n",
            " 0 0 0 0 0 0 0 0 0 0 0 0 0 0 0 0 0 0 0 0 0 0 0 1 1 3 3 1 1 1 3 1 1 3 1 1 1\n",
            " 3 1 1 1 1 1 1 1 5 1 1 1 1 1 1 1 1 1 1 1 1 3 1 1 3 3 1 1 1 1 1 1 1 1 3 1 1\n",
            " 1 1 1 1 1 1 3 3 1 2 2 2 2 2 2 2 2 2 4 2 2 2 2 2 2 4 2 2 4 2 2 2 4 2 3 2 2\n",
            " 2 2 2 2 2 2 2 2 2 2 2 2 2 2 2 2 2 2 2 2 2 2 2 3 2 2 2 2 4 2 4 2 0 3 3 3 3\n",
            " 3 0 3 3 0 4 3 0 4 4 4 0 3 0 3 0 2 0 3 0 1 4 1 0 2 3 3 3 3 0 3 0 0 3 0 3 0\n",
            " 3 0 3 3 4 4 3 4 0 3 1 3 4 3 3 3 1 3 4 4 4 4 4 4 4 4 4 4 4 4 4 4 4 4 4 4 4\n",
            " 4 4 4 4 4 4 4 4 4 4 4 4 4 4 4 4 4 4 4 4 4 4 4 4 4 4 4 4 4 4 4 4 4 4 4 4 4\n",
            " 4 4 4 4 5 1 1 1 1 5 5 5 5 5 1 1 1 1 5 3 1 5 5 1 3 1 5 1 1 1 1 5 1 5 1 5 1\n",
            " 5 1 1 3 1 1 5 1 1 1 1 1 5 1 1 1 1 5 1 1 3 1 1 1 1 5 5]\n",
            "0.7333333333333333\n",
            "[[57  0  3  0  0  0]\n",
            " [ 0 48  0 11  0  1]\n",
            " [ 0  0 52  2  6  0]\n",
            " [17  4  2 28  9  0]\n",
            " [ 0  0  0  0 60  0]\n",
            " [ 0 37  0  4  0 19]]\n",
            "              precision    recall  f1-score   support\n",
            "\n",
            "           0       0.77      0.95      0.85        60\n",
            "           1       0.54      0.80      0.64        60\n",
            "           2       0.91      0.87      0.89        60\n",
            "           3       0.62      0.47      0.53        60\n",
            "           4       0.80      1.00      0.89        60\n",
            "           5       0.95      0.32      0.47        60\n",
            "\n",
            "    accuracy                           0.73       360\n",
            "   macro avg       0.77      0.73      0.71       360\n",
            "weighted avg       0.77      0.73      0.71       360\n",
            "\n",
            "6.329472303390503\n",
            "0.014784097671508789\n"
          ]
        }
      ]
    },
    {
      "cell_type": "code",
      "source": [
        "print(train_time)\n",
        "print(test_time/len(X_test))"
      ],
      "metadata": {
        "colab": {
          "base_uri": "https://localhost:8080/"
        },
        "id": "Bth6rj_pSsjR",
        "outputId": "5a1516f2-08ff-4774-b2af-aa8c4e73b450"
      },
      "execution_count": null,
      "outputs": [
        {
          "output_type": "stream",
          "name": "stdout",
          "text": [
            "6.329472303390503\n",
            "4.1066937976413306e-05\n"
          ]
        }
      ]
    },
    {
      "cell_type": "code",
      "source": [
        "clf = svm.SVC(kernel='rbf', gamma=\"scale\")\n",
        "clf.fit(X_train, y_train) \n",
        "yhat = clf.predict(X_test)\n",
        "print(yhat)\n",
        "\n",
        "print(metrics.accuracy_score(y_test, yhat))\n",
        "print(confusion_matrix(y_test, yhat))\n",
        "print(classification_report(y_test, yhat))"
      ],
      "metadata": {
        "colab": {
          "base_uri": "https://localhost:8080/"
        },
        "id": "UKsnVRKHSvDm",
        "outputId": "1340f5b8-9f58-4425-a06d-f5ed570ae996"
      },
      "execution_count": null,
      "outputs": [
        {
          "output_type": "stream",
          "name": "stdout",
          "text": [
            "[2 0 2 2 2 0 2 2 2 2 2 2 4 2 2 0 2 2 0 0 2 2 2 0 2 2 0 2 0 0 2 2 2 2 2 2 2\n",
            " 2 2 0 2 2 2 2 2 0 2 2 2 2 2 2 2 2 2 0 2 2 0 2 1 1 1 1 1 1 1 1 1 1 1 1 1 1\n",
            " 4 1 1 1 1 1 1 1 1 1 1 1 1 1 1 1 1 1 1 1 1 1 1 1 1 1 1 1 1 1 1 1 1 1 1 1 1\n",
            " 1 1 1 1 1 1 1 1 1 0 0 0 0 2 0 2 2 2 4 2 0 2 0 2 2 4 2 0 4 0 2 0 4 2 4 2 2\n",
            " 2 2 0 0 0 2 2 0 0 2 0 0 0 0 0 2 2 2 0 2 0 2 0 4 0 2 2 2 4 0 4 0 0 4 1 4 4\n",
            " 4 0 4 4 0 4 1 0 4 4 4 0 4 0 3 0 0 2 4 0 1 4 1 0 0 1 4 0 4 0 4 0 0 4 0 4 0\n",
            " 4 0 3 4 4 4 4 4 0 1 1 4 4 0 1 3 1 4 4 4 3 4 4 4 4 4 4 4 4 4 4 4 4 4 3 3 4\n",
            " 4 4 4 4 3 4 4 4 4 4 4 4 4 1 4 4 4 4 4 4 3 3 4 1 4 4 4 3 3 4 4 4 4 4 4 4 4\n",
            " 4 4 4 4 4 1 1 1 1 3 1 1 1 1 1 1 1 1 4 1 1 4 1 1 3 1 1 1 1 1 1 1 1 4 1 1 1\n",
            " 1 1 1 1 1 1 4 1 1 1 1 1 4 1 1 1 1 0 1 1 1 1 1 1 1 4 1]\n",
            "0.41944444444444445\n",
            "[[13  0 46  0  1  0]\n",
            " [ 0 59  0  0  1  0]\n",
            " [26  0 26  0  8  0]\n",
            " [20  9  1  3 27  0]\n",
            " [ 0  2  0  8 50  0]\n",
            " [ 1 50  0  2  7  0]]\n",
            "              precision    recall  f1-score   support\n",
            "\n",
            "           0       0.22      0.22      0.22        60\n",
            "           1       0.49      0.98      0.66        60\n",
            "           2       0.36      0.43      0.39        60\n",
            "           3       0.23      0.05      0.08        60\n",
            "           4       0.53      0.83      0.65        60\n",
            "           5       0.00      0.00      0.00        60\n",
            "\n",
            "    accuracy                           0.42       360\n",
            "   macro avg       0.30      0.42      0.33       360\n",
            "weighted avg       0.30      0.42      0.33       360\n",
            "\n"
          ]
        },
        {
          "output_type": "stream",
          "name": "stderr",
          "text": [
            "/usr/local/lib/python3.7/dist-packages/sklearn/metrics/_classification.py:1318: UndefinedMetricWarning: Precision and F-score are ill-defined and being set to 0.0 in labels with no predicted samples. Use `zero_division` parameter to control this behavior.\n",
            "  _warn_prf(average, modifier, msg_start, len(result))\n",
            "/usr/local/lib/python3.7/dist-packages/sklearn/metrics/_classification.py:1318: UndefinedMetricWarning: Precision and F-score are ill-defined and being set to 0.0 in labels with no predicted samples. Use `zero_division` parameter to control this behavior.\n",
            "  _warn_prf(average, modifier, msg_start, len(result))\n",
            "/usr/local/lib/python3.7/dist-packages/sklearn/metrics/_classification.py:1318: UndefinedMetricWarning: Precision and F-score are ill-defined and being set to 0.0 in labels with no predicted samples. Use `zero_division` parameter to control this behavior.\n",
            "  _warn_prf(average, modifier, msg_start, len(result))\n"
          ]
        }
      ]
    },
    {
      "cell_type": "code",
      "source": [
        "clf = svm.SVC(kernel='rbf', gamma=\"auto\")\n",
        "clf.fit(X_train, y_train) \n",
        "yhat = clf.predict(X_test)\n",
        "print(yhat)\n",
        "\n",
        "print(metrics.accuracy_score(y_test, yhat))\n",
        "print(confusion_matrix(y_test, yhat))\n",
        "print(classification_report(y_test, yhat))"
      ],
      "metadata": {
        "colab": {
          "base_uri": "https://localhost:8080/"
        },
        "id": "sb2jBnjKSyve",
        "outputId": "4f9a8fcd-4b88-447d-eb65-ff8426eceb28"
      },
      "execution_count": null,
      "outputs": [
        {
          "output_type": "stream",
          "name": "stdout",
          "text": [
            "[2 0 0 2 2 0 0 0 2 2 0 2 2 0 0 2 0 2 0 0 0 2 2 2 2 2 0 2 2 0 0 2 2 2 0 0 0\n",
            " 0 0 2 0 0 2 0 2 0 2 2 0 0 0 0 2 2 0 2 0 0 2 0 1 1 3 3 1 1 1 1 1 1 1 1 1 1\n",
            " 3 5 1 1 1 1 1 1 1 1 1 1 1 1 1 1 1 1 1 1 3 1 1 1 1 3 1 1 1 1 1 1 1 1 3 1 1\n",
            " 1 1 1 1 1 1 1 1 1 2 2 0 0 2 2 2 0 2 4 2 3 0 0 2 2 4 2 0 4 0 2 2 4 2 2 2 2\n",
            " 2 2 0 2 2 2 2 2 2 2 0 0 0 0 2 2 2 2 0 2 2 2 2 4 0 2 0 0 4 0 4 2 0 3 1 3 3\n",
            " 3 0 3 3 0 4 1 2 3 3 3 3 3 2 3 2 0 3 3 2 1 3 1 0 2 1 4 0 4 0 4 0 3 4 2 3 2\n",
            " 4 2 4 4 2 4 4 4 2 3 1 4 4 2 3 4 1 2 3 4 3 3 3 4 3 4 4 4 4 4 4 3 3 4 4 3 4\n",
            " 3 3 3 4 4 4 4 4 4 4 4 4 3 3 4 4 4 3 3 4 4 3 4 3 4 4 3 4 4 3 4 3 3 4 4 3 4\n",
            " 4 4 4 3 5 1 1 1 1 5 1 5 5 1 1 1 1 1 5 3 1 5 5 1 3 1 5 1 1 1 1 5 5 5 1 1 1\n",
            " 5 1 1 1 1 1 5 1 1 1 1 1 2 1 1 1 1 2 1 1 5 1 1 1 1 5 5]\n",
            "0.5333333333333333\n",
            "[[32  0 28  0  0  0]\n",
            " [ 0 53  0  6  0  1]\n",
            " [17  0 35  1  7  0]\n",
            " [ 8  7 12 19 14  0]\n",
            " [ 0  0  0 23 37  0]\n",
            " [ 0 40  2  2  0 16]]\n",
            "              precision    recall  f1-score   support\n",
            "\n",
            "           0       0.56      0.53      0.55        60\n",
            "           1       0.53      0.88      0.66        60\n",
            "           2       0.45      0.58      0.51        60\n",
            "           3       0.37      0.32      0.34        60\n",
            "           4       0.64      0.62      0.63        60\n",
            "           5       0.94      0.27      0.42        60\n",
            "\n",
            "    accuracy                           0.53       360\n",
            "   macro avg       0.58      0.53      0.52       360\n",
            "weighted avg       0.58      0.53      0.52       360\n",
            "\n"
          ]
        }
      ]
    },
    {
      "cell_type": "code",
      "source": [
        "poly_svc = svm.SVC(kernel='poly', degree=5).fit(X_train, y_train)\n",
        "yhat = poly_svc.predict(X_test)\n",
        "print(yhat)\n",
        "print(metrics.accuracy_score(y_test, yhat))\n",
        "print(confusion_matrix(y_test, yhat))\n",
        "print(classification_report(y_test, yhat))"
      ],
      "metadata": {
        "colab": {
          "base_uri": "https://localhost:8080/"
        },
        "id": "SZmmHPpMS0qP",
        "outputId": "beef434f-84c9-4710-c3e3-3236de57f7d2"
      },
      "execution_count": null,
      "outputs": [
        {
          "output_type": "stream",
          "name": "stdout",
          "text": [
            "[0 0 0 0 0 3 0 0 2 0 0 0 4 0 0 0 0 2 0 0 0 0 0 0 0 0 0 0 0 0 0 0 0 0 0 0 0\n",
            " 0 0 0 0 0 0 0 0 0 0 0 2 0 0 0 0 0 0 3 2 2 3 0 1 1 1 1 1 1 1 1 1 1 1 1 1 1\n",
            " 1 1 1 1 1 1 1 1 1 1 1 1 1 1 1 1 1 1 1 1 1 1 1 1 1 1 1 1 1 1 1 1 1 1 1 1 1\n",
            " 1 1 1 1 1 1 1 1 1 2 0 0 3 2 0 0 2 2 1 2 3 2 3 2 2 1 2 0 1 3 2 0 1 2 1 2 2\n",
            " 0 0 0 0 3 2 0 0 3 2 3 0 0 3 3 2 2 2 0 0 0 2 3 1 0 2 0 0 1 0 1 3 3 1 1 1 1\n",
            " 1 0 1 1 3 1 1 3 1 1 1 3 4 3 1 3 3 0 1 3 1 1 1 3 3 1 1 3 1 3 1 3 3 1 3 1 3\n",
            " 1 3 1 1 1 1 1 1 0 1 1 1 1 3 1 1 1 4 1 1 1 1 1 1 1 1 1 1 1 1 1 1 1 1 1 1 1\n",
            " 1 1 1 1 1 1 1 1 1 1 1 1 1 1 1 1 1 1 1 1 1 1 1 1 1 1 1 1 1 1 1 1 1 1 1 1 1\n",
            " 1 1 1 1 1 1 1 1 1 1 1 1 1 1 1 1 1 1 1 1 1 1 1 1 1 1 1 1 1 1 1 1 1 1 1 1 1\n",
            " 1 1 1 1 1 1 1 1 1 1 1 1 1 1 1 1 1 3 1 1 1 1 1 1 1 1 1]\n",
            "0.41388888888888886\n",
            "[[51  0  5  3  1  0]\n",
            " [ 0 60  0  0  0  0]\n",
            " [21  8 20 11  0  0]\n",
            " [ 3 37  0 18  2  0]\n",
            " [ 0 60  0  0  0  0]\n",
            " [ 0 59  0  1  0  0]]\n",
            "              precision    recall  f1-score   support\n",
            "\n",
            "           0       0.68      0.85      0.76        60\n",
            "           1       0.27      1.00      0.42        60\n",
            "           2       0.80      0.33      0.47        60\n",
            "           3       0.55      0.30      0.39        60\n",
            "           4       0.00      0.00      0.00        60\n",
            "           5       0.00      0.00      0.00        60\n",
            "\n",
            "    accuracy                           0.41       360\n",
            "   macro avg       0.38      0.41      0.34       360\n",
            "weighted avg       0.38      0.41      0.34       360\n",
            "\n"
          ]
        },
        {
          "output_type": "stream",
          "name": "stderr",
          "text": [
            "/usr/local/lib/python3.7/dist-packages/sklearn/metrics/_classification.py:1318: UndefinedMetricWarning: Precision and F-score are ill-defined and being set to 0.0 in labels with no predicted samples. Use `zero_division` parameter to control this behavior.\n",
            "  _warn_prf(average, modifier, msg_start, len(result))\n",
            "/usr/local/lib/python3.7/dist-packages/sklearn/metrics/_classification.py:1318: UndefinedMetricWarning: Precision and F-score are ill-defined and being set to 0.0 in labels with no predicted samples. Use `zero_division` parameter to control this behavior.\n",
            "  _warn_prf(average, modifier, msg_start, len(result))\n",
            "/usr/local/lib/python3.7/dist-packages/sklearn/metrics/_classification.py:1318: UndefinedMetricWarning: Precision and F-score are ill-defined and being set to 0.0 in labels with no predicted samples. Use `zero_division` parameter to control this behavior.\n",
            "  _warn_prf(average, modifier, msg_start, len(result))\n"
          ]
        }
      ]
    },
    {
      "cell_type": "code",
      "source": [
        "for i in range(1,15) :\n",
        "    poly_svc = svm.SVC(kernel='poly', degree=i).fit(X_train, y_train)\n",
        "    yhat = poly_svc.predict(X_test)\n",
        "    print(yhat)\n",
        "    print('Degree = ',i, metrics.accuracy_score(y_test, yhat))\n",
        "    # print(confusion_matrix(y_test, yhat))\n",
        "    # print(classification_report(y_test, yhat))"
      ],
      "metadata": {
        "colab": {
          "base_uri": "https://localhost:8080/"
        },
        "id": "l3AXkteRS196",
        "outputId": "be279777-488f-4989-a477-d6aa8da115b8"
      },
      "execution_count": null,
      "outputs": [
        {
          "output_type": "stream",
          "name": "stdout",
          "text": [
            "[2 0 2 2 2 0 2 2 2 2 2 2 4 2 2 0 2 2 0 0 2 2 2 0 2 2 2 2 0 0 2 2 2 2 2 2 2\n",
            " 2 2 0 2 2 2 2 2 2 2 2 2 2 2 2 2 2 2 3 2 2 0 2 1 1 1 1 1 1 1 1 1 1 1 1 1 1\n",
            " 4 1 1 1 1 1 1 1 1 1 1 1 1 1 1 1 1 1 1 1 1 1 1 1 1 1 1 1 1 1 1 1 1 1 1 1 1\n",
            " 1 1 1 1 1 1 1 1 1 2 0 2 0 2 0 2 2 2 4 2 5 2 5 2 2 4 2 2 4 0 2 2 4 2 4 2 2\n",
            " 2 2 0 0 0 2 2 0 0 2 3 0 0 0 5 2 2 2 2 2 0 2 0 4 2 2 2 2 4 0 4 0 0 4 1 4 4\n",
            " 4 2 4 4 0 4 1 5 4 4 4 3 4 0 1 0 0 2 4 0 1 4 1 0 0 1 4 0 4 5 4 5 0 4 0 4 0\n",
            " 4 0 1 4 4 4 4 4 0 1 1 4 4 5 1 1 1 4 4 4 1 4 4 4 4 4 4 4 4 4 4 4 4 4 1 4 4\n",
            " 4 4 4 4 4 4 4 4 4 4 4 4 4 1 4 4 4 4 4 4 1 1 4 1 4 4 4 1 1 4 4 4 4 4 4 4 4\n",
            " 4 4 4 4 4 1 1 1 1 1 1 1 1 1 1 1 1 1 4 1 1 4 1 1 1 1 1 1 1 1 1 1 1 4 1 1 1\n",
            " 1 1 1 1 1 1 4 1 1 1 1 1 4 1 1 1 1 5 1 1 1 1 1 1 1 4 1]\n",
            "Degree =  1 0.4305555555555556\n",
            "[2 0 2 2 2 0 2 2 2 0 2 2 4 2 2 0 2 2 0 0 2 2 2 0 2 2 0 2 0 0 2 2 2 2 2 2 0\n",
            " 2 2 0 2 2 2 0 2 0 2 2 2 2 2 2 2 2 2 3 2 2 0 2 1 1 1 1 1 1 1 1 1 1 1 1 1 1\n",
            " 1 1 1 1 1 1 1 1 1 1 1 1 1 1 1 1 1 1 1 1 1 1 1 1 1 1 1 1 1 1 1 1 1 1 1 1 1\n",
            " 1 1 1 1 1 1 1 1 1 0 0 0 0 2 0 2 2 2 4 2 0 2 3 2 2 4 2 0 4 5 2 0 4 2 4 2 2\n",
            " 2 0 0 0 0 2 2 0 0 2 3 0 0 0 0 2 2 2 0 2 0 2 0 4 0 2 2 2 4 0 4 5 0 4 1 4 4\n",
            " 4 0 1 1 0 4 1 3 1 1 4 3 4 5 1 0 5 2 4 0 1 4 1 5 0 1 4 0 1 3 4 3 5 4 5 4 5\n",
            " 4 5 1 4 4 4 4 4 0 1 1 4 4 3 1 1 1 4 1 4 1 1 1 4 1 1 4 4 4 4 1 1 1 1 1 1 1\n",
            " 1 1 1 4 1 4 1 1 1 4 4 4 1 1 1 4 4 1 1 4 1 1 4 1 1 4 1 1 1 1 1 1 1 1 1 1 1\n",
            " 4 4 4 1 4 1 1 1 1 1 1 1 1 1 1 1 1 1 4 1 1 4 1 1 1 1 1 1 1 1 1 1 1 4 1 1 1\n",
            " 1 1 1 1 1 1 4 1 1 1 1 1 1 1 1 1 1 3 1 1 1 1 1 1 1 4 1]\n",
            "Degree =  2 0.34444444444444444\n",
            "[0 0 0 2 2 5 2 2 2 0 2 2 4 2 2 0 2 2 0 0 2 0 0 0 0 2 0 2 0 0 2 2 2 2 0 2 0\n",
            " 2 2 0 2 2 2 0 0 0 2 2 2 2 2 2 2 2 2 3 2 2 3 2 1 1 1 1 1 1 1 1 1 1 1 1 1 1\n",
            " 1 1 1 1 1 1 1 1 1 1 1 1 1 1 1 1 1 1 1 1 1 1 1 1 1 1 1 1 1 1 1 1 1 1 1 1 1\n",
            " 1 1 1 1 1 1 1 1 1 0 0 0 3 2 0 0 2 2 1 2 3 2 3 2 2 1 2 0 1 0 2 0 4 2 4 2 2\n",
            " 0 0 0 0 0 2 0 5 5 2 3 0 0 3 3 2 2 2 0 0 0 2 5 4 0 2 0 2 1 0 1 0 3 4 1 4 1\n",
            " 1 0 1 1 0 1 1 3 1 1 4 3 4 0 1 0 0 0 4 5 1 1 1 0 3 1 1 3 1 3 1 3 0 4 0 4 0\n",
            " 1 0 1 4 1 1 4 4 0 1 1 1 4 3 1 1 1 4 1 1 1 1 1 1 1 1 1 1 1 1 1 1 1 1 1 1 1\n",
            " 1 1 1 1 1 1 1 1 1 1 1 1 1 1 1 1 1 1 1 1 1 1 1 1 1 1 1 1 1 1 1 1 1 1 1 1 1\n",
            " 1 1 1 1 4 1 1 1 1 1 1 1 1 1 1 1 1 1 1 1 1 1 1 1 1 1 1 1 1 1 1 1 1 1 1 1 1\n",
            " 1 1 1 1 1 1 1 1 1 1 1 1 1 1 1 1 1 3 1 1 1 1 1 1 1 1 1]\n",
            "Degree =  3 0.3\n",
            "[0 0 0 0 0 0 0 2 2 0 2 0 4 0 0 0 0 2 0 0 2 0 0 0 0 0 0 0 0 0 0 0 0 0 0 0 0\n",
            " 0 0 0 0 0 0 0 0 0 0 0 2 0 2 0 0 2 0 3 2 2 3 2 1 1 1 1 1 1 1 1 1 1 1 1 1 1\n",
            " 1 1 1 1 1 1 1 1 1 1 1 1 1 1 1 1 1 1 1 1 1 1 1 1 1 1 1 1 1 1 1 1 1 1 1 1 1\n",
            " 1 1 1 1 1 1 1 1 1 0 0 0 3 2 0 0 2 2 1 2 3 2 3 2 2 1 2 0 1 3 2 0 1 2 4 2 2\n",
            " 0 0 0 0 3 2 0 0 0 2 3 0 0 3 3 2 2 2 0 0 0 2 0 1 0 2 0 0 1 0 1 3 3 1 1 4 1\n",
            " 1 0 1 1 0 1 1 3 1 1 1 3 4 3 1 0 3 0 1 0 1 1 1 3 3 1 1 3 1 3 1 3 3 4 3 1 3\n",
            " 1 3 1 1 1 1 4 1 0 1 1 1 1 3 1 1 1 4 1 1 1 1 1 1 1 1 1 1 1 1 1 1 1 1 1 1 1\n",
            " 1 1 1 1 1 1 1 1 1 1 1 1 1 1 1 1 1 1 1 1 1 1 1 1 1 1 1 1 1 1 1 1 1 1 1 1 1\n",
            " 1 1 1 1 1 1 1 1 1 1 1 1 1 1 1 1 1 1 1 1 1 1 1 1 1 1 1 1 1 1 1 1 1 1 1 1 1\n",
            " 1 1 1 1 1 1 1 1 1 1 1 1 1 1 1 1 1 3 1 1 1 1 1 1 1 1 1]\n",
            "Degree =  4 0.3888888888888889\n",
            "[0 0 0 0 0 3 0 0 2 0 0 0 4 0 0 0 0 2 0 0 0 0 0 0 0 0 0 0 0 0 0 0 0 0 0 0 0\n",
            " 0 0 0 0 0 0 0 0 0 0 0 2 0 0 0 0 0 0 3 2 2 3 0 1 1 1 1 1 1 1 1 1 1 1 1 1 1\n",
            " 1 1 1 1 1 1 1 1 1 1 1 1 1 1 1 1 1 1 1 1 1 1 1 1 1 1 1 1 1 1 1 1 1 1 1 1 1\n",
            " 1 1 1 1 1 1 1 1 1 2 0 0 3 2 0 0 2 2 1 2 3 2 3 2 2 1 2 0 1 3 2 0 1 2 1 2 2\n",
            " 0 0 0 0 3 2 0 0 3 2 3 0 0 3 3 2 2 2 0 0 0 2 3 1 0 2 0 0 1 0 1 3 3 1 1 1 1\n",
            " 1 0 1 1 3 1 1 3 1 1 1 3 4 3 1 3 3 0 1 3 1 1 1 3 3 1 1 3 1 3 1 3 3 1 3 1 3\n",
            " 1 3 1 1 1 1 1 1 0 1 1 1 1 3 1 1 1 4 1 1 1 1 1 1 1 1 1 1 1 1 1 1 1 1 1 1 1\n",
            " 1 1 1 1 1 1 1 1 1 1 1 1 1 1 1 1 1 1 1 1 1 1 1 1 1 1 1 1 1 1 1 1 1 1 1 1 1\n",
            " 1 1 1 1 1 1 1 1 1 1 1 1 1 1 1 1 1 1 1 1 1 1 1 1 1 1 1 1 1 1 1 1 1 1 1 1 1\n",
            " 1 1 1 1 1 1 1 1 1 1 1 1 1 1 1 1 1 3 1 1 1 1 1 1 1 1 1]\n",
            "Degree =  5 0.41388888888888886\n",
            "[0 0 0 0 0 3 0 0 2 0 0 0 4 0 0 0 0 0 0 0 0 0 0 0 0 0 0 0 0 3 0 0 0 0 0 0 0\n",
            " 0 0 0 0 0 0 0 0 0 0 0 2 0 0 0 0 0 0 3 2 0 3 0 1 1 1 1 1 1 1 1 1 1 1 1 1 1\n",
            " 1 1 1 1 1 1 1 1 1 1 1 1 1 1 1 1 1 1 1 1 1 1 1 1 1 1 1 1 1 1 1 1 1 1 1 1 1\n",
            " 1 1 1 1 1 1 1 1 1 2 0 0 3 2 0 0 2 2 1 2 3 2 3 2 2 1 2 0 1 3 2 0 1 2 1 2 2\n",
            " 0 0 0 0 3 2 2 3 3 2 3 0 3 3 3 2 2 2 0 0 0 2 3 1 0 2 0 2 1 3 1 3 3 1 1 1 1\n",
            " 1 0 1 1 3 1 1 3 1 1 1 3 4 3 1 3 3 0 1 3 1 1 1 3 3 1 1 3 1 3 1 3 3 1 3 1 3\n",
            " 1 3 1 1 1 1 1 1 0 1 1 1 1 3 1 1 1 4 1 1 1 1 1 1 1 1 1 1 1 1 1 1 1 1 1 1 1\n",
            " 1 1 1 1 1 1 1 1 1 1 1 1 1 1 1 1 1 1 1 1 1 1 1 1 1 1 1 1 1 1 1 1 1 1 1 1 1\n",
            " 1 1 1 1 1 1 1 1 1 1 1 1 1 1 1 1 1 1 1 1 1 1 1 1 1 1 1 1 1 1 1 1 1 1 1 1 1\n",
            " 1 1 1 1 1 1 1 1 1 1 1 1 1 1 1 1 1 3 1 1 1 1 1 1 1 1 1]\n",
            "Degree =  6 0.4222222222222222\n",
            "[0 0 0 0 0 3 0 0 0 0 0 0 4 0 0 0 0 0 0 0 0 0 0 0 0 0 0 0 0 3 0 0 0 0 0 0 0\n",
            " 0 0 0 0 0 0 0 0 0 0 0 0 0 0 0 0 0 0 4 0 0 3 0 1 1 1 1 1 1 1 1 1 1 1 1 1 1\n",
            " 1 1 1 1 1 1 1 1 1 1 1 1 1 1 1 1 1 1 1 1 1 1 1 1 1 1 1 1 1 1 1 1 1 1 1 1 1\n",
            " 1 1 1 1 1 1 1 1 1 2 0 0 3 2 0 2 2 2 1 2 3 2 3 2 2 1 2 0 1 3 2 0 1 2 1 2 2\n",
            " 2 0 0 0 3 2 2 3 3 2 3 0 3 3 3 2 2 2 0 2 0 2 3 1 0 2 2 2 1 3 1 3 3 1 1 1 1\n",
            " 1 0 1 1 3 1 1 3 1 1 1 4 1 3 1 3 3 0 1 3 1 1 1 3 3 1 1 3 1 3 1 3 3 1 3 1 3\n",
            " 1 3 1 1 1 1 1 1 0 1 1 1 1 3 1 1 1 4 1 1 1 1 1 1 1 1 1 1 1 1 1 1 1 1 1 1 1\n",
            " 1 1 1 1 1 1 1 1 1 1 1 1 1 1 1 1 1 1 1 1 1 1 1 1 1 1 1 1 1 1 1 1 1 1 1 1 1\n",
            " 1 1 1 1 1 1 1 1 1 1 1 1 1 1 1 1 1 1 1 1 1 1 1 1 1 1 1 1 1 1 1 1 1 1 1 1 1\n",
            " 1 1 1 1 1 1 1 1 1 1 1 1 1 1 1 1 1 3 1 1 1 1 1 1 1 1 1]\n",
            "Degree =  7 0.4388888888888889\n",
            "[0 0 0 0 0 3 0 0 0 0 0 2 4 0 0 0 0 0 0 0 0 2 0 0 0 0 0 0 0 3 0 0 0 0 0 0 0\n",
            " 0 0 0 0 2 0 0 0 0 0 0 0 0 0 0 0 0 0 4 0 0 3 0 1 1 1 1 1 1 1 1 1 1 1 1 1 1\n",
            " 1 1 1 1 1 1 1 1 1 1 1 1 1 1 1 1 1 1 1 1 1 1 1 1 1 1 1 1 1 1 1 1 1 1 1 1 1\n",
            " 1 1 1 1 1 1 1 1 1 2 0 2 3 2 0 2 2 2 1 2 3 2 3 2 2 1 2 2 1 3 2 2 1 2 1 2 2\n",
            " 2 2 0 0 3 2 2 3 3 2 4 0 3 3 3 2 2 2 2 2 0 2 3 1 2 2 2 2 1 3 1 3 3 1 1 1 1\n",
            " 1 0 1 1 3 1 1 3 1 1 1 4 1 3 1 3 3 2 1 3 1 1 1 3 3 1 1 3 1 3 1 3 3 1 3 1 3\n",
            " 1 3 1 1 1 1 1 1 0 1 1 1 1 3 1 1 1 4 1 1 1 1 1 1 1 1 1 1 1 1 1 1 1 1 1 1 1\n",
            " 1 1 1 1 1 1 1 1 1 1 1 1 1 1 1 1 1 1 1 1 1 1 1 1 1 1 1 1 1 1 1 1 1 1 1 1 1\n",
            " 1 1 1 1 1 1 1 1 1 1 1 1 1 1 1 1 1 1 1 1 1 1 1 1 1 1 1 1 1 1 1 1 1 1 1 1 1\n",
            " 1 1 1 1 1 1 1 1 1 1 1 1 1 1 1 1 1 3 1 1 1 1 1 1 1 1 1]\n",
            "Degree =  8 0.44722222222222224\n",
            "[0 0 0 0 0 3 0 0 0 0 0 0 1 0 0 0 0 0 0 0 0 2 0 0 0 0 0 0 0 3 0 0 0 0 0 0 2\n",
            " 0 0 0 0 0 0 0 0 0 0 0 0 0 0 0 0 0 0 4 0 0 3 0 1 1 1 1 1 1 1 1 1 1 1 1 1 1\n",
            " 1 1 1 1 1 1 1 1 1 1 1 1 1 1 1 1 1 1 1 1 1 1 1 1 1 1 1 1 1 1 1 1 1 1 1 1 1\n",
            " 1 1 1 1 1 1 1 1 1 2 0 2 3 2 2 2 2 2 1 2 3 2 4 2 2 1 2 2 1 3 2 2 1 2 1 2 2\n",
            " 2 2 0 0 3 2 2 3 3 2 4 0 3 3 3 2 2 2 2 2 2 2 3 1 2 2 2 2 1 3 1 3 3 1 1 1 1\n",
            " 1 0 1 1 3 1 1 3 1 1 1 4 1 3 1 3 3 2 1 3 1 1 1 3 3 1 1 3 1 3 1 3 3 1 3 1 3\n",
            " 1 3 1 1 1 1 1 1 0 1 1 1 1 3 1 1 1 1 1 1 1 1 1 1 1 1 1 1 1 1 1 1 1 1 1 1 1\n",
            " 1 1 1 1 1 1 1 1 1 1 1 1 1 1 1 1 1 1 1 1 1 1 1 1 1 1 1 1 1 1 1 1 1 1 1 1 1\n",
            " 1 1 1 1 1 1 1 1 1 1 1 1 1 1 1 1 1 1 1 1 1 1 1 1 1 1 1 1 1 1 1 1 1 1 1 1 1\n",
            " 1 1 1 1 1 1 1 1 1 1 1 1 1 1 1 1 1 4 1 1 1 1 1 1 1 1 1]\n",
            "Degree =  9 0.45555555555555555\n",
            "[0 0 0 0 0 3 0 0 0 2 0 0 1 0 0 0 0 0 3 3 0 2 0 0 0 0 0 0 0 3 0 0 0 0 0 0 2\n",
            " 0 0 0 0 0 0 0 0 0 0 0 0 0 0 0 0 0 0 4 0 0 3 0 1 1 1 1 1 1 1 1 1 1 1 1 1 1\n",
            " 1 1 1 1 1 1 1 1 1 1 1 1 1 1 1 1 1 1 1 1 1 1 1 1 1 1 1 1 1 1 1 1 1 1 1 1 1\n",
            " 1 1 1 1 1 1 1 1 1 2 3 2 3 2 2 2 2 2 1 2 3 2 4 2 2 1 2 2 1 3 2 2 1 2 1 2 2\n",
            " 2 2 0 2 3 2 2 3 3 2 4 3 3 3 3 2 2 2 2 2 2 2 3 1 2 2 2 2 1 3 1 3 3 1 1 1 1\n",
            " 1 2 1 1 3 1 1 3 1 1 1 4 1 3 1 3 3 2 1 3 1 1 1 3 3 1 1 3 1 3 1 3 3 1 3 1 3\n",
            " 1 3 1 1 1 1 1 1 0 1 1 1 1 3 1 1 1 1 1 1 1 1 1 1 1 1 1 1 1 1 1 1 1 1 1 1 1\n",
            " 1 1 1 1 1 1 1 1 1 1 1 1 1 1 1 1 1 1 1 1 1 1 1 1 1 1 1 1 1 1 1 1 1 1 1 1 1\n",
            " 1 1 1 1 1 1 1 1 1 1 1 1 1 1 1 1 1 1 1 1 1 1 1 1 1 1 1 1 1 1 1 1 1 1 1 1 1\n",
            " 1 1 1 1 1 1 1 1 1 1 1 1 1 1 1 1 1 4 1 1 1 1 1 1 1 1 1]\n",
            "Degree =  10 0.45\n",
            "[0 0 0 0 0 3 0 0 0 2 0 0 1 0 0 3 0 0 3 3 0 2 0 3 0 0 2 0 3 3 0 0 0 0 0 0 2\n",
            " 0 0 3 0 0 0 0 0 0 0 0 0 0 0 0 0 0 0 4 0 0 3 0 1 1 1 1 1 1 1 1 1 1 1 1 1 1\n",
            " 1 1 1 1 1 1 1 1 1 1 1 1 1 1 1 1 1 1 1 1 1 1 1 1 1 1 1 1 1 1 1 1 1 1 1 1 1\n",
            " 1 1 1 1 1 1 1 1 1 2 3 2 3 2 2 2 2 2 1 2 3 2 4 2 2 1 2 2 1 3 2 2 1 2 1 2 2\n",
            " 2 2 2 2 3 2 2 3 3 2 4 3 3 3 3 2 2 2 2 2 2 2 3 1 2 2 2 2 1 3 1 3 3 1 1 1 1\n",
            " 1 2 1 1 3 1 1 4 1 1 1 4 1 3 1 3 3 2 1 3 1 1 1 3 3 1 1 3 1 3 1 4 3 1 3 1 3\n",
            " 1 3 1 1 1 1 1 1 3 1 1 1 1 3 1 1 1 1 1 1 1 1 1 1 1 1 1 1 1 1 1 1 1 1 1 1 1\n",
            " 1 1 1 1 1 1 1 1 1 1 1 1 1 1 1 1 1 1 1 1 1 1 1 1 1 1 1 1 1 1 1 1 1 1 1 1 1\n",
            " 1 1 1 1 1 1 1 1 1 1 1 1 1 1 1 1 1 1 1 1 1 1 1 1 1 1 1 1 1 1 1 1 1 1 1 1 1\n",
            " 1 1 1 1 1 1 1 1 1 1 1 1 1 1 1 1 1 4 1 1 1 1 1 1 1 1 1]\n",
            "Degree =  11 0.4361111111111111\n",
            "[0 0 0 0 0 3 0 0 0 0 0 0 1 0 0 3 0 0 3 3 0 2 0 3 0 0 2 0 3 3 0 0 0 0 0 0 2\n",
            " 0 0 3 0 0 0 0 0 0 0 0 0 0 0 0 0 0 0 4 0 0 3 0 1 1 1 1 1 1 1 1 1 1 1 1 1 1\n",
            " 1 1 1 1 1 1 1 1 1 1 1 1 1 1 1 1 1 1 1 1 1 1 1 1 1 1 1 1 1 1 1 1 1 1 1 1 1\n",
            " 1 1 1 1 1 1 1 1 1 2 2 2 3 2 2 2 2 2 1 2 3 2 4 2 2 1 2 2 1 3 2 2 1 2 1 2 2\n",
            " 2 2 2 2 3 2 2 3 3 2 4 2 3 3 3 2 2 2 2 2 2 2 3 1 2 2 2 2 1 3 1 3 3 1 1 1 1\n",
            " 1 2 1 1 3 1 1 4 1 1 1 4 1 3 1 3 3 0 1 3 1 1 1 3 3 1 1 3 1 3 1 4 3 1 3 1 3\n",
            " 1 3 1 1 1 1 1 1 3 1 1 1 1 4 1 1 1 1 1 1 1 1 1 1 1 1 1 1 1 1 1 1 1 1 1 1 1\n",
            " 1 1 1 1 1 1 1 1 1 1 1 1 1 1 1 1 1 1 1 1 1 1 1 1 1 1 1 1 1 1 1 1 1 1 1 1 1\n",
            " 1 1 1 1 1 1 1 1 1 1 1 1 1 1 1 1 1 1 1 1 1 1 1 1 1 1 1 1 1 1 1 1 1 1 1 1 1\n",
            " 1 1 1 1 1 1 1 1 1 1 1 1 1 1 1 1 1 4 1 1 1 1 1 1 1 1 1]\n",
            "Degree =  12 0.44166666666666665\n",
            "[0 0 0 0 0 3 0 0 0 0 0 0 1 0 0 3 0 0 3 3 0 2 0 3 0 0 0 0 3 3 0 0 0 0 0 0 2\n",
            " 0 0 3 0 0 0 0 0 0 0 0 0 0 0 0 0 0 0 4 0 0 3 0 1 1 1 1 1 1 1 1 1 1 1 1 1 1\n",
            " 1 1 1 1 1 1 1 1 1 1 1 1 1 1 1 1 1 1 1 1 1 1 1 1 1 1 1 1 1 1 1 1 1 1 1 1 1\n",
            " 1 1 1 1 1 1 1 1 1 2 2 2 3 2 2 2 2 2 1 2 3 2 4 2 2 1 2 2 1 3 2 2 1 2 1 2 2\n",
            " 2 2 2 2 3 2 2 3 3 2 4 2 3 3 3 2 2 2 2 2 2 2 3 1 2 2 2 2 1 3 1 3 3 1 1 1 1\n",
            " 1 2 1 1 3 1 1 4 1 1 1 4 1 3 1 3 3 0 1 3 1 1 1 3 3 1 1 3 1 4 1 4 3 1 3 1 3\n",
            " 1 3 1 1 1 1 1 1 3 1 1 1 1 4 1 1 1 1 1 1 1 1 1 1 1 1 1 1 1 1 1 1 1 1 1 1 1\n",
            " 1 1 1 1 1 1 1 1 1 1 1 1 1 1 1 1 1 1 1 1 1 1 1 1 1 1 1 1 1 1 1 1 1 1 1 1 1\n",
            " 1 1 1 1 1 1 1 1 1 1 1 1 1 1 1 1 1 1 1 1 1 1 1 1 1 1 1 1 1 1 1 1 1 1 1 1 1\n",
            " 1 1 1 1 1 1 1 1 1 1 1 1 1 1 1 1 1 4 1 1 1 1 1 1 1 1 1]\n",
            "Degree =  13 0.44166666666666665\n",
            "[0 0 0 0 0 3 0 0 0 0 0 0 1 0 0 0 0 0 3 3 0 0 0 3 0 0 0 0 3 3 0 0 0 0 0 0 2\n",
            " 0 0 3 0 0 0 0 0 0 0 0 0 0 0 0 0 0 0 4 0 0 3 0 1 1 1 1 1 1 1 1 1 1 1 1 1 1\n",
            " 1 1 1 1 1 1 1 1 1 1 1 1 1 1 1 1 1 1 1 1 1 1 1 1 1 1 1 1 1 1 1 1 1 1 1 1 1\n",
            " 1 1 1 1 1 1 1 1 1 2 2 2 3 2 2 2 2 2 1 2 3 2 4 2 2 1 2 2 1 3 2 2 1 2 1 2 2\n",
            " 2 2 2 2 3 2 2 3 3 2 4 2 3 3 3 2 2 2 2 2 2 2 3 1 2 2 2 2 1 3 1 3 3 1 1 1 1\n",
            " 1 2 1 1 3 1 1 4 1 1 1 4 1 3 1 3 3 0 1 3 1 1 1 3 3 1 1 3 1 4 1 4 3 1 3 1 3\n",
            " 1 3 1 1 1 1 1 1 0 1 1 1 1 4 1 1 1 1 1 1 1 1 1 1 1 1 1 1 1 1 1 1 1 1 1 1 1\n",
            " 1 1 1 1 1 1 1 1 1 1 1 1 1 1 1 1 1 1 1 1 1 1 1 1 1 1 1 1 1 1 1 1 1 1 1 1 1\n",
            " 1 1 1 1 1 1 1 1 1 1 1 1 1 1 1 1 1 1 1 1 1 1 1 1 1 1 1 1 1 1 1 1 1 1 1 1 1\n",
            " 1 1 1 1 1 1 1 1 1 1 1 1 1 1 1 1 1 4 1 1 1 1 1 1 1 1 1]\n",
            "Degree =  14 0.4444444444444444\n"
          ]
        }
      ]
    },
    {
      "cell_type": "code",
      "source": [
        "poly_svc = svm.SVC(kernel='poly', degree=9).fit(X_train, y_train)\n",
        "yhat = poly_svc.predict(X_test)\n",
        "print(yhat)\n",
        "print(metrics.accuracy_score(y_test, yhat))\n",
        "print(confusion_matrix(y_test, yhat))\n",
        "print(classification_report(y_test, yhat))"
      ],
      "metadata": {
        "colab": {
          "base_uri": "https://localhost:8080/"
        },
        "id": "Ti9dGVtgS3r7",
        "outputId": "4140c43b-97c9-4793-945c-d2bb3cb4fa77"
      },
      "execution_count": null,
      "outputs": [
        {
          "output_type": "stream",
          "name": "stdout",
          "text": [
            "[0 0 0 0 0 3 0 0 0 0 0 0 1 0 0 0 0 0 0 0 0 2 0 0 0 0 0 0 0 3 0 0 0 0 0 0 2\n",
            " 0 0 0 0 0 0 0 0 0 0 0 0 0 0 0 0 0 0 4 0 0 3 0 1 1 1 1 1 1 1 1 1 1 1 1 1 1\n",
            " 1 1 1 1 1 1 1 1 1 1 1 1 1 1 1 1 1 1 1 1 1 1 1 1 1 1 1 1 1 1 1 1 1 1 1 1 1\n",
            " 1 1 1 1 1 1 1 1 1 2 0 2 3 2 2 2 2 2 1 2 3 2 4 2 2 1 2 2 1 3 2 2 1 2 1 2 2\n",
            " 2 2 0 0 3 2 2 3 3 2 4 0 3 3 3 2 2 2 2 2 2 2 3 1 2 2 2 2 1 3 1 3 3 1 1 1 1\n",
            " 1 0 1 1 3 1 1 3 1 1 1 4 1 3 1 3 3 2 1 3 1 1 1 3 3 1 1 3 1 3 1 3 3 1 3 1 3\n",
            " 1 3 1 1 1 1 1 1 0 1 1 1 1 3 1 1 1 1 1 1 1 1 1 1 1 1 1 1 1 1 1 1 1 1 1 1 1\n",
            " 1 1 1 1 1 1 1 1 1 1 1 1 1 1 1 1 1 1 1 1 1 1 1 1 1 1 1 1 1 1 1 1 1 1 1 1 1\n",
            " 1 1 1 1 1 1 1 1 1 1 1 1 1 1 1 1 1 1 1 1 1 1 1 1 1 1 1 1 1 1 1 1 1 1 1 1 1\n",
            " 1 1 1 1 1 1 1 1 1 1 1 1 1 1 1 1 1 4 1 1 1 1 1 1 1 1 1]\n",
            "0.45555555555555555\n",
            "[[53  1  2  3  1  0]\n",
            " [ 0 60  0  0  0  0]\n",
            " [ 4  8 34 12  2  0]\n",
            " [ 2 39  1 17  1  0]\n",
            " [ 0 60  0  0  0  0]\n",
            " [ 0 59  0  0  1  0]]\n",
            "              precision    recall  f1-score   support\n",
            "\n",
            "           0       0.90      0.88      0.89        60\n",
            "           1       0.26      1.00      0.42        60\n",
            "           2       0.92      0.57      0.70        60\n",
            "           3       0.53      0.28      0.37        60\n",
            "           4       0.00      0.00      0.00        60\n",
            "           5       0.00      0.00      0.00        60\n",
            "\n",
            "    accuracy                           0.46       360\n",
            "   macro avg       0.44      0.46      0.40       360\n",
            "weighted avg       0.44      0.46      0.40       360\n",
            "\n"
          ]
        },
        {
          "output_type": "stream",
          "name": "stderr",
          "text": [
            "/usr/local/lib/python3.7/dist-packages/sklearn/metrics/_classification.py:1318: UndefinedMetricWarning: Precision and F-score are ill-defined and being set to 0.0 in labels with no predicted samples. Use `zero_division` parameter to control this behavior.\n",
            "  _warn_prf(average, modifier, msg_start, len(result))\n",
            "/usr/local/lib/python3.7/dist-packages/sklearn/metrics/_classification.py:1318: UndefinedMetricWarning: Precision and F-score are ill-defined and being set to 0.0 in labels with no predicted samples. Use `zero_division` parameter to control this behavior.\n",
            "  _warn_prf(average, modifier, msg_start, len(result))\n",
            "/usr/local/lib/python3.7/dist-packages/sklearn/metrics/_classification.py:1318: UndefinedMetricWarning: Precision and F-score are ill-defined and being set to 0.0 in labels with no predicted samples. Use `zero_division` parameter to control this behavior.\n",
            "  _warn_prf(average, modifier, msg_start, len(result))\n"
          ]
        }
      ]
    },
    {
      "cell_type": "code",
      "source": [
        ""
      ],
      "metadata": {
        "id": "Xfm08yKlVrMt"
      },
      "execution_count": null,
      "outputs": []
    }
  ]
}