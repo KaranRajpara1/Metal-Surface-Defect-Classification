{
  "nbformat": 4,
  "nbformat_minor": 0,
  "metadata": {
    "colab": {
      "name": "Project_26.ipynb",
      "provenance": []
    },
    "kernelspec": {
      "name": "python3",
      "display_name": "Python 3"
    },
    "language_info": {
      "name": "python"
    }
  },
  "cells": [
    {
      "cell_type": "markdown",
      "source": [
        "KNN\n",
        "Feature Extraction Method: GLCM\n",
        "Features Taken with distance = 1,3,5, angle = 45,90 (total 25 features)"
      ],
      "metadata": {
        "id": "1TYhaw4CTb5R"
      }
    },
    {
      "cell_type": "code",
      "execution_count": null,
      "metadata": {
        "id": "IMBKkk8pOgQf"
      },
      "outputs": [],
      "source": [
        "from google.colab import drive\n"
      ]
    },
    {
      "cell_type": "code",
      "source": [
        "drive.mount('/content/drive')"
      ],
      "metadata": {
        "colab": {
          "base_uri": "https://localhost:8080/"
        },
        "id": "CQw3ZZWIOubz",
        "outputId": "3057cc81-b1cb-46ef-f3c2-4346fb5abe2b"
      },
      "execution_count": null,
      "outputs": [
        {
          "output_type": "stream",
          "name": "stdout",
          "text": [
            "Mounted at /content/drive\n"
          ]
        }
      ]
    },
    {
      "cell_type": "code",
      "source": [
        "cd /content/drive/\"MyDrive/Machine Learning/GLCM\""
      ],
      "metadata": {
        "colab": {
          "base_uri": "https://localhost:8080/"
        },
        "id": "cgnc0JB4PUpV",
        "outputId": "51023532-178f-452a-92d5-e3f482f8e94a"
      },
      "execution_count": null,
      "outputs": [
        {
          "output_type": "stream",
          "name": "stdout",
          "text": [
            "/content/drive/MyDrive/Machine Learning/GLCM\n"
          ]
        }
      ]
    },
    {
      "cell_type": "code",
      "source": [
        "import pandas as pd\n",
        "import numpy as np\n",
        "import matplotlib.pyplot as plt\n",
        "from sklearn.model_selection import train_test_split\n",
        "import glob\n",
        "import cv2\n",
        "from sklearn.ensemble import RandomForestClassifier\n",
        "from sklearn import metrics\n",
        "from sklearn import svm\n",
        "from sklearn.metrics import classification_report, confusion_matrix\n",
        "import itertools\n",
        "from skimage.filters import sobel\n",
        "from skimage.feature import greycomatrix, greycoprops\n",
        "import time"
      ],
      "metadata": {
        "id": "ZoDpv16mOva4"
      },
      "execution_count": null,
      "outputs": []
    },
    {
      "cell_type": "code",
      "source": [
        "X_train = list()\n",
        "X_test = list()\n",
        "y_train = list()\n",
        "y_test = list()\n",
        "\n",
        "# for k fold cross validation\n",
        "x_new = list()\n",
        "y_new = list()"
      ],
      "metadata": {
        "id": "CN1HOcsTO5R9"
      },
      "execution_count": null,
      "outputs": []
    },
    {
      "cell_type": "code",
      "source": [
        "# 0 = crazing \n",
        "# 1 = inclusion\n",
        "# 2 = patches\n",
        "# 3 = pitted_surface\n",
        "# 4 = rolled in scale\n",
        "# 5 = scratches"
      ],
      "metadata": {
        "id": "2SU6a4DnO8tx"
      },
      "execution_count": null,
      "outputs": []
    },
    {
      "cell_type": "code",
      "source": [
        "dataset1 = pd.read_csv('GLCM_train.csv')\n",
        "print(dataset1)"
      ],
      "metadata": {
        "colab": {
          "base_uri": "https://localhost:8080/"
        },
        "id": "G5zmMTiRPBRy",
        "outputId": "9dbac96b-7394-4027-8eef-39928922dde4"
      },
      "execution_count": null,
      "outputs": [
        {
          "output_type": "stream",
          "name": "stdout",
          "text": [
            "      Unnamed: 0    Energy      Corr   Diss_sim   Homogen    Contrast  \\\n",
            "0              0  0.014224  0.725731  15.456080  0.063373  383.715930   \n",
            "1              0  0.015558  0.778272  12.804573  0.076365  263.964171   \n",
            "2              0  0.015120  0.746263  13.894296  0.069790  310.096910   \n",
            "3              0  0.016114  0.719193  13.510452  0.071717  292.011709   \n",
            "4              0  0.013543  0.787991  14.764347  0.066498  351.571382   \n",
            "...          ...       ...       ...        ...       ...         ...   \n",
            "1435           0  0.033905  0.971425   3.316633  0.292426   22.962261   \n",
            "1436           0  0.058558  0.959366   2.681734  0.485881   48.285804   \n",
            "1437           0  0.047101  0.983943   2.665603  0.434930   30.869422   \n",
            "1438           0  0.052825  0.987204   3.837789  0.358781   61.731910   \n",
            "1439           0  0.052105  0.966701   3.046206  0.392387   38.874296   \n",
            "\n",
            "       Energy2     Corr2  Diss_sim2  Homogen2  ...   Energy4  Corr4  \\\n",
            "0     0.012683  0.395795  22.695406  0.044695  ...  0.105232    1.0   \n",
            "1     0.013689  0.532007  18.470305  0.054047  ...  0.107451    1.0   \n",
            "2     0.013502  0.488098  19.576853  0.051071  ...  0.107443    1.0   \n",
            "3     0.014400  0.418449  19.309518  0.052188  ...  0.113047    1.0   \n",
            "4     0.011767  0.515696  22.175660  0.045302  ...  0.098454    1.0   \n",
            "...        ...       ...        ...       ...  ...       ...    ...   \n",
            "1435  0.028393  0.932634   4.949340  0.214864  ...  0.118031    1.0   \n",
            "1436  0.046291  0.799489   5.660381  0.331171  ...  0.136424    1.0   \n",
            "1437  0.036447  0.913482   5.835431  0.289870  ...  0.117314    1.0   \n",
            "1438  0.040471  0.929155   8.684949  0.226254  ...  0.128840    1.0   \n",
            "1439  0.042811  0.879766   5.305406  0.279443  ...  0.140307    1.0   \n",
            "\n",
            "      Diss_sim4  Homogen4  Contrast4   Energy5  Corr5  Diss_sim5  Homogen5  \\\n",
            "0           0.0       1.0        0.0  0.105232    1.0        0.0       1.0   \n",
            "1           0.0       1.0        0.0  0.107451    1.0        0.0       1.0   \n",
            "2           0.0       1.0        0.0  0.107443    1.0        0.0       1.0   \n",
            "3           0.0       1.0        0.0  0.113047    1.0        0.0       1.0   \n",
            "4           0.0       1.0        0.0  0.098454    1.0        0.0       1.0   \n",
            "...         ...       ...        ...       ...    ...        ...       ...   \n",
            "1435        0.0       1.0        0.0  0.118031    1.0        0.0       1.0   \n",
            "1436        0.0       1.0        0.0  0.136424    1.0        0.0       1.0   \n",
            "1437        0.0       1.0        0.0  0.117314    1.0        0.0       1.0   \n",
            "1438        0.0       1.0        0.0  0.128840    1.0        0.0       1.0   \n",
            "1439        0.0       1.0        0.0  0.140307    1.0        0.0       1.0   \n",
            "\n",
            "      Contrast5  \n",
            "0           0.0  \n",
            "1           0.0  \n",
            "2           0.0  \n",
            "3           0.0  \n",
            "4           0.0  \n",
            "...         ...  \n",
            "1435        0.0  \n",
            "1436        0.0  \n",
            "1437        0.0  \n",
            "1438        0.0  \n",
            "1439        0.0  \n",
            "\n",
            "[1440 rows x 26 columns]\n"
          ]
        }
      ]
    },
    {
      "cell_type": "code",
      "source": [
        "x = dataset1.iloc[:,1:].values\n",
        "print(len(x[0]))"
      ],
      "metadata": {
        "colab": {
          "base_uri": "https://localhost:8080/"
        },
        "id": "uxaFqQqHQCTL",
        "outputId": "dde40150-26ad-4dc1-90ea-9b3c2b98d417"
      },
      "execution_count": null,
      "outputs": [
        {
          "output_type": "stream",
          "name": "stdout",
          "text": [
            "25\n"
          ]
        }
      ]
    },
    {
      "cell_type": "code",
      "source": [
        "print(x)"
      ],
      "metadata": {
        "colab": {
          "base_uri": "https://localhost:8080/"
        },
        "id": "rGMlJ3SiQVKX",
        "outputId": "b1730432-3de8-473f-f866-f9a9a2603b7f"
      },
      "execution_count": null,
      "outputs": [
        {
          "output_type": "stream",
          "name": "stdout",
          "text": [
            "[[1.42235469e-02 7.25731266e-01 1.54560804e+01 ... 0.00000000e+00\n",
            "  1.00000000e+00 0.00000000e+00]\n",
            " [1.55583846e-02 7.78271956e-01 1.28045729e+01 ... 0.00000000e+00\n",
            "  1.00000000e+00 0.00000000e+00]\n",
            " [1.51195333e-02 7.46262736e-01 1.38942965e+01 ... 0.00000000e+00\n",
            "  1.00000000e+00 0.00000000e+00]\n",
            " ...\n",
            " [4.71007360e-02 9.83943252e-01 2.66560302e+00 ... 0.00000000e+00\n",
            "  1.00000000e+00 0.00000000e+00]\n",
            " [5.28245045e-02 9.87203605e-01 3.83778894e+00 ... 0.00000000e+00\n",
            "  1.00000000e+00 0.00000000e+00]\n",
            " [5.21048101e-02 9.66701159e-01 3.04620603e+00 ... 0.00000000e+00\n",
            "  1.00000000e+00 0.00000000e+00]]\n"
          ]
        }
      ]
    },
    {
      "cell_type": "code",
      "source": [
        "print(x[0])"
      ],
      "metadata": {
        "colab": {
          "base_uri": "https://localhost:8080/"
        },
        "id": "yuge5Jq7QY6D",
        "outputId": "87cdd39c-5d55-4adb-c9a5-cce324c7cc41"
      },
      "execution_count": null,
      "outputs": [
        {
          "output_type": "stream",
          "name": "stdout",
          "text": [
            "[1.42235469e-02 7.25731266e-01 1.54560804e+01 6.33728906e-02\n",
            " 3.83715930e+02 1.26830436e-02 3.95794743e-01 2.26954061e+01\n",
            " 4.46945403e-02 8.42411802e+02 1.24517214e-02 2.71204228e-01\n",
            " 2.48634103e+01 3.97342203e-02 1.01318356e+03 1.05232297e-01\n",
            " 1.00000000e+00 0.00000000e+00 1.00000000e+00 0.00000000e+00\n",
            " 1.05232297e-01 1.00000000e+00 0.00000000e+00 1.00000000e+00\n",
            " 0.00000000e+00]\n"
          ]
        }
      ]
    },
    {
      "cell_type": "code",
      "source": [
        "print(len(x))"
      ],
      "metadata": {
        "colab": {
          "base_uri": "https://localhost:8080/"
        },
        "id": "m76dWWx6QvzV",
        "outputId": "194bd5b9-229c-43bd-a178-17e47f5c16ab"
      },
      "execution_count": null,
      "outputs": [
        {
          "output_type": "stream",
          "name": "stdout",
          "text": [
            "1440\n"
          ]
        }
      ]
    },
    {
      "cell_type": "code",
      "source": [
        "y = list()"
      ],
      "metadata": {
        "id": "dztpDFUrQfja"
      },
      "execution_count": null,
      "outputs": []
    },
    {
      "cell_type": "code",
      "source": [
        "for i in range(0,6) :\n",
        "    for j in range(0,240):\n",
        "        y.append(i)\n"
      ],
      "metadata": {
        "id": "OMKN81jDQrkX"
      },
      "execution_count": null,
      "outputs": []
    },
    {
      "cell_type": "code",
      "source": [
        "print(y)"
      ],
      "metadata": {
        "colab": {
          "base_uri": "https://localhost:8080/"
        },
        "id": "jcvrJiINRIyW",
        "outputId": "2f540ed7-30b2-4eaf-c2b1-1a85c9463d36"
      },
      "execution_count": null,
      "outputs": [
        {
          "output_type": "stream",
          "name": "stdout",
          "text": [
            "[0, 0, 0, 0, 0, 0, 0, 0, 0, 0, 0, 0, 0, 0, 0, 0, 0, 0, 0, 0, 0, 0, 0, 0, 0, 0, 0, 0, 0, 0, 0, 0, 0, 0, 0, 0, 0, 0, 0, 0, 0, 0, 0, 0, 0, 0, 0, 0, 0, 0, 0, 0, 0, 0, 0, 0, 0, 0, 0, 0, 0, 0, 0, 0, 0, 0, 0, 0, 0, 0, 0, 0, 0, 0, 0, 0, 0, 0, 0, 0, 0, 0, 0, 0, 0, 0, 0, 0, 0, 0, 0, 0, 0, 0, 0, 0, 0, 0, 0, 0, 0, 0, 0, 0, 0, 0, 0, 0, 0, 0, 0, 0, 0, 0, 0, 0, 0, 0, 0, 0, 0, 0, 0, 0, 0, 0, 0, 0, 0, 0, 0, 0, 0, 0, 0, 0, 0, 0, 0, 0, 0, 0, 0, 0, 0, 0, 0, 0, 0, 0, 0, 0, 0, 0, 0, 0, 0, 0, 0, 0, 0, 0, 0, 0, 0, 0, 0, 0, 0, 0, 0, 0, 0, 0, 0, 0, 0, 0, 0, 0, 0, 0, 0, 0, 0, 0, 0, 0, 0, 0, 0, 0, 0, 0, 0, 0, 0, 0, 0, 0, 0, 0, 0, 0, 0, 0, 0, 0, 0, 0, 0, 0, 0, 0, 0, 0, 0, 0, 0, 0, 0, 0, 0, 0, 0, 0, 0, 0, 0, 0, 0, 0, 0, 0, 0, 0, 0, 0, 0, 0, 1, 1, 1, 1, 1, 1, 1, 1, 1, 1, 1, 1, 1, 1, 1, 1, 1, 1, 1, 1, 1, 1, 1, 1, 1, 1, 1, 1, 1, 1, 1, 1, 1, 1, 1, 1, 1, 1, 1, 1, 1, 1, 1, 1, 1, 1, 1, 1, 1, 1, 1, 1, 1, 1, 1, 1, 1, 1, 1, 1, 1, 1, 1, 1, 1, 1, 1, 1, 1, 1, 1, 1, 1, 1, 1, 1, 1, 1, 1, 1, 1, 1, 1, 1, 1, 1, 1, 1, 1, 1, 1, 1, 1, 1, 1, 1, 1, 1, 1, 1, 1, 1, 1, 1, 1, 1, 1, 1, 1, 1, 1, 1, 1, 1, 1, 1, 1, 1, 1, 1, 1, 1, 1, 1, 1, 1, 1, 1, 1, 1, 1, 1, 1, 1, 1, 1, 1, 1, 1, 1, 1, 1, 1, 1, 1, 1, 1, 1, 1, 1, 1, 1, 1, 1, 1, 1, 1, 1, 1, 1, 1, 1, 1, 1, 1, 1, 1, 1, 1, 1, 1, 1, 1, 1, 1, 1, 1, 1, 1, 1, 1, 1, 1, 1, 1, 1, 1, 1, 1, 1, 1, 1, 1, 1, 1, 1, 1, 1, 1, 1, 1, 1, 1, 1, 1, 1, 1, 1, 1, 1, 1, 1, 1, 1, 1, 1, 1, 1, 1, 1, 1, 1, 1, 1, 1, 1, 1, 1, 1, 1, 1, 1, 1, 1, 1, 1, 1, 1, 1, 1, 2, 2, 2, 2, 2, 2, 2, 2, 2, 2, 2, 2, 2, 2, 2, 2, 2, 2, 2, 2, 2, 2, 2, 2, 2, 2, 2, 2, 2, 2, 2, 2, 2, 2, 2, 2, 2, 2, 2, 2, 2, 2, 2, 2, 2, 2, 2, 2, 2, 2, 2, 2, 2, 2, 2, 2, 2, 2, 2, 2, 2, 2, 2, 2, 2, 2, 2, 2, 2, 2, 2, 2, 2, 2, 2, 2, 2, 2, 2, 2, 2, 2, 2, 2, 2, 2, 2, 2, 2, 2, 2, 2, 2, 2, 2, 2, 2, 2, 2, 2, 2, 2, 2, 2, 2, 2, 2, 2, 2, 2, 2, 2, 2, 2, 2, 2, 2, 2, 2, 2, 2, 2, 2, 2, 2, 2, 2, 2, 2, 2, 2, 2, 2, 2, 2, 2, 2, 2, 2, 2, 2, 2, 2, 2, 2, 2, 2, 2, 2, 2, 2, 2, 2, 2, 2, 2, 2, 2, 2, 2, 2, 2, 2, 2, 2, 2, 2, 2, 2, 2, 2, 2, 2, 2, 2, 2, 2, 2, 2, 2, 2, 2, 2, 2, 2, 2, 2, 2, 2, 2, 2, 2, 2, 2, 2, 2, 2, 2, 2, 2, 2, 2, 2, 2, 2, 2, 2, 2, 2, 2, 2, 2, 2, 2, 2, 2, 2, 2, 2, 2, 2, 2, 2, 2, 2, 2, 2, 2, 2, 2, 2, 2, 2, 2, 2, 2, 2, 2, 2, 2, 3, 3, 3, 3, 3, 3, 3, 3, 3, 3, 3, 3, 3, 3, 3, 3, 3, 3, 3, 3, 3, 3, 3, 3, 3, 3, 3, 3, 3, 3, 3, 3, 3, 3, 3, 3, 3, 3, 3, 3, 3, 3, 3, 3, 3, 3, 3, 3, 3, 3, 3, 3, 3, 3, 3, 3, 3, 3, 3, 3, 3, 3, 3, 3, 3, 3, 3, 3, 3, 3, 3, 3, 3, 3, 3, 3, 3, 3, 3, 3, 3, 3, 3, 3, 3, 3, 3, 3, 3, 3, 3, 3, 3, 3, 3, 3, 3, 3, 3, 3, 3, 3, 3, 3, 3, 3, 3, 3, 3, 3, 3, 3, 3, 3, 3, 3, 3, 3, 3, 3, 3, 3, 3, 3, 3, 3, 3, 3, 3, 3, 3, 3, 3, 3, 3, 3, 3, 3, 3, 3, 3, 3, 3, 3, 3, 3, 3, 3, 3, 3, 3, 3, 3, 3, 3, 3, 3, 3, 3, 3, 3, 3, 3, 3, 3, 3, 3, 3, 3, 3, 3, 3, 3, 3, 3, 3, 3, 3, 3, 3, 3, 3, 3, 3, 3, 3, 3, 3, 3, 3, 3, 3, 3, 3, 3, 3, 3, 3, 3, 3, 3, 3, 3, 3, 3, 3, 3, 3, 3, 3, 3, 3, 3, 3, 3, 3, 3, 3, 3, 3, 3, 3, 3, 3, 3, 3, 3, 3, 3, 3, 3, 3, 3, 3, 3, 3, 3, 3, 3, 3, 4, 4, 4, 4, 4, 4, 4, 4, 4, 4, 4, 4, 4, 4, 4, 4, 4, 4, 4, 4, 4, 4, 4, 4, 4, 4, 4, 4, 4, 4, 4, 4, 4, 4, 4, 4, 4, 4, 4, 4, 4, 4, 4, 4, 4, 4, 4, 4, 4, 4, 4, 4, 4, 4, 4, 4, 4, 4, 4, 4, 4, 4, 4, 4, 4, 4, 4, 4, 4, 4, 4, 4, 4, 4, 4, 4, 4, 4, 4, 4, 4, 4, 4, 4, 4, 4, 4, 4, 4, 4, 4, 4, 4, 4, 4, 4, 4, 4, 4, 4, 4, 4, 4, 4, 4, 4, 4, 4, 4, 4, 4, 4, 4, 4, 4, 4, 4, 4, 4, 4, 4, 4, 4, 4, 4, 4, 4, 4, 4, 4, 4, 4, 4, 4, 4, 4, 4, 4, 4, 4, 4, 4, 4, 4, 4, 4, 4, 4, 4, 4, 4, 4, 4, 4, 4, 4, 4, 4, 4, 4, 4, 4, 4, 4, 4, 4, 4, 4, 4, 4, 4, 4, 4, 4, 4, 4, 4, 4, 4, 4, 4, 4, 4, 4, 4, 4, 4, 4, 4, 4, 4, 4, 4, 4, 4, 4, 4, 4, 4, 4, 4, 4, 4, 4, 4, 4, 4, 4, 4, 4, 4, 4, 4, 4, 4, 4, 4, 4, 4, 4, 4, 4, 4, 4, 4, 4, 4, 4, 4, 4, 4, 4, 4, 4, 4, 4, 4, 4, 4, 4, 5, 5, 5, 5, 5, 5, 5, 5, 5, 5, 5, 5, 5, 5, 5, 5, 5, 5, 5, 5, 5, 5, 5, 5, 5, 5, 5, 5, 5, 5, 5, 5, 5, 5, 5, 5, 5, 5, 5, 5, 5, 5, 5, 5, 5, 5, 5, 5, 5, 5, 5, 5, 5, 5, 5, 5, 5, 5, 5, 5, 5, 5, 5, 5, 5, 5, 5, 5, 5, 5, 5, 5, 5, 5, 5, 5, 5, 5, 5, 5, 5, 5, 5, 5, 5, 5, 5, 5, 5, 5, 5, 5, 5, 5, 5, 5, 5, 5, 5, 5, 5, 5, 5, 5, 5, 5, 5, 5, 5, 5, 5, 5, 5, 5, 5, 5, 5, 5, 5, 5, 5, 5, 5, 5, 5, 5, 5, 5, 5, 5, 5, 5, 5, 5, 5, 5, 5, 5, 5, 5, 5, 5, 5, 5, 5, 5, 5, 5, 5, 5, 5, 5, 5, 5, 5, 5, 5, 5, 5, 5, 5, 5, 5, 5, 5, 5, 5, 5, 5, 5, 5, 5, 5, 5, 5, 5, 5, 5, 5, 5, 5, 5, 5, 5, 5, 5, 5, 5, 5, 5, 5, 5, 5, 5, 5, 5, 5, 5, 5, 5, 5, 5, 5, 5, 5, 5, 5, 5, 5, 5, 5, 5, 5, 5, 5, 5, 5, 5, 5, 5, 5, 5, 5, 5, 5, 5, 5, 5, 5, 5, 5, 5, 5, 5, 5, 5, 5, 5, 5, 5]\n"
          ]
        }
      ]
    },
    {
      "cell_type": "code",
      "source": [
        "X_train = x\n",
        "y_train = y"
      ],
      "metadata": {
        "id": "UvhliqOLRJby"
      },
      "execution_count": null,
      "outputs": []
    },
    {
      "cell_type": "code",
      "source": [
        "dataset1 = pd.read_csv('GLCM_test.csv')\n",
        "print(dataset1)"
      ],
      "metadata": {
        "colab": {
          "base_uri": "https://localhost:8080/"
        },
        "id": "OKPzIOcfRUGw",
        "outputId": "63675977-0e8b-48bc-f8d0-bc04e0a7c5b6"
      },
      "execution_count": null,
      "outputs": [
        {
          "output_type": "stream",
          "name": "stdout",
          "text": [
            "     Unnamed: 0    Energy      Corr   Diss_sim   Homogen    Contrast  \\\n",
            "0             0  0.014085  0.748947  15.308317  0.063230  375.439874   \n",
            "1             0  0.013354  0.812510  14.557965  0.068531  341.479372   \n",
            "2             0  0.013476  0.759687  15.553065  0.063098  390.181206   \n",
            "3             0  0.013039  0.771689  15.981709  0.062617  409.665628   \n",
            "4             0  0.013783  0.757698  15.442638  0.064622  387.517764   \n",
            "..          ...       ...       ...        ...       ...         ...   \n",
            "355           0  0.062155  0.995837   1.575452  0.488198    5.920075   \n",
            "356           0  0.067211  0.985235   1.432513  0.498722    4.875427   \n",
            "357           0  0.055791  0.988033   2.337362  0.355444   10.801583   \n",
            "358           0  0.046354  0.989063   2.493492  0.373817   19.243593   \n",
            "359           0  0.055859  0.979090   2.404749  0.356955   14.151985   \n",
            "\n",
            "      Energy2     Corr2  Diss_sim2  Homogen2  ...   Energy4  Corr4  Diss_sim4  \\\n",
            "0    0.012467  0.446429  22.532995  0.044155  ...  0.103558    1.0        0.0   \n",
            "1    0.011849  0.607541  20.839543  0.048530  ...  0.096566    1.0        0.0   \n",
            "2    0.011937  0.475017  22.796701  0.044843  ...  0.100087    1.0        0.0   \n",
            "3    0.011519  0.488173  23.654162  0.042825  ...  0.097640    1.0        0.0   \n",
            "4    0.012142  0.450002  22.986954  0.045123  ...  0.101432    1.0        0.0   \n",
            "..        ...       ...        ...       ...  ...       ...    ...        ...   \n",
            "355  0.049038  0.985219   2.781472  0.346212  ...  0.145807    1.0        0.0   \n",
            "356  0.054696  0.951457   2.321548  0.366321  ...  0.162806    1.0        0.0   \n",
            "357  0.042696  0.954985   4.320914  0.223368  ...  0.167867    1.0        0.0   \n",
            "358  0.036690  0.948742   4.702665  0.256342  ...  0.133851    1.0        0.0   \n",
            "359  0.044111  0.925030   4.182614  0.239788  ...  0.166927    1.0        0.0   \n",
            "\n",
            "     Homogen4  Contrast4   Energy5  Corr5  Diss_sim5  Homogen5  Contrast5  \n",
            "0         1.0        0.0  0.103558    1.0        0.0       1.0        0.0  \n",
            "1         1.0        0.0  0.096566    1.0        0.0       1.0        0.0  \n",
            "2         1.0        0.0  0.100087    1.0        0.0       1.0        0.0  \n",
            "3         1.0        0.0  0.097640    1.0        0.0       1.0        0.0  \n",
            "4         1.0        0.0  0.101432    1.0        0.0       1.0        0.0  \n",
            "..        ...        ...       ...    ...        ...       ...        ...  \n",
            "355       1.0        0.0  0.145807    1.0        0.0       1.0        0.0  \n",
            "356       1.0        0.0  0.162806    1.0        0.0       1.0        0.0  \n",
            "357       1.0        0.0  0.167867    1.0        0.0       1.0        0.0  \n",
            "358       1.0        0.0  0.133851    1.0        0.0       1.0        0.0  \n",
            "359       1.0        0.0  0.166927    1.0        0.0       1.0        0.0  \n",
            "\n",
            "[360 rows x 26 columns]\n"
          ]
        }
      ]
    },
    {
      "cell_type": "code",
      "source": [
        "x = dataset1.iloc[:,1:].values\n",
        "print(len(x[0]))"
      ],
      "metadata": {
        "colab": {
          "base_uri": "https://localhost:8080/"
        },
        "id": "j4-y-ob3RrM8",
        "outputId": "9a8f5371-73f4-4fa9-966a-57b3712a1912"
      },
      "execution_count": null,
      "outputs": [
        {
          "output_type": "stream",
          "name": "stdout",
          "text": [
            "25\n"
          ]
        }
      ]
    },
    {
      "cell_type": "code",
      "source": [
        "print(x)\n",
        "print(x[0])"
      ],
      "metadata": {
        "colab": {
          "base_uri": "https://localhost:8080/"
        },
        "id": "y9YOWDpLRu7c",
        "outputId": "3d4fbedf-f17c-4568-8f24-21558d3dd1b7"
      },
      "execution_count": null,
      "outputs": [
        {
          "output_type": "stream",
          "name": "stdout",
          "text": [
            "[[1.40851053e-02 7.48946716e-01 1.53083166e+01 ... 0.00000000e+00\n",
            "  1.00000000e+00 0.00000000e+00]\n",
            " [1.33542182e-02 8.12510406e-01 1.45579648e+01 ... 0.00000000e+00\n",
            "  1.00000000e+00 0.00000000e+00]\n",
            " [1.34756312e-02 7.59686590e-01 1.55530653e+01 ... 0.00000000e+00\n",
            "  1.00000000e+00 0.00000000e+00]\n",
            " ...\n",
            " [5.57906864e-02 9.88033099e-01 2.33736181e+00 ... 0.00000000e+00\n",
            "  1.00000000e+00 0.00000000e+00]\n",
            " [4.63544075e-02 9.89062761e-01 2.49349246e+00 ... 0.00000000e+00\n",
            "  1.00000000e+00 0.00000000e+00]\n",
            " [5.58592725e-02 9.79089631e-01 2.40474874e+00 ... 0.00000000e+00\n",
            "  1.00000000e+00 0.00000000e+00]]\n",
            "[1.40851053e-02 7.48946716e-01 1.53083166e+01 6.32298821e-02\n",
            " 3.75439874e+02 1.24673812e-02 4.46428662e-01 2.25329949e+01\n",
            " 4.41550228e-02 8.24729797e+02 1.22837374e-02 3.11786677e-01\n",
            " 2.48204615e+01 4.11062064e-02 1.01926036e+03 1.03558027e-01\n",
            " 1.00000000e+00 0.00000000e+00 1.00000000e+00 0.00000000e+00\n",
            " 1.03558027e-01 1.00000000e+00 0.00000000e+00 1.00000000e+00\n",
            " 0.00000000e+00]\n"
          ]
        }
      ]
    },
    {
      "cell_type": "code",
      "source": [
        "print(len(x))"
      ],
      "metadata": {
        "colab": {
          "base_uri": "https://localhost:8080/"
        },
        "id": "PxbqLuGZRzOG",
        "outputId": "665d03c6-172e-4533-dd2f-e80f1163d946"
      },
      "execution_count": null,
      "outputs": [
        {
          "output_type": "stream",
          "name": "stdout",
          "text": [
            "360\n"
          ]
        }
      ]
    },
    {
      "cell_type": "code",
      "source": [
        "y = list()"
      ],
      "metadata": {
        "id": "8EI_d01dR_Z8"
      },
      "execution_count": null,
      "outputs": []
    },
    {
      "cell_type": "code",
      "source": [
        "for i in range(0,6) :\n",
        "    for j in range(0,60):\n",
        "        y.append(i)\n"
      ],
      "metadata": {
        "id": "zjGTQusQR8OT"
      },
      "execution_count": null,
      "outputs": []
    },
    {
      "cell_type": "code",
      "source": [
        "X_test = x\n",
        "y_test = y"
      ],
      "metadata": {
        "id": "fbpuLVcTSDC5"
      },
      "execution_count": null,
      "outputs": []
    },
    {
      "cell_type": "code",
      "source": [
        "print(len(X_train))\n",
        "print(len(X_test))\n",
        "print(len(y_train))\n",
        "print(len(y_test))"
      ],
      "metadata": {
        "colab": {
          "base_uri": "https://localhost:8080/"
        },
        "id": "oHfsc7DcSHMM",
        "outputId": "d5cc2e9b-c6a7-47c7-cd86-32d1099aa5d3"
      },
      "execution_count": null,
      "outputs": [
        {
          "output_type": "stream",
          "name": "stdout",
          "text": [
            "1440\n",
            "360\n",
            "1440\n",
            "360\n"
          ]
        }
      ]
    },
    {
      "cell_type": "code",
      "source": [
        "X_train=np.array(X_train)\n",
        "y_train=np.array(y_train)\n",
        "X_test=np.array(X_test)\n",
        "y_test=np.array(y_test)"
      ],
      "metadata": {
        "id": "5UGEkAclSUVC"
      },
      "execution_count": null,
      "outputs": []
    },
    {
      "cell_type": "code",
      "source": [
        "print ('Train set:', X_train.shape,  y_train.shape)\n",
        "print ('Test set:', X_test.shape,  y_test.shape)"
      ],
      "metadata": {
        "colab": {
          "base_uri": "https://localhost:8080/"
        },
        "id": "w6Hsckn3SY3M",
        "outputId": "093e32f0-f4fa-4399-84a9-7451658206b0"
      },
      "execution_count": null,
      "outputs": [
        {
          "output_type": "stream",
          "name": "stdout",
          "text": [
            "Train set: (1440, 25) (1440,)\n",
            "Test set: (360, 25) (360,)\n"
          ]
        }
      ]
    },
    {
      "cell_type": "code",
      "source": [
        "nsamples, nx = X_train.shape\n",
        "X_train = X_train.reshape((nsamples,nx))"
      ],
      "metadata": {
        "id": "qktya8lBSZ3a"
      },
      "execution_count": null,
      "outputs": []
    },
    {
      "cell_type": "code",
      "source": [
        "print(X_train.shape)"
      ],
      "metadata": {
        "colab": {
          "base_uri": "https://localhost:8080/"
        },
        "id": "BiXq0NhtSbx7",
        "outputId": "5a5f8ce7-f585-4d9e-b443-6a8e21466cfe"
      },
      "execution_count": null,
      "outputs": [
        {
          "output_type": "stream",
          "name": "stdout",
          "text": [
            "(1440, 25)\n"
          ]
        }
      ]
    },
    {
      "cell_type": "code",
      "source": [
        "nsamples, nx = X_test.shape\n",
        "X_test = X_test.reshape((nsamples,nx))"
      ],
      "metadata": {
        "id": "WsphffhyScs8"
      },
      "execution_count": null,
      "outputs": []
    },
    {
      "cell_type": "code",
      "source": [
        "print(X_test.shape)"
      ],
      "metadata": {
        "colab": {
          "base_uri": "https://localhost:8080/"
        },
        "id": "xl5IHifZSdmj",
        "outputId": "be639781-f018-45da-ab6f-def16dfacf36"
      },
      "execution_count": null,
      "outputs": [
        {
          "output_type": "stream",
          "name": "stdout",
          "text": [
            "(360, 25)\n"
          ]
        }
      ]
    },
    {
      "cell_type": "code",
      "source": [
        "from sklearn.neighbors import KNeighborsClassifier \n",
        "from sklearn import metrics"
      ],
      "metadata": {
        "id": "J9u8NKGUVIc7"
      },
      "execution_count": null,
      "outputs": []
    },
    {
      "cell_type": "code",
      "source": [
        "train_accuracy = list()\n",
        "test_accuracy = list()\n",
        "k_value = list()"
      ],
      "metadata": {
        "id": "myS-2999XH0T"
      },
      "execution_count": null,
      "outputs": []
    },
    {
      "cell_type": "code",
      "source": [
        "\n",
        "for k in range(1,101,2):\n",
        "    knn= KNeighborsClassifier(n_neighbors=k)\n",
        "    knn.fit(X_train,y_train)\n",
        "    y_pred=knn.predict(X_train)\n",
        "    y_pred_test = knn.predict(X_test)\n",
        "\n",
        "    # print(metrics.accuracy_score(y_test, y_pred_test))\n",
        "    # print(confusion_matrix(y_test, y_pred_test))\n",
        "    # print(classification_report(y_test,y_pred_test))\n",
        "    k_value.append(k)\n",
        "    train_accuracy.append((metrics.accuracy_score(y_train, y_pred)))\n",
        "    test_accuracy.append(metrics.accuracy_score(y_test, y_pred_test))\n"
      ],
      "metadata": {
        "id": "3CsZ71McXI1M"
      },
      "execution_count": null,
      "outputs": []
    },
    {
      "cell_type": "code",
      "source": [
        "print(train_accuracy)\n",
        "print(test_accuracy)\n",
        "print(k_value)"
      ],
      "metadata": {
        "colab": {
          "base_uri": "https://localhost:8080/"
        },
        "id": "Pzul7J64XJ0V",
        "outputId": "ac882565-d64e-4d98-cf95-aa1af9e4c9e1"
      },
      "execution_count": null,
      "outputs": [
        {
          "output_type": "stream",
          "name": "stdout",
          "text": [
            "[1.0, 0.9118055555555555, 0.8875, 0.8784722222222222, 0.8618055555555556, 0.8458333333333333, 0.8291666666666667, 0.8229166666666666, 0.8222222222222222, 0.81875, 0.8138888888888889, 0.8083333333333333, 0.8048611111111111, 0.7979166666666667, 0.7930555555555555, 0.7916666666666666, 0.7916666666666666, 0.7854166666666667, 0.7833333333333333, 0.7777777777777778, 0.775, 0.7729166666666667, 0.7673611111111112, 0.7638888888888888, 0.7569444444444444, 0.7506944444444444, 0.7465277777777778, 0.7430555555555556, 0.7402777777777778, 0.7340277777777777, 0.7277777777777777, 0.7277777777777777, 0.7215277777777778, 0.7222222222222222, 0.7152777777777778, 0.7104166666666667, 0.7090277777777778, 0.7020833333333333, 0.6944444444444444, 0.6861111111111111, 0.6819444444444445, 0.6722222222222223, 0.6708333333333333, 0.6708333333333333, 0.6645833333333333, 0.6583333333333333, 0.6506944444444445, 0.6444444444444445, 0.6402777777777777, 0.6381944444444444]\n",
            "[0.7333333333333333, 0.725, 0.7111111111111111, 0.7111111111111111, 0.7055555555555556, 0.7, 0.6833333333333333, 0.6805555555555556, 0.6888888888888889, 0.6861111111111111, 0.6861111111111111, 0.6833333333333333, 0.6777777777777778, 0.675, 0.6805555555555556, 0.6805555555555556, 0.6777777777777778, 0.6722222222222223, 0.6694444444444444, 0.6722222222222223, 0.6722222222222223, 0.6722222222222223, 0.675, 0.6694444444444444, 0.6611111111111111, 0.6527777777777778, 0.6527777777777778, 0.65, 0.6472222222222223, 0.6472222222222223, 0.65, 0.6416666666666667, 0.6472222222222223, 0.6472222222222223, 0.65, 0.6527777777777778, 0.65, 0.6416666666666667, 0.6416666666666667, 0.6361111111111111, 0.6333333333333333, 0.625, 0.6194444444444445, 0.6138888888888889, 0.6111111111111112, 0.6055555555555555, 0.6, 0.5972222222222222, 0.6055555555555555, 0.6083333333333333]\n",
            "[1, 3, 5, 7, 9, 11, 13, 15, 17, 19, 21, 23, 25, 27, 29, 31, 33, 35, 37, 39, 41, 43, 45, 47, 49, 51, 53, 55, 57, 59, 61, 63, 65, 67, 69, 71, 73, 75, 77, 79, 81, 83, 85, 87, 89, 91, 93, 95, 97, 99]\n"
          ]
        }
      ]
    },
    {
      "cell_type": "code",
      "source": [
        "plt.plot(k_value, train_accuracy, 'g', label='Training Accuracy')\n",
        "plt.plot(k_value, test_accuracy, 'b', label='Testing Accuracy')\n",
        "plt.title('Training and Testing Accuracy')\n",
        "plt.xlabel('K')\n",
        "plt.ylabel('Accuracy')\n",
        "plt.legend()\n",
        "plt.show()"
      ],
      "metadata": {
        "colab": {
          "base_uri": "https://localhost:8080/",
          "height": 295
        },
        "id": "p5o1VK-MXK3t",
        "outputId": "0cedf5ea-f586-48a6-dc82-11ee58bcb41d"
      },
      "execution_count": null,
      "outputs": [
        {
          "output_type": "display_data",
          "data": {
            "text/plain": [
              "<Figure size 432x288 with 1 Axes>"
            ],
            "image/png": "[encoded data removed]"
          },
          "metadata": {
            "needs_background": "light"
          }
        }
      ]
    },
    {
      "cell_type": "code",
      "source": [
        "knn= KNeighborsClassifier(n_neighbors=3)\n",
        "knn.fit(X_train,y_train)\n",
        "y_pred=knn.predict(X_train)\n",
        "y_pred_test = knn.predict(X_test)\n",
        "\n",
        "print(metrics.accuracy_score(y_test, y_pred_test))\n",
        "print(confusion_matrix(y_test, y_pred_test))\n",
        "print(classification_report(y_test,y_pred_test))"
      ],
      "metadata": {
        "colab": {
          "base_uri": "https://localhost:8080/"
        },
        "id": "xaE2-RssXq8f",
        "outputId": "ce39086b-e24e-48c1-8293-e26f082ca2d4"
      },
      "execution_count": null,
      "outputs": [
        {
          "output_type": "stream",
          "name": "stdout",
          "text": [
            "0.725\n",
            "[[59  0  1  0  0  0]\n",
            " [ 0 52  0  6  0  2]\n",
            " [10  0 47  0  3  0]\n",
            " [ 8  5  1 36  0 10]\n",
            " [ 0  0  0  0 58  2]\n",
            " [ 0 51  0  0  0  9]]\n",
            "              precision    recall  f1-score   support\n",
            "\n",
            "           0       0.77      0.98      0.86        60\n",
            "           1       0.48      0.87      0.62        60\n",
            "           2       0.96      0.78      0.86        60\n",
            "           3       0.86      0.60      0.71        60\n",
            "           4       0.95      0.97      0.96        60\n",
            "           5       0.39      0.15      0.22        60\n",
            "\n",
            "    accuracy                           0.73       360\n",
            "   macro avg       0.73      0.73      0.70       360\n",
            "weighted avg       0.73      0.72      0.70       360\n",
            "\n"
          ]
        }
      ]
    },
    {
      "cell_type": "code",
      "source": [
        ""
      ],
      "metadata": {
        "id": "-Sinu5PIX5nL"
      },
      "execution_count": null,
      "outputs": []
    }
  ]
}