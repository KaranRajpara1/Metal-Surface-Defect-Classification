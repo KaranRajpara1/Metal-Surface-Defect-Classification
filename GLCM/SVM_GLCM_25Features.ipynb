{
  "nbformat": 4,
  "nbformat_minor": 0,
  "metadata": {
    "colab": {
      "name": "Project_24.ipynb",
      "provenance": []
    },
    "kernelspec": {
      "name": "python3",
      "display_name": "Python 3"
    },
    "language_info": {
      "name": "python"
    }
  },
  "cells": [
    {
      "cell_type": "markdown",
      "source": [
        "SVM\n",
        "Feature Extraction Method: GLCM\n",
        "Features Taken with distance = 1,3,5, angle = 45,90 (total 25 features)"
      ],
      "metadata": {
        "id": "1TYhaw4CTb5R"
      }
    },
    {
      "cell_type": "code",
      "execution_count": null,
      "metadata": {
        "id": "IMBKkk8pOgQf"
      },
      "outputs": [],
      "source": [
        "from google.colab import drive"
      ]
    },
    {
      "cell_type": "code",
      "source": [
        "drive.mount('/content/drive')"
      ],
      "metadata": {
        "colab": {
          "base_uri": "https://localhost:8080/"
        },
        "id": "CQw3ZZWIOubz",
        "outputId": "7e6ec61b-b7b0-46ae-f937-358a589834f8"
      },
      "execution_count": null,
      "outputs": [
        {
          "output_type": "stream",
          "name": "stdout",
          "text": [
            "Mounted at /content/drive\n"
          ]
        }
      ]
    },
    {
      "cell_type": "code",
      "source": [
        "cd /content/drive/\"MyDrive/Machine Learning/GLCM\""
      ],
      "metadata": {
        "colab": {
          "base_uri": "https://localhost:8080/"
        },
        "id": "cgnc0JB4PUpV",
        "outputId": "adf95832-5f1b-49cd-8314-7b3dde46cfbe"
      },
      "execution_count": null,
      "outputs": [
        {
          "output_type": "stream",
          "name": "stdout",
          "text": [
            "/content/drive/MyDrive/Machine Learning/GLCM\n"
          ]
        }
      ]
    },
    {
      "cell_type": "code",
      "source": [
        "import pandas as pd\n",
        "import numpy as np\n",
        "import matplotlib.pyplot as plt\n",
        "from sklearn.model_selection import train_test_split\n",
        "import glob\n",
        "import cv2\n",
        "from sklearn.ensemble import RandomForestClassifier\n",
        "from sklearn import metrics\n",
        "from sklearn import svm\n",
        "from sklearn.metrics import classification_report, confusion_matrix\n",
        "import itertools\n",
        "from skimage.filters import sobel\n",
        "from skimage.feature import greycomatrix, greycoprops\n",
        "import time"
      ],
      "metadata": {
        "id": "ZoDpv16mOva4"
      },
      "execution_count": null,
      "outputs": []
    },
    {
      "cell_type": "code",
      "source": [
        "X_train = list()\n",
        "X_test = list()\n",
        "y_train = list()\n",
        "y_test = list()\n",
        "\n",
        "# for k fold cross validation\n",
        "x_new = list()\n",
        "y_new = list()"
      ],
      "metadata": {
        "id": "CN1HOcsTO5R9"
      },
      "execution_count": null,
      "outputs": []
    },
    {
      "cell_type": "code",
      "source": [
        "# 0 = crazing \n",
        "# 1 = inclusion\n",
        "# 2 = patches\n",
        "# 3 = pitted_surface\n",
        "# 4 = rolled in scale\n",
        "# 5 = scratches"
      ],
      "metadata": {
        "id": "2SU6a4DnO8tx"
      },
      "execution_count": null,
      "outputs": []
    },
    {
      "cell_type": "code",
      "source": [
        "dataset1 = pd.read_csv('GLCM_train.csv')\n",
        "print(dataset1)"
      ],
      "metadata": {
        "colab": {
          "base_uri": "https://localhost:8080/"
        },
        "id": "G5zmMTiRPBRy",
        "outputId": "d1eb2126-44e2-4ac8-8626-3c44a2834aa5"
      },
      "execution_count": null,
      "outputs": [
        {
          "output_type": "stream",
          "name": "stdout",
          "text": [
            "      Unnamed: 0    Energy      Corr   Diss_sim   Homogen    Contrast  \\\n",
            "0              0  0.014224  0.725731  15.456080  0.063373  383.715930   \n",
            "1              0  0.015558  0.778272  12.804573  0.076365  263.964171   \n",
            "2              0  0.015120  0.746263  13.894296  0.069790  310.096910   \n",
            "3              0  0.016114  0.719193  13.510452  0.071717  292.011709   \n",
            "4              0  0.013543  0.787991  14.764347  0.066498  351.571382   \n",
            "...          ...       ...       ...        ...       ...         ...   \n",
            "1435           0  0.033905  0.971425   3.316633  0.292426   22.962261   \n",
            "1436           0  0.058558  0.959366   2.681734  0.485881   48.285804   \n",
            "1437           0  0.047101  0.983943   2.665603  0.434930   30.869422   \n",
            "1438           0  0.052825  0.987204   3.837789  0.358781   61.731910   \n",
            "1439           0  0.052105  0.966701   3.046206  0.392387   38.874296   \n",
            "\n",
            "       Energy2     Corr2  Diss_sim2  Homogen2  ...   Energy4  Corr4  \\\n",
            "0     0.012683  0.395795  22.695406  0.044695  ...  0.105232    1.0   \n",
            "1     0.013689  0.532007  18.470305  0.054047  ...  0.107451    1.0   \n",
            "2     0.013502  0.488098  19.576853  0.051071  ...  0.107443    1.0   \n",
            "3     0.014400  0.418449  19.309518  0.052188  ...  0.113047    1.0   \n",
            "4     0.011767  0.515696  22.175660  0.045302  ...  0.098454    1.0   \n",
            "...        ...       ...        ...       ...  ...       ...    ...   \n",
            "1435  0.028393  0.932634   4.949340  0.214864  ...  0.118031    1.0   \n",
            "1436  0.046291  0.799489   5.660381  0.331171  ...  0.136424    1.0   \n",
            "1437  0.036447  0.913482   5.835431  0.289870  ...  0.117314    1.0   \n",
            "1438  0.040471  0.929155   8.684949  0.226254  ...  0.128840    1.0   \n",
            "1439  0.042811  0.879766   5.305406  0.279443  ...  0.140307    1.0   \n",
            "\n",
            "      Diss_sim4  Homogen4  Contrast4   Energy5  Corr5  Diss_sim5  Homogen5  \\\n",
            "0           0.0       1.0        0.0  0.105232    1.0        0.0       1.0   \n",
            "1           0.0       1.0        0.0  0.107451    1.0        0.0       1.0   \n",
            "2           0.0       1.0        0.0  0.107443    1.0        0.0       1.0   \n",
            "3           0.0       1.0        0.0  0.113047    1.0        0.0       1.0   \n",
            "4           0.0       1.0        0.0  0.098454    1.0        0.0       1.0   \n",
            "...         ...       ...        ...       ...    ...        ...       ...   \n",
            "1435        0.0       1.0        0.0  0.118031    1.0        0.0       1.0   \n",
            "1436        0.0       1.0        0.0  0.136424    1.0        0.0       1.0   \n",
            "1437        0.0       1.0        0.0  0.117314    1.0        0.0       1.0   \n",
            "1438        0.0       1.0        0.0  0.128840    1.0        0.0       1.0   \n",
            "1439        0.0       1.0        0.0  0.140307    1.0        0.0       1.0   \n",
            "\n",
            "      Contrast5  \n",
            "0           0.0  \n",
            "1           0.0  \n",
            "2           0.0  \n",
            "3           0.0  \n",
            "4           0.0  \n",
            "...         ...  \n",
            "1435        0.0  \n",
            "1436        0.0  \n",
            "1437        0.0  \n",
            "1438        0.0  \n",
            "1439        0.0  \n",
            "\n",
            "[1440 rows x 26 columns]\n"
          ]
        }
      ]
    },
    {
      "cell_type": "code",
      "source": [
        "x = dataset1.iloc[:,1:].values\n",
        "print(len(x[0]))"
      ],
      "metadata": {
        "colab": {
          "base_uri": "https://localhost:8080/"
        },
        "id": "uxaFqQqHQCTL",
        "outputId": "eaf7ac4d-da95-4c94-db69-313dad46289f"
      },
      "execution_count": null,
      "outputs": [
        {
          "output_type": "stream",
          "name": "stdout",
          "text": [
            "25\n"
          ]
        }
      ]
    },
    {
      "cell_type": "code",
      "source": [
        "print(x)"
      ],
      "metadata": {
        "colab": {
          "base_uri": "https://localhost:8080/"
        },
        "id": "rGMlJ3SiQVKX",
        "outputId": "e38a7f43-a56f-4b63-8cb2-7ba24f23de5e"
      },
      "execution_count": null,
      "outputs": [
        {
          "output_type": "stream",
          "name": "stdout",
          "text": [
            "[[1.42235469e-02 7.25731266e-01 1.54560804e+01 ... 0.00000000e+00\n",
            "  1.00000000e+00 0.00000000e+00]\n",
            " [1.55583846e-02 7.78271956e-01 1.28045729e+01 ... 0.00000000e+00\n",
            "  1.00000000e+00 0.00000000e+00]\n",
            " [1.51195333e-02 7.46262736e-01 1.38942965e+01 ... 0.00000000e+00\n",
            "  1.00000000e+00 0.00000000e+00]\n",
            " ...\n",
            " [4.71007360e-02 9.83943252e-01 2.66560302e+00 ... 0.00000000e+00\n",
            "  1.00000000e+00 0.00000000e+00]\n",
            " [5.28245045e-02 9.87203605e-01 3.83778894e+00 ... 0.00000000e+00\n",
            "  1.00000000e+00 0.00000000e+00]\n",
            " [5.21048101e-02 9.66701159e-01 3.04620603e+00 ... 0.00000000e+00\n",
            "  1.00000000e+00 0.00000000e+00]]\n"
          ]
        }
      ]
    },
    {
      "cell_type": "code",
      "source": [
        "print(x[0])"
      ],
      "metadata": {
        "colab": {
          "base_uri": "https://localhost:8080/"
        },
        "id": "yuge5Jq7QY6D",
        "outputId": "5c18caed-b943-4fc8-aa42-ec6c6940fbb8"
      },
      "execution_count": null,
      "outputs": [
        {
          "output_type": "stream",
          "name": "stdout",
          "text": [
            "[1.42235469e-02 7.25731266e-01 1.54560804e+01 6.33728906e-02\n",
            " 3.83715930e+02 1.26830436e-02 3.95794743e-01 2.26954061e+01\n",
            " 4.46945403e-02 8.42411802e+02 1.24517214e-02 2.71204228e-01\n",
            " 2.48634103e+01 3.97342203e-02 1.01318356e+03 1.05232297e-01\n",
            " 1.00000000e+00 0.00000000e+00 1.00000000e+00 0.00000000e+00\n",
            " 1.05232297e-01 1.00000000e+00 0.00000000e+00 1.00000000e+00\n",
            " 0.00000000e+00]\n"
          ]
        }
      ]
    },
    {
      "cell_type": "code",
      "source": [
        "print(len(x))"
      ],
      "metadata": {
        "colab": {
          "base_uri": "https://localhost:8080/"
        },
        "id": "m76dWWx6QvzV",
        "outputId": "2911f905-d064-4e9b-cd09-b7e01eb9b100"
      },
      "execution_count": null,
      "outputs": [
        {
          "output_type": "stream",
          "name": "stdout",
          "text": [
            "1440\n"
          ]
        }
      ]
    },
    {
      "cell_type": "code",
      "source": [
        "y = list()"
      ],
      "metadata": {
        "id": "dztpDFUrQfja"
      },
      "execution_count": null,
      "outputs": []
    },
    {
      "cell_type": "code",
      "source": [
        "for i in range(0,6) :\n",
        "    for j in range(0,240):\n",
        "        y.append(i)\n"
      ],
      "metadata": {
        "id": "OMKN81jDQrkX"
      },
      "execution_count": null,
      "outputs": []
    },
    {
      "cell_type": "code",
      "source": [
        "print(y)"
      ],
      "metadata": {
        "colab": {
          "base_uri": "https://localhost:8080/"
        },
        "id": "jcvrJiINRIyW",
        "outputId": "08611098-4fe0-4d73-b9b9-b4f93fd8232b"
      },
      "execution_count": null,
      "outputs": [
        {
          "output_type": "stream",
          "name": "stdout",
          "text": [
            "[0, 0, 0, 0, 0, 0, 0, 0, 0, 0, 0, 0, 0, 0, 0, 0, 0, 0, 0, 0, 0, 0, 0, 0, 0, 0, 0, 0, 0, 0, 0, 0, 0, 0, 0, 0, 0, 0, 0, 0, 0, 0, 0, 0, 0, 0, 0, 0, 0, 0, 0, 0, 0, 0, 0, 0, 0, 0, 0, 0, 0, 0, 0, 0, 0, 0, 0, 0, 0, 0, 0, 0, 0, 0, 0, 0, 0, 0, 0, 0, 0, 0, 0, 0, 0, 0, 0, 0, 0, 0, 0, 0, 0, 0, 0, 0, 0, 0, 0, 0, 0, 0, 0, 0, 0, 0, 0, 0, 0, 0, 0, 0, 0, 0, 0, 0, 0, 0, 0, 0, 0, 0, 0, 0, 0, 0, 0, 0, 0, 0, 0, 0, 0, 0, 0, 0, 0, 0, 0, 0, 0, 0, 0, 0, 0, 0, 0, 0, 0, 0, 0, 0, 0, 0, 0, 0, 0, 0, 0, 0, 0, 0, 0, 0, 0, 0, 0, 0, 0, 0, 0, 0, 0, 0, 0, 0, 0, 0, 0, 0, 0, 0, 0, 0, 0, 0, 0, 0, 0, 0, 0, 0, 0, 0, 0, 0, 0, 0, 0, 0, 0, 0, 0, 0, 0, 0, 0, 0, 0, 0, 0, 0, 0, 0, 0, 0, 0, 0, 0, 0, 0, 0, 0, 0, 0, 0, 0, 0, 0, 0, 0, 0, 0, 0, 0, 0, 0, 0, 0, 0, 1, 1, 1, 1, 1, 1, 1, 1, 1, 1, 1, 1, 1, 1, 1, 1, 1, 1, 1, 1, 1, 1, 1, 1, 1, 1, 1, 1, 1, 1, 1, 1, 1, 1, 1, 1, 1, 1, 1, 1, 1, 1, 1, 1, 1, 1, 1, 1, 1, 1, 1, 1, 1, 1, 1, 1, 1, 1, 1, 1, 1, 1, 1, 1, 1, 1, 1, 1, 1, 1, 1, 1, 1, 1, 1, 1, 1, 1, 1, 1, 1, 1, 1, 1, 1, 1, 1, 1, 1, 1, 1, 1, 1, 1, 1, 1, 1, 1, 1, 1, 1, 1, 1, 1, 1, 1, 1, 1, 1, 1, 1, 1, 1, 1, 1, 1, 1, 1, 1, 1, 1, 1, 1, 1, 1, 1, 1, 1, 1, 1, 1, 1, 1, 1, 1, 1, 1, 1, 1, 1, 1, 1, 1, 1, 1, 1, 1, 1, 1, 1, 1, 1, 1, 1, 1, 1, 1, 1, 1, 1, 1, 1, 1, 1, 1, 1, 1, 1, 1, 1, 1, 1, 1, 1, 1, 1, 1, 1, 1, 1, 1, 1, 1, 1, 1, 1, 1, 1, 1, 1, 1, 1, 1, 1, 1, 1, 1, 1, 1, 1, 1, 1, 1, 1, 1, 1, 1, 1, 1, 1, 1, 1, 1, 1, 1, 1, 1, 1, 1, 1, 1, 1, 1, 1, 1, 1, 1, 1, 1, 1, 1, 1, 1, 1, 1, 1, 1, 1, 1, 1, 2, 2, 2, 2, 2, 2, 2, 2, 2, 2, 2, 2, 2, 2, 2, 2, 2, 2, 2, 2, 2, 2, 2, 2, 2, 2, 2, 2, 2, 2, 2, 2, 2, 2, 2, 2, 2, 2, 2, 2, 2, 2, 2, 2, 2, 2, 2, 2, 2, 2, 2, 2, 2, 2, 2, 2, 2, 2, 2, 2, 2, 2, 2, 2, 2, 2, 2, 2, 2, 2, 2, 2, 2, 2, 2, 2, 2, 2, 2, 2, 2, 2, 2, 2, 2, 2, 2, 2, 2, 2, 2, 2, 2, 2, 2, 2, 2, 2, 2, 2, 2, 2, 2, 2, 2, 2, 2, 2, 2, 2, 2, 2, 2, 2, 2, 2, 2, 2, 2, 2, 2, 2, 2, 2, 2, 2, 2, 2, 2, 2, 2, 2, 2, 2, 2, 2, 2, 2, 2, 2, 2, 2, 2, 2, 2, 2, 2, 2, 2, 2, 2, 2, 2, 2, 2, 2, 2, 2, 2, 2, 2, 2, 2, 2, 2, 2, 2, 2, 2, 2, 2, 2, 2, 2, 2, 2, 2, 2, 2, 2, 2, 2, 2, 2, 2, 2, 2, 2, 2, 2, 2, 2, 2, 2, 2, 2, 2, 2, 2, 2, 2, 2, 2, 2, 2, 2, 2, 2, 2, 2, 2, 2, 2, 2, 2, 2, 2, 2, 2, 2, 2, 2, 2, 2, 2, 2, 2, 2, 2, 2, 2, 2, 2, 2, 2, 2, 2, 2, 2, 2, 3, 3, 3, 3, 3, 3, 3, 3, 3, 3, 3, 3, 3, 3, 3, 3, 3, 3, 3, 3, 3, 3, 3, 3, 3, 3, 3, 3, 3, 3, 3, 3, 3, 3, 3, 3, 3, 3, 3, 3, 3, 3, 3, 3, 3, 3, 3, 3, 3, 3, 3, 3, 3, 3, 3, 3, 3, 3, 3, 3, 3, 3, 3, 3, 3, 3, 3, 3, 3, 3, 3, 3, 3, 3, 3, 3, 3, 3, 3, 3, 3, 3, 3, 3, 3, 3, 3, 3, 3, 3, 3, 3, 3, 3, 3, 3, 3, 3, 3, 3, 3, 3, 3, 3, 3, 3, 3, 3, 3, 3, 3, 3, 3, 3, 3, 3, 3, 3, 3, 3, 3, 3, 3, 3, 3, 3, 3, 3, 3, 3, 3, 3, 3, 3, 3, 3, 3, 3, 3, 3, 3, 3, 3, 3, 3, 3, 3, 3, 3, 3, 3, 3, 3, 3, 3, 3, 3, 3, 3, 3, 3, 3, 3, 3, 3, 3, 3, 3, 3, 3, 3, 3, 3, 3, 3, 3, 3, 3, 3, 3, 3, 3, 3, 3, 3, 3, 3, 3, 3, 3, 3, 3, 3, 3, 3, 3, 3, 3, 3, 3, 3, 3, 3, 3, 3, 3, 3, 3, 3, 3, 3, 3, 3, 3, 3, 3, 3, 3, 3, 3, 3, 3, 3, 3, 3, 3, 3, 3, 3, 3, 3, 3, 3, 3, 3, 3, 3, 3, 3, 3, 4, 4, 4, 4, 4, 4, 4, 4, 4, 4, 4, 4, 4, 4, 4, 4, 4, 4, 4, 4, 4, 4, 4, 4, 4, 4, 4, 4, 4, 4, 4, 4, 4, 4, 4, 4, 4, 4, 4, 4, 4, 4, 4, 4, 4, 4, 4, 4, 4, 4, 4, 4, 4, 4, 4, 4, 4, 4, 4, 4, 4, 4, 4, 4, 4, 4, 4, 4, 4, 4, 4, 4, 4, 4, 4, 4, 4, 4, 4, 4, 4, 4, 4, 4, 4, 4, 4, 4, 4, 4, 4, 4, 4, 4, 4, 4, 4, 4, 4, 4, 4, 4, 4, 4, 4, 4, 4, 4, 4, 4, 4, 4, 4, 4, 4, 4, 4, 4, 4, 4, 4, 4, 4, 4, 4, 4, 4, 4, 4, 4, 4, 4, 4, 4, 4, 4, 4, 4, 4, 4, 4, 4, 4, 4, 4, 4, 4, 4, 4, 4, 4, 4, 4, 4, 4, 4, 4, 4, 4, 4, 4, 4, 4, 4, 4, 4, 4, 4, 4, 4, 4, 4, 4, 4, 4, 4, 4, 4, 4, 4, 4, 4, 4, 4, 4, 4, 4, 4, 4, 4, 4, 4, 4, 4, 4, 4, 4, 4, 4, 4, 4, 4, 4, 4, 4, 4, 4, 4, 4, 4, 4, 4, 4, 4, 4, 4, 4, 4, 4, 4, 4, 4, 4, 4, 4, 4, 4, 4, 4, 4, 4, 4, 4, 4, 4, 4, 4, 4, 4, 4, 5, 5, 5, 5, 5, 5, 5, 5, 5, 5, 5, 5, 5, 5, 5, 5, 5, 5, 5, 5, 5, 5, 5, 5, 5, 5, 5, 5, 5, 5, 5, 5, 5, 5, 5, 5, 5, 5, 5, 5, 5, 5, 5, 5, 5, 5, 5, 5, 5, 5, 5, 5, 5, 5, 5, 5, 5, 5, 5, 5, 5, 5, 5, 5, 5, 5, 5, 5, 5, 5, 5, 5, 5, 5, 5, 5, 5, 5, 5, 5, 5, 5, 5, 5, 5, 5, 5, 5, 5, 5, 5, 5, 5, 5, 5, 5, 5, 5, 5, 5, 5, 5, 5, 5, 5, 5, 5, 5, 5, 5, 5, 5, 5, 5, 5, 5, 5, 5, 5, 5, 5, 5, 5, 5, 5, 5, 5, 5, 5, 5, 5, 5, 5, 5, 5, 5, 5, 5, 5, 5, 5, 5, 5, 5, 5, 5, 5, 5, 5, 5, 5, 5, 5, 5, 5, 5, 5, 5, 5, 5, 5, 5, 5, 5, 5, 5, 5, 5, 5, 5, 5, 5, 5, 5, 5, 5, 5, 5, 5, 5, 5, 5, 5, 5, 5, 5, 5, 5, 5, 5, 5, 5, 5, 5, 5, 5, 5, 5, 5, 5, 5, 5, 5, 5, 5, 5, 5, 5, 5, 5, 5, 5, 5, 5, 5, 5, 5, 5, 5, 5, 5, 5, 5, 5, 5, 5, 5, 5, 5, 5, 5, 5, 5, 5, 5, 5, 5, 5, 5, 5]\n"
          ]
        }
      ]
    },
    {
      "cell_type": "code",
      "source": [
        "X_train = x\n",
        "y_train = y"
      ],
      "metadata": {
        "id": "UvhliqOLRJby"
      },
      "execution_count": null,
      "outputs": []
    },
    {
      "cell_type": "code",
      "source": [
        "dataset1 = pd.read_csv('GLCM_test.csv')\n",
        "print(dataset1)"
      ],
      "metadata": {
        "colab": {
          "base_uri": "https://localhost:8080/"
        },
        "id": "OKPzIOcfRUGw",
        "outputId": "733ecf75-1450-4b3c-c439-4848b17cce02"
      },
      "execution_count": null,
      "outputs": [
        {
          "output_type": "stream",
          "name": "stdout",
          "text": [
            "     Unnamed: 0    Energy      Corr   Diss_sim   Homogen    Contrast  \\\n",
            "0             0  0.014085  0.748947  15.308317  0.063230  375.439874   \n",
            "1             0  0.013354  0.812510  14.557965  0.068531  341.479372   \n",
            "2             0  0.013476  0.759687  15.553065  0.063098  390.181206   \n",
            "3             0  0.013039  0.771689  15.981709  0.062617  409.665628   \n",
            "4             0  0.013783  0.757698  15.442638  0.064622  387.517764   \n",
            "..          ...       ...       ...        ...       ...         ...   \n",
            "355           0  0.062155  0.995837   1.575452  0.488198    5.920075   \n",
            "356           0  0.067211  0.985235   1.432513  0.498722    4.875427   \n",
            "357           0  0.055791  0.988033   2.337362  0.355444   10.801583   \n",
            "358           0  0.046354  0.989063   2.493492  0.373817   19.243593   \n",
            "359           0  0.055859  0.979090   2.404749  0.356955   14.151985   \n",
            "\n",
            "      Energy2     Corr2  Diss_sim2  Homogen2  ...   Energy4  Corr4  Diss_sim4  \\\n",
            "0    0.012467  0.446429  22.532995  0.044155  ...  0.103558    1.0        0.0   \n",
            "1    0.011849  0.607541  20.839543  0.048530  ...  0.096566    1.0        0.0   \n",
            "2    0.011937  0.475017  22.796701  0.044843  ...  0.100087    1.0        0.0   \n",
            "3    0.011519  0.488173  23.654162  0.042825  ...  0.097640    1.0        0.0   \n",
            "4    0.012142  0.450002  22.986954  0.045123  ...  0.101432    1.0        0.0   \n",
            "..        ...       ...        ...       ...  ...       ...    ...        ...   \n",
            "355  0.049038  0.985219   2.781472  0.346212  ...  0.145807    1.0        0.0   \n",
            "356  0.054696  0.951457   2.321548  0.366321  ...  0.162806    1.0        0.0   \n",
            "357  0.042696  0.954985   4.320914  0.223368  ...  0.167867    1.0        0.0   \n",
            "358  0.036690  0.948742   4.702665  0.256342  ...  0.133851    1.0        0.0   \n",
            "359  0.044111  0.925030   4.182614  0.239788  ...  0.166927    1.0        0.0   \n",
            "\n",
            "     Homogen4  Contrast4   Energy5  Corr5  Diss_sim5  Homogen5  Contrast5  \n",
            "0         1.0        0.0  0.103558    1.0        0.0       1.0        0.0  \n",
            "1         1.0        0.0  0.096566    1.0        0.0       1.0        0.0  \n",
            "2         1.0        0.0  0.100087    1.0        0.0       1.0        0.0  \n",
            "3         1.0        0.0  0.097640    1.0        0.0       1.0        0.0  \n",
            "4         1.0        0.0  0.101432    1.0        0.0       1.0        0.0  \n",
            "..        ...        ...       ...    ...        ...       ...        ...  \n",
            "355       1.0        0.0  0.145807    1.0        0.0       1.0        0.0  \n",
            "356       1.0        0.0  0.162806    1.0        0.0       1.0        0.0  \n",
            "357       1.0        0.0  0.167867    1.0        0.0       1.0        0.0  \n",
            "358       1.0        0.0  0.133851    1.0        0.0       1.0        0.0  \n",
            "359       1.0        0.0  0.166927    1.0        0.0       1.0        0.0  \n",
            "\n",
            "[360 rows x 26 columns]\n"
          ]
        }
      ]
    },
    {
      "cell_type": "code",
      "source": [
        "x = dataset1.iloc[:,1:].values\n",
        "print(len(x[0]))"
      ],
      "metadata": {
        "colab": {
          "base_uri": "https://localhost:8080/"
        },
        "id": "j4-y-ob3RrM8",
        "outputId": "8608895d-0b7e-45ad-9c37-6777487675a5"
      },
      "execution_count": null,
      "outputs": [
        {
          "output_type": "stream",
          "name": "stdout",
          "text": [
            "25\n"
          ]
        }
      ]
    },
    {
      "cell_type": "code",
      "source": [
        "print(x)\n",
        "print(x[0])"
      ],
      "metadata": {
        "colab": {
          "base_uri": "https://localhost:8080/"
        },
        "id": "y9YOWDpLRu7c",
        "outputId": "3bfa8b48-fffa-4437-a397-51664d410ece"
      },
      "execution_count": null,
      "outputs": [
        {
          "output_type": "stream",
          "name": "stdout",
          "text": [
            "[[1.40851053e-02 7.48946716e-01 1.53083166e+01 ... 0.00000000e+00\n",
            "  1.00000000e+00 0.00000000e+00]\n",
            " [1.33542182e-02 8.12510406e-01 1.45579648e+01 ... 0.00000000e+00\n",
            "  1.00000000e+00 0.00000000e+00]\n",
            " [1.34756312e-02 7.59686590e-01 1.55530653e+01 ... 0.00000000e+00\n",
            "  1.00000000e+00 0.00000000e+00]\n",
            " ...\n",
            " [5.57906864e-02 9.88033099e-01 2.33736181e+00 ... 0.00000000e+00\n",
            "  1.00000000e+00 0.00000000e+00]\n",
            " [4.63544075e-02 9.89062761e-01 2.49349246e+00 ... 0.00000000e+00\n",
            "  1.00000000e+00 0.00000000e+00]\n",
            " [5.58592725e-02 9.79089631e-01 2.40474874e+00 ... 0.00000000e+00\n",
            "  1.00000000e+00 0.00000000e+00]]\n",
            "[1.40851053e-02 7.48946716e-01 1.53083166e+01 6.32298821e-02\n",
            " 3.75439874e+02 1.24673812e-02 4.46428662e-01 2.25329949e+01\n",
            " 4.41550228e-02 8.24729797e+02 1.22837374e-02 3.11786677e-01\n",
            " 2.48204615e+01 4.11062064e-02 1.01926036e+03 1.03558027e-01\n",
            " 1.00000000e+00 0.00000000e+00 1.00000000e+00 0.00000000e+00\n",
            " 1.03558027e-01 1.00000000e+00 0.00000000e+00 1.00000000e+00\n",
            " 0.00000000e+00]\n"
          ]
        }
      ]
    },
    {
      "cell_type": "code",
      "source": [
        "print(len(x))"
      ],
      "metadata": {
        "colab": {
          "base_uri": "https://localhost:8080/"
        },
        "id": "PxbqLuGZRzOG",
        "outputId": "9042f905-2c56-4bfc-fa19-c4c8fe83f3be"
      },
      "execution_count": null,
      "outputs": [
        {
          "output_type": "stream",
          "name": "stdout",
          "text": [
            "360\n"
          ]
        }
      ]
    },
    {
      "cell_type": "code",
      "source": [
        "y = list()"
      ],
      "metadata": {
        "id": "8EI_d01dR_Z8"
      },
      "execution_count": null,
      "outputs": []
    },
    {
      "cell_type": "code",
      "source": [
        "for i in range(0,6) :\n",
        "    for j in range(0,60):\n",
        "        y.append(i)\n"
      ],
      "metadata": {
        "id": "zjGTQusQR8OT"
      },
      "execution_count": null,
      "outputs": []
    },
    {
      "cell_type": "code",
      "source": [
        "X_test = x\n",
        "y_test = y"
      ],
      "metadata": {
        "id": "fbpuLVcTSDC5"
      },
      "execution_count": null,
      "outputs": []
    },
    {
      "cell_type": "code",
      "source": [
        "print(len(X_train))\n",
        "print(len(X_test))\n",
        "print(len(y_train))\n",
        "print(len(y_test))"
      ],
      "metadata": {
        "colab": {
          "base_uri": "https://localhost:8080/"
        },
        "id": "oHfsc7DcSHMM",
        "outputId": "b0bc1be6-3601-4258-acea-521d442f0b0c"
      },
      "execution_count": null,
      "outputs": [
        {
          "output_type": "stream",
          "name": "stdout",
          "text": [
            "1440\n",
            "360\n",
            "1440\n",
            "360\n"
          ]
        }
      ]
    },
    {
      "cell_type": "code",
      "source": [
        "X_train=np.array(X_train)\n",
        "y_train=np.array(y_train)\n",
        "X_test=np.array(X_test)\n",
        "y_test=np.array(y_test)"
      ],
      "metadata": {
        "id": "5UGEkAclSUVC"
      },
      "execution_count": null,
      "outputs": []
    },
    {
      "cell_type": "code",
      "source": [
        "print ('Train set:', X_train.shape,  y_train.shape)\n",
        "print ('Test set:', X_test.shape,  y_test.shape)"
      ],
      "metadata": {
        "colab": {
          "base_uri": "https://localhost:8080/"
        },
        "id": "w6Hsckn3SY3M",
        "outputId": "303ff862-39c1-4a76-c709-7a28c7995496"
      },
      "execution_count": null,
      "outputs": [
        {
          "output_type": "stream",
          "name": "stdout",
          "text": [
            "Train set: (1440, 25) (1440,)\n",
            "Test set: (360, 25) (360,)\n"
          ]
        }
      ]
    },
    {
      "cell_type": "code",
      "source": [
        "nsamples, nx = X_train.shape\n",
        "X_train = X_train.reshape((nsamples,nx))"
      ],
      "metadata": {
        "id": "qktya8lBSZ3a"
      },
      "execution_count": null,
      "outputs": []
    },
    {
      "cell_type": "code",
      "source": [
        "print(X_train.shape)"
      ],
      "metadata": {
        "colab": {
          "base_uri": "https://localhost:8080/"
        },
        "id": "BiXq0NhtSbx7",
        "outputId": "3c1470aa-7ebf-4db9-8744-f4e0c26e7035"
      },
      "execution_count": null,
      "outputs": [
        {
          "output_type": "stream",
          "name": "stdout",
          "text": [
            "(1440, 25)\n"
          ]
        }
      ]
    },
    {
      "cell_type": "code",
      "source": [
        "nsamples, nx = X_test.shape\n",
        "X_test = X_test.reshape((nsamples,nx))"
      ],
      "metadata": {
        "id": "WsphffhyScs8"
      },
      "execution_count": null,
      "outputs": []
    },
    {
      "cell_type": "code",
      "source": [
        "print(X_test.shape)"
      ],
      "metadata": {
        "colab": {
          "base_uri": "https://localhost:8080/"
        },
        "id": "xl5IHifZSdmj",
        "outputId": "d864b189-4dfe-4c62-a561-0b074d6769c7"
      },
      "execution_count": null,
      "outputs": [
        {
          "output_type": "stream",
          "name": "stdout",
          "text": [
            "(360, 25)\n"
          ]
        }
      ]
    },
    {
      "cell_type": "code",
      "source": [
        "train_begin = time.time()\n",
        "clf = svm.SVC(kernel='linear')\n",
        "clf.fit(X_train, y_train) \n",
        "train_end = time.time()\n",
        "train_time = train_end - train_begin\n",
        "\n"
      ],
      "metadata": {
        "id": "MFbBho7LSe7c"
      },
      "execution_count": null,
      "outputs": []
    },
    {
      "cell_type": "code",
      "source": [
        "test_begin = time.time()\n",
        "yhat = clf.predict(X_test)\n",
        "test_end = time.time()\n",
        "test_time = test_end - test_begin\n",
        "print(yhat)\n",
        "\n",
        "print(metrics.accuracy_score(y_test, yhat))\n",
        "print(confusion_matrix(y_test, yhat))\n",
        "print(classification_report(y_test, yhat))\n",
        "print(train_time)\n",
        "print(test_time)"
      ],
      "metadata": {
        "colab": {
          "base_uri": "https://localhost:8080/"
        },
        "id": "z9zFnyNqSq55",
        "outputId": "bbea25ff-02c6-45d8-bbd3-b6d2070564e1"
      },
      "execution_count": null,
      "outputs": [
        {
          "output_type": "stream",
          "name": "stdout",
          "text": [
            "[0 0 0 0 0 0 0 0 0 0 0 0 0 0 0 0 0 0 0 0 0 0 0 0 0 0 0 0 0 0 0 0 0 0 0 0 0\n",
            " 0 0 0 0 0 0 0 0 0 0 0 0 0 0 0 0 0 0 0 0 0 0 0 1 1 3 3 1 1 1 1 1 1 1 1 1 1\n",
            " 3 1 1 1 1 1 1 1 5 1 1 1 5 1 1 1 1 1 1 1 1 1 1 1 3 3 1 1 1 1 1 1 1 1 3 1 1\n",
            " 1 1 1 1 1 1 1 1 1 2 2 2 2 2 2 2 2 2 2 2 2 2 2 2 2 2 2 2 2 2 2 2 2 2 2 2 2\n",
            " 2 2 2 0 2 2 2 2 2 2 2 2 2 2 2 2 2 2 2 2 2 2 2 2 2 2 2 2 2 2 2 2 3 3 3 3 3\n",
            " 3 3 3 1 5 3 3 3 3 3 3 3 3 3 1 3 3 3 3 3 1 3 1 3 3 3 3 5 3 3 3 3 3 3 3 3 0\n",
            " 3 5 3 3 3 3 3 3 3 3 1 3 3 5 3 3 1 3 4 4 4 4 4 4 4 4 4 4 4 4 4 4 4 4 4 4 4\n",
            " 4 4 4 4 4 4 4 4 4 4 4 4 4 4 4 4 4 4 4 4 4 4 4 4 4 4 4 4 4 4 4 4 4 4 4 4 4\n",
            " 4 4 4 4 5 1 1 1 1 5 5 5 5 5 1 1 1 5 5 5 1 5 5 1 5 5 5 1 1 5 1 5 1 5 1 5 5\n",
            " 5 1 5 5 1 1 5 5 5 1 1 1 5 1 1 1 1 4 1 1 1 5 1 1 1 5 5]\n",
            "0.8583333333333333\n",
            "[[60  0  0  0  0  0]\n",
            " [ 0 52  0  6  0  2]\n",
            " [ 1  0 59  0  0  0]\n",
            " [ 1  6  0 49  0  4]\n",
            " [ 0  0  0  0 60  0]\n",
            " [ 0 30  0  0  1 29]]\n",
            "              precision    recall  f1-score   support\n",
            "\n",
            "           0       0.97      1.00      0.98        60\n",
            "           1       0.59      0.87      0.70        60\n",
            "           2       1.00      0.98      0.99        60\n",
            "           3       0.89      0.82      0.85        60\n",
            "           4       0.98      1.00      0.99        60\n",
            "           5       0.83      0.48      0.61        60\n",
            "\n",
            "    accuracy                           0.86       360\n",
            "   macro avg       0.88      0.86      0.86       360\n",
            "weighted avg       0.88      0.86      0.86       360\n",
            "\n",
            "2.5232646465301514\n",
            "0.006728172302246094\n"
          ]
        }
      ]
    },
    {
      "cell_type": "code",
      "source": [
        "print(train_time)\n",
        "print(test_time/len(X_test))"
      ],
      "metadata": {
        "colab": {
          "base_uri": "https://localhost:8080/"
        },
        "id": "Bth6rj_pSsjR",
        "outputId": "e6441895-c2ff-49f7-a989-17e8168cd100"
      },
      "execution_count": null,
      "outputs": [
        {
          "output_type": "stream",
          "name": "stdout",
          "text": [
            "2.5232646465301514\n",
            "1.868936750623915e-05\n"
          ]
        }
      ]
    },
    {
      "cell_type": "code",
      "source": [
        "clf = svm.SVC(kernel='rbf', gamma=\"scale\")\n",
        "clf.fit(X_train, y_train) \n",
        "yhat = clf.predict(X_test)\n",
        "print(yhat)\n",
        "\n",
        "print(metrics.accuracy_score(y_test, yhat))\n",
        "print(confusion_matrix(y_test, yhat))\n",
        "print(classification_report(y_test, yhat))"
      ],
      "metadata": {
        "colab": {
          "base_uri": "https://localhost:8080/"
        },
        "id": "UKsnVRKHSvDm",
        "outputId": "d08eaa71-7d66-4eb9-e7d8-ee6a792783e7"
      },
      "execution_count": null,
      "outputs": [
        {
          "output_type": "stream",
          "name": "stdout",
          "text": [
            "[0 0 0 0 0 0 0 0 0 0 0 0 0 0 0 0 0 0 0 0 0 0 0 0 0 0 0 0 0 0 0 0 0 0 0 0 0\n",
            " 0 0 0 0 0 0 0 0 0 0 0 0 0 0 0 0 0 0 0 0 0 0 0 1 1 3 1 1 1 1 1 1 1 1 1 1 1\n",
            " 3 1 1 1 1 1 1 1 1 1 1 1 1 1 1 1 1 1 1 1 1 1 1 1 1 1 1 1 1 1 1 1 1 1 1 1 1\n",
            " 1 1 1 1 1 1 1 1 1 2 0 2 0 2 2 2 2 2 4 2 0 2 0 2 2 4 2 2 4 0 2 2 4 2 4 2 2\n",
            " 2 2 2 0 0 2 2 2 0 2 0 2 0 0 0 2 2 2 2 0 2 2 0 4 2 2 2 2 4 0 4 0 0 3 1 5 4\n",
            " 4 5 3 3 0 3 1 0 3 3 3 3 5 0 1 0 5 5 4 0 1 3 1 0 0 1 3 0 3 0 4 0 0 3 5 3 0\n",
            " 4 0 3 3 3 3 3 3 5 3 1 3 3 3 1 3 1 3 4 4 3 4 4 4 4 4 4 4 4 4 4 4 4 4 3 3 4\n",
            " 4 4 4 4 3 4 4 4 4 4 4 4 3 1 4 4 4 4 4 4 3 3 4 3 4 4 3 3 3 4 4 3 3 4 4 4 4\n",
            " 4 4 4 4 5 1 1 1 1 1 1 1 1 1 1 1 1 1 3 1 1 3 1 1 1 1 1 1 1 1 1 1 1 5 1 1 1\n",
            " 1 1 1 1 1 1 3 1 1 1 1 1 3 1 1 1 1 5 1 1 1 1 1 1 1 3 1]\n",
            "0.6333333333333333\n",
            "[[60  0  0  0  0  0]\n",
            " [ 0 58  0  2  0  0]\n",
            " [16  0 36  0  8  0]\n",
            " [14  9  0 25  5  7]\n",
            " [ 0  1  0 13 46  0]\n",
            " [ 0 52  0  5  0  3]]\n",
            "              precision    recall  f1-score   support\n",
            "\n",
            "           0       0.67      1.00      0.80        60\n",
            "           1       0.48      0.97      0.64        60\n",
            "           2       1.00      0.60      0.75        60\n",
            "           3       0.56      0.42      0.48        60\n",
            "           4       0.78      0.77      0.77        60\n",
            "           5       0.30      0.05      0.09        60\n",
            "\n",
            "    accuracy                           0.63       360\n",
            "   macro avg       0.63      0.63      0.59       360\n",
            "weighted avg       0.63      0.63      0.59       360\n",
            "\n"
          ]
        }
      ]
    },
    {
      "cell_type": "code",
      "source": [
        "clf = svm.SVC(kernel='rbf', gamma=\"auto\")\n",
        "clf.fit(X_train, y_train) \n",
        "yhat = clf.predict(X_test)\n",
        "print(yhat)\n",
        "\n",
        "print(metrics.accuracy_score(y_test, yhat))\n",
        "print(confusion_matrix(y_test, yhat))\n",
        "print(classification_report(y_test, yhat))"
      ],
      "metadata": {
        "colab": {
          "base_uri": "https://localhost:8080/"
        },
        "id": "sb2jBnjKSyve",
        "outputId": "2a6ad977-0421-4582-fbf2-be5ae547f13a"
      },
      "execution_count": null,
      "outputs": [
        {
          "output_type": "stream",
          "name": "stdout",
          "text": [
            "[2 0 0 2 2 0 2 2 2 0 2 2 2 0 0 0 2 2 0 2 2 2 2 0 2 2 2 2 2 2 2 2 2 2 2 2 2\n",
            " 2 0 2 2 2 2 2 2 0 2 2 2 2 0 2 2 2 2 2 2 0 0 2 1 1 3 3 5 1 1 1 1 1 1 1 1 1\n",
            " 5 1 1 1 1 1 1 1 1 1 1 1 1 1 1 1 1 1 1 1 1 1 1 1 3 3 1 1 1 1 1 1 3 1 3 3 1\n",
            " 1 1 1 1 1 1 1 1 1 2 2 2 2 2 2 2 2 2 2 2 2 2 0 2 2 2 2 2 2 2 2 2 2 2 2 2 2\n",
            " 2 2 2 2 2 2 2 2 2 2 0 2 2 2 2 2 2 2 2 2 2 2 2 2 2 2 2 2 2 2 2 2 2 2 1 2 3\n",
            " 3 2 3 5 2 2 3 2 3 3 2 3 2 2 5 2 2 2 3 2 1 3 1 2 2 3 3 2 3 2 2 2 2 2 2 2 2\n",
            " 2 2 3 2 3 2 2 2 2 3 1 3 2 2 3 3 1 2 4 2 4 4 4 2 4 4 2 2 2 2 4 4 4 4 4 4 4\n",
            " 4 4 4 2 4 2 4 4 4 2 2 2 4 5 4 2 2 4 4 2 4 4 2 5 4 2 4 4 4 4 4 4 4 4 4 4 4\n",
            " 4 2 2 4 2 3 1 1 1 2 1 1 1 1 1 1 1 1 2 1 1 2 5 1 1 1 5 1 1 1 1 1 1 2 1 1 1\n",
            " 1 1 1 1 1 1 5 1 1 1 1 1 5 1 1 1 1 2 5 1 5 1 1 1 1 2 1]\n",
            "0.5194444444444445\n",
            "[[14  0 46  0  0  0]\n",
            " [ 0 51  0  7  0  2]\n",
            " [ 2  0 58  0  0  0]\n",
            " [ 0  5 35 18  0  2]\n",
            " [ 0  0 18  0 40  2]\n",
            " [ 0 46  7  1  0  6]]\n",
            "              precision    recall  f1-score   support\n",
            "\n",
            "           0       0.88      0.23      0.37        60\n",
            "           1       0.50      0.85      0.63        60\n",
            "           2       0.35      0.97      0.52        60\n",
            "           3       0.69      0.30      0.42        60\n",
            "           4       1.00      0.67      0.80        60\n",
            "           5       0.50      0.10      0.17        60\n",
            "\n",
            "    accuracy                           0.52       360\n",
            "   macro avg       0.65      0.52      0.48       360\n",
            "weighted avg       0.65      0.52      0.48       360\n",
            "\n"
          ]
        }
      ]
    },
    {
      "cell_type": "code",
      "source": [
        "poly_svc = svm.SVC(kernel='poly', degree=5).fit(X_train, y_train)\n",
        "yhat = poly_svc.predict(X_test)\n",
        "print(yhat)\n",
        "print(metrics.accuracy_score(y_test, yhat))\n",
        "print(confusion_matrix(y_test, yhat))\n",
        "print(classification_report(y_test, yhat))"
      ],
      "metadata": {
        "colab": {
          "base_uri": "https://localhost:8080/"
        },
        "id": "SZmmHPpMS0qP",
        "outputId": "a2315fbd-5d41-462f-d872-262675684ca4"
      },
      "execution_count": null,
      "outputs": [
        {
          "output_type": "stream",
          "name": "stdout",
          "text": [
            "[0 0 0 0 0 0 0 0 0 0 0 0 4 0 0 0 0 0 0 0 0 0 0 0 0 0 0 0 0 0 0 0 0 0 0 0 0\n",
            " 0 0 0 0 0 0 0 0 0 0 0 0 0 0 0 0 0 0 3 0 0 0 0 1 1 1 1 1 1 1 1 1 1 1 1 1 1\n",
            " 1 1 1 1 1 1 1 1 1 1 1 1 1 1 1 1 1 1 1 1 1 1 1 1 1 1 1 1 1 1 1 1 1 1 1 1 1\n",
            " 1 1 1 1 1 1 1 1 1 2 0 2 0 2 2 2 2 2 1 2 0 2 0 2 2 1 2 2 1 0 2 2 1 2 1 2 2\n",
            " 2 2 2 0 0 2 2 2 0 2 3 2 2 0 0 2 2 2 2 2 2 2 2 1 2 2 2 2 1 2 1 2 0 1 1 1 1\n",
            " 1 5 1 1 0 1 1 3 1 1 1 3 1 0 1 0 3 5 1 0 1 1 1 0 3 1 1 3 1 3 1 3 0 4 3 1 0\n",
            " 1 0 1 1 1 1 1 1 3 1 1 1 1 3 1 1 1 4 1 1 1 1 1 1 1 1 1 1 1 1 1 1 1 1 1 1 1\n",
            " 1 1 1 1 1 1 1 1 1 1 1 1 1 1 1 1 1 1 1 1 1 1 1 1 1 1 1 1 1 1 1 1 1 1 1 1 1\n",
            " 1 1 1 1 1 1 1 1 1 1 1 1 1 1 1 1 1 1 1 1 1 1 1 1 1 1 1 1 1 1 1 1 1 1 1 1 1\n",
            " 1 1 1 1 1 1 1 1 1 1 1 1 1 1 1 1 1 4 1 1 1 1 1 1 1 1 1]\n",
            "0.46944444444444444\n",
            "[[58  0  0  1  1  0]\n",
            " [ 0 60  0  0  0  0]\n",
            " [10  8 41  1  0  0]\n",
            " [ 9 37  0 10  2  2]\n",
            " [ 0 60  0  0  0  0]\n",
            " [ 0 59  0  0  1  0]]\n",
            "              precision    recall  f1-score   support\n",
            "\n",
            "           0       0.75      0.97      0.85        60\n",
            "           1       0.27      1.00      0.42        60\n",
            "           2       1.00      0.68      0.81        60\n",
            "           3       0.83      0.17      0.28        60\n",
            "           4       0.00      0.00      0.00        60\n",
            "           5       0.00      0.00      0.00        60\n",
            "\n",
            "    accuracy                           0.47       360\n",
            "   macro avg       0.48      0.47      0.39       360\n",
            "weighted avg       0.48      0.47      0.39       360\n",
            "\n"
          ]
        }
      ]
    },
    {
      "cell_type": "code",
      "source": [
        "for i in range(1,15) :\n",
        "    poly_svc = svm.SVC(kernel='poly', degree=i).fit(X_train, y_train)\n",
        "    yhat = poly_svc.predict(X_test)\n",
        "    print(yhat)\n",
        "    print('Degree = ',i, metrics.accuracy_score(y_test, yhat))\n",
        "    # print(confusion_matrix(y_test, yhat))\n",
        "    # print(classification_report(y_test, yhat))"
      ],
      "metadata": {
        "colab": {
          "base_uri": "https://localhost:8080/"
        },
        "id": "l3AXkteRS196",
        "outputId": "c4fa0661-0a19-4d23-9393-1b2ae1a5b1a6"
      },
      "execution_count": null,
      "outputs": [
        {
          "output_type": "stream",
          "name": "stdout",
          "text": [
            "[0 0 0 0 0 0 0 0 0 0 0 0 0 0 0 0 0 0 0 2 0 0 0 0 0 0 0 0 0 0 0 0 0 0 0 0 0\n",
            " 0 0 0 0 0 0 0 0 0 0 0 0 0 0 0 0 0 0 0 0 0 0 0 1 1 1 1 1 1 1 1 1 1 1 1 1 1\n",
            " 4 1 1 1 1 1 1 1 1 1 1 1 1 1 1 1 1 1 1 1 1 1 1 1 1 1 1 1 1 1 1 1 1 1 1 1 1\n",
            " 1 1 1 1 1 1 1 1 1 2 0 2 0 2 0 2 2 2 4 2 0 2 0 2 2 4 2 2 4 0 2 2 4 2 4 2 2\n",
            " 2 2 2 0 0 2 2 2 0 2 0 2 0 0 0 2 2 2 2 0 2 2 0 4 2 2 2 2 4 2 4 2 0 4 1 3 4\n",
            " 4 5 1 4 0 4 1 3 4 4 4 3 5 0 1 0 5 5 4 0 1 4 1 0 3 1 4 3 4 3 4 3 0 4 5 4 0\n",
            " 4 0 4 3 4 4 4 3 0 1 1 4 3 3 1 4 1 3 4 4 1 4 4 4 4 4 4 4 4 4 4 4 4 4 4 4 4\n",
            " 4 4 4 4 4 4 4 4 4 4 4 4 4 1 4 4 4 4 4 4 4 1 4 1 4 4 4 4 4 4 4 4 4 4 4 4 4\n",
            " 4 4 4 4 4 1 1 1 1 1 1 1 1 1 1 1 1 1 4 1 1 4 1 1 1 1 1 1 1 1 1 1 1 4 1 1 1\n",
            " 1 1 1 1 1 1 4 1 1 1 1 1 4 1 1 1 1 5 1 1 1 1 1 1 1 4 1]\n",
            "Degree =  1 0.6222222222222222\n",
            "[0 0 0 0 0 0 0 0 0 0 0 0 0 0 0 0 0 0 0 0 0 0 0 0 0 0 0 0 0 0 0 0 0 0 0 0 0\n",
            " 0 0 0 0 0 0 0 0 0 0 0 0 0 0 0 0 0 0 0 0 0 0 0 1 1 1 1 1 1 1 1 1 1 1 1 1 1\n",
            " 1 1 1 1 1 1 1 1 1 1 1 1 1 1 1 1 1 1 1 1 1 1 1 1 1 1 1 1 1 1 1 1 1 1 1 1 1\n",
            " 1 1 1 1 1 1 1 1 1 2 0 2 0 2 2 2 2 2 4 2 0 2 0 2 2 4 2 2 4 0 2 2 4 2 4 2 2\n",
            " 2 2 2 0 0 2 2 2 0 2 0 2 0 0 0 2 2 2 2 0 2 2 0 4 2 2 2 2 4 2 4 2 3 4 1 4 4\n",
            " 4 5 1 1 0 4 1 3 1 1 4 3 4 0 1 0 3 5 4 0 1 4 1 0 3 1 4 3 1 3 4 3 3 4 5 4 0\n",
            " 4 0 1 4 4 4 4 4 3 1 1 4 4 3 1 1 1 4 1 4 1 1 1 4 1 1 4 4 4 4 1 1 1 1 1 1 1\n",
            " 1 1 1 4 1 4 1 1 1 4 4 4 1 1 1 4 4 1 1 4 1 1 4 1 1 4 1 1 1 1 1 1 1 1 1 1 1\n",
            " 4 4 4 1 4 1 1 1 1 1 1 1 1 1 1 1 1 1 4 1 1 1 1 1 1 1 1 1 1 1 1 1 1 4 1 1 1\n",
            " 1 1 1 1 1 1 4 1 1 1 1 1 1 1 1 1 1 5 1 1 1 1 1 1 1 1 1]\n",
            "Degree =  2 0.525\n",
            "[0 0 0 0 0 0 0 0 0 0 0 0 4 0 0 0 0 0 0 0 0 0 0 0 0 0 0 0 0 0 0 0 0 0 0 0 0\n",
            " 0 0 0 0 0 0 0 0 0 0 0 0 0 0 0 0 0 0 0 0 0 0 0 1 1 1 1 1 1 1 1 1 1 1 1 1 1\n",
            " 1 1 1 1 1 1 1 1 1 1 1 1 1 1 1 1 1 1 1 1 1 1 1 1 1 1 1 1 1 1 1 1 1 1 1 1 1\n",
            " 1 1 1 1 1 1 1 1 1 2 0 2 0 2 2 2 2 2 1 2 0 2 0 2 2 1 2 2 1 0 2 2 4 2 4 2 2\n",
            " 2 2 2 0 0 2 2 2 0 2 0 2 0 0 0 2 2 2 2 2 2 2 0 4 2 2 2 2 1 2 1 2 3 4 1 4 1\n",
            " 1 5 1 1 0 1 1 3 1 1 4 3 4 0 1 0 3 5 4 0 1 1 1 0 3 1 1 3 1 3 1 3 3 4 5 4 0\n",
            " 1 0 1 4 1 1 4 4 3 1 1 1 4 3 1 1 1 4 1 1 1 1 1 1 1 1 1 1 1 1 1 1 1 1 1 1 1\n",
            " 1 1 1 1 1 1 1 1 1 1 1 1 1 1 1 1 1 1 1 1 1 1 1 1 1 1 1 1 1 1 1 1 1 1 1 1 1\n",
            " 1 1 1 1 1 1 1 1 1 1 1 1 1 1 1 1 1 1 1 1 1 1 1 1 1 1 1 1 1 1 1 1 1 1 1 1 1\n",
            " 1 1 1 1 1 1 1 1 1 1 1 1 1 1 1 1 1 4 1 1 1 1 1 1 1 1 1]\n",
            "Degree =  3 0.46944444444444444\n",
            "[0 0 0 0 0 0 0 0 0 0 0 0 4 0 0 0 0 0 0 0 0 0 0 0 0 0 0 0 0 0 0 0 0 0 0 0 0\n",
            " 0 0 0 0 0 0 0 0 0 0 0 0 0 0 0 0 0 0 0 0 0 0 0 1 1 1 1 1 1 1 1 1 1 1 1 1 1\n",
            " 1 1 1 1 1 1 1 1 1 1 1 1 1 1 1 1 1 1 1 1 1 1 1 1 1 1 1 1 1 1 1 1 1 1 1 1 1\n",
            " 1 1 1 1 1 1 1 1 1 2 0 2 0 2 2 2 2 2 1 2 0 2 0 2 2 1 2 2 1 0 2 2 1 2 1 2 2\n",
            " 2 2 2 0 0 2 2 2 0 2 3 2 2 0 0 2 2 2 2 2 2 2 2 1 2 2 2 2 1 2 1 2 3 1 1 1 1\n",
            " 1 5 1 1 0 1 1 3 1 1 1 3 1 0 1 0 3 5 1 0 1 1 1 0 3 1 1 3 1 3 1 3 0 4 3 1 0\n",
            " 1 0 1 4 1 1 4 1 3 1 1 1 1 3 1 1 1 4 1 1 1 1 1 1 1 1 1 1 1 1 1 1 1 1 1 1 1\n",
            " 1 1 1 1 1 1 1 1 1 1 1 1 1 1 1 1 1 1 1 1 1 1 1 1 1 1 1 1 1 1 1 1 1 1 1 1 1\n",
            " 1 1 1 1 1 1 1 1 1 1 1 1 1 1 1 1 1 1 1 1 1 1 1 1 1 1 1 1 1 1 1 1 1 1 1 1 1\n",
            " 1 1 1 1 1 1 1 1 1 1 1 1 1 1 1 1 1 4 1 1 1 1 1 1 1 1 1]\n",
            "Degree =  4 0.475\n",
            "[0 0 0 0 0 0 0 0 0 0 0 0 4 0 0 0 0 0 0 0 0 0 0 0 0 0 0 0 0 0 0 0 0 0 0 0 0\n",
            " 0 0 0 0 0 0 0 0 0 0 0 0 0 0 0 0 0 0 3 0 0 0 0 1 1 1 1 1 1 1 1 1 1 1 1 1 1\n",
            " 1 1 1 1 1 1 1 1 1 1 1 1 1 1 1 1 1 1 1 1 1 1 1 1 1 1 1 1 1 1 1 1 1 1 1 1 1\n",
            " 1 1 1 1 1 1 1 1 1 2 0 2 0 2 2 2 2 2 1 2 0 2 0 2 2 1 2 2 1 0 2 2 1 2 1 2 2\n",
            " 2 2 2 0 0 2 2 2 0 2 3 2 2 0 0 2 2 2 2 2 2 2 2 1 2 2 2 2 1 2 1 2 0 1 1 1 1\n",
            " 1 5 1 1 0 1 1 3 1 1 1 3 1 0 1 0 3 5 1 0 1 1 1 0 3 1 1 3 1 3 1 3 0 4 3 1 0\n",
            " 1 0 1 1 1 1 1 1 3 1 1 1 1 3 1 1 1 4 1 1 1 1 1 1 1 1 1 1 1 1 1 1 1 1 1 1 1\n",
            " 1 1 1 1 1 1 1 1 1 1 1 1 1 1 1 1 1 1 1 1 1 1 1 1 1 1 1 1 1 1 1 1 1 1 1 1 1\n",
            " 1 1 1 1 1 1 1 1 1 1 1 1 1 1 1 1 1 1 1 1 1 1 1 1 1 1 1 1 1 1 1 1 1 1 1 1 1\n",
            " 1 1 1 1 1 1 1 1 1 1 1 1 1 1 1 1 1 4 1 1 1 1 1 1 1 1 1]\n",
            "Degree =  5 0.46944444444444444\n",
            "[0 0 0 0 0 0 0 0 0 0 0 0 4 0 0 0 0 0 0 0 0 0 0 0 0 0 0 0 0 0 0 0 0 0 0 0 0\n",
            " 0 0 0 0 0 0 0 0 0 0 0 0 0 0 0 0 0 0 3 0 0 0 0 1 1 1 1 1 1 1 1 1 1 1 1 1 1\n",
            " 1 1 1 1 1 1 1 1 1 1 1 1 1 1 1 1 1 1 1 1 1 1 1 1 1 1 1 1 1 1 1 1 1 1 1 1 1\n",
            " 1 1 1 1 1 1 1 1 1 2 2 2 0 2 2 2 2 2 1 2 0 2 0 2 2 1 2 2 1 0 2 2 1 2 1 2 2\n",
            " 2 2 2 0 0 2 2 2 0 2 3 2 2 0 0 2 2 2 2 2 2 2 2 1 2 2 2 2 1 2 1 2 0 1 1 1 1\n",
            " 1 5 1 1 0 1 1 3 1 1 1 3 1 0 1 0 3 3 1 0 1 1 1 0 3 1 1 3 1 3 1 3 0 1 3 1 0\n",
            " 1 0 1 1 1 1 1 1 3 1 1 1 1 3 1 1 1 4 1 1 1 1 1 1 1 1 1 1 1 1 1 1 1 1 1 1 1\n",
            " 1 1 1 1 1 1 1 1 1 1 1 1 1 1 1 1 1 1 1 1 1 1 1 1 1 1 1 1 1 1 1 1 1 1 1 1 1\n",
            " 1 1 1 1 1 1 1 1 1 1 1 1 1 1 1 1 1 1 1 1 1 1 1 1 1 1 1 1 1 1 1 1 1 1 1 1 1\n",
            " 1 1 1 1 1 1 1 1 1 1 1 1 1 1 1 1 1 4 1 1 1 1 1 1 1 1 1]\n",
            "Degree =  6 0.475\n",
            "[0 0 0 0 0 0 0 0 0 0 0 0 4 0 0 0 0 0 0 0 0 0 0 0 0 0 0 0 0 0 0 0 0 0 0 0 0\n",
            " 0 0 0 0 0 0 0 0 0 0 0 0 0 0 0 0 0 0 3 0 0 0 0 1 1 1 1 1 1 1 1 1 1 1 1 1 1\n",
            " 1 1 1 1 1 1 1 1 1 1 1 1 1 1 1 1 1 1 1 1 1 1 1 1 1 1 1 1 1 1 1 1 1 1 1 1 1\n",
            " 1 1 1 1 1 1 1 1 1 2 2 2 0 2 2 2 2 2 1 2 0 2 0 2 2 1 2 2 1 0 2 2 1 2 1 2 2\n",
            " 2 2 2 0 0 2 2 2 2 2 3 2 2 0 0 2 2 2 2 2 2 2 2 1 2 2 2 2 1 2 1 2 0 1 1 1 1\n",
            " 1 5 1 1 0 1 1 3 1 1 1 3 1 0 1 0 3 3 1 0 1 1 1 0 3 1 1 3 1 3 1 3 0 1 3 1 0\n",
            " 1 0 1 1 1 1 1 1 0 1 1 1 1 3 1 1 1 4 1 1 1 1 1 1 1 1 1 1 1 1 1 1 1 1 1 1 1\n",
            " 1 1 1 1 1 1 1 1 1 1 1 1 1 1 1 1 1 1 1 1 1 1 1 1 1 1 1 1 1 1 1 1 1 1 1 1 1\n",
            " 1 1 1 1 1 1 1 1 1 1 1 1 1 1 1 1 1 1 1 1 1 1 1 1 1 1 1 1 1 1 1 1 1 1 1 1 1\n",
            " 1 1 1 1 1 1 1 1 1 1 1 1 1 1 1 1 1 4 1 1 1 1 1 1 1 1 1]\n",
            "Degree =  7 0.475\n",
            "[0 0 0 0 0 0 0 0 0 0 0 0 4 0 0 0 0 0 0 0 0 0 0 0 0 0 0 0 0 0 0 0 0 0 0 0 0\n",
            " 0 0 0 0 0 0 0 0 0 0 0 0 0 0 0 0 0 0 4 0 0 0 0 1 1 1 1 1 1 1 1 1 1 1 1 1 1\n",
            " 1 1 1 1 1 1 1 1 1 1 1 1 1 1 1 1 1 1 1 1 1 1 1 1 1 1 1 1 1 1 1 1 1 1 1 1 1\n",
            " 1 1 1 1 1 1 1 1 1 2 2 2 0 2 2 2 2 2 1 2 0 2 3 2 2 1 2 2 1 0 2 2 1 2 1 2 2\n",
            " 2 2 2 0 0 2 2 2 2 2 4 2 2 0 0 2 2 2 2 2 2 2 2 1 2 2 2 2 1 2 1 2 0 1 1 1 1\n",
            " 1 3 1 1 0 1 1 3 1 1 1 4 1 0 1 0 3 3 1 0 1 1 1 0 3 1 1 3 1 3 1 3 0 1 3 1 0\n",
            " 1 0 1 1 1 1 1 1 3 1 1 1 1 3 1 1 1 4 1 1 1 1 1 1 1 1 1 1 1 1 1 1 1 1 1 1 1\n",
            " 1 1 1 1 1 1 1 1 1 1 1 1 1 1 1 1 1 1 1 1 1 1 1 1 1 1 1 1 1 1 1 1 1 1 1 1 1\n",
            " 1 1 1 1 1 1 1 1 1 1 1 1 1 1 1 1 1 1 1 1 1 1 1 1 1 1 1 1 1 1 1 1 1 1 1 1 1\n",
            " 1 1 1 1 1 1 1 1 1 1 1 1 1 1 1 1 1 4 1 1 1 1 1 1 1 1 1]\n",
            "Degree =  8 0.4777777777777778\n",
            "[0 0 0 0 0 0 0 0 0 0 0 0 4 0 0 0 0 0 0 0 0 0 0 0 0 0 0 0 0 0 0 0 0 0 0 0 0\n",
            " 0 0 0 0 0 0 0 0 0 0 0 0 0 0 0 0 0 0 4 0 0 0 0 1 1 1 1 1 1 1 1 1 1 1 1 1 1\n",
            " 1 1 1 1 1 1 1 1 1 1 1 1 1 1 1 1 1 1 1 1 1 1 1 1 1 1 1 1 1 1 1 1 1 1 1 1 1\n",
            " 1 1 1 1 1 1 1 1 1 2 2 2 0 2 2 2 2 2 1 2 0 2 3 2 2 1 2 2 1 0 2 2 1 2 1 2 2\n",
            " 2 2 2 0 0 2 2 2 2 2 4 2 2 0 0 2 2 2 2 2 2 2 2 1 2 2 2 2 1 2 1 2 0 1 1 1 1\n",
            " 1 3 1 1 0 1 1 3 1 1 1 4 1 0 1 0 3 3 1 0 1 1 1 0 3 1 1 3 1 3 1 3 0 1 3 1 0\n",
            " 1 0 1 1 1 1 1 1 3 1 1 1 1 3 1 1 1 4 1 1 1 1 1 1 1 1 1 1 1 1 1 1 1 1 1 1 1\n",
            " 1 1 1 1 1 1 1 1 1 1 1 1 1 1 1 1 1 1 1 1 1 1 1 1 1 1 1 1 1 1 1 1 1 1 1 1 1\n",
            " 1 1 1 1 1 1 1 1 1 1 1 1 1 1 1 1 1 1 1 1 1 1 1 1 1 1 1 1 1 1 1 1 1 1 1 1 1\n",
            " 1 1 1 1 1 1 1 1 1 1 1 1 1 1 1 1 1 4 1 1 1 1 1 1 1 1 1]\n",
            "Degree =  9 0.4777777777777778\n",
            "[0 0 0 0 0 0 0 0 0 0 0 0 4 0 0 0 0 0 0 0 0 0 0 0 0 0 0 0 0 0 0 0 0 0 0 0 0\n",
            " 0 0 0 0 0 0 0 0 0 0 0 0 0 0 0 0 0 0 4 0 0 0 0 1 1 1 1 1 1 1 1 1 1 1 1 1 1\n",
            " 1 1 1 1 1 1 1 1 1 1 1 1 1 1 1 1 1 1 1 1 1 1 1 1 1 1 1 1 1 1 1 1 1 1 1 1 1\n",
            " 1 1 1 1 1 1 1 1 1 2 2 2 0 2 2 2 2 2 1 2 0 2 3 2 2 1 2 2 1 0 2 2 1 2 1 2 2\n",
            " 2 2 2 0 0 2 2 2 2 2 4 2 2 0 0 2 2 2 2 2 2 2 2 1 2 2 2 2 1 2 1 2 0 1 1 1 1\n",
            " 1 3 1 1 0 1 1 3 1 1 1 4 1 0 1 0 3 3 1 0 1 1 1 0 3 1 1 3 1 3 1 3 0 1 3 1 0\n",
            " 1 0 1 1 1 1 1 1 3 1 1 1 1 3 1 1 1 4 1 1 1 1 1 1 1 1 1 1 1 1 1 1 1 1 1 1 1\n",
            " 1 1 1 1 1 1 1 1 1 1 1 1 1 1 1 1 1 1 1 1 1 1 1 1 1 1 1 1 1 1 1 1 1 1 1 1 1\n",
            " 1 1 1 1 1 1 1 1 1 1 1 1 1 1 1 1 1 1 1 1 1 1 1 1 1 1 1 1 1 1 1 1 1 1 1 1 1\n",
            " 1 1 1 1 1 1 1 1 1 1 1 1 1 1 1 1 1 4 1 1 1 1 1 1 1 1 1]\n",
            "Degree =  10 0.4777777777777778\n",
            "[0 0 0 0 0 0 0 0 0 0 0 0 4 0 0 0 0 0 0 0 0 0 0 0 0 0 0 0 0 0 0 0 0 0 0 0 0\n",
            " 0 0 0 0 0 0 0 0 0 0 0 0 0 0 0 0 0 0 4 0 0 0 0 1 1 1 1 1 1 1 1 1 1 1 1 1 1\n",
            " 1 1 1 1 1 1 1 1 1 1 1 1 1 1 1 1 1 1 1 1 1 1 1 1 1 1 1 1 1 1 1 1 1 1 1 1 1\n",
            " 1 1 1 1 1 1 1 1 1 2 2 2 0 2 2 2 2 2 1 2 0 2 4 2 2 1 2 2 1 0 2 2 1 2 1 2 2\n",
            " 2 2 2 0 0 2 2 2 2 2 4 2 2 0 0 2 2 2 2 2 2 2 2 1 2 2 2 2 1 2 1 2 0 1 1 1 1\n",
            " 1 3 1 1 0 1 1 3 1 1 1 4 1 0 1 0 3 3 1 0 1 1 1 0 3 1 1 3 1 3 1 3 0 1 3 1 0\n",
            " 1 0 1 1 1 1 1 1 3 1 1 1 1 4 1 1 1 4 1 1 1 1 1 1 1 1 1 1 1 1 1 1 1 1 1 1 1\n",
            " 1 1 1 1 1 1 1 1 1 1 1 1 1 1 1 1 1 1 1 1 1 1 1 1 1 1 1 1 1 1 1 1 1 1 1 1 1\n",
            " 1 1 1 1 1 1 1 1 1 1 1 1 1 1 1 1 1 1 1 1 1 1 1 1 1 1 1 1 1 1 1 1 1 1 1 1 1\n",
            " 1 1 1 1 1 1 1 1 1 1 1 1 1 1 1 1 1 4 1 1 1 1 1 1 1 1 1]\n",
            "Degree =  11 0.475\n",
            "[0 0 0 0 0 0 0 0 0 0 0 0 4 0 0 0 0 0 0 0 0 0 0 0 0 0 0 0 0 0 0 0 0 0 0 0 0\n",
            " 0 0 0 0 0 0 0 0 0 0 0 0 0 0 0 0 0 0 4 0 0 0 0 1 1 1 1 1 1 1 1 1 1 1 1 1 1\n",
            " 1 1 1 1 1 1 1 1 1 1 1 1 1 1 1 1 1 1 1 1 1 1 1 1 1 1 1 1 1 1 1 1 1 1 1 1 1\n",
            " 1 1 1 1 1 1 1 1 1 2 2 2 0 2 2 2 2 2 1 2 0 2 4 2 2 1 2 2 1 2 2 2 1 2 1 2 2\n",
            " 2 2 2 0 0 2 2 2 2 2 4 2 2 0 0 2 2 2 2 2 2 2 2 1 2 2 2 2 1 2 1 2 0 1 1 1 1\n",
            " 1 3 1 1 0 1 1 3 1 1 1 4 1 0 1 0 3 3 1 0 1 1 1 0 3 1 1 3 1 3 1 4 0 1 3 1 0\n",
            " 1 0 1 1 1 1 1 1 3 1 1 1 1 4 1 1 1 4 1 1 1 1 1 1 1 1 1 1 1 1 1 1 1 1 1 1 1\n",
            " 1 1 1 1 1 1 1 1 1 1 1 1 1 1 1 1 1 1 1 1 1 1 1 1 1 1 1 1 1 1 1 1 1 1 1 1 1\n",
            " 1 1 1 1 1 1 1 1 1 1 1 1 1 1 1 1 1 1 1 1 1 1 1 1 1 1 1 1 1 1 1 1 1 1 1 1 1\n",
            " 1 1 1 1 1 1 1 1 1 1 1 1 1 1 1 1 1 4 1 1 1 1 1 1 1 1 1]\n",
            "Degree =  12 0.475\n",
            "[0 0 0 0 0 0 0 0 0 0 0 0 4 0 0 0 0 0 0 0 0 0 0 0 0 0 0 0 0 0 0 0 0 0 0 0 0\n",
            " 0 0 0 0 0 0 0 0 0 0 0 0 0 0 0 0 0 0 4 0 0 0 0 1 1 1 1 1 1 1 1 1 1 1 1 1 1\n",
            " 1 1 1 1 1 1 1 1 1 1 1 1 1 1 1 1 1 1 1 1 1 1 1 1 1 1 1 1 1 1 1 1 1 1 1 1 1\n",
            " 1 1 1 1 1 1 1 1 1 2 2 2 0 2 2 2 2 2 1 2 3 2 4 2 2 1 2 2 1 2 2 2 1 2 1 2 2\n",
            " 2 2 2 0 0 2 2 2 2 2 4 2 2 0 0 2 2 2 2 2 2 2 2 1 2 2 2 2 1 2 1 2 0 1 1 1 1\n",
            " 1 3 1 1 0 1 1 3 1 1 1 4 1 0 1 0 3 3 1 0 1 1 1 0 3 1 1 3 1 3 1 4 0 1 3 1 0\n",
            " 1 0 1 1 1 1 1 1 3 1 1 1 1 4 1 1 1 4 1 1 1 1 1 1 1 1 1 1 1 1 1 1 1 1 1 1 1\n",
            " 1 1 1 1 1 1 1 1 1 1 1 1 1 1 1 1 1 1 1 1 1 1 1 1 1 1 1 1 1 1 1 1 1 1 1 1 1\n",
            " 1 1 1 1 1 1 1 1 1 1 1 1 1 1 1 1 1 1 1 1 1 1 1 1 1 1 1 1 1 1 1 1 1 1 1 1 1\n",
            " 1 1 1 1 1 1 1 1 1 1 1 1 1 1 1 1 1 4 1 1 1 1 1 1 1 1 1]\n",
            "Degree =  13 0.475\n",
            "[0 0 0 0 0 0 0 0 0 0 0 0 4 0 0 0 0 0 0 0 0 0 0 0 0 0 0 0 0 0 0 0 0 0 0 0 0\n",
            " 0 0 0 0 0 0 0 0 0 0 0 0 0 0 0 0 0 0 4 0 0 0 0 1 1 1 1 1 1 1 1 1 1 1 1 1 1\n",
            " 1 1 1 1 1 1 1 1 1 1 1 1 1 1 1 1 1 1 1 1 1 1 1 1 1 1 1 1 1 1 1 1 1 1 1 1 1\n",
            " 1 1 1 1 1 1 1 1 1 2 2 2 0 2 2 2 2 2 1 2 3 2 4 2 2 1 2 2 1 2 2 2 1 2 1 2 2\n",
            " 2 2 2 0 0 2 2 2 2 2 4 2 2 0 0 2 2 2 2 2 2 2 2 1 2 2 2 2 1 2 1 2 0 1 1 1 1\n",
            " 1 3 1 1 0 1 1 3 1 1 1 4 1 0 1 0 3 3 1 0 1 1 1 0 3 1 1 3 1 3 1 4 0 1 5 1 0\n",
            " 1 0 1 1 1 1 1 1 3 1 1 1 1 4 1 1 1 4 1 1 1 1 1 1 1 1 1 1 1 1 1 1 1 1 1 1 1\n",
            " 1 1 1 1 1 1 1 1 1 1 1 1 1 1 1 1 1 1 1 1 1 1 1 1 1 1 1 1 1 1 1 1 1 1 1 1 1\n",
            " 1 1 1 1 1 1 1 1 1 1 1 1 1 1 1 1 1 1 1 1 1 1 1 1 1 1 1 1 1 1 1 1 1 1 1 1 1\n",
            " 1 1 1 1 1 1 1 1 1 1 1 1 1 1 1 1 1 4 1 1 1 1 1 1 1 1 1]\n",
            "Degree =  14 0.4722222222222222\n"
          ]
        }
      ]
    },
    {
      "cell_type": "code",
      "source": [
        "poly_svc = svm.SVC(kernel='poly', degree=1).fit(X_train, y_train)\n",
        "yhat = poly_svc.predict(X_test)\n",
        "print(yhat)\n",
        "print(metrics.accuracy_score(y_test, yhat))\n",
        "print(confusion_matrix(y_test, yhat))\n",
        "print(classification_report(y_test, yhat))"
      ],
      "metadata": {
        "colab": {
          "base_uri": "https://localhost:8080/"
        },
        "id": "Ti9dGVtgS3r7",
        "outputId": "a5858b83-0f26-4b60-c294-3a2f469aec3b"
      },
      "execution_count": null,
      "outputs": [
        {
          "output_type": "stream",
          "name": "stdout",
          "text": [
            "[0 0 0 0 0 0 0 0 0 0 0 0 0 0 0 0 0 0 0 2 0 0 0 0 0 0 0 0 0 0 0 0 0 0 0 0 0\n",
            " 0 0 0 0 0 0 0 0 0 0 0 0 0 0 0 0 0 0 0 0 0 0 0 1 1 1 1 1 1 1 1 1 1 1 1 1 1\n",
            " 4 1 1 1 1 1 1 1 1 1 1 1 1 1 1 1 1 1 1 1 1 1 1 1 1 1 1 1 1 1 1 1 1 1 1 1 1\n",
            " 1 1 1 1 1 1 1 1 1 2 0 2 0 2 0 2 2 2 4 2 0 2 0 2 2 4 2 2 4 0 2 2 4 2 4 2 2\n",
            " 2 2 2 0 0 2 2 2 0 2 0 2 0 0 0 2 2 2 2 0 2 2 0 4 2 2 2 2 4 2 4 2 0 4 1 3 4\n",
            " 4 5 1 4 0 4 1 3 4 4 4 3 5 0 1 0 5 5 4 0 1 4 1 0 3 1 4 3 4 3 4 3 0 4 5 4 0\n",
            " 4 0 4 3 4 4 4 3 0 1 1 4 3 3 1 4 1 3 4 4 1 4 4 4 4 4 4 4 4 4 4 4 4 4 4 4 4\n",
            " 4 4 4 4 4 4 4 4 4 4 4 4 4 1 4 4 4 4 4 4 4 1 4 1 4 4 4 4 4 4 4 4 4 4 4 4 4\n",
            " 4 4 4 4 4 1 1 1 1 1 1 1 1 1 1 1 1 1 4 1 1 4 1 1 1 1 1 1 1 1 1 1 1 4 1 1 1\n",
            " 1 1 1 1 1 1 4 1 1 1 1 1 4 1 1 1 1 5 1 1 1 1 1 1 1 4 1]\n",
            "0.6222222222222222\n",
            "[[59  0  1  0  0  0]\n",
            " [ 0 59  0  0  1  0]\n",
            " [15  0 37  0  8  0]\n",
            " [10 11  0 12 22  5]\n",
            " [ 0  4  0  0 56  0]\n",
            " [ 0 52  0  0  7  1]]\n",
            "              precision    recall  f1-score   support\n",
            "\n",
            "           0       0.70      0.98      0.82        60\n",
            "           1       0.47      0.98      0.63        60\n",
            "           2       0.97      0.62      0.76        60\n",
            "           3       1.00      0.20      0.33        60\n",
            "           4       0.60      0.93      0.73        60\n",
            "           5       0.17      0.02      0.03        60\n",
            "\n",
            "    accuracy                           0.62       360\n",
            "   macro avg       0.65      0.62      0.55       360\n",
            "weighted avg       0.65      0.62      0.55       360\n",
            "\n"
          ]
        }
      ]
    },
    {
      "cell_type": "code",
      "source": [
        ""
      ],
      "metadata": {
        "id": "Xfm08yKlVrMt"
      },
      "execution_count": null,
      "outputs": []
    }
  ]
}